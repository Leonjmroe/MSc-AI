{
 "cells": [
  {
   "cell_type": "code",
   "execution_count": 1,
   "metadata": {},
   "outputs": [],
   "source": [
    "import pandas as pd\n",
    "import numpy as np"
   ]
  },
  {
   "cell_type": "code",
   "execution_count": 2,
   "metadata": {},
   "outputs": [],
   "source": [
    "class Node:\n",
    "    \"\"\"\n",
    "    Represents a node in the decision tree.\n",
    "    - feature: which attribute to test (e.g., 'Outlook')\n",
    "    - branches: dictionary mapping feature values to child nodes\n",
    "    - value: the prediction (only for leaf nodes)\n",
    "    \"\"\"\n",
    "    def __init__(self, feature=None, branches=None, value=None):\n",
    "        self.feature = feature  # The feature to split on at this node\n",
    "        self.branches = branches or {}  # Subtrees for each feature value\n",
    "        self.value = value  # Prediction stored at leaf nodes"
   ]
  },
  {
   "cell_type": "code",
   "execution_count": 5,
   "metadata": {},
   "outputs": [],
   "source": [
    "class DecisionTreeID3:\n",
    "    def __init__(self, max_depth=None):\n",
    "        self.max_depth = max_depth  # Maximum depth of the tree, limits complexity\n",
    "        self.root = None  # Root node of the tree\n",
    "\n",
    "    def entropy(self, labels):\n",
    "        # Calculate entropy of the target variable `y`\n",
    "        probs = labels.value_counts(normalize=True)  # Proportion of each class in `y`\n",
    "        return -sum(probs * np.log2(probs))  # Entropy formula: -Σp*log2(p)\n",
    "\n",
    "    def information_gain(self, labels, labels_split):\n",
    "        # Calculate information gain from a split\n",
    "        parent_entropy = self.entropy(labels)  # Entropy before splitting\n",
    "        # Weighted sum of entropies of the child nodes\n",
    "        weighted_entropy = sum((len(subset) / len(labels)) * self.entropy(subset) for subset in labels_split)\n",
    "        return parent_entropy - weighted_entropy  # Reduction in entropy after the split\n",
    "\n",
    "    def find_best_feature(self, features, labels):\n",
    "        # Find the feature that provides the best split\n",
    "        best_feature = None  # The feature with the highest information gain\n",
    "        best_gain = -1  # Track the highest information gain\n",
    "        best_splits = None  # Store the resulting splits for the best feature\n",
    "\n",
    "        for feature in features.columns:  # Iterate through each feature\n",
    "            # Create splits by grouping the data by unique feature values\n",
    "            splits = {value: labels[features[feature] == value] for value in features[feature].unique()}\n",
    "            labels_split = list(splits.values())  # Convert to list of Series for calculation\n",
    "\n",
    "            gain = self.information_gain(labels, labels_split)  # Calculate information gain for the feature\n",
    "            if gain > best_gain:  # Update if the current feature has better information gain\n",
    "                best_gain = gain\n",
    "                best_feature = feature\n",
    "                best_splits = splits\n",
    "\n",
    "        return best_feature, best_splits  # Return the feature and its splits\n",
    "\n",
    "    def build_tree(self, features, labels, depth=0):\n",
    "        # Recursively build the decision tree\n",
    "        if len(set(labels)) == 1:  # If all target labels are the same, it's a pure node\n",
    "            return Node(value=labels.iloc[0])  # Create a leaf node with the target value\n",
    "        if not features.columns.size or (self.max_depth and depth >= self.max_depth):\n",
    "            # If no features left or max depth reached, return majority class\n",
    "            return Node(value=labels.value_counts().idxmax())  # Most common target label\n",
    "\n",
    "        # Find the best feature and splits for this level\n",
    "        best_feature, best_splits = self.find_best_feature(features, labels)\n",
    "        if not best_feature:  # If no meaningful split is found, return majority class\n",
    "            return Node(value=labels.value_counts().idxmax())\n",
    "\n",
    "        # Create a decision node with branches for each unique value of the best feature\n",
    "        branches = {}\n",
    "        for value, subset in best_splits.items():  # For each feature value\n",
    "            subset_features = features[features[best_feature] == value].drop(columns=[best_feature])  # Remove used feature\n",
    "            branches[value] = self.build_tree(subset_features, subset, depth + 1)  # Recursively build the tree\n",
    "\n",
    "        return Node(feature=best_feature, branches=branches)  # Return the decision node\n",
    "\n",
    "    def fit(self, features, labels):\n",
    "        # Train the decision tree by building it from the data\n",
    "        self.root = self.build_tree(features, labels)  # Build the tree starting from the root\n",
    "\n",
    "    def predict_single(self, node, x):\n",
    "        # Predict the label for a single instance by traversing the tree\n",
    "        if node.value is not None:  # If it's a leaf node, return the stored value\n",
    "            return node.value\n",
    "        feature_value = x[node.feature]  # Get the value of the feature at this node\n",
    "        if feature_value in node.branches:  # Check if there's a branch for this value\n",
    "            return self.predict_single(node.branches[feature_value], x)  # Traverse to the child node\n",
    "        return None  # If no branch matches, return None (optional: handle this case separately)\n",
    "\n",
    "    def predict(self, features):\n",
    "        # Predict the labels for multiple instances\n",
    "        return [self.predict_single(self.root, x) for _, x in features.iterrows()]  # Apply predict_single to each row\n"
   ]
  },
  {
   "cell_type": "code",
   "execution_count": 6,
   "metadata": {},
   "outputs": [
    {
     "name": "stdout",
     "output_type": "stream",
     "text": [
      "Predictions: ['No', 'No', 'Yes', 'Yes', 'Yes', 'No', 'Yes', 'No', 'Yes', 'Yes', 'Yes', 'Yes', 'Yes', 'No']\n",
      "Accuracy: 100.00%\n"
     ]
    }
   ],
   "source": [
    "# Train and Test\n",
    "\n",
    "data = pd.read_csv('weather-data.csv')\n",
    "\n",
    "features = data.drop(columns=['Decision'])\n",
    "labels = data['Decision']\n",
    "\n",
    "tree = DecisionTreeID3(max_depth=3)\n",
    "tree.fit(features, labels)\n",
    "\n",
    "predictions = tree.predict(features)\n",
    "print(\"Predictions:\", predictions)\n",
    "\n",
    "accuracy = sum(pred == actual for pred, actual in zip(predictions, labels)) / len(labels)\n",
    "print(f\"Accuracy: {accuracy:.2%}\")"
   ]
  },
  {
   "cell_type": "code",
   "execution_count": null,
   "metadata": {},
   "outputs": [],
   "source": []
  }
 ],
 "metadata": {
  "kernelspec": {
   "display_name": "roetechnologies-uN_he8dw-py3.12",
   "language": "python",
   "name": "python3"
  },
  "language_info": {
   "codemirror_mode": {
    "name": "ipython",
    "version": 3
   },
   "file_extension": ".py",
   "mimetype": "text/x-python",
   "name": "python",
   "nbconvert_exporter": "python",
   "pygments_lexer": "ipython3",
   "version": "3.12.5"
  }
 },
 "nbformat": 4,
 "nbformat_minor": 2
}
