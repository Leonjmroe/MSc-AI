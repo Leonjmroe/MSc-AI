{
 "cells": [
  {
   "cell_type": "code",
   "execution_count": 2,
   "metadata": {},
   "outputs": [],
   "source": [
    "# Imports\n",
    "\n",
    "import pandas as pd\n",
    "import numpy as np\n",
    "import time\n",
    "import plotly.express as px\n"
   ]
  },
  {
   "cell_type": "code",
   "execution_count": 3,
   "metadata": {},
   "outputs": [],
   "source": [
    "# Eight Queens State\n",
    "\n",
    "class EightQueensState:\n",
    "    def __init__(self, board_size, state=None):\n",
    "        if state is None:\n",
    "            # Inital board set up\n",
    "            self.state = np.random.randint(0, board_size, board_size)\n",
    "        else:\n",
    "            self.state = np.array(state) \n",
    "\n",
    "        # Set the goal fitness value where there is no queen attacks \n",
    "        self.goal_fitness = int(((board_size ** 2) - board_size) / 2)\n",
    "    \n",
    "    \n",
    "    def fitness(self):\n",
    "        count = 0\n",
    "        n = len(self.state)\n",
    "        \n",
    "        for i in range(n - 1):\n",
    "            remaining_queens = self.state[i + 1:]\n",
    "            current_queen = self.state[i]\n",
    "            \n",
    "            # Count of the queen attacks on the row \n",
    "            count += (current_queen == remaining_queens).sum()\n",
    "            \n",
    "            # Count of the queen attacks on the diagonal \n",
    "            distances = np.arange(1, n - i)\n",
    "            upper_diagonal = current_queen + distances\n",
    "            lower_diagonal = current_queen - distances\n",
    "            \n",
    "            # Total queen on queen attacks\n",
    "            count += sum((remaining_queens == upper_diagonal) | (remaining_queens == lower_diagonal))\n",
    "\n",
    "        # Return the final fitness \n",
    "        return self.goal_fitness - count"
   ]
  },
  {
   "cell_type": "code",
   "execution_count": 4,
   "metadata": {},
   "outputs": [],
   "source": [
    "# Genetic Algorithm\n",
    "\n",
    "class GeneticAlgorithm:\n",
    "    def __init__(self, board_size, population_size, mutation_probability, initial_population='Neighbors'):\n",
    "        self.board_size = board_size\n",
    "        self.population_size = population_size\n",
    "        self.mutation_probability = mutation_probability\n",
    "        self.last_state = None\n",
    "\n",
    "        # Set the goal fitness value where there are no queen attacks\n",
    "        self.goal_fitness = int(((board_size ** 2) - board_size) / 2)\n",
    "        \n",
    "        if initial_population == 'Random':\n",
    "            # Initial population - all random individuals\n",
    "            self.current_population = [EightQueensState(board_size) for _ in range(population_size)]\n",
    "\n",
    "        elif initial_population == 'Neighbors':\n",
    "            # Initial population - unique neighbors of a random initial state\n",
    "            initial_state = np.random.randint(0, board_size, board_size)\n",
    "            self.current_population = [EightQueensState(board_size, self.random_neighbour(initial_state)) for _ in range(population_size)]\n",
    "\n",
    "\n",
    "    def random_neighbour(self, state):\n",
    "        new_state = state.copy() \n",
    "\n",
    "        # Choose a random column\n",
    "        column = np.random.choice(range(self.board_size)) \n",
    "\n",
    "        # Create a list of possible row positions excluding the current row of the queen\n",
    "        possible_rows = [row for row in range(self.board_size) if row != state[column]]\n",
    "\n",
    "        # Set the queen in the chosen column to a new row position\n",
    "        new_state[column] = np.random.choice(possible_rows)\n",
    "\n",
    "        return new_state\n",
    "\n",
    "\n",
    "    def calculate_population_fitness(self):\n",
    "        # Calculate fitness and selection probability for each individual in the population\n",
    "        population_data = []\n",
    "        total_fitness = 0\n",
    "        \n",
    "        for individual in self.current_population:\n",
    "            fitness = individual.fitness()\n",
    "            population_data.append({\n",
    "                'state': individual.state,\n",
    "                'fitness': fitness\n",
    "            })\n",
    "            total_fitness += fitness\n",
    "        \n",
    "        # Calculate selection probability for each individual based on fitness\n",
    "        for data in population_data:\n",
    "            data['selection_prob'] = data['fitness'] / total_fitness\n",
    "            \n",
    "        # Return the sorted the population by the highest selection probabilities\n",
    "        return sorted(population_data, key=lambda x: x['selection_prob'], reverse=True)\n",
    "\n",
    "\n",
    "    def select_parent(self, population_data):\n",
    "        # Generate a random number between 0 and 1\n",
    "        random_value = np.random.random()\n",
    "        \n",
    "        # Use cumulative probability to select an individual\n",
    "        cumulative_probability = 0.0\n",
    "        for individual in population_data:\n",
    "            cumulative_probability += individual['selection_prob']\n",
    "            if cumulative_probability > random_value:\n",
    "                return individual['state']\n",
    "\n",
    "\n",
    "    def crossover(self, parent1, parent2):\n",
    "        # Perform a single-point crossover to produce two offspring via randomisation\n",
    "        idx = np.random.randint(1, len(parent1))  \n",
    "\n",
    "        # Apply the cross over of two parents to product two children \n",
    "        return np.concatenate([parent1[:idx], parent2[idx:]]), np.concatenate([parent2[:idx], parent1[idx:]])\n",
    "\n",
    "\n",
    "    def mutate(self, state):\n",
    "        # Randomly mutate a queen's position in one column with a certain probability\n",
    "        if np.random.random() < self.mutation_probability:\n",
    "\n",
    "             # Select a random column to mutate\n",
    "            idx = np.random.randint(len(state))  \n",
    "\n",
    "            # Randomly choose a new row position for the queen in the selected column, excluding current row \n",
    "            state[idx] = np.random.choice(list(set(range(self.board_size)) - {state[idx]}))\n",
    "        return state\n",
    "\n",
    "\n",
    "    def create_next_generation(self, population_data):\n",
    "        # Generate the next generation by selecting parents, applying crossover, and mutating offspring\n",
    "        next_generation = []\n",
    "        \n",
    "        # Fill the rest of the population with offspring\n",
    "        while len(next_generation) < self.population_size:\n",
    "            parent1 = self.select_parent(population_data)\n",
    "            parent2 = self.select_parent(population_data)\n",
    "            \n",
    "            # Create two children through crossover\n",
    "            child1, child2 = self.crossover(parent1, parent2)\n",
    "            \n",
    "            # Apply mutation to each child\n",
    "            child1 = self.mutate(child1)\n",
    "            child2 = self.mutate(child2)\n",
    "            \n",
    "            # Add children to the next generation\n",
    "            next_generation.extend([\n",
    "                EightQueensState(self.board_size, child1),\n",
    "                EightQueensState(self.board_size, child2)\n",
    "            ])\n",
    "        \n",
    "        # Ensure the population size remains constant\n",
    "        self.current_population = next_generation[:self.population_size]\n",
    "\n",
    "\n",
    "    def run(self):\n",
    "        generation = 0\n",
    "        fitness_history = []\n",
    "        \n",
    "        while generation < 5000:\n",
    "            population_data = self.calculate_population_fitness()\n",
    "            \n",
    "            # Check if the best individual in the population is a solution\n",
    "            if population_data[0]['fitness'] == self.goal_fitness:\n",
    "                self.last_state = population_data[0]['state']\n",
    "                # print(f\"Solution found in generation {generation}\")\n",
    "                return fitness_history, generation  # Return fitness history and generation where solution is found\n",
    "            \n",
    "            # Track the best fitness for each generation (optional for progress analysis)\n",
    "            best_fitness = population_data[0]['fitness']\n",
    "            fitness_history.append(best_fitness)\n",
    "            \n",
    "            # Generate the next generation\n",
    "            self.create_next_generation(population_data)\n",
    "            \n",
    "            generation += 1\n",
    "\n",
    "        return fitness_history, generation \n",
    "    \n",
    "\n",
    "    def display_solution(self):\n",
    "        # Display the chessboard with queens in the positions defined by self.last_state\n",
    "        for row in range(self.board_size):\n",
    "            print(f'{self.board_size - row} |', end=' ')\n",
    "            for col in range(self.board_size):\n",
    "                if self.last_state[col] == row:\n",
    "                    print('Q ', end='')  \n",
    "                else:\n",
    "                    print('- ', end='') \n",
    "            print(f'|')"
   ]
  },
  {
   "cell_type": "code",
   "execution_count": 5,
   "metadata": {},
   "outputs": [
    {
     "data": {
      "application/vnd.plotly.v1+json": {
       "config": {
        "plotlyServerURL": "https://plot.ly"
       },
       "data": [
        {
         "alignmentgroup": "True",
         "hovertemplate": "Initial Population Type=%{x}<br>Time Taken (seconds)=%{y}<extra></extra>",
         "legendgroup": "",
         "marker": {
          "color": "#636efa"
         },
         "name": "",
         "notched": false,
         "offsetgroup": "",
         "orientation": "v",
         "showlegend": false,
         "type": "box",
         "x": [
          "Random",
          "Random",
          "Random",
          "Random",
          "Random",
          "Random",
          "Random",
          "Random",
          "Random",
          "Random",
          "Random",
          "Random",
          "Random",
          "Random",
          "Random",
          "Random",
          "Random",
          "Random",
          "Random",
          "Random",
          "Neighbors",
          "Neighbors",
          "Neighbors",
          "Neighbors",
          "Neighbors",
          "Neighbors",
          "Neighbors",
          "Neighbors",
          "Neighbors",
          "Neighbors",
          "Neighbors",
          "Neighbors",
          "Neighbors",
          "Neighbors",
          "Neighbors",
          "Neighbors",
          "Neighbors",
          "Neighbors",
          "Neighbors",
          "Neighbors"
         ],
         "x0": " ",
         "xaxis": "x",
         "y": [
          4.775269985198975,
          2.1027681827545166,
          10.401804208755493,
          2.3199939727783203,
          0.6589460372924805,
          1.05682373046875,
          2.4649341106414795,
          1.8049628734588623,
          2.6348299980163574,
          1.23313307762146,
          2.0029239654541016,
          5.521101951599121,
          1.966397762298584,
          2.961453914642334,
          2.097914934158325,
          2.612250328063965,
          3.3733139038085938,
          0.9544839859008789,
          3.4039998054504395,
          1.1176130771636963,
          1.8622241020202637,
          2.0623769760131836,
          0.6971840858459473,
          0.9355950355529785,
          1.70497727394104,
          0.7747819423675537,
          0.20204472541809082,
          1.0077910423278809,
          2.758019208908081,
          2.0986428260803223,
          0.3376281261444092,
          5.280462026596069,
          0.7606759071350098,
          1.6219818592071533,
          0.634315013885498,
          0.5681688785552979,
          1.1900949478149414,
          0.518057107925415,
          2.357247829437256,
          2.6905531883239746
         ],
         "y0": " ",
         "yaxis": "y"
        }
       ],
       "layout": {
        "boxmode": "group",
        "legend": {
         "tracegroupgap": 0
        },
        "template": {
         "data": {
          "bar": [
           {
            "error_x": {
             "color": "#2a3f5f"
            },
            "error_y": {
             "color": "#2a3f5f"
            },
            "marker": {
             "line": {
              "color": "#E5ECF6",
              "width": 0.5
             },
             "pattern": {
              "fillmode": "overlay",
              "size": 10,
              "solidity": 0.2
             }
            },
            "type": "bar"
           }
          ],
          "barpolar": [
           {
            "marker": {
             "line": {
              "color": "#E5ECF6",
              "width": 0.5
             },
             "pattern": {
              "fillmode": "overlay",
              "size": 10,
              "solidity": 0.2
             }
            },
            "type": "barpolar"
           }
          ],
          "carpet": [
           {
            "aaxis": {
             "endlinecolor": "#2a3f5f",
             "gridcolor": "white",
             "linecolor": "white",
             "minorgridcolor": "white",
             "startlinecolor": "#2a3f5f"
            },
            "baxis": {
             "endlinecolor": "#2a3f5f",
             "gridcolor": "white",
             "linecolor": "white",
             "minorgridcolor": "white",
             "startlinecolor": "#2a3f5f"
            },
            "type": "carpet"
           }
          ],
          "choropleth": [
           {
            "colorbar": {
             "outlinewidth": 0,
             "ticks": ""
            },
            "type": "choropleth"
           }
          ],
          "contour": [
           {
            "colorbar": {
             "outlinewidth": 0,
             "ticks": ""
            },
            "colorscale": [
             [
              0,
              "#0d0887"
             ],
             [
              0.1111111111111111,
              "#46039f"
             ],
             [
              0.2222222222222222,
              "#7201a8"
             ],
             [
              0.3333333333333333,
              "#9c179e"
             ],
             [
              0.4444444444444444,
              "#bd3786"
             ],
             [
              0.5555555555555556,
              "#d8576b"
             ],
             [
              0.6666666666666666,
              "#ed7953"
             ],
             [
              0.7777777777777778,
              "#fb9f3a"
             ],
             [
              0.8888888888888888,
              "#fdca26"
             ],
             [
              1,
              "#f0f921"
             ]
            ],
            "type": "contour"
           }
          ],
          "contourcarpet": [
           {
            "colorbar": {
             "outlinewidth": 0,
             "ticks": ""
            },
            "type": "contourcarpet"
           }
          ],
          "heatmap": [
           {
            "colorbar": {
             "outlinewidth": 0,
             "ticks": ""
            },
            "colorscale": [
             [
              0,
              "#0d0887"
             ],
             [
              0.1111111111111111,
              "#46039f"
             ],
             [
              0.2222222222222222,
              "#7201a8"
             ],
             [
              0.3333333333333333,
              "#9c179e"
             ],
             [
              0.4444444444444444,
              "#bd3786"
             ],
             [
              0.5555555555555556,
              "#d8576b"
             ],
             [
              0.6666666666666666,
              "#ed7953"
             ],
             [
              0.7777777777777778,
              "#fb9f3a"
             ],
             [
              0.8888888888888888,
              "#fdca26"
             ],
             [
              1,
              "#f0f921"
             ]
            ],
            "type": "heatmap"
           }
          ],
          "heatmapgl": [
           {
            "colorbar": {
             "outlinewidth": 0,
             "ticks": ""
            },
            "colorscale": [
             [
              0,
              "#0d0887"
             ],
             [
              0.1111111111111111,
              "#46039f"
             ],
             [
              0.2222222222222222,
              "#7201a8"
             ],
             [
              0.3333333333333333,
              "#9c179e"
             ],
             [
              0.4444444444444444,
              "#bd3786"
             ],
             [
              0.5555555555555556,
              "#d8576b"
             ],
             [
              0.6666666666666666,
              "#ed7953"
             ],
             [
              0.7777777777777778,
              "#fb9f3a"
             ],
             [
              0.8888888888888888,
              "#fdca26"
             ],
             [
              1,
              "#f0f921"
             ]
            ],
            "type": "heatmapgl"
           }
          ],
          "histogram": [
           {
            "marker": {
             "pattern": {
              "fillmode": "overlay",
              "size": 10,
              "solidity": 0.2
             }
            },
            "type": "histogram"
           }
          ],
          "histogram2d": [
           {
            "colorbar": {
             "outlinewidth": 0,
             "ticks": ""
            },
            "colorscale": [
             [
              0,
              "#0d0887"
             ],
             [
              0.1111111111111111,
              "#46039f"
             ],
             [
              0.2222222222222222,
              "#7201a8"
             ],
             [
              0.3333333333333333,
              "#9c179e"
             ],
             [
              0.4444444444444444,
              "#bd3786"
             ],
             [
              0.5555555555555556,
              "#d8576b"
             ],
             [
              0.6666666666666666,
              "#ed7953"
             ],
             [
              0.7777777777777778,
              "#fb9f3a"
             ],
             [
              0.8888888888888888,
              "#fdca26"
             ],
             [
              1,
              "#f0f921"
             ]
            ],
            "type": "histogram2d"
           }
          ],
          "histogram2dcontour": [
           {
            "colorbar": {
             "outlinewidth": 0,
             "ticks": ""
            },
            "colorscale": [
             [
              0,
              "#0d0887"
             ],
             [
              0.1111111111111111,
              "#46039f"
             ],
             [
              0.2222222222222222,
              "#7201a8"
             ],
             [
              0.3333333333333333,
              "#9c179e"
             ],
             [
              0.4444444444444444,
              "#bd3786"
             ],
             [
              0.5555555555555556,
              "#d8576b"
             ],
             [
              0.6666666666666666,
              "#ed7953"
             ],
             [
              0.7777777777777778,
              "#fb9f3a"
             ],
             [
              0.8888888888888888,
              "#fdca26"
             ],
             [
              1,
              "#f0f921"
             ]
            ],
            "type": "histogram2dcontour"
           }
          ],
          "mesh3d": [
           {
            "colorbar": {
             "outlinewidth": 0,
             "ticks": ""
            },
            "type": "mesh3d"
           }
          ],
          "parcoords": [
           {
            "line": {
             "colorbar": {
              "outlinewidth": 0,
              "ticks": ""
             }
            },
            "type": "parcoords"
           }
          ],
          "pie": [
           {
            "automargin": true,
            "type": "pie"
           }
          ],
          "scatter": [
           {
            "fillpattern": {
             "fillmode": "overlay",
             "size": 10,
             "solidity": 0.2
            },
            "type": "scatter"
           }
          ],
          "scatter3d": [
           {
            "line": {
             "colorbar": {
              "outlinewidth": 0,
              "ticks": ""
             }
            },
            "marker": {
             "colorbar": {
              "outlinewidth": 0,
              "ticks": ""
             }
            },
            "type": "scatter3d"
           }
          ],
          "scattercarpet": [
           {
            "marker": {
             "colorbar": {
              "outlinewidth": 0,
              "ticks": ""
             }
            },
            "type": "scattercarpet"
           }
          ],
          "scattergeo": [
           {
            "marker": {
             "colorbar": {
              "outlinewidth": 0,
              "ticks": ""
             }
            },
            "type": "scattergeo"
           }
          ],
          "scattergl": [
           {
            "marker": {
             "colorbar": {
              "outlinewidth": 0,
              "ticks": ""
             }
            },
            "type": "scattergl"
           }
          ],
          "scattermapbox": [
           {
            "marker": {
             "colorbar": {
              "outlinewidth": 0,
              "ticks": ""
             }
            },
            "type": "scattermapbox"
           }
          ],
          "scatterpolar": [
           {
            "marker": {
             "colorbar": {
              "outlinewidth": 0,
              "ticks": ""
             }
            },
            "type": "scatterpolar"
           }
          ],
          "scatterpolargl": [
           {
            "marker": {
             "colorbar": {
              "outlinewidth": 0,
              "ticks": ""
             }
            },
            "type": "scatterpolargl"
           }
          ],
          "scatterternary": [
           {
            "marker": {
             "colorbar": {
              "outlinewidth": 0,
              "ticks": ""
             }
            },
            "type": "scatterternary"
           }
          ],
          "surface": [
           {
            "colorbar": {
             "outlinewidth": 0,
             "ticks": ""
            },
            "colorscale": [
             [
              0,
              "#0d0887"
             ],
             [
              0.1111111111111111,
              "#46039f"
             ],
             [
              0.2222222222222222,
              "#7201a8"
             ],
             [
              0.3333333333333333,
              "#9c179e"
             ],
             [
              0.4444444444444444,
              "#bd3786"
             ],
             [
              0.5555555555555556,
              "#d8576b"
             ],
             [
              0.6666666666666666,
              "#ed7953"
             ],
             [
              0.7777777777777778,
              "#fb9f3a"
             ],
             [
              0.8888888888888888,
              "#fdca26"
             ],
             [
              1,
              "#f0f921"
             ]
            ],
            "type": "surface"
           }
          ],
          "table": [
           {
            "cells": {
             "fill": {
              "color": "#EBF0F8"
             },
             "line": {
              "color": "white"
             }
            },
            "header": {
             "fill": {
              "color": "#C8D4E3"
             },
             "line": {
              "color": "white"
             }
            },
            "type": "table"
           }
          ]
         },
         "layout": {
          "annotationdefaults": {
           "arrowcolor": "#2a3f5f",
           "arrowhead": 0,
           "arrowwidth": 1
          },
          "autotypenumbers": "strict",
          "coloraxis": {
           "colorbar": {
            "outlinewidth": 0,
            "ticks": ""
           }
          },
          "colorscale": {
           "diverging": [
            [
             0,
             "#8e0152"
            ],
            [
             0.1,
             "#c51b7d"
            ],
            [
             0.2,
             "#de77ae"
            ],
            [
             0.3,
             "#f1b6da"
            ],
            [
             0.4,
             "#fde0ef"
            ],
            [
             0.5,
             "#f7f7f7"
            ],
            [
             0.6,
             "#e6f5d0"
            ],
            [
             0.7,
             "#b8e186"
            ],
            [
             0.8,
             "#7fbc41"
            ],
            [
             0.9,
             "#4d9221"
            ],
            [
             1,
             "#276419"
            ]
           ],
           "sequential": [
            [
             0,
             "#0d0887"
            ],
            [
             0.1111111111111111,
             "#46039f"
            ],
            [
             0.2222222222222222,
             "#7201a8"
            ],
            [
             0.3333333333333333,
             "#9c179e"
            ],
            [
             0.4444444444444444,
             "#bd3786"
            ],
            [
             0.5555555555555556,
             "#d8576b"
            ],
            [
             0.6666666666666666,
             "#ed7953"
            ],
            [
             0.7777777777777778,
             "#fb9f3a"
            ],
            [
             0.8888888888888888,
             "#fdca26"
            ],
            [
             1,
             "#f0f921"
            ]
           ],
           "sequentialminus": [
            [
             0,
             "#0d0887"
            ],
            [
             0.1111111111111111,
             "#46039f"
            ],
            [
             0.2222222222222222,
             "#7201a8"
            ],
            [
             0.3333333333333333,
             "#9c179e"
            ],
            [
             0.4444444444444444,
             "#bd3786"
            ],
            [
             0.5555555555555556,
             "#d8576b"
            ],
            [
             0.6666666666666666,
             "#ed7953"
            ],
            [
             0.7777777777777778,
             "#fb9f3a"
            ],
            [
             0.8888888888888888,
             "#fdca26"
            ],
            [
             1,
             "#f0f921"
            ]
           ]
          },
          "colorway": [
           "#636efa",
           "#EF553B",
           "#00cc96",
           "#ab63fa",
           "#FFA15A",
           "#19d3f3",
           "#FF6692",
           "#B6E880",
           "#FF97FF",
           "#FECB52"
          ],
          "font": {
           "color": "#2a3f5f"
          },
          "geo": {
           "bgcolor": "white",
           "lakecolor": "white",
           "landcolor": "#E5ECF6",
           "showlakes": true,
           "showland": true,
           "subunitcolor": "white"
          },
          "hoverlabel": {
           "align": "left"
          },
          "hovermode": "closest",
          "mapbox": {
           "style": "light"
          },
          "paper_bgcolor": "white",
          "plot_bgcolor": "#E5ECF6",
          "polar": {
           "angularaxis": {
            "gridcolor": "white",
            "linecolor": "white",
            "ticks": ""
           },
           "bgcolor": "#E5ECF6",
           "radialaxis": {
            "gridcolor": "white",
            "linecolor": "white",
            "ticks": ""
           }
          },
          "scene": {
           "xaxis": {
            "backgroundcolor": "#E5ECF6",
            "gridcolor": "white",
            "gridwidth": 2,
            "linecolor": "white",
            "showbackground": true,
            "ticks": "",
            "zerolinecolor": "white"
           },
           "yaxis": {
            "backgroundcolor": "#E5ECF6",
            "gridcolor": "white",
            "gridwidth": 2,
            "linecolor": "white",
            "showbackground": true,
            "ticks": "",
            "zerolinecolor": "white"
           },
           "zaxis": {
            "backgroundcolor": "#E5ECF6",
            "gridcolor": "white",
            "gridwidth": 2,
            "linecolor": "white",
            "showbackground": true,
            "ticks": "",
            "zerolinecolor": "white"
           }
          },
          "shapedefaults": {
           "line": {
            "color": "#2a3f5f"
           }
          },
          "ternary": {
           "aaxis": {
            "gridcolor": "white",
            "linecolor": "white",
            "ticks": ""
           },
           "baxis": {
            "gridcolor": "white",
            "linecolor": "white",
            "ticks": ""
           },
           "bgcolor": "#E5ECF6",
           "caxis": {
            "gridcolor": "white",
            "linecolor": "white",
            "ticks": ""
           }
          },
          "title": {
           "x": 0.05
          },
          "xaxis": {
           "automargin": true,
           "gridcolor": "white",
           "linecolor": "white",
           "ticks": "",
           "title": {
            "standoff": 15
           },
           "zerolinecolor": "white",
           "zerolinewidth": 2
          },
          "yaxis": {
           "automargin": true,
           "gridcolor": "white",
           "linecolor": "white",
           "ticks": "",
           "title": {
            "standoff": 15
           },
           "zerolinecolor": "white",
           "zerolinewidth": 2
          }
         }
        },
        "title": {
         "text": "Time Taken for Random vs. Neighbor Initial Populations"
        },
        "xaxis": {
         "anchor": "y",
         "domain": [
          0,
          1
         ],
         "title": {
          "text": "Initial Population Type"
         }
        },
        "yaxis": {
         "anchor": "x",
         "domain": [
          0,
          1
         ],
         "title": {
          "text": "Time Taken (seconds)"
         }
        }
       }
      }
     },
     "metadata": {},
     "output_type": "display_data"
    },
    {
     "data": {
      "application/vnd.plotly.v1+json": {
       "config": {
        "plotlyServerURL": "https://plot.ly"
       },
       "data": [
        {
         "alignmentgroup": "True",
         "hovertemplate": "Initial Population Type=%{x}<br>Generation Count=%{y}<extra></extra>",
         "legendgroup": "",
         "marker": {
          "color": "#636efa"
         },
         "name": "",
         "notched": false,
         "offsetgroup": "",
         "orientation": "v",
         "showlegend": false,
         "type": "box",
         "x": [
          "Random",
          "Random",
          "Random",
          "Random",
          "Random",
          "Random",
          "Random",
          "Random",
          "Random",
          "Random",
          "Random",
          "Random",
          "Random",
          "Random",
          "Random",
          "Random",
          "Random",
          "Random",
          "Random",
          "Random",
          "Neighbors",
          "Neighbors",
          "Neighbors",
          "Neighbors",
          "Neighbors",
          "Neighbors",
          "Neighbors",
          "Neighbors",
          "Neighbors",
          "Neighbors",
          "Neighbors",
          "Neighbors",
          "Neighbors",
          "Neighbors",
          "Neighbors",
          "Neighbors",
          "Neighbors",
          "Neighbors",
          "Neighbors",
          "Neighbors"
         ],
         "x0": " ",
         "xaxis": "x",
         "y": [
          300,
          300,
          300,
          300,
          300,
          300,
          300,
          300,
          300,
          300,
          300,
          300,
          300,
          300,
          300,
          300,
          300,
          300,
          300,
          300,
          300,
          300,
          300,
          300,
          300,
          300,
          300,
          300,
          300,
          300,
          300,
          300,
          300,
          300,
          300,
          300,
          300,
          300,
          300,
          300
         ],
         "y0": " ",
         "yaxis": "y"
        }
       ],
       "layout": {
        "boxmode": "group",
        "legend": {
         "tracegroupgap": 0
        },
        "template": {
         "data": {
          "bar": [
           {
            "error_x": {
             "color": "#2a3f5f"
            },
            "error_y": {
             "color": "#2a3f5f"
            },
            "marker": {
             "line": {
              "color": "#E5ECF6",
              "width": 0.5
             },
             "pattern": {
              "fillmode": "overlay",
              "size": 10,
              "solidity": 0.2
             }
            },
            "type": "bar"
           }
          ],
          "barpolar": [
           {
            "marker": {
             "line": {
              "color": "#E5ECF6",
              "width": 0.5
             },
             "pattern": {
              "fillmode": "overlay",
              "size": 10,
              "solidity": 0.2
             }
            },
            "type": "barpolar"
           }
          ],
          "carpet": [
           {
            "aaxis": {
             "endlinecolor": "#2a3f5f",
             "gridcolor": "white",
             "linecolor": "white",
             "minorgridcolor": "white",
             "startlinecolor": "#2a3f5f"
            },
            "baxis": {
             "endlinecolor": "#2a3f5f",
             "gridcolor": "white",
             "linecolor": "white",
             "minorgridcolor": "white",
             "startlinecolor": "#2a3f5f"
            },
            "type": "carpet"
           }
          ],
          "choropleth": [
           {
            "colorbar": {
             "outlinewidth": 0,
             "ticks": ""
            },
            "type": "choropleth"
           }
          ],
          "contour": [
           {
            "colorbar": {
             "outlinewidth": 0,
             "ticks": ""
            },
            "colorscale": [
             [
              0,
              "#0d0887"
             ],
             [
              0.1111111111111111,
              "#46039f"
             ],
             [
              0.2222222222222222,
              "#7201a8"
             ],
             [
              0.3333333333333333,
              "#9c179e"
             ],
             [
              0.4444444444444444,
              "#bd3786"
             ],
             [
              0.5555555555555556,
              "#d8576b"
             ],
             [
              0.6666666666666666,
              "#ed7953"
             ],
             [
              0.7777777777777778,
              "#fb9f3a"
             ],
             [
              0.8888888888888888,
              "#fdca26"
             ],
             [
              1,
              "#f0f921"
             ]
            ],
            "type": "contour"
           }
          ],
          "contourcarpet": [
           {
            "colorbar": {
             "outlinewidth": 0,
             "ticks": ""
            },
            "type": "contourcarpet"
           }
          ],
          "heatmap": [
           {
            "colorbar": {
             "outlinewidth": 0,
             "ticks": ""
            },
            "colorscale": [
             [
              0,
              "#0d0887"
             ],
             [
              0.1111111111111111,
              "#46039f"
             ],
             [
              0.2222222222222222,
              "#7201a8"
             ],
             [
              0.3333333333333333,
              "#9c179e"
             ],
             [
              0.4444444444444444,
              "#bd3786"
             ],
             [
              0.5555555555555556,
              "#d8576b"
             ],
             [
              0.6666666666666666,
              "#ed7953"
             ],
             [
              0.7777777777777778,
              "#fb9f3a"
             ],
             [
              0.8888888888888888,
              "#fdca26"
             ],
             [
              1,
              "#f0f921"
             ]
            ],
            "type": "heatmap"
           }
          ],
          "heatmapgl": [
           {
            "colorbar": {
             "outlinewidth": 0,
             "ticks": ""
            },
            "colorscale": [
             [
              0,
              "#0d0887"
             ],
             [
              0.1111111111111111,
              "#46039f"
             ],
             [
              0.2222222222222222,
              "#7201a8"
             ],
             [
              0.3333333333333333,
              "#9c179e"
             ],
             [
              0.4444444444444444,
              "#bd3786"
             ],
             [
              0.5555555555555556,
              "#d8576b"
             ],
             [
              0.6666666666666666,
              "#ed7953"
             ],
             [
              0.7777777777777778,
              "#fb9f3a"
             ],
             [
              0.8888888888888888,
              "#fdca26"
             ],
             [
              1,
              "#f0f921"
             ]
            ],
            "type": "heatmapgl"
           }
          ],
          "histogram": [
           {
            "marker": {
             "pattern": {
              "fillmode": "overlay",
              "size": 10,
              "solidity": 0.2
             }
            },
            "type": "histogram"
           }
          ],
          "histogram2d": [
           {
            "colorbar": {
             "outlinewidth": 0,
             "ticks": ""
            },
            "colorscale": [
             [
              0,
              "#0d0887"
             ],
             [
              0.1111111111111111,
              "#46039f"
             ],
             [
              0.2222222222222222,
              "#7201a8"
             ],
             [
              0.3333333333333333,
              "#9c179e"
             ],
             [
              0.4444444444444444,
              "#bd3786"
             ],
             [
              0.5555555555555556,
              "#d8576b"
             ],
             [
              0.6666666666666666,
              "#ed7953"
             ],
             [
              0.7777777777777778,
              "#fb9f3a"
             ],
             [
              0.8888888888888888,
              "#fdca26"
             ],
             [
              1,
              "#f0f921"
             ]
            ],
            "type": "histogram2d"
           }
          ],
          "histogram2dcontour": [
           {
            "colorbar": {
             "outlinewidth": 0,
             "ticks": ""
            },
            "colorscale": [
             [
              0,
              "#0d0887"
             ],
             [
              0.1111111111111111,
              "#46039f"
             ],
             [
              0.2222222222222222,
              "#7201a8"
             ],
             [
              0.3333333333333333,
              "#9c179e"
             ],
             [
              0.4444444444444444,
              "#bd3786"
             ],
             [
              0.5555555555555556,
              "#d8576b"
             ],
             [
              0.6666666666666666,
              "#ed7953"
             ],
             [
              0.7777777777777778,
              "#fb9f3a"
             ],
             [
              0.8888888888888888,
              "#fdca26"
             ],
             [
              1,
              "#f0f921"
             ]
            ],
            "type": "histogram2dcontour"
           }
          ],
          "mesh3d": [
           {
            "colorbar": {
             "outlinewidth": 0,
             "ticks": ""
            },
            "type": "mesh3d"
           }
          ],
          "parcoords": [
           {
            "line": {
             "colorbar": {
              "outlinewidth": 0,
              "ticks": ""
             }
            },
            "type": "parcoords"
           }
          ],
          "pie": [
           {
            "automargin": true,
            "type": "pie"
           }
          ],
          "scatter": [
           {
            "fillpattern": {
             "fillmode": "overlay",
             "size": 10,
             "solidity": 0.2
            },
            "type": "scatter"
           }
          ],
          "scatter3d": [
           {
            "line": {
             "colorbar": {
              "outlinewidth": 0,
              "ticks": ""
             }
            },
            "marker": {
             "colorbar": {
              "outlinewidth": 0,
              "ticks": ""
             }
            },
            "type": "scatter3d"
           }
          ],
          "scattercarpet": [
           {
            "marker": {
             "colorbar": {
              "outlinewidth": 0,
              "ticks": ""
             }
            },
            "type": "scattercarpet"
           }
          ],
          "scattergeo": [
           {
            "marker": {
             "colorbar": {
              "outlinewidth": 0,
              "ticks": ""
             }
            },
            "type": "scattergeo"
           }
          ],
          "scattergl": [
           {
            "marker": {
             "colorbar": {
              "outlinewidth": 0,
              "ticks": ""
             }
            },
            "type": "scattergl"
           }
          ],
          "scattermapbox": [
           {
            "marker": {
             "colorbar": {
              "outlinewidth": 0,
              "ticks": ""
             }
            },
            "type": "scattermapbox"
           }
          ],
          "scatterpolar": [
           {
            "marker": {
             "colorbar": {
              "outlinewidth": 0,
              "ticks": ""
             }
            },
            "type": "scatterpolar"
           }
          ],
          "scatterpolargl": [
           {
            "marker": {
             "colorbar": {
              "outlinewidth": 0,
              "ticks": ""
             }
            },
            "type": "scatterpolargl"
           }
          ],
          "scatterternary": [
           {
            "marker": {
             "colorbar": {
              "outlinewidth": 0,
              "ticks": ""
             }
            },
            "type": "scatterternary"
           }
          ],
          "surface": [
           {
            "colorbar": {
             "outlinewidth": 0,
             "ticks": ""
            },
            "colorscale": [
             [
              0,
              "#0d0887"
             ],
             [
              0.1111111111111111,
              "#46039f"
             ],
             [
              0.2222222222222222,
              "#7201a8"
             ],
             [
              0.3333333333333333,
              "#9c179e"
             ],
             [
              0.4444444444444444,
              "#bd3786"
             ],
             [
              0.5555555555555556,
              "#d8576b"
             ],
             [
              0.6666666666666666,
              "#ed7953"
             ],
             [
              0.7777777777777778,
              "#fb9f3a"
             ],
             [
              0.8888888888888888,
              "#fdca26"
             ],
             [
              1,
              "#f0f921"
             ]
            ],
            "type": "surface"
           }
          ],
          "table": [
           {
            "cells": {
             "fill": {
              "color": "#EBF0F8"
             },
             "line": {
              "color": "white"
             }
            },
            "header": {
             "fill": {
              "color": "#C8D4E3"
             },
             "line": {
              "color": "white"
             }
            },
            "type": "table"
           }
          ]
         },
         "layout": {
          "annotationdefaults": {
           "arrowcolor": "#2a3f5f",
           "arrowhead": 0,
           "arrowwidth": 1
          },
          "autotypenumbers": "strict",
          "coloraxis": {
           "colorbar": {
            "outlinewidth": 0,
            "ticks": ""
           }
          },
          "colorscale": {
           "diverging": [
            [
             0,
             "#8e0152"
            ],
            [
             0.1,
             "#c51b7d"
            ],
            [
             0.2,
             "#de77ae"
            ],
            [
             0.3,
             "#f1b6da"
            ],
            [
             0.4,
             "#fde0ef"
            ],
            [
             0.5,
             "#f7f7f7"
            ],
            [
             0.6,
             "#e6f5d0"
            ],
            [
             0.7,
             "#b8e186"
            ],
            [
             0.8,
             "#7fbc41"
            ],
            [
             0.9,
             "#4d9221"
            ],
            [
             1,
             "#276419"
            ]
           ],
           "sequential": [
            [
             0,
             "#0d0887"
            ],
            [
             0.1111111111111111,
             "#46039f"
            ],
            [
             0.2222222222222222,
             "#7201a8"
            ],
            [
             0.3333333333333333,
             "#9c179e"
            ],
            [
             0.4444444444444444,
             "#bd3786"
            ],
            [
             0.5555555555555556,
             "#d8576b"
            ],
            [
             0.6666666666666666,
             "#ed7953"
            ],
            [
             0.7777777777777778,
             "#fb9f3a"
            ],
            [
             0.8888888888888888,
             "#fdca26"
            ],
            [
             1,
             "#f0f921"
            ]
           ],
           "sequentialminus": [
            [
             0,
             "#0d0887"
            ],
            [
             0.1111111111111111,
             "#46039f"
            ],
            [
             0.2222222222222222,
             "#7201a8"
            ],
            [
             0.3333333333333333,
             "#9c179e"
            ],
            [
             0.4444444444444444,
             "#bd3786"
            ],
            [
             0.5555555555555556,
             "#d8576b"
            ],
            [
             0.6666666666666666,
             "#ed7953"
            ],
            [
             0.7777777777777778,
             "#fb9f3a"
            ],
            [
             0.8888888888888888,
             "#fdca26"
            ],
            [
             1,
             "#f0f921"
            ]
           ]
          },
          "colorway": [
           "#636efa",
           "#EF553B",
           "#00cc96",
           "#ab63fa",
           "#FFA15A",
           "#19d3f3",
           "#FF6692",
           "#B6E880",
           "#FF97FF",
           "#FECB52"
          ],
          "font": {
           "color": "#2a3f5f"
          },
          "geo": {
           "bgcolor": "white",
           "lakecolor": "white",
           "landcolor": "#E5ECF6",
           "showlakes": true,
           "showland": true,
           "subunitcolor": "white"
          },
          "hoverlabel": {
           "align": "left"
          },
          "hovermode": "closest",
          "mapbox": {
           "style": "light"
          },
          "paper_bgcolor": "white",
          "plot_bgcolor": "#E5ECF6",
          "polar": {
           "angularaxis": {
            "gridcolor": "white",
            "linecolor": "white",
            "ticks": ""
           },
           "bgcolor": "#E5ECF6",
           "radialaxis": {
            "gridcolor": "white",
            "linecolor": "white",
            "ticks": ""
           }
          },
          "scene": {
           "xaxis": {
            "backgroundcolor": "#E5ECF6",
            "gridcolor": "white",
            "gridwidth": 2,
            "linecolor": "white",
            "showbackground": true,
            "ticks": "",
            "zerolinecolor": "white"
           },
           "yaxis": {
            "backgroundcolor": "#E5ECF6",
            "gridcolor": "white",
            "gridwidth": 2,
            "linecolor": "white",
            "showbackground": true,
            "ticks": "",
            "zerolinecolor": "white"
           },
           "zaxis": {
            "backgroundcolor": "#E5ECF6",
            "gridcolor": "white",
            "gridwidth": 2,
            "linecolor": "white",
            "showbackground": true,
            "ticks": "",
            "zerolinecolor": "white"
           }
          },
          "shapedefaults": {
           "line": {
            "color": "#2a3f5f"
           }
          },
          "ternary": {
           "aaxis": {
            "gridcolor": "white",
            "linecolor": "white",
            "ticks": ""
           },
           "baxis": {
            "gridcolor": "white",
            "linecolor": "white",
            "ticks": ""
           },
           "bgcolor": "#E5ECF6",
           "caxis": {
            "gridcolor": "white",
            "linecolor": "white",
            "ticks": ""
           }
          },
          "title": {
           "x": 0.05
          },
          "xaxis": {
           "automargin": true,
           "gridcolor": "white",
           "linecolor": "white",
           "ticks": "",
           "title": {
            "standoff": 15
           },
           "zerolinecolor": "white",
           "zerolinewidth": 2
          },
          "yaxis": {
           "automargin": true,
           "gridcolor": "white",
           "linecolor": "white",
           "ticks": "",
           "title": {
            "standoff": 15
           },
           "zerolinecolor": "white",
           "zerolinewidth": 2
          }
         }
        },
        "title": {
         "text": "Generation Count for Random vs. Neighbor Initial Populations"
        },
        "xaxis": {
         "anchor": "y",
         "domain": [
          0,
          1
         ],
         "title": {
          "text": "Initial Population Type"
         }
        },
        "yaxis": {
         "anchor": "x",
         "domain": [
          0,
          1
         ],
         "title": {
          "text": "Generation Count"
         }
        }
       }
      }
     },
     "metadata": {},
     "output_type": "display_data"
    },
    {
     "data": {
      "application/vnd.plotly.v1+json": {
       "config": {
        "plotlyServerURL": "https://plot.ly"
       },
       "data": [
        {
         "alignmentgroup": "True",
         "error_y": {
          "array": [
           "time_std",
           "generation_std"
          ]
         },
         "hovertemplate": "Metric=time_mean<br>Initial Population Type=%{x}<br>Average Performance=%{y}<extra></extra>",
         "legendgroup": "time_mean",
         "marker": {
          "color": "#636efa",
          "pattern": {
           "shape": ""
          }
         },
         "name": "time_mean",
         "offsetgroup": "time_mean",
         "orientation": "v",
         "showlegend": true,
         "textposition": "auto",
         "type": "bar",
         "x": [
          "Neighbors",
          "Random"
         ],
         "xaxis": "x",
         "y": [
          1.5031411051750183,
          2.7732459902763367
         ],
         "yaxis": "y"
        },
        {
         "alignmentgroup": "True",
         "error_y": {
          "array": [
           "time_std",
           "generation_std"
          ]
         },
         "hovertemplate": "Metric=generation_mean<br>Initial Population Type=%{x}<br>Average Performance=%{y}<extra></extra>",
         "legendgroup": "generation_mean",
         "marker": {
          "color": "#EF553B",
          "pattern": {
           "shape": ""
          }
         },
         "name": "generation_mean",
         "offsetgroup": "generation_mean",
         "orientation": "v",
         "showlegend": true,
         "textposition": "auto",
         "type": "bar",
         "x": [
          "Neighbors",
          "Random"
         ],
         "xaxis": "x2",
         "y": [
          300,
          300
         ],
         "yaxis": "y2"
        }
       ],
       "layout": {
        "annotations": [
         {
          "font": {},
          "showarrow": false,
          "text": "Metric=time_mean",
          "x": 0.245,
          "xanchor": "center",
          "xref": "paper",
          "y": 1,
          "yanchor": "bottom",
          "yref": "paper"
         },
         {
          "font": {},
          "showarrow": false,
          "text": "Metric=generation_mean",
          "x": 0.755,
          "xanchor": "center",
          "xref": "paper",
          "y": 1,
          "yanchor": "bottom",
          "yref": "paper"
         }
        ],
        "barmode": "group",
        "legend": {
         "title": {
          "text": "Metric"
         },
         "tracegroupgap": 0
        },
        "template": {
         "data": {
          "bar": [
           {
            "error_x": {
             "color": "#2a3f5f"
            },
            "error_y": {
             "color": "#2a3f5f"
            },
            "marker": {
             "line": {
              "color": "#E5ECF6",
              "width": 0.5
             },
             "pattern": {
              "fillmode": "overlay",
              "size": 10,
              "solidity": 0.2
             }
            },
            "type": "bar"
           }
          ],
          "barpolar": [
           {
            "marker": {
             "line": {
              "color": "#E5ECF6",
              "width": 0.5
             },
             "pattern": {
              "fillmode": "overlay",
              "size": 10,
              "solidity": 0.2
             }
            },
            "type": "barpolar"
           }
          ],
          "carpet": [
           {
            "aaxis": {
             "endlinecolor": "#2a3f5f",
             "gridcolor": "white",
             "linecolor": "white",
             "minorgridcolor": "white",
             "startlinecolor": "#2a3f5f"
            },
            "baxis": {
             "endlinecolor": "#2a3f5f",
             "gridcolor": "white",
             "linecolor": "white",
             "minorgridcolor": "white",
             "startlinecolor": "#2a3f5f"
            },
            "type": "carpet"
           }
          ],
          "choropleth": [
           {
            "colorbar": {
             "outlinewidth": 0,
             "ticks": ""
            },
            "type": "choropleth"
           }
          ],
          "contour": [
           {
            "colorbar": {
             "outlinewidth": 0,
             "ticks": ""
            },
            "colorscale": [
             [
              0,
              "#0d0887"
             ],
             [
              0.1111111111111111,
              "#46039f"
             ],
             [
              0.2222222222222222,
              "#7201a8"
             ],
             [
              0.3333333333333333,
              "#9c179e"
             ],
             [
              0.4444444444444444,
              "#bd3786"
             ],
             [
              0.5555555555555556,
              "#d8576b"
             ],
             [
              0.6666666666666666,
              "#ed7953"
             ],
             [
              0.7777777777777778,
              "#fb9f3a"
             ],
             [
              0.8888888888888888,
              "#fdca26"
             ],
             [
              1,
              "#f0f921"
             ]
            ],
            "type": "contour"
           }
          ],
          "contourcarpet": [
           {
            "colorbar": {
             "outlinewidth": 0,
             "ticks": ""
            },
            "type": "contourcarpet"
           }
          ],
          "heatmap": [
           {
            "colorbar": {
             "outlinewidth": 0,
             "ticks": ""
            },
            "colorscale": [
             [
              0,
              "#0d0887"
             ],
             [
              0.1111111111111111,
              "#46039f"
             ],
             [
              0.2222222222222222,
              "#7201a8"
             ],
             [
              0.3333333333333333,
              "#9c179e"
             ],
             [
              0.4444444444444444,
              "#bd3786"
             ],
             [
              0.5555555555555556,
              "#d8576b"
             ],
             [
              0.6666666666666666,
              "#ed7953"
             ],
             [
              0.7777777777777778,
              "#fb9f3a"
             ],
             [
              0.8888888888888888,
              "#fdca26"
             ],
             [
              1,
              "#f0f921"
             ]
            ],
            "type": "heatmap"
           }
          ],
          "heatmapgl": [
           {
            "colorbar": {
             "outlinewidth": 0,
             "ticks": ""
            },
            "colorscale": [
             [
              0,
              "#0d0887"
             ],
             [
              0.1111111111111111,
              "#46039f"
             ],
             [
              0.2222222222222222,
              "#7201a8"
             ],
             [
              0.3333333333333333,
              "#9c179e"
             ],
             [
              0.4444444444444444,
              "#bd3786"
             ],
             [
              0.5555555555555556,
              "#d8576b"
             ],
             [
              0.6666666666666666,
              "#ed7953"
             ],
             [
              0.7777777777777778,
              "#fb9f3a"
             ],
             [
              0.8888888888888888,
              "#fdca26"
             ],
             [
              1,
              "#f0f921"
             ]
            ],
            "type": "heatmapgl"
           }
          ],
          "histogram": [
           {
            "marker": {
             "pattern": {
              "fillmode": "overlay",
              "size": 10,
              "solidity": 0.2
             }
            },
            "type": "histogram"
           }
          ],
          "histogram2d": [
           {
            "colorbar": {
             "outlinewidth": 0,
             "ticks": ""
            },
            "colorscale": [
             [
              0,
              "#0d0887"
             ],
             [
              0.1111111111111111,
              "#46039f"
             ],
             [
              0.2222222222222222,
              "#7201a8"
             ],
             [
              0.3333333333333333,
              "#9c179e"
             ],
             [
              0.4444444444444444,
              "#bd3786"
             ],
             [
              0.5555555555555556,
              "#d8576b"
             ],
             [
              0.6666666666666666,
              "#ed7953"
             ],
             [
              0.7777777777777778,
              "#fb9f3a"
             ],
             [
              0.8888888888888888,
              "#fdca26"
             ],
             [
              1,
              "#f0f921"
             ]
            ],
            "type": "histogram2d"
           }
          ],
          "histogram2dcontour": [
           {
            "colorbar": {
             "outlinewidth": 0,
             "ticks": ""
            },
            "colorscale": [
             [
              0,
              "#0d0887"
             ],
             [
              0.1111111111111111,
              "#46039f"
             ],
             [
              0.2222222222222222,
              "#7201a8"
             ],
             [
              0.3333333333333333,
              "#9c179e"
             ],
             [
              0.4444444444444444,
              "#bd3786"
             ],
             [
              0.5555555555555556,
              "#d8576b"
             ],
             [
              0.6666666666666666,
              "#ed7953"
             ],
             [
              0.7777777777777778,
              "#fb9f3a"
             ],
             [
              0.8888888888888888,
              "#fdca26"
             ],
             [
              1,
              "#f0f921"
             ]
            ],
            "type": "histogram2dcontour"
           }
          ],
          "mesh3d": [
           {
            "colorbar": {
             "outlinewidth": 0,
             "ticks": ""
            },
            "type": "mesh3d"
           }
          ],
          "parcoords": [
           {
            "line": {
             "colorbar": {
              "outlinewidth": 0,
              "ticks": ""
             }
            },
            "type": "parcoords"
           }
          ],
          "pie": [
           {
            "automargin": true,
            "type": "pie"
           }
          ],
          "scatter": [
           {
            "fillpattern": {
             "fillmode": "overlay",
             "size": 10,
             "solidity": 0.2
            },
            "type": "scatter"
           }
          ],
          "scatter3d": [
           {
            "line": {
             "colorbar": {
              "outlinewidth": 0,
              "ticks": ""
             }
            },
            "marker": {
             "colorbar": {
              "outlinewidth": 0,
              "ticks": ""
             }
            },
            "type": "scatter3d"
           }
          ],
          "scattercarpet": [
           {
            "marker": {
             "colorbar": {
              "outlinewidth": 0,
              "ticks": ""
             }
            },
            "type": "scattercarpet"
           }
          ],
          "scattergeo": [
           {
            "marker": {
             "colorbar": {
              "outlinewidth": 0,
              "ticks": ""
             }
            },
            "type": "scattergeo"
           }
          ],
          "scattergl": [
           {
            "marker": {
             "colorbar": {
              "outlinewidth": 0,
              "ticks": ""
             }
            },
            "type": "scattergl"
           }
          ],
          "scattermapbox": [
           {
            "marker": {
             "colorbar": {
              "outlinewidth": 0,
              "ticks": ""
             }
            },
            "type": "scattermapbox"
           }
          ],
          "scatterpolar": [
           {
            "marker": {
             "colorbar": {
              "outlinewidth": 0,
              "ticks": ""
             }
            },
            "type": "scatterpolar"
           }
          ],
          "scatterpolargl": [
           {
            "marker": {
             "colorbar": {
              "outlinewidth": 0,
              "ticks": ""
             }
            },
            "type": "scatterpolargl"
           }
          ],
          "scatterternary": [
           {
            "marker": {
             "colorbar": {
              "outlinewidth": 0,
              "ticks": ""
             }
            },
            "type": "scatterternary"
           }
          ],
          "surface": [
           {
            "colorbar": {
             "outlinewidth": 0,
             "ticks": ""
            },
            "colorscale": [
             [
              0,
              "#0d0887"
             ],
             [
              0.1111111111111111,
              "#46039f"
             ],
             [
              0.2222222222222222,
              "#7201a8"
             ],
             [
              0.3333333333333333,
              "#9c179e"
             ],
             [
              0.4444444444444444,
              "#bd3786"
             ],
             [
              0.5555555555555556,
              "#d8576b"
             ],
             [
              0.6666666666666666,
              "#ed7953"
             ],
             [
              0.7777777777777778,
              "#fb9f3a"
             ],
             [
              0.8888888888888888,
              "#fdca26"
             ],
             [
              1,
              "#f0f921"
             ]
            ],
            "type": "surface"
           }
          ],
          "table": [
           {
            "cells": {
             "fill": {
              "color": "#EBF0F8"
             },
             "line": {
              "color": "white"
             }
            },
            "header": {
             "fill": {
              "color": "#C8D4E3"
             },
             "line": {
              "color": "white"
             }
            },
            "type": "table"
           }
          ]
         },
         "layout": {
          "annotationdefaults": {
           "arrowcolor": "#2a3f5f",
           "arrowhead": 0,
           "arrowwidth": 1
          },
          "autotypenumbers": "strict",
          "coloraxis": {
           "colorbar": {
            "outlinewidth": 0,
            "ticks": ""
           }
          },
          "colorscale": {
           "diverging": [
            [
             0,
             "#8e0152"
            ],
            [
             0.1,
             "#c51b7d"
            ],
            [
             0.2,
             "#de77ae"
            ],
            [
             0.3,
             "#f1b6da"
            ],
            [
             0.4,
             "#fde0ef"
            ],
            [
             0.5,
             "#f7f7f7"
            ],
            [
             0.6,
             "#e6f5d0"
            ],
            [
             0.7,
             "#b8e186"
            ],
            [
             0.8,
             "#7fbc41"
            ],
            [
             0.9,
             "#4d9221"
            ],
            [
             1,
             "#276419"
            ]
           ],
           "sequential": [
            [
             0,
             "#0d0887"
            ],
            [
             0.1111111111111111,
             "#46039f"
            ],
            [
             0.2222222222222222,
             "#7201a8"
            ],
            [
             0.3333333333333333,
             "#9c179e"
            ],
            [
             0.4444444444444444,
             "#bd3786"
            ],
            [
             0.5555555555555556,
             "#d8576b"
            ],
            [
             0.6666666666666666,
             "#ed7953"
            ],
            [
             0.7777777777777778,
             "#fb9f3a"
            ],
            [
             0.8888888888888888,
             "#fdca26"
            ],
            [
             1,
             "#f0f921"
            ]
           ],
           "sequentialminus": [
            [
             0,
             "#0d0887"
            ],
            [
             0.1111111111111111,
             "#46039f"
            ],
            [
             0.2222222222222222,
             "#7201a8"
            ],
            [
             0.3333333333333333,
             "#9c179e"
            ],
            [
             0.4444444444444444,
             "#bd3786"
            ],
            [
             0.5555555555555556,
             "#d8576b"
            ],
            [
             0.6666666666666666,
             "#ed7953"
            ],
            [
             0.7777777777777778,
             "#fb9f3a"
            ],
            [
             0.8888888888888888,
             "#fdca26"
            ],
            [
             1,
             "#f0f921"
            ]
           ]
          },
          "colorway": [
           "#636efa",
           "#EF553B",
           "#00cc96",
           "#ab63fa",
           "#FFA15A",
           "#19d3f3",
           "#FF6692",
           "#B6E880",
           "#FF97FF",
           "#FECB52"
          ],
          "font": {
           "color": "#2a3f5f"
          },
          "geo": {
           "bgcolor": "white",
           "lakecolor": "white",
           "landcolor": "#E5ECF6",
           "showlakes": true,
           "showland": true,
           "subunitcolor": "white"
          },
          "hoverlabel": {
           "align": "left"
          },
          "hovermode": "closest",
          "mapbox": {
           "style": "light"
          },
          "paper_bgcolor": "white",
          "plot_bgcolor": "#E5ECF6",
          "polar": {
           "angularaxis": {
            "gridcolor": "white",
            "linecolor": "white",
            "ticks": ""
           },
           "bgcolor": "#E5ECF6",
           "radialaxis": {
            "gridcolor": "white",
            "linecolor": "white",
            "ticks": ""
           }
          },
          "scene": {
           "xaxis": {
            "backgroundcolor": "#E5ECF6",
            "gridcolor": "white",
            "gridwidth": 2,
            "linecolor": "white",
            "showbackground": true,
            "ticks": "",
            "zerolinecolor": "white"
           },
           "yaxis": {
            "backgroundcolor": "#E5ECF6",
            "gridcolor": "white",
            "gridwidth": 2,
            "linecolor": "white",
            "showbackground": true,
            "ticks": "",
            "zerolinecolor": "white"
           },
           "zaxis": {
            "backgroundcolor": "#E5ECF6",
            "gridcolor": "white",
            "gridwidth": 2,
            "linecolor": "white",
            "showbackground": true,
            "ticks": "",
            "zerolinecolor": "white"
           }
          },
          "shapedefaults": {
           "line": {
            "color": "#2a3f5f"
           }
          },
          "ternary": {
           "aaxis": {
            "gridcolor": "white",
            "linecolor": "white",
            "ticks": ""
           },
           "baxis": {
            "gridcolor": "white",
            "linecolor": "white",
            "ticks": ""
           },
           "bgcolor": "#E5ECF6",
           "caxis": {
            "gridcolor": "white",
            "linecolor": "white",
            "ticks": ""
           }
          },
          "title": {
           "x": 0.05
          },
          "xaxis": {
           "automargin": true,
           "gridcolor": "white",
           "linecolor": "white",
           "ticks": "",
           "title": {
            "standoff": 15
           },
           "zerolinecolor": "white",
           "zerolinewidth": 2
          },
          "yaxis": {
           "automargin": true,
           "gridcolor": "white",
           "linecolor": "white",
           "ticks": "",
           "title": {
            "standoff": 15
           },
           "zerolinecolor": "white",
           "zerolinewidth": 2
          }
         }
        },
        "title": {
         "text": "Average Performance with Standard Deviation"
        },
        "xaxis": {
         "anchor": "y",
         "domain": [
          0,
          0.49
         ],
         "title": {
          "text": "Initial Population Type"
         }
        },
        "xaxis2": {
         "anchor": "y2",
         "domain": [
          0.51,
          1
         ],
         "matches": "x",
         "title": {
          "text": "Initial Population Type"
         }
        },
        "yaxis": {
         "anchor": "x",
         "domain": [
          0,
          1
         ],
         "title": {
          "text": "Average Performance"
         }
        },
        "yaxis2": {
         "anchor": "x2",
         "domain": [
          0,
          1
         ],
         "matches": "y",
         "showticklabels": false
        }
       }
      }
     },
     "metadata": {},
     "output_type": "display_data"
    }
   ],
   "source": [
    "# Run multiple trials and collect performance metrics\n",
    "def run_multiple_trials(trials, initial_population):\n",
    "    data = []\n",
    "    \n",
    "    for trial in range(trials):\n",
    "        start_time = time.time()\n",
    "        \n",
    "        ga = GeneticAlgorithm(\n",
    "            board_size=8,\n",
    "            population_size=300,\n",
    "            mutation_probability=0.15,\n",
    "            initial_population=initial_population\n",
    "        )\n",
    "        \n",
    "        ga.run()\n",
    "        \n",
    "        end_time = time.time()\n",
    "        time_taken = end_time - start_time\n",
    "        generation_count = len(ga.current_population)  # Assuming this tracks generations\n",
    "        \n",
    "        # Record trial data\n",
    "        data.append({\n",
    "            'trial': trial + 1,\n",
    "            'time_taken': time_taken,\n",
    "            'generation_count': generation_count,\n",
    "            'initial_population_type': initial_population\n",
    "        })\n",
    "    \n",
    "    return pd.DataFrame(data)\n",
    "\n",
    "# Collect data for random and neighbor initial populations\n",
    "trials = 20\n",
    "data_random = run_multiple_trials(trials, 'Random')\n",
    "\n",
    "\n",
    "data_neighbor = run_multiple_trials(trials, 'Neighbors')\n",
    "\n",
    "# Combine data into one DataFrame for comparison\n",
    "data = pd.concat([data_random, data_neighbor])\n",
    "\n",
    "# Calculate summary statistics for time and generation count\n",
    "summary_stats = data.groupby('initial_population_type').agg(\n",
    "    time_mean=('time_taken', 'mean'),\n",
    "    time_std=('time_taken', 'std'),\n",
    "    generation_mean=('generation_count', 'mean'),\n",
    "    generation_std=('generation_count', 'std')\n",
    ").reset_index()\n",
    "\n",
    "# Plotting the results using Plotly Express\n",
    "# Time taken per trial for each initial population type\n",
    "fig_time = px.box(data, x='initial_population_type', y='time_taken', \n",
    "                  title=\"Time Taken for Random vs. Neighbor Initial Populations\",\n",
    "                  labels={'time_taken': 'Time Taken (seconds)', 'initial_population_type': 'Initial Population Type'})\n",
    "\n",
    "# Generation count per trial for each initial population type\n",
    "fig_generation = px.box(data, x='initial_population_type', y='generation_count', \n",
    "                        title=\"Generation Count for Random vs. Neighbor Initial Populations\",\n",
    "                        labels={'generation_count': 'Generation Count', 'initial_population_type': 'Initial Population Type'})\n",
    "\n",
    "# Summary statistics plot\n",
    "fig_summary = px.bar(summary_stats, x='initial_population_type', y=['time_mean', 'generation_mean'], \n",
    "                     error_y=['time_std', 'generation_std'],\n",
    "                     barmode='group',\n",
    "                     title=\"Average Performance with Standard Deviation\",\n",
    "                     labels={'value': 'Average Performance', 'initial_population_type': 'Initial Population Type', 'variable': 'Metric'},\n",
    "                     facet_col='variable')\n",
    "\n",
    "# Display plots\n",
    "fig_time.show()\n",
    "fig_generation.show()\n",
    "fig_summary.show()\n"
   ]
  },
  {
   "cell_type": "code",
   "execution_count": 6,
   "metadata": {},
   "outputs": [
    {
     "name": "stdout",
     "output_type": "stream",
     "text": [
      "\n",
      "Trial 1:\n",
      "Time taken: 0.05 seconds\n",
      "\n",
      "Trial 2:\n",
      "Time taken: 0.71 seconds\n",
      "\n",
      "Trial 3:\n",
      "Time taken: 5.18 seconds\n",
      "\n",
      "Trial 4:\n",
      "Time taken: 1.10 seconds\n",
      "\n",
      "Trial 5:\n",
      "Time taken: 3.79 seconds\n",
      "\n",
      "Trial 6:\n",
      "Time taken: 0.34 seconds\n",
      "\n",
      "Trial 7:\n",
      "Time taken: 1.81 seconds\n",
      "\n",
      "Trial 8:\n",
      "Time taken: 2.01 seconds\n",
      "\n",
      "Trial 9:\n",
      "Time taken: 0.75 seconds\n",
      "\n",
      "Trial 10:\n",
      "Time taken: 0.18 seconds\n",
      "\n",
      "Trial 11:\n",
      "Time taken: 2.80 seconds\n",
      "\n",
      "Trial 12:\n",
      "Time taken: 0.27 seconds\n",
      "\n",
      "Trial 13:\n",
      "Time taken: 2.84 seconds\n",
      "\n",
      "Trial 14:\n",
      "Time taken: 1.96 seconds\n",
      "\n",
      "Trial 15:\n",
      "Time taken: 0.92 seconds\n",
      "\n",
      "Trial 16:\n",
      "Time taken: 0.58 seconds\n",
      "\n",
      "Trial 17:\n",
      "Time taken: 0.56 seconds\n",
      "\n",
      "Trial 18:\n",
      "Time taken: 1.25 seconds\n",
      "\n",
      "Trial 19:\n",
      "Time taken: 0.37 seconds\n",
      "\n",
      "Trial 20:\n",
      "Time taken: 1.83 seconds\n",
      "Average Time: 1.46 seconds\n"
     ]
    }
   ],
   "source": [
    "# Run\n",
    "\n",
    "def run_multiple_trials(trails):\n",
    "    all_times = []\n",
    "    for trial in range(trails):\n",
    "        print(f\"\\nTrial {trial + 1}:\")\n",
    "        \n",
    "        start_time = time.time()\n",
    "        \n",
    "        ga = GeneticAlgorithm(\n",
    "            board_size=8,\n",
    "            population_size=300,\n",
    "            mutation_probability=0.1,\n",
    "            initial_population='Random'\n",
    "        )\n",
    "        \n",
    "        ga.run()\n",
    "        \n",
    "        end_time = time.time()\n",
    "        time_taken = end_time - start_time\n",
    "        all_times.append(time_taken)\n",
    "        \n",
    "        print(f\"Time taken: {time_taken:.2f} seconds\")\n",
    "    \n",
    "    print(f\"Average Time: {(sum(all_times)/len(all_times)):.2f} seconds\")\n",
    "\n",
    "\n",
    "run_multiple_trials(20)\n"
   ]
  },
  {
   "cell_type": "code",
   "execution_count": null,
   "metadata": {},
   "outputs": [],
   "source": []
  },
  {
   "cell_type": "code",
   "execution_count": null,
   "metadata": {},
   "outputs": [],
   "source": [
    "# Plot GA\n",
    "\n",
    "def plot_ga(solution, fitness_history):\n",
    "\n",
    "    # Create DataFrame\n",
    "    df = pd.DataFrame({\n",
    "        'Generation': range(len(fitness_history)),\n",
    "        'Fitness': fitness_history\n",
    "    })\n",
    "\n",
    "    # Create the figure with dark theme using plotly express\n",
    "    fig = px.line(\n",
    "        df,\n",
    "        x='Generation',\n",
    "        y='Fitness',\n",
    "        title='Eight Queens - Genetic Algorithm Fitness Evolution',\n",
    "        labels={'Fitness': 'Fitness Score (28 = Perfect Solution)', 'Generation': 'Generation'},\n",
    "        template='plotly_dark'\n",
    "    )\n",
    "\n",
    "    # Add the solution point as a marker if found\n",
    "    solution_point = df[df['Fitness'] == 28]\n",
    "    if not solution_point.empty:\n",
    "        fig.add_scatter(\n",
    "            x=solution_point['Generation'],\n",
    "            y=solution_point['Fitness'],\n",
    "            mode='markers',\n",
    "            name='Solution Found',\n",
    "            marker=dict(color='#00FF00', size=15, symbol='star')\n",
    "        )\n",
    "\n",
    "    # Add reference line for perfect fitness\n",
    "    fig.add_hline(\n",
    "        y=28, \n",
    "        line_dash=\"dash\", \n",
    "        line_color=\"rgba(0, 255, 0, 0.3)\",\n",
    "        annotation_text=\"Perfect Fitness (28)\",\n",
    "        annotation_position=\"right\",\n",
    "        annotation_font_color=\"white\"\n",
    "    )\n",
    "\n",
    "    # Add annotations for initial and final fitness\n",
    "    fig.add_annotation(\n",
    "        x=0,\n",
    "        y=fitness_history[0],\n",
    "        text=f\"Initial Fitness: {fitness_history[0]}\",\n",
    "        showarrow=True,\n",
    "        arrowhead=1,\n",
    "        ax=-50,\n",
    "        ay=-30,\n",
    "        font=dict(size=14, color='#00B5F7'),\n",
    "        bgcolor='rgba(50, 50, 50, 0.8)'\n",
    "    )\n",
    "\n",
    "    if solution_point.empty:\n",
    "        final_gen = len(fitness_history) - 1\n",
    "        final_fitness = fitness_history[-1]\n",
    "        annotation_text = f\"Final Fitness: {final_fitness}\"\n",
    "    else:\n",
    "        final_gen = solution_point['Generation'].iloc[0]\n",
    "        annotation_text = \"Solution Found!\"\n",
    "\n",
    "    fig.add_annotation(\n",
    "        x=final_gen,\n",
    "        y=fitness_history[final_gen],\n",
    "        text=annotation_text,\n",
    "        showarrow=True,\n",
    "        arrowhead=1,\n",
    "        ax=50,\n",
    "        ay=-50,\n",
    "        font=dict(size=14, color='#00FF00'),\n",
    "        bgcolor='rgba(50, 50, 50, 0.8)'\n",
    "    )\n",
    "\n",
    "    # Final adjustments\n",
    "    fig.update_layout(\n",
    "        xaxis=dict(gridcolor='rgba(128, 128, 128, 0.2)', zeroline=False),\n",
    "        yaxis=dict(gridcolor='rgba(128, 128, 128, 0.2)', zeroline=False, range=[min(fitness_history) - 1, 29]),\n",
    "        height = 700,\n",
    "        width=1500,\n",
    "        legend=dict(\n",
    "            yanchor=\"top\",\n",
    "            y=0.99,\n",
    "            xanchor=\"left\",\n",
    "            x=0.01,\n",
    "            bgcolor='rgba(50, 50, 50, 0.8)'\n",
    "        ),\n",
    "        hovermode='x unified',\n",
    "        margin=dict(t=100, b=50, l=50, r=50)\n",
    "    )\n",
    "\n",
    "    print(f\"Solution found in {final_gen + 1} generations\")\n",
    "    print(f\"Final fitness: {fitness_history[final_gen]}\")\n",
    "    fig.show()"
   ]
  },
  {
   "cell_type": "code",
   "execution_count": 4,
   "metadata": {},
   "outputs": [
    {
     "name": "stdout",
     "output_type": "stream",
     "text": [
      "Optimizing parameters...\n"
     ]
    },
    {
     "name": "stderr",
     "output_type": "stream",
     "text": [
      "Testing combinations: 100%|██████████| 500/500 [1:04:39<00:00,  7.76s/it]"
     ]
    },
    {
     "name": "stdout",
     "output_type": "stream",
     "text": [
      "\n",
      "Top 5 Parameter Combinations:\n",
      "Pop Size | Mut Prob | Init Pop  | Avg Gens | CV Gens | Success % | Avg Time | Max Time | Consistency\n",
      "--------------------------------------------------------------------------------------------------------------\n",
      "  250    |   0.30   | Neighbors |  227.1   |  0.42   |   90.0  % |   2.57  s |   4.62  s |   0.246   \n",
      "  250    |   0.15   | Neighbors |  142.2   |  0.54   |  100.0  % |   1.59  s |   3.11  s |   0.247   \n",
      "  250    |   0.30   |  Random   |  263.3   |  0.51   |  100.0  % |   3.00  s |   6.49  s |   0.270   \n",
      "   20    |   0.01   |  Random   |   20.0   |  0.00   |   10.0  % |   0.02  s |   0.02  s |   0.270   \n",
      "   20    |   0.03   |  Random   |  165.0   |  0.00   |   10.0  % |   0.15  s |   0.15  s |   0.271   \n",
      "\n",
      "Recommended Parameters:\n",
      "Population Size: 250\n",
      "Mutation Probability: 0.3\n",
      "Initial Population: Neighbors\n",
      "Expected Performance:\n",
      "- Success Rate: 90.0%\n",
      "- Average Generations: 227.1\n",
      "- Coefficient of Variation: 0.42\n",
      "- Average Time: 2.57s\n",
      "- Maximum Time: 4.62s\n"
     ]
    },
    {
     "name": "stderr",
     "output_type": "stream",
     "text": [
      "\n"
     ]
    }
   ],
   "source": [
    "# Optimisation\n",
    "\n",
    "import numpy as np\n",
    "from tqdm import tqdm\n",
    "import time\n",
    "from dataclasses import dataclass\n",
    "\n",
    "@dataclass\n",
    "class OptimizationResult:\n",
    "    pop_size: int\n",
    "    mut_prob: float\n",
    "    generations: int\n",
    "    time_taken: float\n",
    "    initial_population: str\n",
    "\n",
    "def test_parameters(params) -> OptimizationResult:\n",
    "    \"\"\"Run GA with given parameters and return generations needed to find solution\"\"\"\n",
    "    board_size, pop_size, mut_prob, init_pop = params\n",
    "    start_time = time.time()\n",
    "    \n",
    "    ga = GeneticAlgorithm(\n",
    "        board_size=board_size,\n",
    "        population_size=pop_size,\n",
    "        mutation_probability=mut_prob,\n",
    "        initial_population=init_pop  # Pass initial_population to the GeneticAlgorithm\n",
    "    )\n",
    "    \n",
    "    fitness_history, generations = ga.run()\n",
    "    time_taken = time.time() - start_time\n",
    "    \n",
    "    return OptimizationResult(pop_size, mut_prob, generations, time_taken, init_pop)\n",
    "\n",
    "\n",
    "def optimize_parameters(board_size=8, trials=10):  # Increased default trials\n",
    "    \"\"\"Test different parameter combinations prioritizing consistent performance\"\"\"\n",
    "    # Expanded parameter ranges\n",
    "    population_sizes = [20, 50, 100, 250, 500]\n",
    "    mutation_probs = [0.01, 0.03, 0.8, 0.15, 0.3]\n",
    "    initial_populations = ['Random', 'Neighbors']\n",
    "    \n",
    "    results = []\n",
    "    \n",
    "    # Create parameter combinations\n",
    "    params = [(board_size, pop, mut, init_pop) \n",
    "             for pop in population_sizes \n",
    "             for mut in mutation_probs \n",
    "             for init_pop in initial_populations]\n",
    "    \n",
    "    # Run trials with progress bar\n",
    "    total_combinations = len(params) * trials\n",
    "    with tqdm(total=total_combinations, desc=\"Testing combinations\") as pbar:\n",
    "        for _ in range(trials):\n",
    "            for param_set in params:\n",
    "                result = test_parameters(param_set)\n",
    "                results.append(result)\n",
    "                pbar.update(1)\n",
    "    \n",
    "    # Process results\n",
    "    performance = {}\n",
    "    for result in results:\n",
    "        key = (result.pop_size, result.mut_prob, result.initial_population)\n",
    "        if key not in performance:\n",
    "            performance[key] = {'gens': [], 'times': []}\n",
    "        performance[key]['gens'].append(result.generations)\n",
    "        performance[key]['times'].append(result.time_taken)\n",
    "    \n",
    "    # Calculate performance metrics with emphasis on consistency\n",
    "    avg_performance = {}\n",
    "    for k, v in performance.items():\n",
    "        gen_array = np.array(v['gens'])\n",
    "        time_array = np.array(v['times'])\n",
    "        success_mask = gen_array < 1000\n",
    "        \n",
    "        if sum(success_mask) > 0:  # Only consider combinations with some successes\n",
    "            successful_gens = gen_array[success_mask]\n",
    "            successful_times = time_array[success_mask]\n",
    "            \n",
    "            # Calculate metrics\n",
    "            success_rate = sum(success_mask) / len(gen_array)\n",
    "            avg_gens = np.mean(successful_gens)\n",
    "            std_gens = np.std(successful_gens)\n",
    "            cv_gens = std_gens / avg_gens if avg_gens > 0 else float('inf')  # Coefficient of variation\n",
    "            avg_time = np.mean(successful_times)\n",
    "            max_time = np.max(successful_times)\n",
    "            \n",
    "            # Consistency score (lower is better)\n",
    "            consistency_score = (cv_gens * 0.4 +                     # Weight variation heavily\n",
    "                               (1 - success_rate) * 0.3 +            # Weight success rate\n",
    "                               (max_time / 30) * 0.3)                # Penalize any runs over 30s\n",
    "            \n",
    "            avg_performance[k] = {\n",
    "                'avg_gens': avg_gens,\n",
    "                'std_gens': std_gens,\n",
    "                'cv_gens': cv_gens,\n",
    "                'success_rate': success_rate,\n",
    "                'avg_time': avg_time,\n",
    "                'max_time': max_time,\n",
    "                'consistency_score': consistency_score\n",
    "            }\n",
    "    \n",
    "    # Sort by consistency score (lower is better)\n",
    "    sorted_params = sorted(avg_performance.items(), \n",
    "                         key=lambda x: x[1]['consistency_score'])\n",
    "    \n",
    "    return sorted_params\n",
    "\n",
    "# Run optimization\n",
    "print(\"Optimizing parameters...\")\n",
    "best_params = optimize_parameters(trials=10)  # Increased trials for better statistics\n",
    "\n",
    "print(\"\\nTop 5 Parameter Combinations:\")\n",
    "print(\"Pop Size | Mut Prob | Init Pop  | Avg Gens | CV Gens | Success % | Avg Time | Max Time | Consistency\")\n",
    "print(\"-\" * 110)\n",
    "for (pop_size, mut_prob, init_pop), metrics in best_params[:5]:\n",
    "    print(f\"{pop_size:^8d} | {mut_prob:^8.2f} | {init_pop:^9} | {metrics['avg_gens']:^8.1f} | \"\n",
    "          f\"{metrics['cv_gens']:^7.2f} | {metrics['success_rate']*100:^8.1f}% | \"\n",
    "          f\"{metrics['avg_time']:^8.2f}s | {metrics['max_time']:^8.2f}s | \"\n",
    "          f\"{metrics['consistency_score']:^10.3f}\")\n",
    "\n",
    "# Print detailed recommendation\n",
    "best_pop, best_mut, best_init_pop = best_params[0][0]\n",
    "best_metrics = best_params[0][1]\n",
    "print(\"\\nRecommended Parameters:\")\n",
    "print(f\"Population Size: {best_pop}\")\n",
    "print(f\"Mutation Probability: {best_mut}\")\n",
    "print(f\"Initial Population: {best_init_pop}\")\n",
    "print(f\"Expected Performance:\")\n",
    "print(f\"- Success Rate: {best_metrics['success_rate']*100:.1f}%\")\n",
    "print(f\"- Average Generations: {best_metrics['avg_gens']:.1f}\")\n",
    "print(f\"- Coefficient of Variation: {best_metrics['cv_gens']:.2f}\")\n",
    "print(f\"- Average Time: {best_metrics['avg_time']:.2f}s\")\n",
    "print(f\"- Maximum Time: {best_metrics['max_time']:.2f}s\")\n"
   ]
  },
  {
   "cell_type": "code",
   "execution_count": null,
   "metadata": {},
   "outputs": [],
   "source": []
  },
  {
   "cell_type": "code",
   "execution_count": null,
   "metadata": {},
   "outputs": [],
   "source": [
    "# Extended Work\n",
    "\n",
    "# Add elitism - keep the best individual from the current generation\n",
    "# next_generation.extend([EightQueensState(self.board_size, individual['state']) for individual in population_data[:self.elitism_size]])\n"
   ]
  },
  {
   "cell_type": "code",
   "execution_count": 5,
   "metadata": {},
   "outputs": [
    {
     "name": "stdout",
     "output_type": "stream",
     "text": [
      "Testing parameter combinations...\n",
      "Pop Size: 50, Mut Prob: 0.10\n",
      "Avg Generations: 1068.2\n",
      "Avg Time: 2.05s\n",
      "----------------------------------------\n",
      "Pop Size: 50, Mut Prob: 0.15\n",
      "Avg Generations: 715.6\n",
      "Avg Time: 1.38s\n",
      "----------------------------------------\n",
      "Pop Size: 50, Mut Prob: 0.20\n",
      "Avg Generations: 537.2\n",
      "Avg Time: 1.05s\n",
      "----------------------------------------\n",
      "Pop Size: 100, Mut Prob: 0.10\n",
      "Avg Generations: 254.0\n",
      "Avg Time: 1.01s\n",
      "----------------------------------------\n",
      "Pop Size: 100, Mut Prob: 0.15\n",
      "Avg Generations: 432.2\n",
      "Avg Time: 1.73s\n",
      "----------------------------------------\n",
      "Pop Size: 100, Mut Prob: 0.20\n",
      "Avg Generations: 323.2\n",
      "Avg Time: 1.28s\n",
      "----------------------------------------\n",
      "Pop Size: 250, Mut Prob: 0.10\n",
      "Avg Generations: 255.6\n",
      "Avg Time: 2.81s\n",
      "----------------------------------------\n",
      "Pop Size: 250, Mut Prob: 0.15\n",
      "Avg Generations: 87.6\n",
      "Avg Time: 0.97s\n",
      "----------------------------------------\n",
      "Pop Size: 250, Mut Prob: 0.20\n",
      "Avg Generations: 229.8\n",
      "Avg Time: 2.55s\n",
      "----------------------------------------\n",
      "\n",
      "Recommended Parameters:\n",
      "Population Size: 250\n",
      "Mutation Probability: 0.15\n",
      "\n",
      "Expected Performance:\n",
      "Average Generations: 87.6\n",
      "Average Time: 0.97s\n",
      "Maximum Time: 2.17s\n"
     ]
    }
   ],
   "source": [
    "# Simpler optimisation \n",
    "\n",
    "\n",
    "def test_parameters(board_size, population_size, mutation_probability):\n",
    "\n",
    "    start_time = time.time()\n",
    "    \n",
    "    ga = GeneticAlgorithm(\n",
    "        board_size=board_size,\n",
    "        population_size=population_size,\n",
    "        mutation_probability=mutation_probability\n",
    "    )\n",
    "    \n",
    "    _, generations = ga.run()\n",
    "    time_taken = time.time() - start_time\n",
    "    \n",
    "    return OptimizationResult(pop_size, mut_prob, generations, time_taken)\n",
    "\n",
    "def optimize_parameters(board_size=8, trials=5):\n",
    "    \"\"\"Find best parameters through simple grid search\"\"\"\n",
    "    # Simple parameter ranges\n",
    "    population_sizes = [50, 100, 250]\n",
    "    mutation_probs = [0.1, 0.15, 0.2]\n",
    "    \n",
    "    best_avg_generations = float('inf')\n",
    "    best_params = None\n",
    "    best_performance = None\n",
    "    \n",
    "    print(\"Testing parameter combinations...\")\n",
    "    \n",
    "    # Test each combination\n",
    "    for pop_size in population_sizes:\n",
    "        for mut_prob in mutation_probs:\n",
    "            generations_list = []\n",
    "            times_list = []\n",
    "            \n",
    "            # Run multiple trials\n",
    "            for _ in range(trials):\n",
    "                result = test_parameters(board_size, pop_size, mut_prob)\n",
    "                generations_list.append(result.generations)\n",
    "                times_list.append(result.time_taken)\n",
    "            \n",
    "            # Calculate averages\n",
    "            avg_generations = np.mean(generations_list)\n",
    "            avg_time = np.mean(times_list)\n",
    "            max_time = max(times_list)\n",
    "            \n",
    "            # Update best if better found\n",
    "            if avg_generations < best_avg_generations:\n",
    "                best_avg_generations = avg_generations\n",
    "                best_params = (pop_size, mut_prob)\n",
    "                best_performance = {\n",
    "                    'avg_generations': avg_generations,\n",
    "                    'avg_time': avg_time,\n",
    "                    'max_time': max_time\n",
    "                }\n",
    "            \n",
    "            print(f\"Pop Size: {pop_size}, Mut Prob: {mut_prob:.2f}\")\n",
    "            print(f\"Avg Generations: {avg_generations:.1f}\")\n",
    "            print(f\"Avg Time: {avg_time:.2f}s\")\n",
    "            print(\"-\" * 40)\n",
    "    \n",
    "    # Print final recommendation\n",
    "    print(\"\\nRecommended Parameters:\")\n",
    "    print(f\"Population Size: {best_params[0]}\")\n",
    "    print(f\"Mutation Probability: {best_params[1]}\")\n",
    "    print(f\"\\nExpected Performance:\")\n",
    "    print(f\"Average Generations: {best_performance['avg_generations']:.1f}\")\n",
    "    print(f\"Average Time: {best_performance['avg_time']:.2f}s\")\n",
    "    print(f\"Maximum Time: {best_performance['max_time']:.2f}s\")\n",
    "    \n",
    "    return best_params\n",
    "\n",
    "# Run optimization\n",
    "best_params = optimize_parameters()"
   ]
  },
  {
   "cell_type": "code",
   "execution_count": null,
   "metadata": {},
   "outputs": [],
   "source": []
  }
 ],
 "metadata": {
  "kernelspec": {
   "display_name": "roetechnologies-uN_he8dw-py3.12",
   "language": "python",
   "name": "python3"
  },
  "language_info": {
   "codemirror_mode": {
    "name": "ipython",
    "version": 3
   },
   "file_extension": ".py",
   "mimetype": "text/x-python",
   "name": "python",
   "nbconvert_exporter": "python",
   "pygments_lexer": "ipython3",
   "version": "3.12.5"
  }
 },
 "nbformat": 4,
 "nbformat_minor": 2
}
