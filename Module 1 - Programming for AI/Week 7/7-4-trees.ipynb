{
 "cells": [
  {
   "cell_type": "markdown",
   "metadata": {},
   "source": [
    "## 7.4 – Trees\n",
    "### Binary Trees\n",
    "As discussed, it's time to use our understanding of data structures in Python to build something new, a tree.\n",
    "\n",
    "Just as a linked list is built of node objects which reference each other, we can do the same for a tree. For a *generic tree* where each parent can have any number of children, it would be easy enough to make a node class which contains the value of the node, and then a list of children (array list or linked list, depending on application). \n",
    "\n",
    "If the tree is going to be restricted to a certain number of children, by far the most common is the *binary* tree, where each node can have at most two. This is nice because we can just use two references in our node class:"
   ]
  },
  {
   "cell_type": "code",
   "execution_count": 1,
   "metadata": {},
   "outputs": [],
   "source": [
    "class BinaryTreeNode:\n",
    "    def __init__(self, value, left=None, right=None):\n",
    "        self.value = value\n",
    "        self.left = left\n",
    "        self.right = right\n",
    "        \n",
    "    def __str__(self):\n",
    "        return str(self.value)"
   ]
  },
  {
   "cell_type": "markdown",
   "metadata": {},
   "source": [
    "Hopefully this looks straightforward enough and you can see how node objects can be built recursively to create a binary tree of any depth.\n",
    "\n",
    "Like the *head* of a linked list, we refer to the top node in a tree as the *root*.\n",
    "\n",
    "#### Binary Search Trees\n",
    "The binary tree can be used in many more advanced data structures, and we are going to focus on one of them: the binary search tree (BST). This is a binary tree where there is an *ordering* defined between a node and the value of its children on either side. For each node called `node`:\n",
    "* `node.left.value < node.value`\n",
    "* `node.right.value >= node.value`\n",
    "\n",
    "Here is an example of a binary search tree where the values maintain the ordering:\n",
    "\n",
    "<img src=\"./resources/binary_search_tree.svg\" width=300 />\n",
    "\n",
    "So for example take the root note: its value is 8. The value of the node on the left is 3 which is less than 8. The value on the right is 10 which is greater than 8.\n",
    "\n",
    "To add a new node into this tree we must start at the root and then traverse the hierarchy to find the right place. Let's explain by doing: there is a Python implementation below."
   ]
  },
  {
   "cell_type": "code",
   "execution_count": 2,
   "metadata": {},
   "outputs": [],
   "source": [
    "class BinarySearchTree:\n",
    "    def __init__(self):\n",
    "        self.root = None\n",
    "\n",
    "    def add(self, value):\n",
    "        if self.root is None:\n",
    "            self.root = BinaryTreeNode(value)\n",
    "        else:\n",
    "            ptr = self.root\n",
    "            while True:\n",
    "                if value < ptr.value:\n",
    "                    if ptr.left is None:\n",
    "                        ptr.left = BinaryTreeNode(value)\n",
    "                        break\n",
    "                    else:\n",
    "                        ptr = ptr.left\n",
    "                else:\n",
    "                    if ptr.right is None:\n",
    "                        ptr.right = BinaryTreeNode(value)\n",
    "                        break\n",
    "                    else:\n",
    "                        ptr = ptr.right"
   ]
  },
  {
   "cell_type": "markdown",
   "metadata": {},
   "source": [
    "The code to iteratively add an element to the binary search tree is a bit messy – notice for ease we are using a `while True` loop which we later use `break` to escape from. It's a pattern I try to avoid when I can but in this case it does the job.\n",
    "\n",
    "An alternative would be to include the `.add(…)` method inside the node class, and make it recursive, which ends up looking [slightly neater](./resources/bstn.py). But I wanted to stick with the same pattern we've been using this week, where the `struct`-like syntax is used for the nodes and the main data structure class does all the wrangling.\n",
    "\n",
    "Notice I haven't included any test code. It's actually quite a pain to check whether this is working because it's hard to inspect the entire tree structure – this would be easier in a debugger. One option is to construct a specific tree. The code below should construct the exact same tree in the image above. But this is not as simple as just using the same numbers: we must insert them into the tree in a certain order too. Hopefully this is obvious: the first value becomes the root, no matter what it is, so we must start with 8."
   ]
  },
  {
   "cell_type": "code",
   "execution_count": 3,
   "metadata": {},
   "outputs": [
    {
     "name": "stdout",
     "output_type": "stream",
     "text": [
      "7\n"
     ]
    }
   ],
   "source": [
    "bst = BinarySearchTree()\n",
    "bst.add(8)\n",
    "bst.add(3)\n",
    "bst.add(1)\n",
    "bst.add(10)\n",
    "bst.add(6)\n",
    "bst.add(14)\n",
    "bst.add(4)\n",
    "bst.add(7)\n",
    "bst.add(13)\n",
    "\n",
    "# expect to get 7\n",
    "print(bst.root.left.right.right)"
   ]
  },
  {
   "cell_type": "markdown",
   "metadata": {},
   "source": [
    "Checking individual items based on our visual representation is *okay*, but we will have more overall confidence that the tree is working if we move onto actually *using* it.\n",
    "\n",
    "#### Binary *Search* Trees\n",
    "Why is it called a binary search tree? Because the structure makes it extremely easy to perform a binary search!"
   ]
  },
  {
   "cell_type": "code",
   "execution_count": 4,
   "metadata": {},
   "outputs": [
    {
     "name": "stdout",
     "output_type": "stream",
     "text": [
      "True\n",
      "False\n"
     ]
    }
   ],
   "source": [
    "class BinarySearchTree:\n",
    "    def __init__(self):\n",
    "        self.root = None\n",
    "\n",
    "    def add(self, value):\n",
    "        if self.root is None:\n",
    "            self.root = BinaryTreeNode(value)\n",
    "        else:\n",
    "            ptr = self.root\n",
    "            while True:\n",
    "                if value < ptr.value:\n",
    "                    if ptr.left is None:\n",
    "                        ptr.left = BinaryTreeNode(value)\n",
    "                        break\n",
    "                    else:\n",
    "                        ptr = ptr.left\n",
    "                else:\n",
    "                    if ptr.right is None:\n",
    "                        ptr.right = BinaryTreeNode(value)\n",
    "                        break\n",
    "                    else:\n",
    "                        ptr = ptr.right\n",
    "                        \n",
    "    def contains(self, target):\n",
    "        if self.root is None:\n",
    "            return False\n",
    "        \n",
    "        ptr = self.root\n",
    "        while True:\n",
    "            if target == ptr.value:\n",
    "                return True\n",
    "        \n",
    "            if target < ptr.value:\n",
    "                if ptr.left is None:\n",
    "                    return False\n",
    "                else:\n",
    "                    ptr = ptr.left\n",
    "            else:\n",
    "                if ptr.right is None:\n",
    "                    return False\n",
    "                else:\n",
    "                    ptr = ptr.right\n",
    "                    \n",
    "                    \n",
    "bst = BinarySearchTree()\n",
    "bst.add(8)\n",
    "bst.add(3)\n",
    "bst.add(1)\n",
    "bst.add(10)\n",
    "bst.add(6)\n",
    "bst.add(14)\n",
    "bst.add(4)\n",
    "bst.add(7)\n",
    "bst.add(13)\n",
    "\n",
    "# expect True\n",
    "print(bst.contains(7))\n",
    "\n",
    "# expect False\n",
    "print(bst.contains(9))"
   ]
  },
  {
   "cell_type": "markdown",
   "metadata": {},
   "source": [
    "So the binary search tree structure allows us to store items and ensure $O(\\log(n))$ retrieval. Not as good as the hash set, but the tree structure itself uses less memory.\n",
    "\n",
    "Hopefully you can already start to think of modifications to make this useful in various situations. The `value` of each node does not need to only be integers, it could be arbitrary objects, provided they support `==` and `<` (or we could allow the user to provide a `key` function to define their value). Now notice that we might have objects in the tree that we want to retrieve based on a single value: e.g. a user's ID number. Rather than just returning `True` and `False` (membership), we could return the object itself. Hence we have an efficient way of searching for a user by their ID number to retrieve the rest of their details, for example.\n",
    "\n",
    "If we use a list to store the objects we would need to ensure the list was always sorted to enable binary search. Effectively, we'd need to perform a single round of insertion sort every time we added an item into the list, which would be $O(n)$. Using the binary search tree we can expect average $O(\\log(n))$ performance – adding an item is the same logic as performing a binary search.\n",
    "\n",
    "#### Tree Traversal\n",
    "Suppose we want to get the entire tree's contents, one item at a time. We can actually do this in various ways, it is called *tree traversal*. \n",
    "\n",
    "For the binary *search* tree, there is one specific traversal order that is particularly useful, it is called *in-order* traversal, and is also known by the initialism LNR – left, node, right. This is the order you should perform for each node: first check any nodes to the left recursively, then check the node itself, then check the nodes to the right recursively.\n",
    "\n",
    "The meaning of “check” depends on application. It's common to demonstrate this traversal by calling `print` at each stage. Suppose we applied this to the example tree from before. Remember, at *each* node think: “left, print node, right”. Starting at the root, we go left, but then we get to a new node so we go left again. The first node to print will be the 1, because it cannot go any further left.\n",
    "\n",
    "Have a look at the animation below:\n",
    "\n",
    "<br /><video controls loop autoplay width=400 src=\"./resources/in_order.mp4\">\n",
    "</video>\n",
    "\n",
    "Traversing a binary search tree *in-order* results in *sorted* order of elements.\n",
    "\n",
    "As we know, we should avoid using `print` within a data structure – maybe the caller wants to convert the tree into a list instead? Some people include a function as a parameter which is applied to each node value – this supports `print` fine but can be a bit messy for other applications. \n",
    "\n",
    "Thankfully, Python's generator syntax with `yield` works beautifully here. We can use `yield from` to yield recursively – so in other words, the recursive call creates a generator, and the top level generator knows to yield each element from the recursive generator:"
   ]
  },
  {
   "cell_type": "code",
   "execution_count": 5,
   "metadata": {},
   "outputs": [
    {
     "name": "stdout",
     "output_type": "stream",
     "text": [
      "[1, 3, 4, 6, 7, 8, 10, 13, 14]\n"
     ]
    }
   ],
   "source": [
    "class BinarySearchTree:\n",
    "    def __init__(self):\n",
    "        self.root = None\n",
    "\n",
    "    def add(self, value):\n",
    "        if self.root is None:\n",
    "            self.root = BinaryTreeNode(value)\n",
    "        else:\n",
    "            ptr = self.root\n",
    "            while True:\n",
    "                if value < ptr.value:\n",
    "                    if ptr.left is None:\n",
    "                        ptr.left = BinaryTreeNode(value)\n",
    "                        break\n",
    "                    else:\n",
    "                        ptr = ptr.left\n",
    "                else:\n",
    "                    if ptr.right is None:\n",
    "                        ptr.right = BinaryTreeNode(value)\n",
    "                        break\n",
    "                    else:\n",
    "                        ptr = ptr.right\n",
    "                        \n",
    "    def contains(self, target):\n",
    "        if self.root is None:\n",
    "            return False\n",
    "        \n",
    "        ptr = self.root\n",
    "        while True:\n",
    "            if target == ptr.value:\n",
    "                return True\n",
    "        \n",
    "            if target < ptr.value:\n",
    "                if ptr.left is None:\n",
    "                    return False\n",
    "                else:\n",
    "                    ptr = ptr.left\n",
    "            else:\n",
    "                if ptr.right is None:\n",
    "                    return False\n",
    "                else:\n",
    "                    ptr = ptr.right\n",
    "                    \n",
    "    def in_order(self):\n",
    "        def traverse(node):\n",
    "            if node.left is not None:\n",
    "                yield from traverse(node.left)\n",
    "            yield node.value\n",
    "            if node.right is not None:\n",
    "                yield from traverse(node.right)\n",
    "\n",
    "        return traverse(self.root)\n",
    "                    \n",
    "                    \n",
    "bst = BinarySearchTree()\n",
    "bst.add(8)\n",
    "bst.add(3)\n",
    "bst.add(1)\n",
    "bst.add(10)\n",
    "bst.add(6)\n",
    "bst.add(14)\n",
    "bst.add(4)\n",
    "bst.add(7)\n",
    "bst.add(13)\n",
    "\n",
    "print(list(bst.in_order()))"
   ]
  },
  {
   "cell_type": "markdown",
   "metadata": {},
   "source": [
    "#### Tree Sort\n",
    "If we have a collection of $n$ items to sort, then on average we'd expect each addition to the tree to be $O(\\log(n))$, meaning building the full tree is $O(n \\log(n))$. Traversing the tree is just $O(n)$, and since we ignore the lower growth terms in a sum (consecutive actions), building a binary search tree is actually a viable $O(n \\log(n))$ sorting algorithm. It is on average a very effective way of *keeping* a sorted structure, because each addition is just $O(\\log(n))$ rather than the $O(n)$ you'd expect if you tried to keep a list sorted with insertion sort.\n",
    "\n",
    "Binary search trees are not foolproof, the construction order can make a big difference. If we construct a binary search tree from an already sorted list, we actually get a linked list as a result! So the worst case performance degrades to $O(n^2)$. There are ways of creating [self-balancing binary search trees](https://en.wikipedia.org/wiki/Self-balancing_binary_search_tree) to try to avoid this.\n",
    "\n",
    "#### Traversal\n",
    "In-order traversal for sorting is the most useful method for traversing a binary search tree. But for other binary trees, pre-order (NLR) or post-order (LRN) can be useful. You can read more online, [such as this article](https://en.wikipedia.org/wiki/Tree_traversal), and you will see another application in this week's exercise sheet.\n",
    "\n",
    "## What Next?\n",
    "Trees and graphs are useful in lots of situations, including AI. For example: if you are trying to write an AI that plays a game like [noughts and crosses](https://en.wikipedia.org/wiki/Tic-tac-toe), you can search an implicit tree containing all of the possible moves to [work out which one is optimal](https://en.wikipedia.org/wiki/Minimax). Python doesn't have any built in structures to build trees for you, but now you can see how easy it is to build them yourself.\n",
    "\n",
    "Once you are done with this material, head back to Engage to move onto the wrap up and the aforementioned exercise sheet."
   ]
  },
  {
   "cell_type": "code",
   "execution_count": null,
   "metadata": {},
   "outputs": [],
   "source": []
  }
 ],
 "metadata": {
  "kernelspec": {
   "display_name": "Python 3 (ipykernel)",
   "language": "python",
   "name": "python3"
  },
  "language_info": {
   "codemirror_mode": {
    "name": "ipython",
    "version": 3
   },
   "file_extension": ".py",
   "mimetype": "text/x-python",
   "name": "python",
   "nbconvert_exporter": "python",
   "pygments_lexer": "ipython3",
   "version": "3.11.4"
  }
 },
 "nbformat": 4,
 "nbformat_minor": 4
}
