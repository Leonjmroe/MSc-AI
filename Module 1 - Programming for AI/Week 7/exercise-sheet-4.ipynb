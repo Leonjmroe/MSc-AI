{
 "cells": [
  {
   "cell_type": "markdown",
   "metadata": {
    "deletable": false,
    "editable": false,
    "nbgrader": {
     "cell_type": "markdown",
     "checksum": "7f0bf7e32e1f6373bb710eaa28eeacb1",
     "grade": false,
     "grade_id": "cell-a6519a841f786e2d",
     "locked": true,
     "schema_version": 3,
     "solution": false,
     "task": false
    }
   },
   "source": [
    "# Exercise Sheet 4\n",
    "## Instructions\n",
    "The instructions for this exercise sheet are the same as the previous, so this section is just a summary to serve as a reminder. Refer to the material on Engage and at the start of Exercise Sheet 1 for more detail, and if you are unsure ask on the Q&A forum.\n",
    "\n",
    "This exercise sheet counts towards your overall grade for the unit.\n",
    "\n",
    "Complete each question in the code cell provided, which will usually contain some skeleton code to help you start the question. Unless specified otherwise you may change the skeleton code as you wish, but your code must pass the formatting tests in the following code cell – if the cell runs without errors then your code is eligible for submission. However these will only test the basics of the question. Your code will be subject to additional hidden tests which will determine your grade. Make sure you thoroughly test your own code to check you think it works correctly before submission."
   ]
  },
  {
   "cell_type": "markdown",
   "metadata": {
    "deletable": false,
    "editable": false,
    "nbgrader": {
     "cell_type": "markdown",
     "checksum": "6ccaf3a459d55b8fb0613363ee7eae97",
     "grade": false,
     "grade_id": "cell-977379912bc8b496",
     "locked": true,
     "schema_version": 3,
     "solution": false,
     "task": false
    }
   },
   "source": [
    "## Questions\n",
    "### Question 1 & 2\n",
    "*(worth 25% each)*\n",
    "\n",
    "In the cell below, implement \n",
    "1. the *bubble sort* and \n",
    "2. the *merge sort* algorithms.\n",
    "\n",
    "Unlike the examples in the unit material, please make your functions *return new sorted versions* of the input lists, *without* modifying the input lists. In other words, do not worry about making your algorithms in-place.\n",
    "\n",
    "If you find it easier to think about modifying the list in-place (more likely with bubble sort than merge sort), you can always write `new_list = in_list.copy()` on the first line, sort `new_list` in place, then return `new_list`.\n",
    "\n",
    "#### Bubble Sort\n",
    "Bubble sort works by iterating over the list, comparing adjacent items, and swapping them if they are out of order. \n",
    "\n",
    "Notice that after the first pass of a bubble sort, the biggest item is always moved to the end of the list. This means the next iteration does not need to check the final position of the list. \n",
    "\n",
    "In addition, you can keep track of how many items were swapped on each iteration. If this count is zero on any iteration, then the list must be fully sorted, in which case the algorithm can stop early.\n",
    "\n",
    "#### Merge Sort\n",
    "To understand merge sort, let's first understand the *merge* operation. The merge operation takes two *sorted* lists and combines them into another sorted list. Imagine we are merging `list1` and `list2`, both of which are sorted. Create two variables, one pointing to the first element (zero) of each list, call this `ptr1` and `ptr2`.\n",
    "\n",
    "Then, go through each index of the merged list (e.g. `i in range(0, len(list1)+len(list2))`). Set position `i` of the merged list to the *smaller* value of `list1[ptr1]` and `list2[ptr2]`, then advance the corresponding pointer by one.\n",
    "\n",
    "So initially you will compare the first element of each list, if the value in `list1` is smaller then copy this into the merged list, and then compare the second item of `list1` with the first item of `list2`.\n",
    "\n",
    "Keep going until one pointer goes beyond its list – at this point, copy the rest of the other list into the merged list.\n",
    "\n",
    "Have a look at an example of the merge operation below:\n",
    "\n",
    "<br /><video controls loop autoplay width=600 src=\"./resources/merge.mp4\">\n",
    "</video>\n",
    "\n",
    "Now, to understand *merge sort*, realise that any list of size 1 must be considered sorted. So, here is the process for the input list:\n",
    "* If `in_list` is length 1, return `in_list`\n",
    "* Otherwise, split `in_list` list into two halves: `left` and `right`\n",
    "* Merge sort `left`\n",
    "* Merge sort `right`\n",
    "* Merge `left` and `right` into `merged`\n",
    "* Return `merged`\n",
    "\n",
    "For any size input list, this will be recursively split into two until both halves are length 1, and then the final sorted list will be rebuilt by merging sorted lists."
   ]
  },
  {
   "cell_type": "code",
   "execution_count": 281,
   "metadata": {
    "deletable": false,
    "nbgrader": {
     "cell_type": "code",
     "checksum": "9b31a12a8b14c26ad8ab81aa9e655d89",
     "grade": false,
     "grade_id": "cell-ffd4978cfbf4832e",
     "locked": false,
     "schema_version": 3,
     "solution": true,
     "task": false
    }
   },
   "outputs": [],
   "source": [
    "def bubble_sort(in_list):\n",
    "    new_list = in_list.copy()\n",
    "    swap_count = 0\n",
    "    for i in range(len(new_list) - 1):\n",
    "        for idx in range((len(new_list) - 1) - i):\n",
    "            if idx != (len(new_list) - 1):\n",
    "                if new_list[idx] > new_list[idx + 1]:\n",
    "                    new_list[idx], new_list[idx + 1] = new_list[idx + 1], new_list[idx]\n",
    "                    swap_count += 1\n",
    "        if i == 0 and swap_count == 0:\n",
    "            break\n",
    "    return new_list \n",
    "\n",
    "def merging_logic(left, right):\n",
    "    output = []\n",
    "    index_left =0\n",
    "    index_right = 0\n",
    "    while len(output) < len(left) + len(right):\n",
    "        if index_left == len(left): \n",
    "            output += right[index_right:] \n",
    "            break\n",
    "        elif index_right == len(right): \n",
    "            output += left[index_left:]\n",
    "            break\n",
    "        if left[index_left] < right[index_right]:\n",
    "            output.append(left[index_left])\n",
    "            index_left += 1\n",
    "        else:\n",
    "            output.append(right[index_right])\n",
    "            index_right += 1\n",
    "    return output\n",
    "    \n",
    "def merge_sort(input_list):\n",
    "    new_list = input_list.copy()\n",
    "    if len(new_list) <= 1:  \n",
    "        return new_list\n",
    "    mid_point = len(new_list) // 2\n",
    "    left_half = new_list[:mid_point]\n",
    "    right_half = new_list[mid_point:]\n",
    "    left_sorted = merge_sort(left_half)  \n",
    "    right_sorted = merge_sort(right_half) \n",
    "    return merging_logic(left_sorted, right_sorted)"
   ]
  },
  {
   "cell_type": "code",
   "execution_count": 282,
   "metadata": {
    "deletable": false,
    "editable": false,
    "nbgrader": {
     "cell_type": "code",
     "checksum": "857ad053ac9fe13e8ece351b58028ce0",
     "grade": true,
     "grade_id": "cell-e322586715be1ec0",
     "locked": true,
     "points": 50,
     "schema_version": 3,
     "solution": false,
     "task": false
    }
   },
   "outputs": [],
   "source": [
    "# Note that your code will be checked to ensure you are implementing the correct algorithms!\n",
    "assert(bubble_sort([37, 42, 9, 19, 35, 4, 53, 22]) == [4, 9, 19, 22, 35, 37, 42, 53])\n",
    "assert(bubble_sort([5, 4, 3, 2, 1]) == [1, 2, 3, 4, 5])\n",
    "assert(bubble_sort([]) == [])\n",
    "\n",
    "assert(merge_sort([37, 42, 9, 19, 35, 4, 53, 22]) == [4, 9, 19, 22, 35, 37, 42, 53])\n",
    "assert(merge_sort([5, 4, 3, 2, 1]) == [1, 2, 3, 4, 5])\n",
    "assert(merge_sort([]) == [])"
   ]
  },
  {
   "cell_type": "markdown",
   "metadata": {
    "deletable": false,
    "editable": false,
    "nbgrader": {
     "cell_type": "markdown",
     "checksum": "9a9c5087bf395a8f6a189fb677bedfd2",
     "grade": false,
     "grade_id": "cell-96610bc0d820cae3",
     "locked": true,
     "schema_version": 3,
     "solution": false,
     "task": false
    }
   },
   "source": [
    "### Question 3\n",
    "*(worth 25%)*\n",
    "\n",
    "In the markdown cell below, in your own words, explain the time complexity, space complexity, and stability of bubble sort and merge sort – both as algorithms, and your specific implementations.\n",
    "\n",
    "Of course, these are well known algorithms, so we are aware you can look up the answers. The marks in this section are awarded for for explaining *why* these properties hold, in your own words. I encourage you to try to work them out yourself before you look up the answers, this might make explaining it easier."
   ]
  },
  {
   "cell_type": "markdown",
   "metadata": {
    "deletable": false,
    "nbgrader": {
     "cell_type": "markdown",
     "checksum": "11c8f946542e4e35300ac37cb859e0f8",
     "grade": true,
     "grade_id": "cell-c50e99cdef82c2d1",
     "locked": false,
     "points": 25,
     "schema_version": 3,
     "solution": true,
     "task": false
    }
   },
   "source": [
    "### The difference between bubble sort and merge sort algorithmms with respect to time complexity, space complexity and stability\n",
    "\n",
    "Bubble Sort operates by sequentially viewing each element in the array and its next counterpart, a method that is simple but becomes increasingly time-consuming as the list grows, leading to its O(n^2) time complexity. This inefficiency makes it impractical for large datasets because the time it takes to sort grows exponentially with the number of elements. However, one of its qualities is its space efficiency. Bubble Sort doesn't need extra space outside of the list; all the swapping occurs within the list itself, explaining its O(1) space complexity. Additionally, Bubble Sort maintains a stable environment; if you have two identical items, the one that appeared first stays ahead, preserving the original order.\n",
    "\n",
    "In contrast, Merge Sort adopts a more sophisticated approach. It continually splits the list into halves until they are small enough to manage, sorts each piece, and then merges them back together. This strategy is significantly faster for large lists, as the division into smaller problems reduces the sorting time, attributing to its O(n log n) time complexity. However, it requires extra space to hold the divided items before merging them back, equal to the list's size, leading to an O(n) space complexity. Despite using more space, Merge Sort is favorable for larger or more complex datasets because of its efficiency and stability. It also ensures that the original order of items is preserved, which is very important when dealing with more complex structures that rely on consistent ordering.\n",
    "\n",
    "To conclude, while Bubble Sort is a generally chosen sorting algorithm for its simplicity and minimal space requirements, it's not suited for large-scale applications due to its time inefficiency. On the other hand, Merge Sort, though requiring more space, is adept at handling larger, more complex sorting tasks due to its more favorable time complexity and its ability to maintain stability in the ordering of elements. These characteristics stem from the core structure and mechanics inherent in each algorithm, dictating their suitability for different data sets and applications."
   ]
  },
  {
   "cell_type": "markdown",
   "metadata": {
    "deletable": false,
    "editable": false,
    "nbgrader": {
     "cell_type": "markdown",
     "checksum": "1509ae48af1449ad4f46b904f3e8c3b2",
     "grade": false,
     "grade_id": "cell-649f404abcf54230",
     "locked": true,
     "schema_version": 3,
     "solution": false,
     "task": false
    }
   },
   "source": [
    "### Question 4\n",
    "*(worth 25%)*\n",
    "\n",
    "When we write simple arithmetic expressions, we use *infix notation*, the operator goes in the middle of the two arguments, such as `1 + 2`, or `5 - 3`.\n",
    "\n",
    "An alternative is to use *prefix notation*; here the same expressions would be written `+ 1 2` and `- 5 3`. This is also called *polish notation*.\n",
    "\n",
    "The reason this is useful is that it removes the need for parentheses in nested expressions. Suppose we want to multiply the two expressions. \n",
    "\n",
    "Using infix, we must use parentheses to ensure the operators are evaluated in the correct order: `(1 + 2) * (5 - 3)`.\n",
    "\n",
    "Using prefix, we can write: `* + 1 2 - 5 3`. So long as all the operators are binary (two arguments), no parentheses are needed, no matter how complex the expression.\n",
    "\n",
    "You can also build a *binary tree* to represent a nested expression unambiguously.\n",
    "\n",
    "<img src=\"./resources/mathstree.png\" width=400 />\n",
    "\n",
    "Notice if you traverse the tree in-order (LNR) you get infix notation (without parentheses). If you traverse the tree pre-order (NLR) you get prefix notation. If you traverse the tree post-order (LRN) then you get *postfix notation*, which is also called *reverse polish notation*, which is also unambiguous under the same conditions.\n",
    "\n",
    "In the cell below, write a function which takes a string containing a prefix notation mathematical expression, builds a binary tree, and then traverses it to produce an equivalent postfix notation expression.\n",
    "\n",
    "The input expression will be valid. It will only contain positive integers and the operators `+`, `-`, `/`, and `*`. Terms will always be separated by a single space.\n",
    "\n",
    "You are welcome to reuse the code from the unit material.\n",
    "\n",
    "Hint: start simple, use the tests below to help you structure your thinking."
   ]
  },
  {
   "cell_type": "code",
   "execution_count": 283,
   "metadata": {
    "deletable": false,
    "nbgrader": {
     "cell_type": "code",
     "checksum": "f0977904e7b2e7fe12c751b960fe6659",
     "grade": false,
     "grade_id": "cell-66f388f6c90d3698",
     "locked": false,
     "schema_version": 3,
     "solution": true,
     "task": false
    }
   },
   "outputs": [],
   "source": [
    "class BinaryTreeNode:\n",
    "    def __init__(self, value, left=None, right=None):\n",
    "        self.value = value\n",
    "        self.left = left\n",
    "        self.right = right\n",
    "        \n",
    "    def __str__(self):\n",
    "        return str(self.value)\n",
    "\n",
    "def create_tree(expression_list):\n",
    "    output = []\n",
    "    for i in reversed(expression_list):\n",
    "        if i in ['+', '-', '*', '/']:\n",
    "            node = BinaryTreeNode(i)\n",
    "            node.left = output.pop()  \n",
    "            node.right = output.pop()  \n",
    "            output.append(node)  \n",
    "        else:\n",
    "            output.append(BinaryTreeNode(i))\n",
    "    return output.pop()\n",
    "\n",
    "def traversal(node):\n",
    "    if node:\n",
    "        if node.left:\n",
    "            yield from traversal(node.left)\n",
    "        if node.right:\n",
    "            yield from traversal(node.right)\n",
    "        yield str(node.value)\n",
    "\n",
    "def prefix_to_postfix(expression):\n",
    "    if expression in [\"\", \" \"]:\n",
    "        return \"\"\n",
    "    if len(expression) == 1:\n",
    "        return expression\n",
    "    expression_list = expression.split()\n",
    "    output = create_tree(expression_list)\n",
    "    return ' '.join(traversal(output))"
   ]
  },
  {
   "cell_type": "code",
   "execution_count": 284,
   "metadata": {
    "deletable": false,
    "editable": false,
    "nbgrader": {
     "cell_type": "code",
     "checksum": "cc7cff8f9b023d7a7cd9a5143011dc95",
     "grade": true,
     "grade_id": "cell-0a52d49715d5f7f1",
     "locked": true,
     "points": 25,
     "schema_version": 3,
     "solution": false,
     "task": false
    }
   },
   "outputs": [],
   "source": [
    "assert(prefix_to_postfix(\"5\") == \"5\")\n",
    "assert(prefix_to_postfix(\"+ 10 20\") == \"10 20 +\")\n",
    "assert(prefix_to_postfix(\"* + 1 2 - 5 3\") == \"1 2 + 5 3 - *\")"
   ]
  },
  {
   "cell_type": "code",
   "execution_count": null,
   "metadata": {},
   "outputs": [],
   "source": []
  }
 ],
 "metadata": {
  "kernelspec": {
   "display_name": "Python 3 (ipykernel)",
   "language": "python",
   "name": "python3"
  },
  "language_info": {
   "codemirror_mode": {
    "name": "ipython",
    "version": 3
   },
   "file_extension": ".py",
   "mimetype": "text/x-python",
   "name": "python",
   "nbconvert_exporter": "python",
   "pygments_lexer": "ipython3",
   "version": "3.11.4"
  }
 },
 "nbformat": 4,
 "nbformat_minor": 4
}
