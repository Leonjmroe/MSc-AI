{
 "cells": [
  {
   "cell_type": "markdown",
   "metadata": {},
   "source": [
    "## 7.3 – Dictionaries\n",
    "### Hash Tables\n",
    "The *associative array* is the abstract data type that you will recognise from its Python implementation: the dictionary. This is also called a *hash table* or *hash map*. Lots of names for the same thing: a structure which maps arbitrary *keys* to *values*.\n",
    "\n",
    "In many units, this is where you would learn about the basic idea behind hash functions, how we can combine those with an array, how we run into collisions, and so on. But you've seen all that in the hash set!\n",
    "\n",
    "Suppose we're given a key-value pair. The hash set already gives us the structure for how to turn an arbitrary key into an index for an array. If you have a fixed number of items and can design your hash to be perfect and unique, you do not need to store the key at all, you can just store the value in this location in the array. \n",
    "\n",
    "But the hash table is usually designed to support later additions, meaning collisions are possible, meaning we need to store the key also. So the way we'll do this is to store *two* items in each location in the underlying array, the key and the value. We can do this using a tuple, or we could write a class which contained fields `.key` and `.value`. I like the aesthetic of the latter, and if you are doing this in another language you might not have tuples, only `struct`, so let's do it that way."
   ]
  },
  {
   "cell_type": "code",
   "execution_count": 1,
   "metadata": {},
   "outputs": [
    {
     "name": "stdout",
     "output_type": "stream",
     "text": [
      "2000\n",
      "9000\n"
     ]
    }
   ],
   "source": [
    "class HashTableCell:\n",
    "    def __init__(self, key, value):\n",
    "        self.key = key\n",
    "        self.value = value\n",
    "\n",
    "\n",
    "class HashTable:\n",
    "    def __init__(self, arr_size=100):\n",
    "        self.arr = [None] * arr_size\n",
    "        self.n = arr_size\n",
    "        \n",
    "    def add(self, key, value):\n",
    "        key_index = hash(key) % self.n\n",
    "        \n",
    "        while self.arr[key_index] is not None and self.arr[key_index].key != key:\n",
    "            key_index = (key_index + 1) % self.n\n",
    "        \n",
    "        self.arr[key_index] = HashTableCell(key, value)\n",
    "        \n",
    "    def get(self, key):\n",
    "        key_index = hash(key) % self.n\n",
    "        \n",
    "        while self.arr[key_index] is not None and self.arr[key_index].key != key:\n",
    "            key_index = (key_index + 1) % self.n\n",
    "            \n",
    "        if self.arr[key_index] is None:\n",
    "            raise KeyError(f\"No such key {key}\") \n",
    "        \n",
    "        return self.arr[key_index].value\n",
    "    \n",
    "    \n",
    "my_table = HashTable()\n",
    "my_table.add(\"ray\", 5000)\n",
    "my_table.add(\"ali\", 3000)\n",
    "my_table.add(\"sam\", 2000)\n",
    "\n",
    "print(my_table.get(\"sam\"))\n",
    "\n",
    "my_table.add(\"sam\", 9000)\n",
    "\n",
    "print(my_table.get(\"sam\"))"
   ]
  },
  {
   "cell_type": "markdown",
   "metadata": {},
   "source": [
    "Easy once you know the basics. Notice this implementation of the hash table naturally replaces existing values for known keys also, which is the standard behaviour.\n",
    "\n",
    "#### Chaining\n",
    "I also want to introduce a different collision resolution mechanic called *chaining*. \n",
    "\n",
    "The code above uses *linear probing* – we put the value into the next available space. \n",
    "\n",
    "With chaining, we just store a list of values at each space in the array! \n",
    "\n",
    "So we have a kind of 2D data structure, but each element could be a different length. Ideally we'll use a *linked list*, because we'll mostly be doing membership testing (search) which is going to be $O(n)$ whatever we do, so we want to avoid the cost of having to occasionally resize the array list.\n",
    "\n",
    "***Exercise:*** Adapt the code above to use chaining. You can use a built in Python list, a `deque`, or reuse the LinkedList class from the previous notebook.\n",
    "\n",
    "### Hash Table Complexity\n",
    "The hash table has the same complexity considerations as the hash set. Provided it's big enough we get $O(1)$ average access efficiency. But if the load factor gets too high the performance degrades. As previously mentioned, most implementations will resize once they get too large, a feature we haven't included above.\n",
    "\n",
    "What about *chaining* vs *probing*? You could write a dissertation on hash table conflict resolution, but in short, chaining has more consistent performance as load factor gets high, but it is slightly slower than probing if the load factor is kept within the normal range.\n",
    "\n",
    "<img src=\"./resources/chain_probe.png\" width=450 />\n",
    "\n",
    "You can read a lot more about this subject online, such as [good old Wikipedia](https://en.wikipedia.org/wiki/Hash_table#Collision_resolution).\n",
    "\n",
    "## What Next?\n",
    "Once you're done with hash tables, head back to Engage to move onto the next section – a data structure that isn't already built in to Python!"
   ]
  }
 ],
 "metadata": {
  "kernelspec": {
   "display_name": "Python 3 (ipykernel)",
   "language": "python",
   "name": "python3"
  },
  "language_info": {
   "codemirror_mode": {
    "name": "ipython",
    "version": 3
   },
   "file_extension": ".py",
   "mimetype": "text/x-python",
   "name": "python",
   "nbconvert_exporter": "python",
   "pygments_lexer": "ipython3",
   "version": "3.11.4"
  }
 },
 "nbformat": 4,
 "nbformat_minor": 4
}
