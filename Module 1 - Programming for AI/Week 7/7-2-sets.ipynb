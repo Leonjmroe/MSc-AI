{
 "cells": [
  {
   "cell_type": "markdown",
   "metadata": {},
   "source": [
    "## 7.2 – Sets\n",
    "### Hashing\n",
    "We introduced complexity and big O notation with searching lists. As we mentioned on Engage, we are now going to wrap back around and show how we can perform membership tests in (roughly) $O(1)$ time, by creating an implementation of the set data type. You already know what a set is from using Python sets like `{1, 2}`, but how is membership testing so efficient?\n",
    "\n",
    "The idea hinges on the concept of a *hash function*. We alluded to this when we talked about overriding the `__eq__()` method, that it's good practice to override `__hash__()` at the same time. Now let's find out what that actually is.\n",
    "\n",
    "A *hash function* (or just a *hash*) is used for mapping data of *variable* size into data of *fixed* size. Though, this definition is complicated, because every application that requires a hash function will have slightly different requirements. It will be easier to understand if we go through some examples.\n",
    "\n",
    "For our set implementation, we want to accept any data type, but we need to refer to each item by some ID – some way of quickly checking whether two items are equal purely numerically. Hash values do not *necessarily* have to be *unique* in all implementations, but it makes things much easier if they are. If the hash function always returns a unique value for any input, it is called a *universal hash function*.\n",
    "\n",
    "Writing good hash functions is hard. Python provides a function called `hash` which is extremely useful, though it only works on immutable types."
   ]
  },
  {
   "cell_type": "code",
   "execution_count": 1,
   "metadata": {},
   "outputs": [
    {
     "data": {
      "text/plain": [
       "1000"
      ]
     },
     "execution_count": 1,
     "metadata": {},
     "output_type": "execute_result"
    }
   ],
   "source": [
    "hash(1000)"
   ]
  },
  {
   "cell_type": "code",
   "execution_count": 2,
   "metadata": {},
   "outputs": [
    {
     "data": {
      "text/plain": [
       "230584300921369408"
      ]
     },
     "execution_count": 2,
     "metadata": {},
     "output_type": "execute_result"
    }
   ],
   "source": [
    "hash(0.1)"
   ]
  },
  {
   "cell_type": "code",
   "execution_count": 3,
   "metadata": {},
   "outputs": [
    {
     "data": {
      "text/plain": [
       "8326158350310127125"
      ]
     },
     "execution_count": 3,
     "metadata": {},
     "output_type": "execute_result"
    }
   ],
   "source": [
    "hash(\"mystring\")"
   ]
  },
  {
   "cell_type": "code",
   "execution_count": 4,
   "metadata": {},
   "outputs": [
    {
     "data": {
      "text/plain": [
       "-485402296581523010"
      ]
     },
     "execution_count": 4,
     "metadata": {},
     "output_type": "execute_result"
    }
   ],
   "source": [
    "hash((\"mystring\", 0.1))"
   ]
  },
  {
   "cell_type": "code",
   "execution_count": 5,
   "metadata": {},
   "outputs": [
    {
     "ename": "TypeError",
     "evalue": "unhashable type: 'list'",
     "output_type": "error",
     "traceback": [
      "\u001b[0;31m---------------------------------------------------------------------------\u001b[0m",
      "\u001b[0;31mTypeError\u001b[0m                                 Traceback (most recent call last)",
      "\u001b[0;32m<ipython-input-5-51e5f9fdf604>\u001b[0m in \u001b[0;36m<module>\u001b[0;34m\u001b[0m\n\u001b[0;32m----> 1\u001b[0;31m \u001b[0mhash\u001b[0m\u001b[0;34m(\u001b[0m\u001b[0;34m[\u001b[0m\u001b[0;34m\"cannnot be mutable\"\u001b[0m\u001b[0;34m]\u001b[0m\u001b[0;34m)\u001b[0m\u001b[0;34m\u001b[0m\u001b[0;34m\u001b[0m\u001b[0m\n\u001b[0m",
      "\u001b[0;31mTypeError\u001b[0m: unhashable type: 'list'"
     ]
    }
   ],
   "source": [
    "hash([\"cannnot be mutable\"])"
   ]
  },
  {
   "cell_type": "markdown",
   "metadata": {},
   "source": [
    "The `hash(…)` function calls the `.__hash__()` method of the object. If we are writing our own classes, the easiest way to define the hash method is to put the constituent parts (i.e. the attributes) into a tuple and hash this.\n",
    "\n",
    "The Python model instructs us to ensure that if `.__eq__(…)` returns `True` between two objects, then they should have the same `.__hash__()` value. It does not say anything about the reverse implication, but again, truly unique hashes are hard to construct. \n",
    "\n",
    "This distinction will become less important soon anyway, so for now let's assume that the `hash` is always unique, and more usefully, always an integer.\n",
    "\n",
    "### Hash Sets\n",
    "Now let's use this hash function. Hopefully you've guessed how we're going to get $O(1)$ membership testing: we're going to use an array!\n",
    "\n",
    "(Actually, the mechanism here is really similar to the dictionary, you might start spotting the parallels – we'll explain fully in the next notebook.)\n",
    "\n",
    "Suppose you create an array which is reasonably large. Let's say it has `n` items, where `n` is much bigger than the number of items you are likely to store. You also have a way of turning objects into unique integers, the `hash(…)` function in Python. \n",
    "\n",
    "Now, use this function to find a location inside your array. There is no guarantee the integers are within range (`0` to `n-1`), but that's okay, we can use our old friend modulo. So the location of an object `x` is found with `hash(x) % n`.\n",
    "\n",
    "This *is* a function which maps from variable sized data to fixed sized data! This is what some sources use as their definition of a “hash function” – so, confusingly, our hash function *uses* the `hash` function. Also note that this type of hash function *must* result in duplicate values. If `n = 1000`, there are only 1000 possible values for `hash(x) % 1000`, no matter how many possible values there are for `hash(x)`. We know that there are more than 1000 unique objects (there are more than 1000 integers!) so by the [pigeonhole principle](https://en.wikipedia.org/wiki/Pigeonhole_principle), some must be duplicates. But let's forget that for a second and assume `n` is so big that duplicates are really unlikely. \n",
    "\n",
    "So: given an object `x` we calculate `x_index = hash(x) % n`. Now we use position `x_index` of our array to indicate whether the set contains the object, and magically we get $O(1)$ cost for adding and membership testing, at the expense of a big area of memory (the array).\n",
    "\n",
    "What do we store in the array? Various options – `True` and `False` might seem like an obvious one – but, when `x` is present I am going to store `x` itself, and otherwise I'll store `None`. I'll explain this choice later. Take a look:"
   ]
  },
  {
   "cell_type": "code",
   "execution_count": 6,
   "metadata": {},
   "outputs": [
    {
     "name": "stdout",
     "output_type": "stream",
     "text": [
      "True\n",
      "True\n",
      "True\n",
      "False\n"
     ]
    }
   ],
   "source": [
    "class HashSet:\n",
    "    def __init__(self, arr_size=100):\n",
    "        self.arr = [None] * arr_size\n",
    "        self.n = arr_size\n",
    "        \n",
    "    def add(self, x):\n",
    "        x_index = hash(x) % self.n\n",
    "        self.arr[x_index] = x\n",
    "        \n",
    "    def is_member(self, x):\n",
    "        x_index = hash(x) % self.n\n",
    "        if self.arr[x_index] is None:\n",
    "            return False\n",
    "        return True\n",
    "    \n",
    "    \n",
    "my_set = HashSet()\n",
    "my_set.add(15)\n",
    "my_set.add(2348092348)\n",
    "my_set.add(\"banana\")\n",
    "\n",
    "\n",
    "print(my_set.is_member(15))\n",
    "print(my_set.is_member(2348092348))\n",
    "print(my_set.is_member(\"banana\"))\n",
    "\n",
    "print(my_set.is_member(\"apple\"))"
   ]
  },
  {
   "cell_type": "markdown",
   "metadata": {},
   "source": [
    "This set implementation seems to work nicely! \n",
    "\n",
    "But you can probably spot a problem. What happens if there's a conflict?"
   ]
  },
  {
   "cell_type": "code",
   "execution_count": 7,
   "metadata": {},
   "outputs": [
    {
     "name": "stdout",
     "output_type": "stream",
     "text": [
      "True\n"
     ]
    }
   ],
   "source": [
    "print(my_set.is_member(9162857348))"
   ]
  },
  {
   "cell_type": "markdown",
   "metadata": {},
   "source": [
    "We didn't add this element to the set, but we get a positive result. This is a problem.\n",
    "\n",
    "We need some kind of *collision resolution*. Without getting too stuck in the weeds, a simple solution is to pick the *next* array location whenever we hit a collision. That means we need to be able to test whether the hash took us to the right object, hence why we are storing `x` in the array. Take a look at the updated code below."
   ]
  },
  {
   "cell_type": "code",
   "execution_count": 8,
   "metadata": {},
   "outputs": [
    {
     "name": "stdout",
     "output_type": "stream",
     "text": [
      "True\n",
      "False\n"
     ]
    }
   ],
   "source": [
    "class HashSet:\n",
    "    def __init__(self, arr_size=100):\n",
    "        self.arr = [None] * arr_size\n",
    "        self.n = arr_size\n",
    "        \n",
    "    def add(self, x):\n",
    "        x_index = hash(x) % self.n\n",
    "        \n",
    "        while self.arr[x_index] is not None and self.arr[x_index] != x:\n",
    "            x_index = (x_index + 1) % self.n\n",
    "            \n",
    "        self.arr[x_index] = x\n",
    "        \n",
    "    def is_member(self, x):\n",
    "        x_index = hash(x) % self.n\n",
    "        \n",
    "        while self.arr[x_index] is not None and self.arr[x_index] != x:\n",
    "            x_index = (x_index + 1) % self.n\n",
    "            \n",
    "        if self.arr[x_index] is None:\n",
    "            return False\n",
    "        \n",
    "        return True\n",
    "    \n",
    "    \n",
    "my_set = HashSet()\n",
    "my_set.add(15)\n",
    "my_set.add(2348092348)\n",
    "my_set.add(\"banana\")\n",
    "\n",
    "print(my_set.is_member(2348092348))\n",
    "print(my_set.is_member(9162857348))"
   ]
  },
  {
   "cell_type": "markdown",
   "metadata": {},
   "source": [
    "This technique is called *linear probing*. The new code is:\n",
    "```python\n",
    "while self.arr[x_index] is not None and self.arr[x_index] != x:\n",
    "    x_index = (x_index + 1) % self.n\n",
    "```\n",
    "\n",
    "This conditional detects collisions: if the array value at position `x_index` is `None` or `x`, it will skip the loop entirely, otherwise it must be a collision, in which case it will keep going until one of those two things is true, which will tell us for sure whether the item is in the set. Since we use the same method for adding items into the array an testing for membership, we should be good.\n",
    "\n",
    "This code could hit an infinite loop if the array is completely full! We could detect if we've looped round, but in practice don't actually need to, more on that in a second.\n",
    "\n",
    "Instead, let's get back to analysis, do we still actually get $O(1)$ complexity? Certainly not in the worst case: hopefully it's clear we get linear behaviour when there are lots of collisions, because the probing has to keep scanning elements of the array. The proportion of occupied space in the array is called the *load factor*, and the higher this is, the higher the likelihood of a collision. Searches that result in a negative result must keep going until they find a blank space, so if the array is close to full, this can be very slow. \n",
    "\n",
    "Linear probing is especially negatively impacted if there are lots of items that happen to map into the same array position – a good hash function needs to be evenly spread across the array size, and since in Python `hash(x) = x` when `x` is an integer, it's possible you could get certain patterns of numbers much more often depending on what you are using the set for. This would be a good reason to write our own hash function from scratch. Or we can try to avoid this “grouping” with a different probing technique – for example we could take another application of a hash function to try to move into another area of the array.\n",
    "\n",
    "Provided we keep the number of collisions low, the performance is very good, it is still basically $O(1)$ on average. Most hash set implementations will actually *resize* once they reach a certain load factor, and this is especially important with linear probing because it has exponentially worse performance after it hits a load factor of roughly 75-80%. Resizing is costly, of course. We must allocate the new array, then move every item out of the old one and into the new, which likely means recomputing the hash function on every item.\n",
    "\n",
    "### Hashing Revisited\n",
    "Since we can, let's be really barbaric and make a class which totally breaks the hash function. You'll see in the code below that Python's inbuilt set functionality does not get tripped up, so it must be doing the same thing we are here: storing the true value of each item, and comparing them with `==` (`__eq__(…)`) before informing us whether the set contains the value or not."
   ]
  },
  {
   "cell_type": "code",
   "execution_count": 9,
   "metadata": {},
   "outputs": [
    {
     "name": "stdout",
     "output_type": "stream",
     "text": [
      "1\n",
      "1\n",
      "True\n",
      "False\n"
     ]
    }
   ],
   "source": [
    "class BadNumber:\n",
    "    def __init__(self, number):\n",
    "        self.number = number\n",
    "        \n",
    "    def __hash__(self):\n",
    "        return 1\n",
    "    \n",
    "    def __eq__(self, other):\n",
    "        if type(self) == type(other):\n",
    "            return self.number == other.number\n",
    "        else:\n",
    "            return NotImplemented\n",
    "        \n",
    "    def __str__(self):\n",
    "        return \"\" + self.number\n",
    "        \n",
    "        \n",
    "        \n",
    "my_set = {BadNumber(4), BadNumber(15), BadNumber(-300000)}\n",
    "print(hash(BadNumber(4)))\n",
    "print(hash(BadNumber(0)))\n",
    "print(BadNumber(4) in my_set)\n",
    "print(BadNumber(0) in my_set)"
   ]
  },
  {
   "cell_type": "markdown",
   "metadata": {},
   "source": [
    "And we shouldn't really be surprised. It's a necessity to use an array of some fixed length, and so no matter how you manipulate the result of `hash(…)`, collisions will happen. This is why we can be a bit cagey about whether `hash(…)` does or needs to return unique values – ideally yes, in practice for hash sets, it does not matter.\n",
    "\n",
    "Of course hashes are used in other applications too. For example, when you sign up for an account on a website, your password is hashed before being stored in the database. Then, when you sign in, whatever you type in the password field is put through the same hash and compared to the stored version. In this case the hash is designed to make the value *more* complicated, not less. The idea is that the hash is so complicated you could not reverse it to work out the original password, if you stole it from the database or during transit. Clearly, for this hash, uniqueness is paramount, otherwise someone could log in with a different password!\n",
    "\n",
    "(This is also a good reason why you should never trust a website that will offer to recover/email you your password – they should not be storing it in plain text or any other recoverable format to begin with!)\n",
    "\n",
    "## What Next?\n",
    "Interestingly, in most languages and textbooks, the hash set is really just an afterthought from the *hash table*, which is another name for the *dictionary*. Everything we just talked about: collisions, linear probing – these are usually discussed in the context of that data structure. It's only a small modification, so head back to Enage to move onto that in the next section."
   ]
  }
 ],
 "metadata": {
  "kernelspec": {
   "display_name": "Python 3 (ipykernel)",
   "language": "python",
   "name": "python3"
  },
  "language_info": {
   "codemirror_mode": {
    "name": "ipython",
    "version": 3
   },
   "file_extension": ".py",
   "mimetype": "text/x-python",
   "name": "python",
   "nbconvert_exporter": "python",
   "pygments_lexer": "ipython3",
   "version": "3.11.4"
  }
 },
 "nbformat": 4,
 "nbformat_minor": 4
}
