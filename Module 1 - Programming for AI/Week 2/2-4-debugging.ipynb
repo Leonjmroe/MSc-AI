{
 "cells": [
  {
   "cell_type": "markdown",
   "metadata": {},
   "source": [
    "## 3.4 – Errors and Debugging\n",
    "### Types of Error\n",
    "If we write something that isn't even valid Python code, this will cause a **syntax error**. When you run the code, you will get an error message that will highlight where the error occurs.\n",
    "\n",
    "Try to spot the syntax error in the following code. If you are struggling to find it, then try running the cell, but make sure you have a look first!"
   ]
  },
  {
   "cell_type": "code",
   "execution_count": 1,
   "metadata": {},
   "outputs": [
    {
     "data": {
      "text/plain": [
       "10"
      ]
     },
     "execution_count": 1,
     "metadata": {},
     "output_type": "execute_result"
    }
   ],
   "source": [
    "def my_abs(x):\n",
    "    if x < 0:\n",
    "        return -x\n",
    "    else:\n",
    "        return x\n",
    "    \n",
    "my_abs(-10)"
   ]
  },
  {
   "cell_type": "markdown",
   "metadata": {},
   "source": [
    "You have probably come across errors like this before as you have been trying examples. It's really important to read the feedback in the error message to try to identify how to fix the problem. Even experienced programmers make these mistakes, but they are usually quick to fix provided you understand the syntax.\n",
    "\n",
    "Here is another example of a piece of code that has two errors, can you spot them? Can you fix them?"
   ]
  },
  {
   "cell_type": "code",
   "execution_count": 6,
   "metadata": {},
   "outputs": [
    {
     "name": "stdout",
     "output_type": "stream",
     "text": [
      "What's your number? 3\n",
      "Half of that number is 1\n"
     ]
    }
   ],
   "source": [
    "def half(x):\n",
    "    return int(x) // 2\n",
    "\n",
    "num1 = input(\"What's your number? \")\n",
    "print(\"Half of that number is \" + str(half(num1)))"
   ]
  },
  {
   "cell_type": "markdown",
   "metadata": {},
   "source": [
    "The problems in this code are examples of *type errors*, again something that you've seen before. In *strongly typed* languages, these errors would prevent you from even being able to compile or run the code in the first place. But in Python the error only occurs once the specific line of code is run, so it is an example of a **runtime error**.\n",
    "\n",
    "Here is another example of code with a runtime error, see if you can work it out:"
   ]
  },
  {
   "cell_type": "code",
   "execution_count": 9,
   "metadata": {},
   "outputs": [
    {
     "name": "stdout",
     "output_type": "stream",
     "text": [
      "1 divided by 1 is 1.0\n",
      "1 divided by 2 is 0.5\n",
      "1 divided by 3 is 0.3333333333333333\n",
      "1 divided by 4 is 0.25\n",
      "1 divided by 5 is 0.2\n"
     ]
    }
   ],
   "source": [
    "def divide_by_range(numerator, max_denominator):\n",
    "    for i in range(max_denominator):\n",
    "        print(f\"{numerator} divided by {i+1} is {numerator/(i+1)}\")\n",
    "\n",
    "divide_by_range(1, 5)"
   ]
  },
  {
   "cell_type": "markdown",
   "metadata": {},
   "source": [
    "These kinds of errors can be really annoying. Particularly when you've set a long piece of code to run overnight, and then you come back and it hit an error early on and none of the work has been saved (trust me). But again the error messages often tell you what is wrong, and on what line of code. 9 out of 10 times, once you know how to read the error message you can fix the problem *relatively* easily. \n",
    "\n",
    "The other 1 out of 10 times, the error actually *occurs* on a line of code which *should* work fine, but a variable is wrong, or something has broken. For example, consider the following code:\n",
    "```python\n",
    "text = read_text_from_file()\n",
    "middle = (len(text)+1)//2\n",
    "print(f\"The middle character is: {text[middle]}\")\n",
    "```\n",
    "\n",
    "This code all looks good, but you might hit a `string index out of range` error on the final line if the function `read_text_from_file` fails and returns an empty string. In this case the problem was really with the function, not the line that printed the middle character.\n",
    "\n",
    "Here is another example:"
   ]
  },
  {
   "cell_type": "code",
   "execution_count": null,
   "metadata": {},
   "outputs": [],
   "source": [
    "text = \"this is an example of a text string\"\n",
    "num = 100\n",
    "\n",
    "# I want a function to convert numbers into text\n",
    "def text(num):\n",
    "    return str(num)\n",
    "\n",
    "print(\"My number is: \" + text(num) + \" and my string is: \" + text)"
   ]
  },
  {
   "cell_type": "markdown",
   "metadata": {},
   "source": [
    "In this example, we have *overwritten* our old variable called `text` with a function called `text`. Only one thing can have the same name! This example might look contrived, but it can happen, and it can be very difficult to spot.\n",
    "\n",
    "These types of runtime errors that are harder to find can really benefit from some *debugging* techniques that you will see shortly."
   ]
  },
  {
   "cell_type": "markdown",
   "metadata": {},
   "source": [
    "### Logical Errors\n",
    "If your code runs and produces an output, but the output isn't what you wanted, then you have a **logical error**. These are usually much harder to fix, because the code seems to be running fine. How do you even know which line of code is causing the problem?"
   ]
  },
  {
   "cell_type": "code",
   "execution_count": 11,
   "metadata": {},
   "outputs": [
    {
     "data": {
      "text/plain": [
       "'gdbe'"
      ]
     },
     "execution_count": 11,
     "metadata": {},
     "output_type": "execute_result"
    }
   ],
   "source": [
    "def discard_n_to_z(text):\n",
    "    \"\"\"\n",
    "    This function returns the input string with the letters from the 2nd half of the alphabet (n to z) removed\n",
    "    \"\"\"\n",
    "    out_text = \"\"\n",
    "    for i in range(0, len(text)):\n",
    "        if text[i] >= 'a' and text[i] < 'n':\n",
    "            out_text += text[i]\n",
    "    return out_text\n",
    "\n",
    "# discard_n_to_z(\"goodbye\") should return \"gdbe\"\n",
    "discard_n_to_z(\"goodbye\")"
   ]
  },
  {
   "cell_type": "markdown",
   "metadata": {},
   "source": [
    "The code runs without any error message, but we didn't get the result we expected. Can you find and fix the logical error?\n",
    "\n",
    "Hint (select text to view): <span style=\"background:black\">The programmer has mixed up two characters which look very similar when trying to index the string inside the loop...</span>\n",
    "\n",
    "Sometimes if you are struggling to find a logical error inside a program you might want to temporarily add extra code so you can see what the values are of particular variables.\n",
    "\n",
    "In this next block of code, suppose we have written a function which censors the middle character of a string. We want to write a new function which goes through a string, breaks it into chunks of length 3, uses our other function to censor the middle character of each chunk, and puts them back together again and returns the result. \n",
    "\n",
    "I know this is contrived, but abstract examples allow us to focus on the important things!\n",
    "\n",
    "So `bababa` gets broken down into `bab` and `aba`, they both get censored to become `b*b` and `a*a`, then the result is `b*ba*a`.\n",
    "\n",
    "Here's the code:"
   ]
  },
  {
   "cell_type": "code",
   "execution_count": 12,
   "metadata": {},
   "outputs": [
    {
     "data": {
      "text/plain": [
       "'*b*a'"
      ]
     },
     "execution_count": 12,
     "metadata": {},
     "output_type": "execute_result"
    }
   ],
   "source": [
    "def censor_middle_char(text):\n",
    "    if text == \"\":\n",
    "        return \"\"\n",
    "    \n",
    "    middle = len(text) // 2\n",
    "    return text[:middle-1] + \"*\" + text[middle+1:]\n",
    "\n",
    "def censor_regularly(text):\n",
    "    # break up the text into chunks of length 3\n",
    "    # censor the middle character of each one\n",
    "    # and put it back together\n",
    "    \n",
    "    out_string = \"\"\n",
    "    \n",
    "    # the third argument to range controls the step size\n",
    "    # so range(0, 10, 3) will go: 0, 3, 6, 9\n",
    "    for i in range(0, len(text)-2, 3):\n",
    "        chunk = text[i:i+3]\n",
    "        chunk = censor_middle_char(chunk)\n",
    "        out_string += chunk\n",
    "    \n",
    "    return out_string\n",
    "\n",
    "censor_regularly(\"bababa\")"
   ]
  },
  {
   "cell_type": "markdown",
   "metadata": {},
   "source": [
    "Unfortunately it isn't working. But there's a lot going on. It might not be immediately obvious where the problem is. (If it is immediately obvious, congrats! But humour me... this technique will still be useful...)\n",
    "\n",
    "We can add a print statement into the `censor_regularly` function, just temporarily, so we can see what the result of `censor_middle_char` is:"
   ]
  },
  {
   "cell_type": "code",
   "execution_count": 3,
   "metadata": {},
   "outputs": [
    {
     "name": "stdout",
     "output_type": "stream",
     "text": [
      "Before censoring: bab\n",
      "After censoring: *b\n",
      "Before censoring: aba\n",
      "After censoring: *a\n"
     ]
    },
    {
     "data": {
      "text/plain": [
       "'*b*a'"
      ]
     },
     "execution_count": 3,
     "metadata": {},
     "output_type": "execute_result"
    }
   ],
   "source": [
    "def censor_middle_char(text):\n",
    "    if text == \"\":\n",
    "        return \"\"\n",
    "    \n",
    "    middle = len(text) // 2\n",
    "    return text[:middle-1] + \"*\" + text[middle+1:]\n",
    "\n",
    "def censor_regularly(text):\n",
    "    # break up the text into chunks of length 3\n",
    "    # censor the middle character of each one\n",
    "    # and put it back together\n",
    "    \n",
    "    out_string = \"\"\n",
    "    \n",
    "    # the third argument to range controls the step size\n",
    "    # so range(0, 10, 3) will go: 0, 3, 6, 9\n",
    "    for i in range(0, len(text)-2, 3):\n",
    "        chunk = text[i:i+3]\n",
    "        print(f\"Before censoring: {chunk}\")\n",
    "        chunk = censor_middle_char(chunk)\n",
    "        print(f\"After censoring: {chunk}\")\n",
    "        out_string += chunk\n",
    "    \n",
    "    return out_string\n",
    "\n",
    "censor_regularly(\"bababa\")"
   ]
  },
  {
   "cell_type": "markdown",
   "metadata": {},
   "source": [
    "These printed lines make it super clear that something isn't working in our function `censor_middle_char`. Let's isolate that in a new code cell:"
   ]
  },
  {
   "cell_type": "code",
   "execution_count": 4,
   "metadata": {},
   "outputs": [
    {
     "data": {
      "text/plain": [
       "'*a'"
      ]
     },
     "execution_count": 4,
     "metadata": {},
     "output_type": "execute_result"
    }
   ],
   "source": [
    "def censor_middle_char(text):\n",
    "    if text == \"\":\n",
    "        return \"\"\n",
    "    \n",
    "    middle = len(text) // 2\n",
    "    return text[:middle-1] + \"*\" + text[middle+1:]\n",
    "\n",
    "censor_middle_char(\"aba\")"
   ]
  },
  {
   "cell_type": "markdown",
   "metadata": {},
   "source": [
    "Let's pepper the function with print statements to try to work out what is happening. I've added special tab *control characters* `\\t` into the print statements so they line up nicely."
   ]
  },
  {
   "cell_type": "code",
   "execution_count": 5,
   "metadata": {},
   "outputs": [
    {
     "name": "stdout",
     "output_type": "stream",
     "text": [
      "middle of aba is \t1\n",
      "text[:middle-1] is \t\n",
      "text[middle+1:] is \ta\n"
     ]
    },
    {
     "data": {
      "text/plain": [
       "'*a'"
      ]
     },
     "execution_count": 5,
     "metadata": {},
     "output_type": "execute_result"
    }
   ],
   "source": [
    "def censor_middle_char(text):\n",
    "    if text == \"\":\n",
    "        return \"\"\n",
    "    \n",
    "    middle = len(text) // 2\n",
    "    print(f\"middle of {text} is \\t{middle}\")\n",
    "    print(f\"text[:middle-1] is \\t{text[:middle-1]}\")\n",
    "    print(f\"text[middle+1:] is \\t{text[middle+1:]}\")\n",
    "    return text[:middle-1] + \"*\" + text[middle+1:]\n",
    "\n",
    "censor_middle_char(\"aba\")"
   ]
  },
  {
   "cell_type": "markdown",
   "metadata": {},
   "source": [
    "Remember that Python numbers from `0`, so in the string `\"aba\"`, position `0` is `a`, position `1` is `b`, and position `2` is `a`. So, the middle item is number `1`. The function is doing this correctly.\n",
    "\n",
    "However, we then try to take the range of characters from the start of the string up to the character before the middle, using `text[:middle-1]`. We are expecting to get the result `a` (everything before the `*`), but we get nothing.\n",
    "\n",
    "We have forgotten that when we index a String in Python, `text[a:b]` goes from `a` up to *but not including* `b`. The correct code is: `text[:middle]`.\n",
    "\n",
    "Let's test the fix on the small version of the code with updated print statements:"
   ]
  },
  {
   "cell_type": "code",
   "execution_count": 6,
   "metadata": {},
   "outputs": [
    {
     "name": "stdout",
     "output_type": "stream",
     "text": [
      "middle of aba is \t1\n",
      "text[:middle] is \ta\n",
      "text[middle+1:] is \ta\n"
     ]
    },
    {
     "data": {
      "text/plain": [
       "'a*a'"
      ]
     },
     "execution_count": 6,
     "metadata": {},
     "output_type": "execute_result"
    }
   ],
   "source": [
    "def censor_middle_char(text):\n",
    "    if text == \"\":\n",
    "        return \"\"\n",
    "    \n",
    "    middle = len(text) // 2\n",
    "    print(f\"middle of {text} is \\t{middle}\")\n",
    "    print(f\"text[:middle] is \\t{text[:middle]}\")\n",
    "    print(f\"text[middle+1:] is \\t{text[middle+1:]}\")\n",
    "    return text[:middle] + \"*\" + text[middle+1:]\n",
    "\n",
    "censor_middle_char(\"aba\")"
   ]
  },
  {
   "cell_type": "markdown",
   "metadata": {},
   "source": [
    "Now we can put the fixed version back with the rest of the code and delete the print statements. Now the larger function works as expected:"
   ]
  },
  {
   "cell_type": "code",
   "execution_count": 7,
   "metadata": {},
   "outputs": [
    {
     "data": {
      "text/plain": [
       "'b*ba*a'"
      ]
     },
     "execution_count": 7,
     "metadata": {},
     "output_type": "execute_result"
    }
   ],
   "source": [
    "def censor_middle_char(text):\n",
    "    if text == \"\":\n",
    "        return \"\"\n",
    "    \n",
    "    middle = len(text) // 2\n",
    "    return text[:middle] + \"*\" + text[middle+1:]\n",
    "\n",
    "def censor_regularly(text):\n",
    "    # break up the text into chunks of length 3\n",
    "    # censor the middle character of each one\n",
    "    # and put it back together\n",
    "    \n",
    "    out_string = \"\"\n",
    "    \n",
    "    # the third argument to range controls the step size\n",
    "    # so range(0, 10, 3) will go: 0, 3, 6, 9\n",
    "    for i in range(0, len(text)-2, 3):\n",
    "        chunk = text[i:i+3]\n",
    "        chunk = censor_middle_char(chunk)\n",
    "        out_string += chunk\n",
    "    \n",
    "    return out_string\n",
    "\n",
    "censor_regularly(\"bababa\")"
   ]
  },
  {
   "cell_type": "markdown",
   "metadata": {},
   "source": [
    "### Exercise\n",
    "Here is some another example. The code is a bit complex, so read it first and make sure you understand what it is trying to do. The idea is to try to censor consecutive vowels that are of even length. So the word `good` has two consecutive vowels (both `o`) so the result will be `g**d`. But the word `seeing` has three consecutive vowels, so it should be uncensored.  "
   ]
  },
  {
   "cell_type": "code",
   "execution_count": 36,
   "metadata": {},
   "outputs": [
    {
     "data": {
      "text/plain": [
       "'g**d but not seeing'"
      ]
     },
     "execution_count": 36,
     "metadata": {},
     "output_type": "execute_result"
    }
   ],
   "source": [
    "def is_vowel(char):\n",
    "    return char == \"a\" or char == \"e\" or char == \"i\" or char == \"o\" or char == \"u\"\n",
    "\n",
    "def censor_even_consecutive_vowels(text):\n",
    "    i = 0\n",
    "    out_text = \"\"\n",
    "    while i < len(text):\n",
    "        if is_vowel(text[i]):\n",
    "            count = 1\n",
    "            i += 1\n",
    "            while i < len(text) and is_vowel(text[i]):\n",
    "                count += 1\n",
    "                i += 1\n",
    "            if count % 2 == 0:\n",
    "                out_text += \"*\" * count\n",
    "            else:\n",
    "                out_text += text[i-count:i]\n",
    "        else:\n",
    "            out_text += text[i]\n",
    "            i += 1\n",
    "    return out_text\n",
    "\n",
    "censor_even_consecutive_vowels(\"good but not seeing\")"
   ]
  },
  {
   "cell_type": "markdown",
   "metadata": {},
   "source": [
    "It seems to work! But the following input causes an error. Can you find and fix it?"
   ]
  },
  {
   "cell_type": "code",
   "execution_count": 37,
   "metadata": {},
   "outputs": [
    {
     "data": {
      "text/plain": [
       "'b**'"
      ]
     },
     "execution_count": 37,
     "metadata": {},
     "output_type": "execute_result"
    }
   ],
   "source": [
    "censor_even_consecutive_vowels(\"boo\")"
   ]
  },
  {
   "cell_type": "markdown",
   "metadata": {},
   "source": [
    "### Expected Errors\n",
    "One more thing on errors: sometimes we cannot avoid them. Consider the following code:"
   ]
  },
  {
   "cell_type": "code",
   "execution_count": 39,
   "metadata": {},
   "outputs": [
    {
     "name": "stdout",
     "output_type": "stream",
     "text": [
      "I will print a square!\n",
      "Please enter the height as an integer:\n",
      "> h\n"
     ]
    },
    {
     "ename": "ValueError",
     "evalue": "invalid literal for int() with base 10: 'h'",
     "output_type": "error",
     "traceback": [
      "\u001b[0;31m---------------------------------------------------------------------------\u001b[0m",
      "\u001b[0;31mValueError\u001b[0m                                Traceback (most recent call last)",
      "Cell \u001b[0;32mIn[39], line 7\u001b[0m\n\u001b[1;32m      5\u001b[0m \u001b[38;5;28mprint\u001b[39m(\u001b[38;5;124m\"\u001b[39m\u001b[38;5;124mI will print a square!\u001b[39m\u001b[38;5;124m\"\u001b[39m)\n\u001b[1;32m      6\u001b[0m \u001b[38;5;28mprint\u001b[39m(\u001b[38;5;124m\"\u001b[39m\u001b[38;5;124mPlease enter the height as an integer:\u001b[39m\u001b[38;5;124m\"\u001b[39m)\n\u001b[0;32m----> 7\u001b[0m user_height \u001b[38;5;241m=\u001b[39m \u001b[38;5;28mint\u001b[39m(\u001b[38;5;28minput\u001b[39m(\u001b[38;5;124m\"\u001b[39m\u001b[38;5;124m> \u001b[39m\u001b[38;5;124m\"\u001b[39m))\n\u001b[1;32m      9\u001b[0m print_square(user_height)\n",
      "\u001b[0;31mValueError\u001b[0m: invalid literal for int() with base 10: 'h'"
     ]
    }
   ],
   "source": [
    "def print_square(height):\n",
    "    for i in range(height):\n",
    "        print('#' * height)\n",
    "\n",
    "print(\"I will print a square!\")\n",
    "print(\"Please enter the height as an integer:\")\n",
    "user_height = int(input(\"> \"))\n",
    "\n",
    "print_square(user_height)"
   ]
  },
  {
   "cell_type": "markdown",
   "metadata": {},
   "source": [
    "We cannot always assume that the user will enter nice values in a program like this. What happens if they don't enter an integer as instructed?"
   ]
  },
  {
   "cell_type": "code",
   "execution_count": 40,
   "metadata": {},
   "outputs": [
    {
     "name": "stdout",
     "output_type": "stream",
     "text": [
      "I will print a square!\n",
      "Please enter the height as an integer:\n",
      "> no\n"
     ]
    },
    {
     "ename": "ValueError",
     "evalue": "invalid literal for int() with base 10: 'no'",
     "output_type": "error",
     "traceback": [
      "\u001b[0;31m---------------------------------------------------------------------------\u001b[0m",
      "\u001b[0;31mValueError\u001b[0m                                Traceback (most recent call last)",
      "Cell \u001b[0;32mIn[40], line 7\u001b[0m\n\u001b[1;32m      5\u001b[0m \u001b[38;5;28mprint\u001b[39m(\u001b[38;5;124m\"\u001b[39m\u001b[38;5;124mI will print a square!\u001b[39m\u001b[38;5;124m\"\u001b[39m)\n\u001b[1;32m      6\u001b[0m \u001b[38;5;28mprint\u001b[39m(\u001b[38;5;124m\"\u001b[39m\u001b[38;5;124mPlease enter the height as an integer:\u001b[39m\u001b[38;5;124m\"\u001b[39m)\n\u001b[0;32m----> 7\u001b[0m user_height \u001b[38;5;241m=\u001b[39m \u001b[38;5;28mint\u001b[39m(\u001b[38;5;28minput\u001b[39m(\u001b[38;5;124m\"\u001b[39m\u001b[38;5;124m> \u001b[39m\u001b[38;5;124m\"\u001b[39m))\n\u001b[1;32m      9\u001b[0m print_square(user_height)\n",
      "\u001b[0;31mValueError\u001b[0m: invalid literal for int() with base 10: 'no'"
     ]
    }
   ],
   "source": [
    "def print_square(height):\n",
    "    for i in range(height):\n",
    "        print('#' * height)\n",
    "\n",
    "print(\"I will print a square!\")\n",
    "print(\"Please enter the height as an integer:\")\n",
    "user_height = int(input(\"> \"))\n",
    "\n",
    "print_square(user_height)"
   ]
  },
  {
   "cell_type": "markdown",
   "metadata": {},
   "source": [
    "We get an error because the code couldn't convert the input into an integer. Maybe the user deserves to see an error in this case! But it kills the whole application. Really we want to be able to handle anything like this and show our own feedback.\n",
    "\n",
    "If you think an error might occur on a particular line of code there is a way to handle it, using `try` and `except`:\n",
    "* First we **`try`** the code\n",
    "* Then we handle any errors (or **`except`**ions as they are also known)\n",
    "\n",
    "The syntax looks like this:\n",
    "```python\n",
    "try:\n",
    "    <possible error code>\n",
    "except <ErrorType>:\n",
    "    <what to do>\n",
    "```\n",
    "\n",
    "Ideally we should always specify what errors we expect, but we can leave the `<ErrorType>` blank to *catch* call errors.\n",
    "\n",
    "Here is another version of the code above which is more *robust* to user input."
   ]
  },
  {
   "cell_type": "code",
   "execution_count": null,
   "metadata": {},
   "outputs": [
    {
     "name": "stdout",
     "output_type": "stream",
     "text": [
      "I will print a square!\n",
      "Please enter the height as an integer:\n",
      "> f\n",
      "Please enter a valid integer!\n"
     ]
    }
   ],
   "source": [
    "def print_square(height):\n",
    "    for i in range(height):\n",
    "        print('#' * height)\n",
    "\n",
    "def input_integer():\n",
    "    while True:\n",
    "        try:\n",
    "            return int(input(\"> \"))\n",
    "        except ValueError:\n",
    "            print(\"Please enter a valid integer!\")\n",
    "\n",
    "print(\"I will print a square!\")\n",
    "print(\"Please enter the height as an integer:\")\n",
    "user_height = input_integer()\n",
    "\n",
    "print_square(user_height)"
   ]
  },
  {
   "cell_type": "markdown",
   "metadata": {},
   "source": [
    "#### Warning\n",
    "Try and except should normally only be used for when you are unable to prevent an error occurring, for example when you take user input. It would not be appropriate to do the following:"
   ]
  },
  {
   "cell_type": "code",
   "execution_count": 13,
   "metadata": {},
   "outputs": [
    {
     "name": "stdout",
     "output_type": "stream",
     "text": [
      "Input is empty\n"
     ]
    }
   ],
   "source": [
    "def print_first_character(text):\n",
    "    # This is bad!\n",
    "    try:\n",
    "        print(text[0])\n",
    "    except IndexError:\n",
    "        print(\"Input is empty\")\n",
    "\n",
    "print_first_character(\"\")"
   ]
  },
  {
   "cell_type": "markdown",
   "metadata": {},
   "source": [
    "What you should do is this:"
   ]
  },
  {
   "cell_type": "code",
   "execution_count": 14,
   "metadata": {
    "scrolled": true
   },
   "outputs": [
    {
     "name": "stdout",
     "output_type": "stream",
     "text": [
      "Input is empty\n"
     ]
    }
   ],
   "source": [
    "def print_first_character(text):\n",
    "    # This is better!\n",
    "    if len(text) > 0:\n",
    "        print(text[0])\n",
    "    else:\n",
    "        print(\"Input is empty\")\n",
    "\n",
    "print_first_character(\"\")"
   ]
  },
  {
   "cell_type": "markdown",
   "metadata": {},
   "source": [
    "---\n",
    "\n",
    "If this is all new then a lot of this information may seem too abstract to take on board right now. That's okay, it will make a lot more sense once you start writing more code yourself. It is good to see these concepts early so you can remember to come back to them when they pop up in the wild.\n",
    "\n",
    "## What Next?\n",
    "When you are done with this notebook, go back to Engage and move onto the next section, where you can see some demos of debugging in practice!\n"
   ]
  }
 ],
 "metadata": {
  "kernelspec": {
   "display_name": "Python 3 (ipykernel)",
   "language": "python",
   "name": "python3"
  },
  "language_info": {
   "codemirror_mode": {
    "name": "ipython",
    "version": 3
   },
   "file_extension": ".py",
   "mimetype": "text/x-python",
   "name": "python",
   "nbconvert_exporter": "python",
   "pygments_lexer": "ipython3",
   "version": "3.11.4"
  }
 },
 "nbformat": 4,
 "nbformat_minor": 2
}
