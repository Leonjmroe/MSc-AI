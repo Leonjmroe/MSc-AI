{
 "cells": [
  {
   "cell_type": "markdown",
   "metadata": {},
   "source": [
    "## 3.3 – Basic Program Structure\n",
    "### When To Print\n",
    "Can you spot any problems with the following code?"
   ]
  },
  {
   "cell_type": "code",
   "execution_count": 1,
   "metadata": {},
   "outputs": [
    {
     "name": "stdout",
     "output_type": "stream",
     "text": [
      "6\n"
     ]
    }
   ],
   "source": [
    "def multiply(a, b):\n",
    "    print(a * b)\n",
    "    \n",
    "multiply(2, 3)"
   ]
  },
  {
   "cell_type": "markdown",
   "metadata": {},
   "source": [
    "It seems to do what we want – assuming we want it to multiply the numbers 2 and 3.\n",
    "\n",
    "Well, what if we later decided we wanted to do $(2 \\times 3) \\times 4$? So, take the result of doing 2 multiplied by 3, and multiply it by 4. Let's try:"
   ]
  },
  {
   "cell_type": "code",
   "execution_count": 2,
   "metadata": {},
   "outputs": [
    {
     "name": "stdout",
     "output_type": "stream",
     "text": [
      "6\n"
     ]
    },
    {
     "ename": "TypeError",
     "evalue": "unsupported operand type(s) for *: 'NoneType' and 'int'",
     "output_type": "error",
     "traceback": [
      "\u001b[0;31m---------------------------------------------------------------------------\u001b[0m",
      "\u001b[0;31mTypeError\u001b[0m                                 Traceback (most recent call last)",
      "\u001b[0;32m<ipython-input-2-5a31daca1ccb>\u001b[0m in \u001b[0;36m<module>\u001b[0;34m\u001b[0m\n\u001b[1;32m      2\u001b[0m     \u001b[0mprint\u001b[0m\u001b[0;34m(\u001b[0m\u001b[0ma\u001b[0m \u001b[0;34m*\u001b[0m \u001b[0mb\u001b[0m\u001b[0;34m)\u001b[0m\u001b[0;34m\u001b[0m\u001b[0;34m\u001b[0m\u001b[0m\n\u001b[1;32m      3\u001b[0m \u001b[0;34m\u001b[0m\u001b[0m\n\u001b[0;32m----> 4\u001b[0;31m \u001b[0mmultiply\u001b[0m\u001b[0;34m(\u001b[0m\u001b[0mmultiply\u001b[0m\u001b[0;34m(\u001b[0m\u001b[0;36m2\u001b[0m\u001b[0;34m,\u001b[0m \u001b[0;36m3\u001b[0m\u001b[0;34m)\u001b[0m\u001b[0;34m,\u001b[0m \u001b[0;36m4\u001b[0m\u001b[0;34m)\u001b[0m\u001b[0;34m\u001b[0m\u001b[0;34m\u001b[0m\u001b[0m\n\u001b[0m",
      "\u001b[0;32m<ipython-input-2-5a31daca1ccb>\u001b[0m in \u001b[0;36mmultiply\u001b[0;34m(a, b)\u001b[0m\n\u001b[1;32m      1\u001b[0m \u001b[0;32mdef\u001b[0m \u001b[0mmultiply\u001b[0m\u001b[0;34m(\u001b[0m\u001b[0ma\u001b[0m\u001b[0;34m,\u001b[0m \u001b[0mb\u001b[0m\u001b[0;34m)\u001b[0m\u001b[0;34m:\u001b[0m\u001b[0;34m\u001b[0m\u001b[0;34m\u001b[0m\u001b[0m\n\u001b[0;32m----> 2\u001b[0;31m     \u001b[0mprint\u001b[0m\u001b[0;34m(\u001b[0m\u001b[0ma\u001b[0m \u001b[0;34m*\u001b[0m \u001b[0mb\u001b[0m\u001b[0;34m)\u001b[0m\u001b[0;34m\u001b[0m\u001b[0;34m\u001b[0m\u001b[0m\n\u001b[0m\u001b[1;32m      3\u001b[0m \u001b[0;34m\u001b[0m\u001b[0m\n\u001b[1;32m      4\u001b[0m \u001b[0mmultiply\u001b[0m\u001b[0;34m(\u001b[0m\u001b[0mmultiply\u001b[0m\u001b[0;34m(\u001b[0m\u001b[0;36m2\u001b[0m\u001b[0;34m,\u001b[0m \u001b[0;36m3\u001b[0m\u001b[0;34m)\u001b[0m\u001b[0;34m,\u001b[0m \u001b[0;36m4\u001b[0m\u001b[0;34m)\u001b[0m\u001b[0;34m\u001b[0m\u001b[0;34m\u001b[0m\u001b[0m\n",
      "\u001b[0;31mTypeError\u001b[0m: unsupported operand type(s) for *: 'NoneType' and 'int'"
     ]
    }
   ],
   "source": [
    "def multiply(a, b):\n",
    "    print(a * b)\n",
    "    \n",
    "multiply(multiply(2, 3), 4)"
   ]
  },
  {
   "cell_type": "markdown",
   "metadata": {},
   "source": [
    "Uh-oh. What's happened? See if you can work it out.\n",
    "\n",
    "...\n",
    "\n",
    "Did you notice that this code displayed the number `6` before the error occured?\n",
    "\n",
    "We have committed the mistake that almost everyone makes when they first learn about print statements. We have *used a print statement where we should have used a return value*.\n",
    "\n",
    "The code we wrote is equivalent to writing this:\n",
    "```python\n",
    "print(print(2 * 3) * 4)\n",
    "```\n",
    "\n",
    "But `print` is a procedure not a function, it does not return anything. In Python that means its return value is a special value called `None`. `None` is not zero, it is not an empty string, it is simply nothing."
   ]
  },
  {
   "cell_type": "code",
   "execution_count": 3,
   "metadata": {},
   "outputs": [
    {
     "data": {
      "text/plain": [
       "False"
      ]
     },
     "execution_count": 3,
     "metadata": {},
     "output_type": "execute_result"
    }
   ],
   "source": [
    "None == 0"
   ]
  },
  {
   "cell_type": "code",
   "execution_count": 4,
   "metadata": {},
   "outputs": [
    {
     "data": {
      "text/plain": [
       "False"
      ]
     },
     "execution_count": 4,
     "metadata": {},
     "output_type": "execute_result"
    }
   ],
   "source": [
    "None == \"\""
   ]
  },
  {
   "cell_type": "code",
   "execution_count": 5,
   "metadata": {},
   "outputs": [
    {
     "data": {
      "text/plain": [
       "True"
      ]
     },
     "execution_count": 5,
     "metadata": {},
     "output_type": "execute_result"
    }
   ],
   "source": [
    "None == None"
   ]
  },
  {
   "cell_type": "markdown",
   "metadata": {},
   "source": [
    "*Note: while the above line works as expected, it is considered better to check if a value is None with `is`:*"
   ]
  },
  {
   "cell_type": "code",
   "execution_count": 6,
   "metadata": {},
   "outputs": [
    {
     "data": {
      "text/plain": [
       "True"
      ]
     },
     "execution_count": 6,
     "metadata": {},
     "output_type": "execute_result"
    }
   ],
   "source": [
    "None is None"
   ]
  },
  {
   "cell_type": "markdown",
   "metadata": {},
   "source": [
    "We cannot normally *do* anything with the value `None`, and in particular for this case, `None * 4` causes a type error.\n",
    "\n",
    "So let's fix that function:"
   ]
  },
  {
   "cell_type": "code",
   "execution_count": 7,
   "metadata": {},
   "outputs": [
    {
     "name": "stdout",
     "output_type": "stream",
     "text": [
      "24\n"
     ]
    }
   ],
   "source": [
    "def multiply(a, b):\n",
    "    return a * b\n",
    "\n",
    "print(multiply(multiply(2, 3), 4))"
   ]
  },
  {
   "cell_type": "markdown",
   "metadata": {},
   "source": [
    "Now this works. Notice that I have moved the print statement *outside* of the function, because in this scenario I am assuming the programmer still *wants* to print the result. Jupyter would have outputted the final value if we had omitted the call to `print`, but if this is going into a proper `.py` program we need to include it somewhere.\n",
    "\n",
    "### When To Input\n",
    "Okay how about this code? Any comments, criticisms? Run it if you aren't sure from looking."
   ]
  },
  {
   "cell_type": "code",
   "execution_count": null,
   "metadata": {},
   "outputs": [],
   "source": [
    "def multiply():\n",
    "    num1 = int(input(\"Please enter num1: \"))\n",
    "    num2 = int(input(\"Please enter num2: \"))\n",
    "    return num1 * num2\n",
    "\n",
    "print(multiply())"
   ]
  },
  {
   "cell_type": "markdown",
   "metadata": {},
   "source": [
    "Hopefully you can see why this isn't ideal. If we want to calculate $2 \\times 3$ we can just type those in. But what if we want to do $(2 \\times 3) \\times 4$ again? We have to do $2 \\times 3$ first, remember the result, then type that in when we run the function for the second time.\n",
    "\n",
    "Even supposing we want to write an application that lets the user type in two numbers, we should structure it like this:"
   ]
  },
  {
   "cell_type": "code",
   "execution_count": 1,
   "metadata": {},
   "outputs": [
    {
     "name": "stdout",
     "output_type": "stream",
     "text": [
      "Please enter num1: 3\n",
      "Please enter num2: 3\n",
      "9\n"
     ]
    }
   ],
   "source": [
    "def multiply(a, b):\n",
    "    return a * b\n",
    "\n",
    "num1 = int(input(\"Please enter num1: \"))\n",
    "num2 = int(input(\"Please enter num2: \"))\n",
    "print(multiply(num1, num2))"
   ]
  },
  {
   "cell_type": "markdown",
   "metadata": {},
   "source": [
    "The function uses its *parameters* rather than having explicit calls to the `input` function. Now the code that *calls* the function can decide where to get those numbers from. Maybe from the user using `input`, or maybe from somewhere else. And the advantage is huge, maybe in this specific example we want to reuse those input values in several places."
   ]
  },
  {
   "cell_type": "code",
   "execution_count": 8,
   "metadata": {},
   "outputs": [
    {
     "name": "stdout",
     "output_type": "stream",
     "text": [
      "Please enter num1: 3\n",
      "Please enter num2: 4\n",
      "\n",
      "When we multiply 3 and 4 we get: 12\n",
      "\n",
      "When we do the weird operation to 3 and 4 we get: 51\n"
     ]
    }
   ],
   "source": [
    "def multiply(a, b):\n",
    "    return a * b\n",
    "\n",
    "def weird_operation(a, b):\n",
    "    \"\"\"Note: Don't worry, I have not told you what the << or ^ operators do!\"\"\"\n",
    "    return a << b ^ a\n",
    "\n",
    "num1 = int(input(\"Please enter num1: \"))\n",
    "num2 = int(input(\"Please enter num2: \"))\n",
    "print()\n",
    "print(f\"When we multiply {num1} and {num2} we get: {multiply(num1, num2)}\")\n",
    "print()\n",
    "print(f\"When we do the weird operation to {num1} and {num2} we get: {weird_operation(num1, num2)}\")"
   ]
  },
  {
   "cell_type": "markdown",
   "metadata": {},
   "source": [
    "### The Lesson\n",
    "The lesson here is that *you should use parameters and return values far more often than input and print statements*.\n",
    "\n",
    "When we write short code snippets as demonstrations in an educational context we often use print statements to demonstrate them – we need to get output somehow. But a real command-line application will typically only have a small amount of code that interacts with the user – input and output.\n",
    "\n",
    "Think about a chess application. All of the code that controls the game: how pieces move, whose turn it is, when someone wins, how the AI moves – all of this code is completely agnostic to how the user is interacting with the application, it could have a command line interface or a graphical user interface.\n",
    "\n",
    "So, from now on and for the rest of your programming career, try to separate out the *logic* of your application from the *human interface* of your application. In general, in Python, you typically do not need to use `print` or `input` inside a function, *unless* that function is dedicated to interfacing with the user – we often put the main control loop of our code inside a procedure, and we might move a big block of print statements (such as a main menu) into its own procedure to aid readability.\n",
    "\n",
    "One exception to this is the use of print statements to help you debug code. We'll cover that in the next section. \n",
    "\n",
    "But before you move on, here is demonstration of a small program written using the principles discussed in this section and combining many of the concepts from earlier ones. This program does not really solve any real problem, but it is structured in a way we might expect to find a `.py` file. \n",
    "\n",
    "Read, analyse, run, and explore the code. Remember how we *trace* code, following the flow of code, jumping from one function to another? Practice that with the code below, try to predict what it will output for various inputs.\n",
    "\n",
    "Once you can understand the code, try to add some new text-manipulation functionality. Create a new function, add it to the main menu, and test that it works! Keep it simple. If you can't think of anything else, try inserting your name into the middle of the text. "
   ]
  },
  {
   "cell_type": "code",
   "execution_count": null,
   "metadata": {},
   "outputs": [],
   "source": [
    "def reverse(text):\n",
    "    if len(text) == 0:\n",
    "        return \"\"\n",
    "    else:\n",
    "        return reverse(text[1:]) + text[0]\n",
    "    \n",
    "    \n",
    "def censor_vowels(text):\n",
    "    result = \"\"\n",
    "    for char in text:\n",
    "        if char == \"a\" or char == \"e\" or char == \"i\" or char == \"o\" or char == \"u\":\n",
    "            result += \"*\"\n",
    "        else:\n",
    "            result += char\n",
    "    return result\n",
    "\n",
    "\n",
    "def main_menu():\n",
    "    print(\"1. Enter a new string.\")\n",
    "    print(\"2. Reverse my string.\")\n",
    "    print(\"3. Censor the vowels in my string.\")\n",
    "    print(\"9. Quit\")\n",
    "\n",
    "\n",
    "def main_loop():\n",
    "    print(\"Welcome to my program!\")\n",
    "    print(\"First things first, please enter any text string:\")\n",
    "    user_text = input(\"> \")\n",
    "    \n",
    "    print(\"Great! Here is the main menu:\")\n",
    "    \n",
    "    main_menu()\n",
    "    \n",
    "    print(\"What would you like to do?\")\n",
    "    \n",
    "    option = input(\"> \")\n",
    "\n",
    "    while option != \"9\":\n",
    "        if option != \"1\" and option != \"2\" and option != \"3\":\n",
    "            print(\"Please pick a valid option: 1, 2, or 3\")\n",
    "        elif option == \"1\":\n",
    "            print(\"What is your new string?\")\n",
    "            user_text = input(\"> \")\n",
    "            print(\"Okay, updated your string.\")\n",
    "        elif option == \"2\":\n",
    "            user_text = reverse(user_text)\n",
    "            print(\"Your string is now: \" + user_text)\n",
    "        else: \n",
    "            # option must be 3\n",
    "            user_text = censor_vowels(user_text)\n",
    "            print(\"Your string is now: \" + user_text)\n",
    "        \n",
    "        main_menu()\n",
    "        print(\"What would you like to do next?\")\n",
    "        option = input(\"> \")\n",
    "    \n",
    "    print(\"Goodbye, see you next time!\")\n",
    "        \n",
    "main_loop()    "
   ]
  },
  {
   "cell_type": "markdown",
   "metadata": {},
   "source": [
    "## What Next?\n",
    "When you are done with this notebook and experimenting with the code above, go back to Engage and move onto the next section."
   ]
  }
 ],
 "metadata": {
  "kernelspec": {
   "display_name": "Python 3 (ipykernel)",
   "language": "python",
   "name": "python3"
  },
  "language_info": {
   "codemirror_mode": {
    "name": "ipython",
    "version": 3
   },
   "file_extension": ".py",
   "mimetype": "text/x-python",
   "name": "python",
   "nbconvert_exporter": "python",
   "pygments_lexer": "ipython3",
   "version": "3.11.4"
  }
 },
 "nbformat": 4,
 "nbformat_minor": 2
}
