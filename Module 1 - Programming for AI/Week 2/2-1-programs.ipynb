{
 "cells": [
  {
   "cell_type": "markdown",
   "metadata": {},
   "source": [
    "# Week 2 – Programs\n",
    "## 2.1 – Writing and Running Full Programs\n",
    "### Command Line Interfaces (CLI)\n",
    "Back in the early days of computers there was no such thing as a graphical user interface (GUI). \n",
    "\n",
    "Modern interfaces look like this:\n",
    "\n",
    "<img src=\"./resources/macbook.jpg\" width=500 />\n",
    "\n",
    "But old computer interfaces looked like this:\n",
    "\n",
    "<img src=\"./resources/bbcmicro.gif\" width=400 />\n",
    "\n",
    "Sometimes the monitors were a bit more <span style=\"color:green\">green</span>.\n",
    "\n",
    "Running a program on these computers meant typing its name followed by any options or arguments. These command line interfaces still exist on modern systems and can actually still be used to operate most of your machine. On Windows you can open the command prompt which uses a DOS-like interface, on Mac or Linux you can open a terminal window which will be a UNIX interface. \n",
    "\n",
    "We saw an example of this in the first week, this screenshot shows the result of running a simple program in the macOS terminal:\n",
    "\n",
    "<img src=\"./resources/terminal_program.png\" width=500 />\n",
    "\n",
    "If you are running on a UNIX machine (e.g. Mac or Linux), then we can run UNIX commands in a code cell by using an exclamation mark `!`. If you are running Jupyter in offline-mode on a Windows PC it will try to run in the Windows shell, which uses DOS-like commands.\n",
    "\n",
    "This isn't a course about UNIX (or DOS) so we will not dwell on details. Here is one example of a command you can use in UNIX: `ls` (short for list) will display all of the files in the current working directory (i.e. the current folder). If you're on a UNIX machine, try re-running the cell below to see if the result looks any different from the result on my machine (which is shown in the output).\n",
    "\n",
    "*If you are running Jupyter on your own Windows machine, change `ls` to `dir` – some of the commands may not run as expected, but you should get the idea. If you have questions ask on the forum and we can provide a platform for running this code on a UNIX machine.*"
   ]
  },
  {
   "cell_type": "code",
   "execution_count": 1,
   "metadata": {},
   "outputs": [
    {
     "name": "stdout",
     "output_type": "stream",
     "text": [
      "\u001b[31m2-1-programs.ipynb\u001b[m\u001b[m       2-3-basicstructure.ipynb exercise-sheet-1.ipynb\r\n",
      "2-2-inputandoutput.ipynb 2-4-debugging.ipynb      \u001b[34mresources\u001b[m\u001b[m\r\n"
     ]
    }
   ],
   "source": [
    "!ls"
   ]
  },
  {
   "cell_type": "markdown",
   "metadata": {},
   "source": [
    "This folder contains a bunch of notebooks (with `.ipynb` extensions) and some folders storing extra files. We can show the contents of other folders by including the directory we want to list. `../` means go up one folder, so `!ls ../` will show the contents of the root folder of this Notebook."
   ]
  },
  {
   "cell_type": "code",
   "execution_count": 2,
   "metadata": {},
   "outputs": [
    {
     "name": "stdout",
     "output_type": "stream",
     "text": [
      "\u001b[34mGetting Started\u001b[m\u001b[m \u001b[34mWeek 2\u001b[m\u001b[m          \u001b[34mWeek 4\u001b[m\u001b[m          \u001b[34mWeek 6\u001b[m\u001b[m          \u001b[34mWeek 8\u001b[m\u001b[m\r\n",
      "\u001b[34mWeek 1\u001b[m\u001b[m          \u001b[34mWeek 3\u001b[m\u001b[m          \u001b[34mWeek 5\u001b[m\u001b[m          \u001b[34mWeek 7\u001b[m\u001b[m          \u001b[34mscripts\u001b[m\u001b[m\r\n"
     ]
    }
   ],
   "source": [
    "!ls ../"
   ]
  },
  {
   "cell_type": "markdown",
   "metadata": {},
   "source": [
    "The `ls` command can take a number of additional options as well:\n",
    "* `-l` will show a long format (more details)\n",
    "* `-a` shows hidden files (those that start with `.`)\n",
    "* `-R` will recursively show contents of folders\n",
    "* and there are many more\n",
    "\n",
    "So we can write the following command to see long details about all of the files in this folder and subfolders:"
   ]
  },
  {
   "cell_type": "code",
   "execution_count": 3,
   "metadata": {
    "scrolled": false
   },
   "outputs": [
    {
     "name": "stdout",
     "output_type": "stream",
     "text": [
      "total 200\r\n",
      "-rwxr-xr-x  1 andrew  staff  13632  7 Aug 13:27 \u001b[31m2-1-programs.ipynb\u001b[m\u001b[m\r\n",
      "-rw-r--r--  1 andrew  staff  12342  7 Aug 13:33 2-2-inputandoutput.ipynb\r\n",
      "-rw-r--r--  1 andrew  staff  14626  7 Aug 13:40 2-3-basicstructure.ipynb\r\n",
      "-rw-r--r--  1 andrew  staff  26689  7 Aug 13:48 2-4-debugging.ipynb\r\n",
      "-rw-r--r--  1 andrew  staff  23458  5 Aug 16:36 exercise-sheet-1.ipynb\r\n",
      "drwxr-xr-x  9 andrew  staff    288 15 Jul 13:19 \u001b[34mresources\u001b[m\u001b[m\r\n",
      "\r\n",
      "./resources:\r\n",
      "total 2664\r\n",
      "-rwxr-xr-x  1 andrew  staff    8956 13 Aug  2019 \u001b[31mbbcmicro.gif\u001b[m\u001b[m\r\n",
      "-rwxr-xr-x  1 andrew  staff  249843 13 Aug  2019 \u001b[31mbbcmicro.jpg\u001b[m\u001b[m\r\n",
      "-rw-r--r--  1 andrew  staff      15 14 Aug  2019 hello_string.py\r\n",
      "-rw-r--r--@ 1 andrew  staff      22 14 Aug  2019 hello_world.py\r\n",
      "-rwxr-xr-x  1 andrew  staff  631458 13 Aug  2019 \u001b[31mmacbook.jpg\u001b[m\u001b[m\r\n",
      "-rw-r--r--@ 1 andrew  staff  224313 15 Aug  2019 terminal_hw.png\r\n",
      "-rw-r--r--@ 1 andrew  staff  230291 13 Jul 17:41 terminal_program.png\r\n"
     ]
    }
   ],
   "source": [
    "!ls -l -R"
   ]
  },
  {
   "cell_type": "markdown",
   "metadata": {},
   "source": [
    "So to recap: the application's name is `ls`, and it takes many possible *arguments* (just like functions), including a directory path such as `../`, or various options like `-a` or `-R`. The application outputs its results to the screen, and if you were running it on a command line interface, you would then be able to type the next command or application you want to run.\n",
    "\n",
    "Other applications are more interactive. They go between outputting text to the screen and waiting for the user to type something directly into the application. One example of this type of application is the randomly generated quizzes you have been answering each section. You have to finish the quiz naturally or force the cell to stop before you can run anything else. With a command line interface this is more obvious because it takes over the screen. In Jupyter there is no command line *prompt* (the bit that looks like `>_` in the old CLI image, or `andrew$` in the newer one) to start running new applications from.\n",
    "\n",
    "Like I said, we won't dwell on the details. The reason we are talking about command line interfaces is because when we write our first full programs they will almost certainly fall into this format. Learning how to write programs that have *graphical* user interfaces is not covered in this unit, but is something you can pick up once you are comfortable writing basic Python. There are really only two ways to write a command line app: you either display your results and quit (like `ls`), or you interactively take input from the user (like the quizzes). There are many ways to write applications with GUIs, and they normally involve using external frameworks and libraries. While we do not go into writing GUIs specifically we will talk about using external libraries in a later week.\n",
    "\n",
    "In the next section you will build your first full Python command line application. But first, let's talk about how these applications come to be.\n",
    "\n",
    "### Building Applications\n",
    "Code exists in two forms. All applications have some form of **source code**, which is what you have been learning how to write. This is the form used during development, it is readable and editable, and will work on many platforms: different operating systems (Windows, macOS, Linux), even different hardware. However, processors (the part of your computer which interprets and executes instructions on data) are not written to support programming languages like Python. They support very *low-level* instructions that are called **machine code**. The reason that Python can run on an Intel CPU in Windows or an ARM CPU in iOS is because someone has written some code which **translates** from the *source code* (Python) to the *machine code* (processor-specific).\n",
    "\n",
    "Ultimately, code *must* be translated into machine code at some point if you want to run it. But the way this happens normally falls into one of two broad categories:\n",
    "* The source code might be **compiled** into another file. This new file will contain a mix of machine code (processor-specific) and instructions that are specific to your operating system. This file can then be executed to run the code. If you send the *compiled* file to someone with the same operating system, they will also be able to run it. They will not be able to edit the file in the same way you can edit source code.\n",
    "* Alternatively, the source code can be **interpreted** on-the-fly. The *interpreter* will work through the code line by line, translating and then immediately executing the code. In this case, the source code *is* the application. If you send it to someone else they can only run it if they have a compatible interpreter. They could also go in and edit the code to behave differently, if they wished.\n",
    "\n",
    "Some languages fall into a weird middle-ground, but this pattern more of less holds for any source code: it is either compiled into a separate file which is run, or the code itself is interpreted.\n",
    "\n",
    "The application `ls` that we ran before has already been *compiled*. We cannot edit its source code directly from the application that we run.\n",
    "\n",
    "Python code is normally in the second category. When you run code on a Jupyter Notebook the lines are being *interpreted* on the fly. There are ways to compile Python code as well, but this is beyond the scope of this unit.\n",
    "\n",
    "### Building Python Applications\n",
    "So writing an application in Python is really as simple as putting a bunch of source code in one or more text files. Python source files are just plain text. We usually use the file extension `.py` to indicate a file is Python code.\n",
    "\n",
    "If you don't already, now would be a good time to go and find a good text editor designed for writing code. Each operating system has built in text editors, but they are generally not up to the task of writing code. I recommend a text editor called [Atom](https://atom.io/) which is free and open source. Code specific text editors have useful features that make coding easier such as the *syntax highlighting* you see on Jupyter. However you normally need to compile or interpret the code in a separate tool – normally the command line.\n",
    "\n",
    "You can also use more powerful tools called *integrated development environments* or IDEs. These are often focused on one programming language and include the compiler or interpreter built-in, so you might be able to click a `run` button within the application, and it will interpret or compile and run the code in one click. It might show you some extra information like errors or warnings in your code before you click run, and it can help suggest what you might be trying to type as you type it. IDEs are more complicated so can be harder to learn, but can offer a lot of useful features when writing code. I use [PyCharm](https://www.jetbrains.com/pycharm/download/) to write most of my Python code.\n",
    "\n",
    "Once we have a Python source code file, and assuming Python is installed properly, we can run (interpret) the code by using the command line application called `python`. This is actually the same as the *magic command* `%run` that you will see in many code cells in these Notebooks.\n",
    "\n",
    "I have written a Python program called \"hello world\", this is one of the most famous first programs that people are often taught to write, all it does is show the phrase \"Hello world!\" on the display. Here I am running the program by passing the source code into the `python` application in my terminal:\n",
    "\n",
    "<img src=\"./resources/terminal_hw.png\" width=500 />\n",
    "\n",
    "The command below will interpret the code within Jupyter, it is doing the exact same thing."
   ]
  },
  {
   "cell_type": "code",
   "execution_count": 4,
   "metadata": {},
   "outputs": [
    {
     "name": "stdout",
     "output_type": "stream",
     "text": [
      "Hello world!\r\n"
     ]
    }
   ],
   "source": [
    "!python ./resources/hello_world.py"
   ]
  },
  {
   "cell_type": "markdown",
   "metadata": {},
   "source": [
    "## What Next?\n",
    "When you are done with this notebook, go back to Engage and move onto the next section, where we will look at how this application is written, and some more complicated programs."
   ]
  }
 ],
 "metadata": {
  "kernelspec": {
   "display_name": "Python 3 (ipykernel)",
   "language": "python",
   "name": "python3"
  },
  "language_info": {
   "codemirror_mode": {
    "name": "ipython",
    "version": 3
   },
   "file_extension": ".py",
   "mimetype": "text/x-python",
   "name": "python",
   "nbconvert_exporter": "python",
   "pygments_lexer": "ipython3",
   "version": "3.11.4"
  }
 },
 "nbformat": 4,
 "nbformat_minor": 2
}
