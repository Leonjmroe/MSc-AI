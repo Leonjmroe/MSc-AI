{
 "cells": [
  {
   "cell_type": "markdown",
   "metadata": {},
   "source": [
    "Pandas is a package that enables working a lot with tabular data, time series data and in general statistical data sets that are used in AI. It offers useful tools for handling missing data and other tools for manipulating the data. Moreover, it also provides utilities for reading and writing data from a variety of different sources such as CSV files and JSON format files. \n",
    "\n",
    "There are two main data structures used by Pandas\n",
    "\n",
    "<i>Series</i> <br>\n",
    "Series is a one-dimensional labelled array that can hold data of any particular type. The axis it uses to align the data is termed an index. \n",
    "<pre>s = pd.Series(data, index=index)</pre>\n",
    "\n",
    "Let us consider an example where we would like to store the number of a fruit such as apples that are sold for a particular number of days. This could be created as follows:\n"
   ]
  },
  {
   "cell_type": "markdown",
   "metadata": {},
   "source": [
    "Pandas is frequently used for processing tabular data with several columns. The best way to explore using the Package is\n",
    "by considering various examples."
   ]
  },
  {
   "cell_type": "code",
   "execution_count": 1,
   "metadata": {},
   "outputs": [
    {
     "name": "stdout",
     "output_type": "stream",
     "text": [
      "2019-12-01    10\n",
      "2019-12-02    17\n",
      "2019-12-03    19\n",
      "2019-12-04    15\n",
      "2019-12-05    11\n",
      "Name: num_apples, dtype: int64\n",
      "10\n",
      "2019-12-03 00:00:00\n"
     ]
    }
   ],
   "source": [
    "import pandas as pd;\n",
    "import numpy as np;\n",
    "\n",
    "from datetime import date\n",
    "fromdate = date.fromisoformat('2019-12-01')\n",
    "datelist = pd.date_range(fromdate, periods=5).tolist() \n",
    "apples_sold = pd.Series(np.random.randint(10,20,5),name='num_apples',index=datelist)\n",
    "print(apples_sold);\n",
    "print(apples_sold['2019-12-01'])\n",
    "print(datelist[apples_sold.argmax()])"
   ]
  },
  {
   "cell_type": "markdown",
   "metadata": {},
   "source": [
    "If no index is passed, then it creates one using values [0,…len(data)-1]. For instance:\n"
   ]
  },
  {
   "cell_type": "code",
   "execution_count": 2,
   "metadata": {},
   "outputs": [
    {
     "name": "stdout",
     "output_type": "stream",
     "text": [
      "0   -0.870717\n",
      "1   -0.703888\n",
      "2    0.765159\n",
      "3    1.393113\n",
      "4    0.902752\n",
      "Name: something, dtype: float64\n"
     ]
    }
   ],
   "source": [
    "import pandas as pd\n",
    "import numpy as np\n",
    "print(pd.Series(np.random.randn(5),name='something'));\n",
    "\n"
   ]
  },
  {
   "cell_type": "markdown",
   "metadata": {},
   "source": [
    "<p>\n",
    "    <i>Dataframe</i> <br>\n",
    "Dataframe is a two-dimensional labelled data-structure with columns of potentially different types. It is the most commonly used Pandas object. <br>\n",
    "A very simple example for creating a dataframe is as follows:\n"
   ]
  },
  {
   "cell_type": "code",
   "execution_count": 3,
   "metadata": {},
   "outputs": [
    {
     "name": "stdout",
     "output_type": "stream",
     "text": [
      "                   A         B         C         D\n",
      "2020-01-01  0.437154  1.518961 -0.236314 -1.268175\n",
      "2020-01-02  2.549036 -0.296776 -0.980191  0.250784\n",
      "2020-01-03  0.010786  0.318170 -2.426359  0.261615\n",
      "2020-01-04  0.185179  1.288606  1.047357  1.184396\n",
      "2020-01-05  1.242413  0.036349  1.002235 -0.014581\n",
      "2020-01-06  2.196676  3.320251 -0.577551  0.895845\n",
      "A    2.549036\n",
      "B    3.320251\n",
      "C    1.047357\n",
      "D    1.184396\n",
      "dtype: float64\n",
      "                   A         B         C         D\n",
      "2020-01-02  2.549036 -0.296776 -0.980191  0.250784\n",
      "2020-01-06  2.196676  3.320251 -0.577551  0.895845\n",
      "2020-01-02    2.549036\n",
      "2020-01-06    2.196676\n",
      "2020-01-05    1.242413\n",
      "Name: A, dtype: float64\n"
     ]
    }
   ],
   "source": [
    "import pandas as pd\n",
    "import numpy as np\n",
    "dates = pd.date_range('20200101', periods=6)\n",
    "df = pd.DataFrame(np.random.randn(6, 4), index=dates, columns=list('ABCD'))\n",
    "print(df)\n",
    "print(df.max())\n",
    "print(df.nlargest(2,columns=list('ABCD'),keep=\"first\"))\n",
    "print(df['A'].nlargest(3))"
   ]
  },
  {
   "cell_type": "markdown",
   "metadata": {},
   "source": [
    "More about the Series and DataFrame can be obtained by referring to think links [here](https://pandas.pydata.org/docs/user_guide/dsintro.html)\n",
    "\n",
    "In Pandas we can use many of the indexing and selection operations that we saw earlier in the case of NumPy.\n",
    "More details about indexing and selection are available [here](https://pandas.pydata.org/pandas-docs/stable/user_guide/indexing.html)\n",
    "\n",
    "Other aspects that are useful to consider in Pandas are the label alignment that is possible when working with series or DataFrames which are discussed in the following [link](https://pandas.pydata.org/docs/user_guide/dsintro.html)."
   ]
  },
  {
   "cell_type": "markdown",
   "metadata": {
    "pycharm": {
     "name": "#%% md\n"
    }
   },
   "source": [
    "### Missing Data\n",
    "One very useful facet about Pandas is the ability to handle missing data.\n",
    "There are usually often cases where some data is missing in a particular source.\n",
    "The way it needs to be handled is either by using a special mask or a special value\n",
    "to indicate that the data is missing. Pandas uses the latter by using <code>Nan</code> to indicate some data is missing.\n",
    "It further provides specific functions for handling such missing data."
   ]
  },
  {
   "cell_type": "code",
   "execution_count": 4,
   "metadata": {
    "pycharm": {
     "name": "#%%\n"
    }
   },
   "outputs": [
    {
     "name": "stdout",
     "output_type": "stream",
     "text": [
      "                   A         B         C         D\n",
      "2020-01-01 -0.245505  0.884681 -0.313470 -0.144505\n",
      "2020-01-02       NaN -0.764650  0.326988 -0.290811\n",
      "2020-01-03  0.783698       NaN -0.098859  0.808964\n",
      "2020-01-04  0.084491  0.322840  0.201969  2.294212\n",
      "2020-01-05 -1.288393 -0.210254  0.527050 -0.526116\n",
      "2020-01-06 -1.183135 -0.156867  0.801218       NaN\n",
      "A   -1.848844\n",
      "B    0.075750\n",
      "C    1.444896\n",
      "D    2.141744\n",
      "dtype: float64\n",
      "                   A         B         C         D         E         F\n",
      "2020-01-01 -0.245505  0.884681 -0.313470 -0.144505  0.639176  0.820378\n",
      "2020-01-02       NaN -0.764650  0.326988 -0.290811       NaN -0.728473\n",
      "2020-01-03  0.783698       NaN -0.098859  0.808964       NaN  1.493803\n",
      "2020-01-04  0.084491  0.322840  0.201969  2.294212  0.407331  3.310843\n",
      "2020-01-05 -1.288393 -0.210254  0.527050 -0.526116 -1.498647 -2.996361\n",
      "2020-01-06 -1.183135 -0.156867  0.801218       NaN -1.340002 -1.878785\n",
      "                   A         B         C         D         E         F\n",
      "2020-01-01 -0.245505  0.884681 -0.313470 -0.144505  0.639176  0.820378\n",
      "2020-01-02  0.000000 -0.764650  0.326988 -0.290811  0.000000 -0.728473\n",
      "2020-01-03  0.783698  0.000000 -0.098859  0.808964  0.000000  1.493803\n",
      "2020-01-04  0.084491  0.322840  0.201969  2.294212  0.407331  3.310843\n",
      "2020-01-05 -1.288393 -0.210254  0.527050 -0.526116 -1.498647 -2.996361\n",
      "2020-01-06 -1.183135 -0.156867  0.801218  0.000000 -1.340002 -1.878785\n"
     ]
    }
   ],
   "source": [
    "\n",
    "import pandas as pd\n",
    "import numpy as np\n",
    "dates = pd.date_range('20200101', periods=6)\n",
    "df = pd.DataFrame(np.random.randn(6, 4), index=dates, columns=list('ABCD'))\n",
    "df['A'][1] = np.NaN\n",
    "df['B'][2] = np.NaN\n",
    "df['D'][-1] = np.NaN\n",
    "print(df)\n",
    "print(df.sum()) # NaN values are ignored in such operations\n",
    "df['E'] = df['A']+df['B'] #addition of NaN to a value results in NaN\n",
    "df['F'] = df.sum(axis=1)\n",
    "print(df)\n",
    "idx = df.isna()# getting boolean index of NaN values\n",
    "df[idx] = 0 #setting NaN values to 0\n",
    "print(df)\n"
   ]
  },
  {
   "cell_type": "markdown",
   "metadata": {},
   "source": [
    "We have just considered a few examples above for missing data. More examples for the same are available [here](https://pandas.pydata.org/pandas-docs/stable/user_guide/missing_data.html)\n",
    "\n",
    "### Analysing the data\n",
    "\n",
    "Some useful Pandas functions to consider are functions such as describe that allow us to obtain a complete\n",
    "statistical analysis for a dataframe. It provides us the mean, max, standard deviation and the various percentiles.\n",
    "For instance 50% is the median of the data and 25% indicates the first quartile of the data and 75% the third quartile\n",
    "of the data.\n",
    "\n",
    "Similarly the head() and tail() functions allow us to see the first few values of the dataframe"
   ]
  },
  {
   "cell_type": "code",
   "execution_count": 5,
   "metadata": {
    "pycharm": {
     "name": "#%%\n"
    }
   },
   "outputs": [
    {
     "name": "stdout",
     "output_type": "stream",
     "text": [
      "               A          B          C          D\n",
      "count  31.000000  31.000000  31.000000  31.000000\n",
      "mean    0.117389  -0.297599   0.176704  -0.006584\n",
      "std     0.992239   1.092160   1.054826   1.224911\n",
      "min    -1.734029  -2.564078  -3.068576  -2.989822\n",
      "25%    -0.616580  -1.064195  -0.137303  -0.848671\n",
      "50%     0.173176  -0.223259   0.267710   0.226967\n",
      "75%     0.939607   0.365130   0.835097   0.807021\n",
      "max     2.227107   2.363722   1.731194   2.584281\n",
      "                   A         B         C         D\n",
      "2020-01-01  0.648576  0.440383  1.276468 -0.416838\n",
      "2020-01-02 -0.565172 -0.647034  0.558732  0.824649\n",
      "2020-01-03  0.235010 -2.165494 -0.796766  2.584281\n",
      "2020-01-04 -0.667671 -1.045061  1.012008  0.752111\n",
      "2020-01-05 -0.962975 -0.537011  0.273614  0.809464\n",
      "                   A         B         C         D\n",
      "2020-01-27 -0.295788  0.679190  0.016278  0.226967\n",
      "2020-01-28  0.312559  0.181296  0.254826  0.636783\n",
      "2020-01-29  2.227107  0.264490 -0.211485 -0.767031\n",
      "2020-01-30  0.277679 -0.576570  1.190712 -2.989822\n",
      "2020-01-31 -1.149131  0.742076  0.680869 -1.043123\n"
     ]
    }
   ],
   "source": [
    "import pandas as pd\n",
    "import numpy as np\n",
    "dates = pd.date_range('20200101', periods=31)\n",
    "df = pd.DataFrame(np.random.randn(31, 4), index=dates, columns=list('ABCD'))\n",
    "\n",
    "print(df.describe())\n",
    "\n",
    "print(df.head())\n",
    "\n",
    "print(df.tail())"
   ]
  },
  {
   "cell_type": "markdown",
   "metadata": {},
   "source": [
    "### Further references\n",
    "\n",
    "We have seen a few examples of working with Pandas. More examples can be obtained from the following [documentation](https://pandas.pydata.org/pandas-docs/stable/user_guide/index.html)\n",
    "\n"
   ]
  }
 ],
 "metadata": {
  "kernelspec": {
   "display_name": "Python 3 (ipykernel)",
   "language": "python",
   "name": "python3"
  },
  "language_info": {
   "codemirror_mode": {
    "name": "ipython",
    "version": 3
   },
   "file_extension": ".py",
   "mimetype": "text/x-python",
   "name": "python",
   "nbconvert_exporter": "python",
   "pygments_lexer": "ipython3",
   "version": "3.11.5"
  }
 },
 "nbformat": 4,
 "nbformat_minor": 4
}
