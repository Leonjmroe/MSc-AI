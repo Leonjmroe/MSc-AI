{
 "cells": [
  {
   "cell_type": "markdown",
   "metadata": {},
   "source": [
    "In the previous lesson, we understood more about creating our own modules. We also saw that Python has a library NumPy that allows functionality like adding vectors more easily. In this lesson, we will understand more about this very useful NumPy package."
   ]
  },
  {
   "cell_type": "markdown",
   "metadata": {},
   "source": [
    "NumPy is used for a variety of numerical computation tasks. We will explore various aspects of NumPy in this lesson.\n",
    "\n",
    "### Concept of a Datatype in NumPy Arrays"
   ]
  },
  {
   "cell_type": "markdown",
   "metadata": {},
   "source": [
    "We have previously seen lists. How would an `array' of data in a list vary from an `array' of data in NumPy. Let us explore through a brief example"
   ]
  },
  {
   "cell_type": "markdown",
   "metadata": {},
   "source": [
    "Consider that we create a list with numbers in Python using Lists. We could do that easily as follows:"
   ]
  },
  {
   "cell_type": "code",
   "execution_count": 37,
   "metadata": {},
   "outputs": [
    {
     "name": "stdout",
     "output_type": "stream",
     "text": [
      "[10, 35, 60, 12, 23]\n"
     ]
    }
   ],
   "source": [
    "a = [10,35,60,12,23]\n",
    "print (a);"
   ]
  },
  {
   "cell_type": "markdown",
   "metadata": {},
   "source": [
    "Now, we obtain a number that updates the third number in the list to be 43.6 instead of 60. We can update this as follows:"
   ]
  },
  {
   "cell_type": "code",
   "execution_count": 38,
   "metadata": {},
   "outputs": [
    {
     "name": "stdout",
     "output_type": "stream",
     "text": [
      "[10, 35, 43.3, 12, 23]\n"
     ]
    }
   ],
   "source": [
    "a[2] = 43.3\n",
    "print(a);"
   ]
  },
  {
   "cell_type": "markdown",
   "metadata": {},
   "source": [
    "Note that this list has now a mixed set of data types. That is some of the numbers are integers and others are floating point numbers. Once we do computation on these, we may get varying kind of results. That is, lists in Python do not enforce type safety. "
   ]
  },
  {
   "cell_type": "code",
   "execution_count": 39,
   "metadata": {},
   "outputs": [
    {
     "name": "stdout",
     "output_type": "stream",
     "text": [
      "<class 'int'>\n"
     ]
    }
   ],
   "source": [
    "print(type(a[1]));"
   ]
  },
  {
   "cell_type": "code",
   "execution_count": 40,
   "metadata": {},
   "outputs": [
    {
     "name": "stdout",
     "output_type": "stream",
     "text": [
      "<class 'float'>\n"
     ]
    }
   ],
   "source": [
    "print(type(a[2]));"
   ]
  },
  {
   "cell_type": "markdown",
   "metadata": {},
   "source": [
    "Let us try out the same exercise in NumPy using arrays"
   ]
  },
  {
   "cell_type": "code",
   "execution_count": 41,
   "metadata": {},
   "outputs": [
    {
     "name": "stdout",
     "output_type": "stream",
     "text": [
      "[10 35 60 11 23]\n"
     ]
    }
   ],
   "source": [
    "import numpy as np\n",
    "b = np.array([10,35,60,11,23])\n",
    "print(b);"
   ]
  },
  {
   "cell_type": "code",
   "execution_count": 42,
   "metadata": {},
   "outputs": [
    {
     "name": "stdout",
     "output_type": "stream",
     "text": [
      "[10 35 43 11 23]\n"
     ]
    }
   ],
   "source": [
    "b[2] = 43.3\n",
    "print(b)"
   ]
  },
  {
   "cell_type": "markdown",
   "metadata": {},
   "source": [
    "We observe that in NumPy, the number maintains the data type, i.e. integers for the array and converts 43.3 to 43. We can inspect the datatype of the array element as follows:"
   ]
  },
  {
   "cell_type": "code",
   "execution_count": 43,
   "metadata": {},
   "outputs": [
    {
     "name": "stdout",
     "output_type": "stream",
     "text": [
      "int64\n"
     ]
    }
   ],
   "source": [
    "print(b.dtype)"
   ]
  },
  {
   "cell_type": "markdown",
   "metadata": {},
   "source": [
    "This indicates that the array created is an integer array. Similarly, we could create floating point arrays"
   ]
  },
  {
   "cell_type": "code",
   "execution_count": 44,
   "metadata": {},
   "outputs": [
    {
     "name": "stdout",
     "output_type": "stream",
     "text": [
      "[ 2.4  3.5 23.6 34. ]\n"
     ]
    }
   ],
   "source": [
    "f = np.array([2.4,3.5,23.6,34])\n",
    "print(f)"
   ]
  },
  {
   "cell_type": "code",
   "execution_count": 45,
   "metadata": {},
   "outputs": [
    {
     "name": "stdout",
     "output_type": "stream",
     "text": [
      "float64\n"
     ]
    }
   ],
   "source": [
    "print(f.dtype)"
   ]
  },
  {
   "cell_type": "code",
   "execution_count": 46,
   "metadata": {},
   "outputs": [
    {
     "name": "stdout",
     "output_type": "stream",
     "text": [
      "[ 2.4  3.5 23.  34. ]\n"
     ]
    }
   ],
   "source": [
    "f[2] = 23\n",
    "print(f)"
   ]
  },
  {
   "cell_type": "markdown",
   "metadata": {},
   "source": [
    "We can see that the function automatically converts the integer 23 to a floating point number. Thus NumPy provides some amount of type safety in numerical computation. It helps ensure that our computations are consistent. "
   ]
  },
  {
   "cell_type": "markdown",
   "metadata": {},
   "source": [
    "### Creation of Arrays\n",
    "\n",
    "There are several ways to create arrays in Python. These can be created by converting existing lists or tuples in Python or other ways such as by using methods available in NumPy for creating arrays\n",
    "\n",
    "As we have already observed, we can convert Python lists to NumPy arrays. For instance"
   ]
  },
  {
   "cell_type": "code",
   "execution_count": 47,
   "metadata": {
    "pycharm": {
     "name": "#%%\n"
    }
   },
   "outputs": [
    {
     "name": "stdout",
     "output_type": "stream",
     "text": [
      "[4. 2. 5.]\n",
      "[[4 5 6]\n",
      " [1 2 3]\n",
      " [7 8 9]]\n",
      "[[1.+2.j 2.+0.j]\n",
      " [2.+3.j 4.+0.j]]\n"
     ]
    }
   ],
   "source": [
    "a = np.array([4, 2, 5],dtype=float)\n",
    "print(a)\n",
    "a = np.array([[4,5, 6],[1,2,3],[7,8,9]])\n",
    "print(a)\n",
    "a = np.array([[1+2j, 2],(2+3j, 4 )] ) # mixing tuples and lists\n",
    "print(a)"
   ]
  },
  {
   "cell_type": "markdown",
   "metadata": {},
   "source": [
    "The examples above show various ways for creating NumPy arrays by converting existing Python data structures. However, there are a number of other functions available to create arrays in NumPy that we will consider"
   ]
  },
  {
   "cell_type": "code",
   "execution_count": 49,
   "metadata": {
    "pycharm": {
     "name": "#%%\n"
    }
   },
   "outputs": [
    {
     "name": "stdout",
     "output_type": "stream",
     "text": [
      "[[0. 0. 0.]\n",
      " [0. 0. 0.]\n",
      " [0. 0. 0.]]\n",
      "[[1. 1. 1.]\n",
      " [1. 1. 1.]]\n",
      "[0 1 2 3 4]\n",
      "[2.  2.4 2.8 3.2 3.6 4. ]\n"
     ]
    }
   ],
   "source": [
    "a = np.zeros([3,3])\n",
    "print(a)\n",
    "a = np.ones([2, 3])\n",
    "print(a)\n",
    "a = np.arange(5)\n",
    "print(a)\n",
    "a = np.linspace(2,4, 6)\n",
    "print(a) # Creates an array between the range 2 and 4 with 6 elements equally spaced"
   ]
  },
  {
   "cell_type": "markdown",
   "metadata": {},
   "source": [
    "More information about creating arrays can be obtained from the NumPy documentation available at the following [link](https://numpy.org/doc/stable/reference/routines.array-creation.html)"
   ]
  }
 ],
 "metadata": {
  "kernelspec": {
   "display_name": "Python 3 (ipykernel)",
   "language": "python",
   "name": "python3"
  },
  "language_info": {
   "codemirror_mode": {
    "name": "ipython",
    "version": 3
   },
   "file_extension": ".py",
   "mimetype": "text/x-python",
   "name": "python",
   "nbconvert_exporter": "python",
   "pygments_lexer": "ipython3",
   "version": "3.11.4"
  }
 },
 "nbformat": 4,
 "nbformat_minor": 4
}
