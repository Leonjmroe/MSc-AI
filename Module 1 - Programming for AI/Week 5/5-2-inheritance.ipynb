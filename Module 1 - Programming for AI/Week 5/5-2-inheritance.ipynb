{
 "cells": [
  {
   "cell_type": "markdown",
   "metadata": {},
   "source": [
    "## 5.2 – Object-Oriented Programming 2\n",
    "### Inheritance\n",
    "Let's continue the vehicle example from Engage. Suppose we are writing a program where it makes sense to model individual vehicle objects – we might be writing an open world video game where these vehicles will be rendered on screen, or we might be writing a stock system for a vehicle hire company where we want to closely keep track of each vehicles details before and after each rental (mileage, dents and scrapes, service history, etc).\n",
    "\n",
    "All vehicles will share some properties in this system, but they will also have characteristics that are unique to each specific type of vehicle. So we might want to create an attribute like `mileage` which will apply to all vehicles, but `number_of_doors` should only be on cars (and let's say a “car” includes any 4-wheeled vehicle on the road).\n",
    "\n",
    "We could create a Vehicle class that contains both attributes:\n",
    "\n",
    "<table style=\"border:1px solid black\">\n",
    "<tr style=\"border-bottom: 1px solid black\"><th style=\"background-color:#FFFFFF\">\n",
    "<p>Vehicle</p>\n",
    "</th></tr>\n",
    "<tr><td style=\"background-color:#F5F5F5\">\n",
    "<p>mileage<br>number_of_doors</p>\n",
    "</td></tr>\n",
    "</table>\n",
    "\n",
    "But now any objects for motorbikes will have a wasted attribute. We could set `number_of_doors` to zero, but it's wasteful information, since we are assuming this is true for all motorbikes. The point of an attribute is that it can be different for each object: this car has 2 doors, this car has 5 doors, this car has 18 doors, and so on.\n",
    "\n",
    "So maybe we should create a class for each of them instead:\n",
    "\n",
    "<table>\n",
    "<tr><td style=\"background-color:#FFFFFF;vertical-align:top\">\n",
    "\n",
    "<table style=\"border:1px solid black\">\n",
    "<tr style=\"border-bottom: 1px solid black\"><th style=\"background-color:#FFFFFF\">\n",
    "<p><b>Car</b></p>\n",
    "</th></tr>\n",
    "<tr><td style=\"background-color:#F5F5F5\">\n",
    "<p>mileage<br>number_of_doors</p>\n",
    "</td></tr>\n",
    "</table>\n",
    "\n",
    "</td><td style=\"background-color:#FFFFFF;vertical-align:top\">\n",
    "\n",
    "<table style=\"border:1px solid black\">\n",
    "<tr style=\"border-bottom: 1px solid black\"><th style=\"background-color:#FFFFFF\">\n",
    "<p><b>Motorbike</b></p>\n",
    "</th></tr>\n",
    "<tr><td style=\"background-color:#F5F5F5\">\n",
    "<p>mileage</p>\n",
    "</td></tr>\n",
    "</table>\n",
    "\n",
    "</td></tr> </table>\n",
    "\n",
    "But now we've got duplicated data, mileage is specified separately in two separate places! Always a sign of bad design.\n",
    "\n",
    "The correct solution is to use **inheritance**. We should make a class called Vehicle which contains `mileage`, then Car and Motorbike can both be **subclasses** of Vehicle. Subclasses *inherit* their properties from their **superclass**.\n",
    "\n",
    "<table style=\"border:1px solid black\">\n",
    "<tr style=\"border-bottom: 1px solid black\"><th style=\"background-color:#FFFFFF\">\n",
    "<p>Vehicle</p>\n",
    "</th></tr>\n",
    "<tr><td style=\"background-color:#F5F5F5\">\n",
    "<p>mileage</p>\n",
    "</td></tr>\n",
    "</table>\n",
    "\n",
    "<img src=\"./resources/arrow.svg\" width=120/>\n",
    "\n",
    "<table>\n",
    "<tr><td style=\"background-color:#FFFFFF;vertical-align:top\">\n",
    "\n",
    "<table style=\"border:1px solid black\">\n",
    "<tr style=\"border-bottom: 1px solid black\"><th style=\"background-color:#FFFFFF\">\n",
    "<p><b>Car</b></p>\n",
    "</th></tr>\n",
    "<tr><td style=\"background-color:#F5F5F5\">\n",
    "<p>number_of_doors</p>\n",
    "</td></tr>\n",
    "</table>\n",
    "\n",
    "</td><td style=\"background-color:#FFFFFF;vertical-align:top\">\n",
    "\n",
    "<table style=\"border:1px solid black\">\n",
    "<tr style=\"border-bottom: 1px solid black\"><th style=\"background-color:#FFFFFF\">\n",
    "<p><b>Motorbike</b></p>\n",
    "</th></tr>\n",
    "<tr><td style=\"background-color:#F5F5F5\">\n",
    "<p></p>\n",
    "</td></tr>\n",
    "</table>\n",
    "\n",
    "</td></tr> </table>\n",
    "\n",
    "Car and Motorbike are both subclasses of Vehicle. Vehicle is a superclass of Car and Motorbike.\n",
    "\n",
    "Let's look at an example in Python."
   ]
  },
  {
   "cell_type": "code",
   "execution_count": 1,
   "metadata": {},
   "outputs": [
    {
     "name": "stdout",
     "output_type": "stream",
     "text": [
      "My bike has done 10000 miles and my car has done 10000 miles.\n"
     ]
    }
   ],
   "source": [
    "class Vehicle:\n",
    "    def __init__(self):\n",
    "        self.mileage = 0\n",
    "    \n",
    "class Car(Vehicle):\n",
    "    def __init__(self, number_of_doors):\n",
    "        super().__init__()\n",
    "        self.number_of_doors = number_of_doors\n",
    "        \n",
    "class Motorbike(Vehicle):\n",
    "    pass\n",
    "\n",
    "\n",
    "my_bike = Motorbike()\n",
    "my_car = Car(5)\n",
    "\n",
    "my_vehicles = [my_bike, my_car]\n",
    "\n",
    "for vehicle in my_vehicles:\n",
    "    vehicle.mileage += 10000\n",
    "    \n",
    "print(f\"My bike has done {my_bike.mileage} miles and my car has done {my_car.mileage} miles.\")"
   ]
  },
  {
   "cell_type": "markdown",
   "metadata": {},
   "source": [
    "We can see that `Car` is a subclass of `Vehicle` because it is written in parentheses in the class declaration:\n",
    "```python\n",
    "class Car(Vehicle):\n",
    "```\n",
    "\n",
    "It automatically *inherits* the attribute from Vehicle, but since we are writing a new constructor (`__init__` method) for `Car` we must make sure it calls the superclass constructor using the line:\n",
    "```python\n",
    "super().__init__()\n",
    "```\n",
    "\n",
    "For the `Motorbike` class, we did not add anything. It automatically inherits the `mileage` attribute. We do not need to provide an `__init__()` method because we are not adding anything to it, Python will automatically generate one for us which will automatically perform the `super()` call (we never see this code, it is just callable).\n",
    "\n",
    "### The Object Class\n",
    "If we do not write in the name of a superclass when we declare a new class, it automatically becomes a subclass of the class `object`, and this is the top of the tree. So `Vehicle` is a subclass of `object`.\n",
    "\n",
    "<table style=\"border:1px solid black\">\n",
    "<tr style=\"border-bottom: 1px solid black\"><th style=\"background-color:#FFFFFF\">\n",
    "<p>object</p>\n",
    "</th></tr>\n",
    "<tr><td style=\"background-color:#F5F5F5\">\n",
    "<p>…</p>\n",
    "</td></tr>\n",
    "</table>\n",
    "\n",
    "<img src=\"./resources/arrow_up.svg\" width=14/>\n",
    "\n",
    "<table style=\"border:1px solid black\">\n",
    "<tr style=\"border-bottom: 1px solid black\"><th style=\"background-color:#FFFFFF\">\n",
    "<p>Vehicle</p>\n",
    "</th></tr>\n",
    "<tr><td style=\"background-color:#F5F5F5\">\n",
    "<p>mileage</p>\n",
    "</td></tr>\n",
    "</table>\n",
    "\n",
    "<img src=\"./resources/arrow.svg\" width=120 />\n",
    "\n",
    "<table>\n",
    "<tr><td style=\"background-color:#FFFFFF;vertical-align:top\">\n",
    "\n",
    "<table style=\"border:1px solid black\">\n",
    "<tr style=\"border-bottom: 1px solid black\"><th style=\"background-color:#FFFFFF\">\n",
    "<p><b>Car</b></p>\n",
    "</th></tr>\n",
    "<tr><td style=\"background-color:#F5F5F5\">\n",
    "<p>number_of_doors</p>\n",
    "</td></tr>\n",
    "</table>\n",
    "\n",
    "</td><td style=\"background-color:#FFFFFF;vertical-align:top\">\n",
    "\n",
    "<table style=\"border:1px solid black\">\n",
    "<tr style=\"border-bottom: 1px solid black\"><th style=\"background-color:#FFFFFF\">\n",
    "<p><b>Motorbike</b></p>\n",
    "</th></tr>\n",
    "<tr><td style=\"background-color:#F5F5F5\">\n",
    "<p></p>\n",
    "</td></tr>\n",
    "</table>\n",
    "\n",
    "</td></tr> </table>\n",
    "\n",
    "\n",
    "`object` declares some features that all classes inherit automatically, like the method called `__str__`, which is called when you need to convert an object into a string, such as when you try to print an object. By default it isn't amazingly helpful:"
   ]
  },
  {
   "cell_type": "code",
   "execution_count": 2,
   "metadata": {},
   "outputs": [
    {
     "name": "stdout",
     "output_type": "stream",
     "text": [
      "<__main__.Car object at 0x7ffd00509670>\n"
     ]
    }
   ],
   "source": [
    "print(my_car)"
   ]
  },
  {
   "cell_type": "markdown",
   "metadata": {},
   "source": [
    "When a method is called on an object, Python will check to see if its class provides an implementation. If not it will check the superclass, and the superclass of that class, and so on. Since `Car` does not provide an implementation for `__str__`, we get the implementation from `object`. \n",
    "\n",
    "If we write an implementation for `__str__` we say that we have **overridden** the superclass's method."
   ]
  },
  {
   "cell_type": "code",
   "execution_count": 3,
   "metadata": {},
   "outputs": [
    {
     "name": "stdout",
     "output_type": "stream",
     "text": [
      "Vroom! I am a car. I have 5 doors and I have done 20000 miles.\n"
     ]
    }
   ],
   "source": [
    "class Vehicle:\n",
    "    def __init__(self):\n",
    "        self.mileage = 0\n",
    "\n",
    "class Car(Vehicle):\n",
    "    def __init__(self, number_of_doors):\n",
    "        super().__init__()\n",
    "        self.number_of_doors = number_of_doors\n",
    "    \n",
    "    def __str__(self):\n",
    "        return f\"Vroom! I am a car. I have {self.number_of_doors} doors and I have done {self.mileage} miles.\"\n",
    "    \n",
    "class Motorbike(Vehicle):\n",
    "    pass\n",
    "    \n",
    "    \n",
    "my_car = Car(5)\n",
    "my_car.mileage = 20000\n",
    "print(my_car)"
   ]
  },
  {
   "cell_type": "markdown",
   "metadata": {},
   "source": [
    "**Exercise:** Add a `__str__` method to the `Vehicle` class, then create a motorbike object, and print it. Now create a `__str__` method for the `Motorbike` class and run your code again. Notice how the object “furthest down” the tree of inheritance is the one that is called. "
   ]
  },
  {
   "cell_type": "markdown",
   "metadata": {},
   "source": [
    "### Polymorphism\n",
    "This is where one of the most powerful features of OOP comes in, and it is a great word to add to your lexicon: **polymorphism**. Next time someone asks you what you have been learning, you have a great word to sound very clever. But polymorphism isn't actually a very complicated feature, in fact you've already seen it without realising.\n",
    "\n",
    "Polymorphism allows us to use the common features of multiple objects without worrying about what specific implementation those will take. Earlier we used a for loop which set the mileage of two objects from different classes, but it still worked because both objects had the attribute:\n",
    "```python\n",
    "my_vehicles = [my_bike, my_car]\n",
    "\n",
    "for vehicle in my_vehicles:\n",
    "    vehicle.mileage += 10000\n",
    "```\n",
    "\n",
    "In Python this effect is less dramatic than it is in strongly typed languages. Dynamic typing means that we can try to run this code even if items in the list might not have the attribute, we would just get a runtime error. The following code works because both string objects and list objects contain the `.index` method:"
   ]
  },
  {
   "cell_type": "code",
   "execution_count": 4,
   "metadata": {},
   "outputs": [
    {
     "name": "stdout",
     "output_type": "stream",
     "text": [
      "The item string contains 'string' at index 0\n",
      "The item ['more', 'than', 'one', 'string'] contains 'string' at index 3\n"
     ]
    }
   ],
   "source": [
    "my_list = [\"string\", [\"more\", \"than\", \"one\", \"string\"]]\n",
    "\n",
    "for item in my_list:\n",
    "    print(f\"The item {item} contains 'string' at index {item.index('string')}\")"
   ]
  },
  {
   "cell_type": "markdown",
   "metadata": {},
   "source": [
    "But by using two objects that you know share a common superclass, you can be sure that calling those methods and attributes will work, and use the implementations specific to those objects.\n",
    "\n",
    "### Exercise\n",
    "#### Finding Inheritance\n",
    "Go back to the second exercise in section 5.1, and look at your class design. Can you see any relationships between classes that can be modelled with inheritance? Remember: inheritance implies an “is a” relationship. So if you have classes for both Lecturer and Staff, you might notice that “a lecturer *is a* (member of) staff”, and so Lecturer can be a subclass of Staff.\n",
    "\n",
    "Does doing this allow you to simplify your design, perhaps by removing duplication?\n",
    "\n",
    "#### Aggregation and Composition\n",
    "You might notice some relationships between classes that do not classify as inheritance, some may even seem like “is a” relationships. For example, consider classes called Assignment and Exercise. Maybe in your system every assignment *is a* collection of exercises, but hopefully it is clear that Assignment is not a subclass of Exercise; an assignment is not a type of exercise.\n",
    "\n",
    "This relationship is called *composition*. The assignment is *composed of* several exercises. If the assignment does not exist, then neither do the exercises.\n",
    "\n",
    "There is a closely related relationship called *aggregation*. A student *has a* number of classes – if the student leaves the university, the classes continue to exist independently. \n",
    "\n",
    "Spotting these kinds of relationships in your object-oriented design can also be really useful, but these concepts do not have direct language support (at least not in Python). These are design issues rather than strictly programming ones, but they are important to bring up if only to distinguish them from inheritance.\n",
    "\n",
    "Can you spot any composition and aggregation in your class structure? You might like to consider drawing a *UML class diagram*, like the ones further up this page. This is a tool that can be used to formally model the design of a system, but can also be used more informally simply to help structure your thoughts. You can read more on [this page](https://en.wikipedia.org/wiki/Class_diagram), including a more detailed description of [composition and aggregation](https://en.wikipedia.org/wiki/Class_diagram#Instance-level_relationships), along with many other relationships, and how to draw all of these on a diagram.\n",
    "\n",
    "## What's Next?\n",
    "Object oriented programming is fundamental to how a lot of people structure their code, and even their thoughts, when they try to approach a new problem. Once you get into the habit of designing class structures using inheritance and powerful features like polymorphism it can provide a really useful conceptual framework. A few other concepts come up when designing this way, which we'll see in the next section.\n",
    "\n",
    "Once you're done with this notebook, go back to Engage to move on to the next section."
   ]
  },
  {
   "cell_type": "markdown",
   "metadata": {},
   "source": [
    "### Style Footnote: Public or Private Attributes?\n",
    "In the previous section we wrote `self.__contents` to create a *private* attribute that was not accessible from outside the class. In the examples above, we did not use the underscores, so the “raw” attributes are accessible. Which is better?\n",
    "\n",
    "There is no one correct answer. One of the principles of OOP is *encapsulation* – the idea that the class alone is responsible for its own data. If you come from a background using languages like Java you will be used to this idea: we make all of our attributes private, then we make public *accessor* and *mutator* methods (also called *getters* and *setters*) if we want others to have that level of access. If we ever need to change how those private attributes work, or want to enforce some validation, we can do so in the access methods.\n",
    "\n",
    "We can follow this style, no problem. But Python, as mentioned before, is built on principles of keeping things simple. The truly *Pythonic* way is to use plain public attributes. If we ever want to change the behaviour later, we can do so with *properties*. This all getting a bit too much for this section, but if you are interested, there is a [good article here](https://www.datacamp.com/community/tutorials/property-getters-setters).\n",
    "\n",
    "For now, I recommend using public attributes, and you can read about properties later. But the important thing is to stay consistent throughout your code."
   ]
  }
 ],
 "metadata": {
  "kernelspec": {
   "display_name": "Python 3 (ipykernel)",
   "language": "python",
   "name": "python3"
  },
  "language_info": {
   "codemirror_mode": {
    "name": "ipython",
    "version": 3
   },
   "file_extension": ".py",
   "mimetype": "text/x-python",
   "name": "python",
   "nbconvert_exporter": "python",
   "pygments_lexer": "ipython3",
   "version": "3.11.4"
  }
 },
 "nbformat": 4,
 "nbformat_minor": 4
}
