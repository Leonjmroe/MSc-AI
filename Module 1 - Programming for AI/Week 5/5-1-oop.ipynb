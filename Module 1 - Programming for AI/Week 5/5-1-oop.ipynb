{
 "cells": [
  {
   "cell_type": "markdown",
   "metadata": {},
   "source": [
    "# Week 5 – Programming Paradigms\n",
    "## 5.1 – Object Oriented Programming 1\n",
    "### Classes and Objects\n",
    "Again: every variable and literal in Python is an object. But it is slightly easier to explain what an object *is* if we can give an example of something that *is not* an object. So we're going to borrow from another programming language, Java, again for a minute. \n",
    "\n",
    "In Java there are two forms of integer. Additionally, when we declare any variable in Java we must write the *type* before the variable's name – this makes it nice for demonstration since you can see the type without having to work anything out like you do in Python. So take a look at this code, it shows two types of integer, both set to 10:\n",
    "\n",
    "```java\n",
    "int primitive = 10;\n",
    "Integer object = new Integer(10);\n",
    "```\n",
    "\n",
    "The first variable is a *primitive* integer, the second variable is an *object*. \n",
    "\n",
    "A primitive:\n",
    "* Always has a fixed size in memory. An `int` in Java is 4 bytes.\n",
    "* Is purely data. All 4 bytes are used to store the integer itself, nothing else.\n",
    "\n",
    "On the other hand, an object:\n",
    "* Can have a variable size, and a single object can grow in size after creation.\n",
    "* Contains data (attributes) **and** functionality (methods).\n",
    "\n",
    "For now, this last point is our key differentiator. Only the object form has its own *actions*, that is, its own *methods*:\n",
    "```java\n",
    "Integer object = new Integer(10);\n",
    "String string = object.toString();\n",
    "```\n",
    "\n",
    "This method converts the integer to a string, as you can see from the type declaration on the second line. Okay, I'll admit, integer objects in Java do not have very many interesting methods. But strings are more interesting. I think we've mentioned before that in Java a single character is a primitive. But a string is an object – it contains data (a bunch of characters) and functionality (various methods, like the string methods in Python).\n",
    "\n",
    "```java\n",
    "char character = 'a';\n",
    "String string = \"abcd\";\n",
    "string = string.replace(\"ab\", \"cd\");\n",
    "```\n",
    "\n",
    "`replace` is a *method* of this string object `str`. Hopefully this looks familiar: the exact same thing works in Python:"
   ]
  },
  {
   "cell_type": "code",
   "execution_count": 1,
   "metadata": {},
   "outputs": [
    {
     "data": {
      "text/plain": [
       "'cdcd'"
      ]
     },
     "execution_count": 1,
     "metadata": {},
     "output_type": "execute_result"
    }
   ],
   "source": [
    "string = \"abcd\"\n",
    "string = string.replace(\"ab\", \"cd\")\n",
    "string"
   ]
  },
  {
   "cell_type": "markdown",
   "metadata": {},
   "source": [
    "The code above creates a string variable, then uses a *method* of that object called `replace` which *returns* a new string object which is then *assigned* to the original variable name. We covered all this in week 1.\n",
    "\n",
    "So here's something new.\n",
    "\n",
    "We said above that `replace` is a *method* that belongs to the *object*, and on this hinges our entire justification for introducing objects. But... *where exactly* is the code? When we created the string we provided the data, but we did not provide the functionality. In fact, *all* strings have the same methods. And each method, such as `replace` works essentially the same way on all string objects. If we were to write a `replace` function ourselves we might include some branching code, such as an if statement, but that function, that block of code, would not change from string to string.\n",
    "\n",
    "And this brings us to the concept of the class.\n",
    "\n",
    "### Classes\n",
    "A **class** is a blueprint for an object.\n",
    "\n",
    "Say it with me: a **class** is a *blueprint* for an **object**.\n",
    "\n",
    "No seriously, say that line out loud. If you're coming across object oriented programming for the first time and you remember just one key point, make it this one, because it will guide you through the rest of the material. \n",
    "\n",
    "Let me explain in more detail what “blueprint” actually means.\n",
    "\n",
    "All objects are **instances** of some class.\n",
    "\n",
    "The class specifies properties, and all objects that **instantiate** the class have these properties. Typically that includes two things: attributes and methods – data and functionality.\n",
    "\n",
    "The classes for builtin Python types like integers and strings are very complicated and written in C code. So let's write our own class for a stack data structure, like we did previously in the procedural paradigm.\n",
    "\n",
    "Have a look at the code below, but focus mostly on the last few lines, the main code, for now."
   ]
  },
  {
   "cell_type": "code",
   "execution_count": 2,
   "metadata": {},
   "outputs": [
    {
     "name": "stdout",
     "output_type": "stream",
     "text": [
      "3\n",
      "10\n",
      "7\n"
     ]
    }
   ],
   "source": [
    "class Stack:\n",
    "    def __init__(self, size):\n",
    "        self.__contents = [0] * size\n",
    "        self.__head = 0\n",
    "        \n",
    "    def is_full(self):\n",
    "        return self.__head >= len(self.__contents)\n",
    "    \n",
    "    def is_empty(self):\n",
    "        return self.__head == 0\n",
    "    \n",
    "    def push(self, item):\n",
    "        if self.is_full():\n",
    "            return\n",
    "        else:\n",
    "            self.__contents[self.__head] = item\n",
    "            self.__head += 1\n",
    "            \n",
    "    def pop(self):\n",
    "        if self.is_empty():\n",
    "            return\n",
    "        else:\n",
    "            self.__head -= 1\n",
    "            return self.__contents[self.__head]\n",
    "        \n",
    "        \n",
    "if __name__ == \"__main__\":\n",
    "    my_stack = Stack(5)\n",
    "    my_stack.push(4)\n",
    "    my_stack.push(10)\n",
    "    my_stack.push(3)\n",
    "    print(my_stack.pop()) # should print 3\n",
    "    print(my_stack.pop()) # should print 10\n",
    "    my_stack.push(7)\n",
    "    print(my_stack.pop()) # should print 7"
   ]
  },
  {
   "cell_type": "markdown",
   "metadata": {},
   "source": [
    "There's a lot of new information here! Let's first of all focus on the code at the bottom which actually creates a stack and uses it. We've been creating and using objects throughout the entire unit so far so this is a good place to start.\n",
    "\n",
    "The first line is really important:\n",
    "```python\n",
    "my_stack = Stack(5)\n",
    "```\n",
    "\n",
    "This line **instantiates** the class. It creates an *object*.\n",
    "\n",
    "`Stack` is a class, `my_stack` is an object.\n",
    "\n",
    "*A class is a blueprint for an object.*\n",
    "\n",
    "If the items on the left are *classes*, then the items on the right are examples of *objects*:\n",
    "    \n",
    "|<p align=\"left\">class</p>|<p align=\"left\">object</p>|\n",
    "|:-----:|:------:|\n",
    "|<p align=\"left\">Dog</p>|<p align=\"left\">[Hoffmann](../Chapter%201/resources/1.2.1.jpg)</p>|\n",
    "|<p align=\"left\">Student</p>|<p align=\"left\">You, the human reading this text</p>|\n",
    "|<p align=\"left\">String</p>|<p align=\"left\">`\"this specific string\"`</p>|\n",
    "\n",
    "A single class can normally create many objects, each with its own properties.\n",
    "\n",
    "To *instantiate* a class, we call the **constructor**, which is a method (function) which creates an object, initialises any values, and returns the object. The constructor is called by writing the name of the class followed by parentheses containing any arguments – just like any other function.\n",
    "```python\n",
    "Stack(5)\n",
    "```\n",
    "In this case, the constructor takes one argument, the size of the stack, which we've set to 5.\n",
    "\n",
    "Here is the code inside the class which defined the behaviour of the constructor (specifically the “initialise any values” part):\n",
    "```python\n",
    "def __init__(self, size):\n",
    "    self.__contents = [0] * size\n",
    "    self.__head = 0\n",
    "```\n",
    "\n",
    "A few things to note here:\n",
    "* `def`\n",
    " * We create a method inside a class by using a `def`, like any other function.\n",
    "* `__init__`\n",
    " * The constructor must have exactly this name, including the underscores, which are a syntax used by Python to denote names with special meaning so that you are unlikely to accidentally overwrite them. \n",
    " * (We saw this also with `__name__` and `\"__main__\"`.)\n",
    "* `(self, size)`\n",
    " * The first parameter is called `self` – this must be used in **all** of the methods in the class. \n",
    " * `self` exists so that methods can access properties of themselves – the individual object on which they are called.\n",
    " * When you call `my_stack.pop()`, the `self` inside the `.pop(self)` method code becomes a reference to the object `my_stack`.\n",
    "* `self.__contents = ...`\n",
    " * It is common for a constructor to set up the *attributes* (also called *fields*) of the object, this is the data that the object will store. \n",
    " * In this case, we create the array `__contents` and the integer `__head`. We store them “in” the object by writing `self.` before their names.\n",
    " * We can give them any names we like. But here we chose to prefix them with two underscores again. The reason for this is it makes the attributes *private* – we cannot access them directly from outside of the class.\n",
    "\n",
    "\n",
    "Here is a demonstration of that final point. This demo class has a *public* attribute called `attribute`. Public means it can be directly accessed and changed in code ‘outside’ of the class:"
   ]
  },
  {
   "cell_type": "code",
   "execution_count": 3,
   "metadata": {},
   "outputs": [
    {
     "name": "stdout",
     "output_type": "stream",
     "text": [
      "10\n",
      "hello\n"
     ]
    }
   ],
   "source": [
    "class Demo:\n",
    "    def __init__(self):\n",
    "        self.attribute = 10\n",
    "        \n",
    "my_demo = Demo()\n",
    "print(my_demo.attribute)\n",
    "my_demo.attribute = \"hello\"\n",
    "print(my_demo.attribute)"
   ]
  },
  {
   "cell_type": "markdown",
   "metadata": {},
   "source": [
    "But the `__contents` and `__head` attributes inside the `Stack` class are private attributes, it will give an error as if they are not even there:"
   ]
  },
  {
   "cell_type": "code",
   "execution_count": 4,
   "metadata": {},
   "outputs": [
    {
     "ename": "AttributeError",
     "evalue": "'Stack' object has no attribute '__contents'",
     "output_type": "error",
     "traceback": [
      "\u001b[0;31m---------------------------------------------------------------------------\u001b[0m",
      "\u001b[0;31mAttributeError\u001b[0m                            Traceback (most recent call last)",
      "\u001b[0;32m<ipython-input-4-2c1a076f3808>\u001b[0m in \u001b[0;36m<module>\u001b[0;34m\u001b[0m\n\u001b[1;32m      2\u001b[0m \u001b[0mmy_stack\u001b[0m\u001b[0;34m.\u001b[0m\u001b[0mpush\u001b[0m\u001b[0;34m(\u001b[0m\u001b[0;36m4\u001b[0m\u001b[0;34m)\u001b[0m\u001b[0;34m\u001b[0m\u001b[0;34m\u001b[0m\u001b[0m\n\u001b[1;32m      3\u001b[0m \u001b[0mmy_stack\u001b[0m\u001b[0;34m.\u001b[0m\u001b[0mpush\u001b[0m\u001b[0;34m(\u001b[0m\u001b[0;36m10\u001b[0m\u001b[0;34m)\u001b[0m\u001b[0;34m\u001b[0m\u001b[0;34m\u001b[0m\u001b[0m\n\u001b[0;32m----> 4\u001b[0;31m \u001b[0mprint\u001b[0m\u001b[0;34m(\u001b[0m\u001b[0mmy_stack\u001b[0m\u001b[0;34m.\u001b[0m\u001b[0m__contents\u001b[0m\u001b[0;34m[\u001b[0m\u001b[0;36m0\u001b[0m\u001b[0;34m]\u001b[0m\u001b[0;34m)\u001b[0m\u001b[0;34m\u001b[0m\u001b[0;34m\u001b[0m\u001b[0m\n\u001b[0m",
      "\u001b[0;31mAttributeError\u001b[0m: 'Stack' object has no attribute '__contents'"
     ]
    }
   ],
   "source": [
    "my_stack = Stack(5)\n",
    "my_stack.push(4)\n",
    "my_stack.push(10)\n",
    "print(my_stack.__contents[0])"
   ]
  },
  {
   "cell_type": "markdown",
   "metadata": {},
   "source": [
    "This means our Stack class really does work like a stack to the user, they can't access the bottom element of the stack directly.\n",
    "\n",
    "*(Advanced note: Python actually does allow you to bypass the private restriction, but this is more about designing code that is easy to use rather than code that is secure or robust to attack. The idea is that the error tells you you're trying to use the object wrong.)*\n",
    "\n",
    "That should be enough information for you to decipher the rest of the Stack class above. Take some time to play around with it!\n",
    "\n",
    "## Exercises\n",
    "### Exercise 1\n",
    "In the final section of the previous week's material, we asked you to try to write a *queue* using the procedural programming paradigm. Can you adapt that code into a queue class, in a similar way we did for the stack? There is some skeleton code in the cell below."
   ]
  },
  {
   "cell_type": "code",
   "execution_count": null,
   "metadata": {},
   "outputs": [],
   "source": [
    "class Queue:\n",
    "    pass\n",
    "\n",
    "# create queue with size 5\n",
    "my_queue = Queue(5)\n",
    "my_queue.add(4)\n",
    "my_queue.add(10)\n",
    "my_queue.add(3)\n",
    "print(my_queue.get()) # should print 4\n",
    "print(my_queue.get()) # should print 10\n",
    "my_queue.add(7)\n",
    "print(my_queue.get()) # should print 3\n",
    "\n",
    "print(\"Check you printed the correct values.\")\n",
    "print(\"The next part is harder...\")\n",
    "\n",
    "# we have added 4 numbers, and removed 3, so there should only be 1 item left (7)\n",
    "# since it's of size 5, we should be able to add 4 more\n",
    "my_queue.add(6)\n",
    "my_queue.add(5)\n",
    "my_queue.add(4)\n",
    "my_queue.add(3)\n",
    "# and then print the entire contents of the queue\n",
    "print(my_queue.get()) # should print 7\n",
    "print(my_queue.get()) # should print 6\n",
    "print(my_queue.get()) # should print 5\n",
    "print(my_queue.get()) # should print 4\n",
    "print(my_queue.get()) # should print 3\n",
    "\n",
    "print(\"If your queue printed all of the above successfully, well done!\")\n",
    "print(\"We have not tested what happens if we try to add more than 5 elements, \" \\\n",
    "      \"or try to get an element when there are none – you should test these yourself\")"
   ]
  },
  {
   "cell_type": "markdown",
   "metadata": {},
   "source": [
    "### Exercise 2\n",
    "Suppose you are going to write an application which stores, manages, and otherwise handles administration of student assignments at a university. \n",
    "\n",
    "We are just getting started with concepts in object-oriented design, but you should already be able to recognise *objects* in a system like this, and therefore the *classes* that an object-oriented application might use.\n",
    "\n",
    "In the cell below, write down some possible classes for this system. Think about what *attributes* and *methods* each object would have, including their *types* – for methods, think about the types of arguments and return values.\n",
    "\n",
    "Share your answers in a thread on the forum. Did other people come up with different ideas?"
   ]
  },
  {
   "cell_type": "markdown",
   "metadata": {},
   "source": []
  },
  {
   "cell_type": "markdown",
   "metadata": {},
   "source": [
    "### Summary\n",
    "The main lesson of this section is the difference between a class and an object, plus the syntax that actually allows us to create classes with their associated attributes and methods.\n",
    "\n",
    "But there is still a lot more to learn about OOP. Earlier we talked about books and films having some properties of their own, but some properties shared, and this leads to a very powerful tool for structuring code.\n",
    "\n",
    "Once you are done with this notebook and the exercises above, head back to Engage to move onto more OOP concepts."
   ]
  }
 ],
 "metadata": {
  "kernelspec": {
   "display_name": "Python 3 (ipykernel)",
   "language": "python",
   "name": "python3"
  },
  "language_info": {
   "codemirror_mode": {
    "name": "ipython",
    "version": 3
   },
   "file_extension": ".py",
   "mimetype": "text/x-python",
   "name": "python",
   "nbconvert_exporter": "python",
   "pygments_lexer": "ipython3",
   "version": "3.11.4"
  }
 },
 "nbformat": 4,
 "nbformat_minor": 4
}
