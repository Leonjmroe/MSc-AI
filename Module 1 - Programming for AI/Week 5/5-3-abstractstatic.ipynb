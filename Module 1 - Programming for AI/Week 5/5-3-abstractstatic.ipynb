{
 "cells": [
  {
   "cell_type": "markdown",
   "metadata": {},
   "source": [
    "## 5.3 – Object-Oriented Programming 3\n",
    "### Abstract Classes\n",
    "Here's a reminder of our vehicle class structure from the previous section:\n",
    "\n",
    "<table style=\"border:1px solid black\">\n",
    "<tr style=\"border-bottom: 1px solid black\"><th style=\"background-color:#FFFFFF\">\n",
    "<p>Vehicle</p>\n",
    "</th></tr>\n",
    "<tr><td style=\"background-color:#F5F5F5\">\n",
    "<p>mileage</p>\n",
    "</td></tr>\n",
    "</table>\n",
    "\n",
    "<img src=\"./resources/arrow.svg\" width=120/>\n",
    "\n",
    "<table>\n",
    "<tr><td style=\"background-color:#FFFFFF;vertical-align:top\">\n",
    "\n",
    "<table style=\"border:1px solid black\">\n",
    "<tr style=\"border-bottom: 1px solid black\"><th style=\"background-color:#FFFFFF\">\n",
    "<p><b>Car</b></p>\n",
    "</th></tr>\n",
    "<tr><td style=\"background-color:#F5F5F5\">\n",
    "<p>number_of_doors</p>\n",
    "</td></tr>\n",
    "</table>\n",
    "\n",
    "</td><td style=\"background-color:#FFFFFF;vertical-align:top\">\n",
    "\n",
    "<table style=\"border:1px solid black\">\n",
    "<tr style=\"border-bottom: 1px solid black\"><th style=\"background-color:#FFFFFF\">\n",
    "<p><b>Motorbike</b></p>\n",
    "</th></tr>\n",
    "<tr><td style=\"background-color:#F5F5F5\">\n",
    "<p></p>\n",
    "</td></tr>\n",
    "</table>\n",
    "\n",
    "</td></tr> </table>\n",
    "\n",
    "Now ask this question: does it ever make sense to create an object of the `Vehicle` class? Sure, there are many vehicles we have not included in our system: boats, aeroplanes; in the right application it might make sense to include these. But then surely we'd create new classes for them too? A `Boat` class and an `Aeroplane` class, both could be subclasses of `Vehicle`.\n",
    "\n",
    "It's quite natural to fall into this pattern when using inheritance. You have some behaviours you want a group of objects to exhibit, but where the exact implementations may differ (polymorphism), and this naturally leads to a common superclass which itself does not provide those implementations.\n",
    "\n",
    "We can formalise this in the object-oriented design by calling that class an *abstract class*. An abstract class is one that cannot be instantiated to create objects, but it exists so that subclasses can be created. Abstract classes usually have *abstract methods* as well – methods that are specified only by their *signature*, the parameters and name of the method, but no implementation is provided.\n",
    "\n",
    "In Python, there are two ways to achieve this. In the older style, you simply make it so that anyone calling the method on the base class will hit an exception. Take a look at the code below:"
   ]
  },
  {
   "cell_type": "code",
   "execution_count": 1,
   "metadata": {},
   "outputs": [
    {
     "name": "stdout",
     "output_type": "stream",
     "text": [
      "brrrrr\n",
      "vrooom\n",
      "splash\n"
     ]
    }
   ],
   "source": [
    "class Vehicle:\n",
    "    def __init__(self):\n",
    "        self.mileage = 0\n",
    "        \n",
    "    def sound_effect(self):\n",
    "        raise NotImplementedError(\"Abstract method\")\n",
    "\n",
    "    \n",
    "class Car(Vehicle):\n",
    "    def __init__(self, number_of_doors):\n",
    "        super().__init__()\n",
    "        self.number_of_doors = number_of_doors\n",
    "        \n",
    "    def sound_effect(self):\n",
    "        return \"vrooom\"\n",
    "        \n",
    "        \n",
    "class Motorbike(Vehicle):\n",
    "    def sound_effect(self):\n",
    "        return \"brrrrr\"\n",
    "    \n",
    "    \n",
    "class Boat(Vehicle):\n",
    "    def sound_effect(self):\n",
    "        return \"splash\"\n",
    "\n",
    "\n",
    "my_bike = Motorbike()\n",
    "my_car = Car(5)\n",
    "my_boat = Boat()\n",
    "\n",
    "my_vehicles = [my_bike, my_car, my_boat]\n",
    "\n",
    "for vehicle in my_vehicles:\n",
    "    print(vehicle.sound_effect())"
   ]
  },
  {
   "cell_type": "markdown",
   "metadata": {},
   "source": [
    "This older style is simpler and reflects the fact that Python wasn't really designed with these ideas in mind, it is a bit of a “hack”. It does not actually stop you from creating an object of the `Vehicle` class, you will just get a runtime error when calling the method."
   ]
  },
  {
   "cell_type": "code",
   "execution_count": 2,
   "metadata": {},
   "outputs": [
    {
     "name": "stdout",
     "output_type": "stream",
     "text": [
      "0\n"
     ]
    }
   ],
   "source": [
    "my_vehicle = Vehicle()\n",
    "print(my_vehicle.mileage)"
   ]
  },
  {
   "cell_type": "markdown",
   "metadata": {},
   "source": [
    "In addition, there is nothing to stop us creating a subclass which does *not* implement the abstract method, leading to more possible confusion:"
   ]
  },
  {
   "cell_type": "code",
   "execution_count": 3,
   "metadata": {},
   "outputs": [
    {
     "ename": "NotImplementedError",
     "evalue": "Abstract method",
     "output_type": "error",
     "traceback": [
      "\u001b[0;31m---------------------------------------------------------------------------\u001b[0m",
      "\u001b[0;31mNotImplementedError\u001b[0m                       Traceback (most recent call last)",
      "\u001b[0;32m<ipython-input-3-61fa79613b86>\u001b[0m in \u001b[0;36m<module>\u001b[0;34m\u001b[0m\n\u001b[1;32m      3\u001b[0m \u001b[0;34m\u001b[0m\u001b[0m\n\u001b[1;32m      4\u001b[0m \u001b[0mmy_plane\u001b[0m \u001b[0;34m=\u001b[0m \u001b[0mAeroplane\u001b[0m\u001b[0;34m(\u001b[0m\u001b[0;34m)\u001b[0m\u001b[0;34m\u001b[0m\u001b[0;34m\u001b[0m\u001b[0m\n\u001b[0;32m----> 5\u001b[0;31m \u001b[0mprint\u001b[0m\u001b[0;34m(\u001b[0m\u001b[0mmy_plane\u001b[0m\u001b[0;34m.\u001b[0m\u001b[0msound_effect\u001b[0m\u001b[0;34m(\u001b[0m\u001b[0;34m)\u001b[0m\u001b[0;34m)\u001b[0m\u001b[0;34m\u001b[0m\u001b[0;34m\u001b[0m\u001b[0m\n\u001b[0m",
      "\u001b[0;32m<ipython-input-1-173f24f49e73>\u001b[0m in \u001b[0;36msound_effect\u001b[0;34m(self)\u001b[0m\n\u001b[1;32m      4\u001b[0m \u001b[0;34m\u001b[0m\u001b[0m\n\u001b[1;32m      5\u001b[0m     \u001b[0;32mdef\u001b[0m \u001b[0msound_effect\u001b[0m\u001b[0;34m(\u001b[0m\u001b[0mself\u001b[0m\u001b[0;34m)\u001b[0m\u001b[0;34m:\u001b[0m\u001b[0;34m\u001b[0m\u001b[0;34m\u001b[0m\u001b[0m\n\u001b[0;32m----> 6\u001b[0;31m         \u001b[0;32mraise\u001b[0m \u001b[0mNotImplementedError\u001b[0m\u001b[0;34m(\u001b[0m\u001b[0;34m\"Abstract method\"\u001b[0m\u001b[0;34m)\u001b[0m\u001b[0;34m\u001b[0m\u001b[0;34m\u001b[0m\u001b[0m\n\u001b[0m\u001b[1;32m      7\u001b[0m \u001b[0;34m\u001b[0m\u001b[0m\n\u001b[1;32m      8\u001b[0m \u001b[0;34m\u001b[0m\u001b[0m\n",
      "\u001b[0;31mNotImplementedError\u001b[0m: Abstract method"
     ]
    }
   ],
   "source": [
    "class Aeroplane(Vehicle):\n",
    "    pass\n",
    "\n",
    "my_plane = Aeroplane()\n",
    "print(my_plane.sound_effect())"
   ]
  },
  {
   "cell_type": "markdown",
   "metadata": {},
   "source": [
    "Still, you will see this style occasionally so it is good to recognise. Some tools like PyCharm will automatically detect this pattern – if you create a subclass it will show you a hint that you have to implement the abstract method.\n",
    "\n",
    "#### The ABC of Python\n",
    "Python also has more formal support in its `abc` module, which stands for Abstract Base Class. It is slightly more complicated to use, and introduces *decoraters* for the first time. These are lines that start with `@` which are placed before a function or class to indicate something special about that function.\n",
    "\n",
    "The `abc` module can also be used in more than one way, but this is the simple one that I would recommend. From the `abc` module, import the class called `ABC`, and make this the superclass of your abstract class. Also, import the `abstractmethod` decorator, and use it to decorate any abstract methods. The methods may contain some implementation (accessible by subclasses using `super()`) or be blank (using `pass`). \n",
    "\n",
    "Importing these items specifically by name rather than using `import abc` avoids having to use the unsightly `abc.ABC` or `@abc.abstractmethod`, but that works too.\n",
    "\n",
    "Have a look at the code below:"
   ]
  },
  {
   "cell_type": "code",
   "execution_count": 4,
   "metadata": {},
   "outputs": [
    {
     "name": "stdout",
     "output_type": "stream",
     "text": [
      "brrrrr\n",
      "vrooom\n",
      "splash\n"
     ]
    }
   ],
   "source": [
    "from abc import ABC\n",
    "from abc import abstractmethod\n",
    "\n",
    "class Vehicle(ABC):\n",
    "    def __init__(self):\n",
    "        self.mileage = 0\n",
    "        \n",
    "    @abstractmethod\n",
    "    def sound_effect(self):\n",
    "        pass\n",
    "\n",
    "    \n",
    "class Car(Vehicle):\n",
    "    def __init__(self, number_of_doors):\n",
    "        super().__init__()\n",
    "        self.number_of_doors = number_of_doors\n",
    "        \n",
    "    def sound_effect(self):\n",
    "        return \"vrooom\"\n",
    "        \n",
    "        \n",
    "class Motorbike(Vehicle):\n",
    "    def sound_effect(self):\n",
    "        return \"brrrrr\"\n",
    "    \n",
    "    \n",
    "class Boat(Vehicle):\n",
    "    def sound_effect(self):\n",
    "        return \"splash\"\n",
    "\n",
    "\n",
    "my_bike = Motorbike()\n",
    "my_car = Car(5)\n",
    "my_boat = Boat()\n",
    "\n",
    "my_vehicles = [my_bike, my_car, my_boat]\n",
    "\n",
    "for vehicle in my_vehicles:\n",
    "    print(vehicle.sound_effect())"
   ]
  },
  {
   "cell_type": "markdown",
   "metadata": {},
   "source": [
    "So far the results look the same, if slightly more complicated syntax, but notice now we are actually prevented from creating an object from the `Vehicle` class:"
   ]
  },
  {
   "cell_type": "code",
   "execution_count": 5,
   "metadata": {
    "scrolled": true
   },
   "outputs": [
    {
     "ename": "TypeError",
     "evalue": "Can't instantiate abstract class Vehicle with abstract methods sound_effect",
     "output_type": "error",
     "traceback": [
      "\u001b[0;31m---------------------------------------------------------------------------\u001b[0m",
      "\u001b[0;31mTypeError\u001b[0m                                 Traceback (most recent call last)",
      "\u001b[0;32m<ipython-input-5-6af6cc929430>\u001b[0m in \u001b[0;36m<module>\u001b[0;34m\u001b[0m\n\u001b[0;32m----> 1\u001b[0;31m \u001b[0mmy_vehicle\u001b[0m \u001b[0;34m=\u001b[0m \u001b[0mVehicle\u001b[0m\u001b[0;34m(\u001b[0m\u001b[0;34m)\u001b[0m\u001b[0;34m\u001b[0m\u001b[0;34m\u001b[0m\u001b[0m\n\u001b[0m\u001b[1;32m      2\u001b[0m \u001b[0mprint\u001b[0m\u001b[0;34m(\u001b[0m\u001b[0mmy_vehicle\u001b[0m\u001b[0;34m.\u001b[0m\u001b[0mmileage\u001b[0m\u001b[0;34m)\u001b[0m\u001b[0;34m\u001b[0m\u001b[0;34m\u001b[0m\u001b[0m\n",
      "\u001b[0;31mTypeError\u001b[0m: Can't instantiate abstract class Vehicle with abstract methods sound_effect"
     ]
    }
   ],
   "source": [
    "my_vehicle = Vehicle()\n",
    "print(my_vehicle.mileage)"
   ]
  },
  {
   "cell_type": "markdown",
   "metadata": {},
   "source": [
    "And we are stopped from creating a subclass of an abstract class without implementing the abstract methods, even if we *never* try to call those methods:"
   ]
  },
  {
   "cell_type": "code",
   "execution_count": 6,
   "metadata": {},
   "outputs": [
    {
     "ename": "TypeError",
     "evalue": "Can't instantiate abstract class Aeroplane with abstract methods sound_effect",
     "output_type": "error",
     "traceback": [
      "\u001b[0;31m---------------------------------------------------------------------------\u001b[0m",
      "\u001b[0;31mTypeError\u001b[0m                                 Traceback (most recent call last)",
      "\u001b[0;32m<ipython-input-6-586aee7192b2>\u001b[0m in \u001b[0;36m<module>\u001b[0;34m\u001b[0m\n\u001b[1;32m      2\u001b[0m     \u001b[0;32mpass\u001b[0m\u001b[0;34m\u001b[0m\u001b[0;34m\u001b[0m\u001b[0m\n\u001b[1;32m      3\u001b[0m \u001b[0;34m\u001b[0m\u001b[0m\n\u001b[0;32m----> 4\u001b[0;31m \u001b[0mmy_plane\u001b[0m \u001b[0;34m=\u001b[0m \u001b[0mAeroplane\u001b[0m\u001b[0;34m(\u001b[0m\u001b[0;34m)\u001b[0m\u001b[0;34m\u001b[0m\u001b[0;34m\u001b[0m\u001b[0m\n\u001b[0m",
      "\u001b[0;31mTypeError\u001b[0m: Can't instantiate abstract class Aeroplane with abstract methods sound_effect"
     ]
    }
   ],
   "source": [
    "class Aeroplane(Vehicle):\n",
    "    pass\n",
    "\n",
    "my_plane = Aeroplane()"
   ]
  },
  {
   "cell_type": "markdown",
   "metadata": {},
   "source": [
    "### Static and Class Members\n",
    "Classes are blueprints for objects – understanding this relationship is so fundamental to being able to write object-oriented code. But we need to move on quickly from the beginner concepts to the intermediate ones.\n",
    "\n",
    "We've mentioned before that in Python *everything* is an object. This is quite literal, even classes are objects! Do you remember writing some unit tests in last week's material? There was a line of code that might have struck you as unusual:\n",
    "```python\n",
    "expected_error = [ValueError]\n",
    "```\n",
    "\n",
    "Here I have put a `ValueError` into a list, but this is not an object of the type `ValueError`, it is the `ValueError` class *itself*!"
   ]
  },
  {
   "cell_type": "code",
   "execution_count": 7,
   "metadata": {},
   "outputs": [
    {
     "name": "stdout",
     "output_type": "stream",
     "text": [
      "<class 'type'>\n"
     ]
    }
   ],
   "source": [
    "expected_error = [ValueError]\n",
    "print(type(expected_error[0]))"
   ]
  },
  {
   "cell_type": "markdown",
   "metadata": {},
   "source": [
    "Notice that the type of the class object is reported as a `type`. It's possible to create `ValueError` objects:"
   ]
  },
  {
   "cell_type": "code",
   "execution_count": 8,
   "metadata": {},
   "outputs": [
    {
     "name": "stdout",
     "output_type": "stream",
     "text": [
      "<class 'ValueError'>\n"
     ]
    }
   ],
   "source": [
    "error = ValueError(\"Bad arguments\")\n",
    "print(type(error))"
   ]
  },
  {
   "cell_type": "markdown",
   "metadata": {},
   "source": [
    "In practice you normally only deal with error objects when doing error handling:\n"
   ]
  },
  {
   "cell_type": "code",
   "execution_count": 9,
   "metadata": {},
   "outputs": [
    {
     "name": "stdout",
     "output_type": "stream",
     "text": [
      "Error!\n",
      "math domain error\n",
      "<class 'ValueError'>\n"
     ]
    }
   ],
   "source": [
    "import math\n",
    "\n",
    "try:\n",
    "    math.sqrt(-1)\n",
    "except ValueError as ve:\n",
    "    print(\"Error!\")\n",
    "    print(ve)\n",
    "    print(type(ve))"
   ]
  },
  {
   "cell_type": "markdown",
   "metadata": {},
   "source": [
    "Don't get too hung up on errors here, the point is more general: if you create a class in Python called `MyClass`, the class name can be used to instantiate objects using the constructor `MyClass()`, but you can also reference the class itself as an object using `MyClass`."
   ]
  },
  {
   "cell_type": "code",
   "execution_count": 10,
   "metadata": {},
   "outputs": [
    {
     "name": "stdout",
     "output_type": "stream",
     "text": [
      "Printing a MyClass object:\t\t <__main__.MyClass object at 0x7fa548121dc0>\n",
      "Printing the type of a MyClass object:\t <class '__main__.MyClass'>\n",
      "\n",
      "Printing the MyClass class:\t\t <class '__main__.MyClass'>\n",
      "Printing the type of the MyClass class:\t <class 'type'>\n"
     ]
    }
   ],
   "source": [
    "class MyClass:\n",
    "    pass\n",
    "\n",
    "print(f\"Printing a MyClass object:\\t\\t {MyClass()}\")\n",
    "print(f\"Printing the type of a MyClass object:\\t {type(MyClass())}\\n\")\n",
    "\n",
    "print(f\"Printing the MyClass class:\\t\\t {MyClass}\")\n",
    "print(f\"Printing the type of the MyClass class:\\t {type(MyClass)}\")"
   ]
  },
  {
   "cell_type": "markdown",
   "metadata": {},
   "source": [
    "So far, you've seen that objects can have attributes and methods. Within the framework of object-oriented design, we also call these *instance variable* and *instance methods*, to distinguish them from variables and methods which belong *to the class*.\n",
    "\n",
    "Since everything is an object in Python, it's also possible to give attributes to the class. \n",
    "\n",
    "The following code demonstrates a simple class which defines an instance variable:"
   ]
  },
  {
   "cell_type": "code",
   "execution_count": 11,
   "metadata": {},
   "outputs": [
    {
     "name": "stdout",
     "output_type": "stream",
     "text": [
      "Instance variable: 100\n",
      "\n",
      "Object 1 instance variable: 200\n",
      "Object 2 instance variable: 100\n"
     ]
    }
   ],
   "source": [
    "class MyClassA:\n",
    "    def __init__(self):\n",
    "        self.var = 100\n",
    "\n",
    "# this object has an instance variable    \n",
    "my_object1 = MyClassA()\n",
    "print(f\"Instance variable: {my_object1.var}\\n\")\n",
    "\n",
    "# each instance has its own values for the same variable\n",
    "my_object1 = MyClassA()\n",
    "my_object2 = MyClassA()\n",
    "\n",
    "my_object1.var += 100\n",
    "print(f\"Object 1 instance variable: {my_object1.var}\")\n",
    "print(f\"Object 2 instance variable: {my_object2.var}\")"
   ]
  },
  {
   "cell_type": "markdown",
   "metadata": {},
   "source": [
    "Whereas the following class contains a *class variable*:"
   ]
  },
  {
   "cell_type": "code",
   "execution_count": 12,
   "metadata": {},
   "outputs": [
    {
     "name": "stdout",
     "output_type": "stream",
     "text": [
      "Class variable: 100\n",
      "\n",
      "Rename class variable 1: 200\n",
      "Rename class variable 2: 200\n",
      "Class variable: 200\n",
      "\n"
     ]
    }
   ],
   "source": [
    "class MyClassB:\n",
    "    var = 100\n",
    "\n",
    "# no instance required\n",
    "print(f\"Class variable: {MyClassB.var}\\n\")\n",
    "\n",
    "# possible to assign the class to multiple new names, but all point to the same data/variable\n",
    "rename1 = MyClassB\n",
    "rename2 = MyClassB\n",
    "\n",
    "rename1.var += 100\n",
    "\n",
    "print(f\"Rename class variable 1: {rename1.var}\")\n",
    "print(f\"Rename class variable 2: {rename2.var}\")\n",
    "print(f\"Class variable: {MyClassB.var}\\n\")"
   ]
  },
  {
   "cell_type": "markdown",
   "metadata": {},
   "source": [
    "Interestingly, we can still access the class variable via an instance, though I recommend against this: use the class name instead to be clear."
   ]
  },
  {
   "cell_type": "code",
   "execution_count": 13,
   "metadata": {},
   "outputs": [
    {
     "data": {
      "text/plain": [
       "200"
      ]
     },
     "execution_count": 13,
     "metadata": {},
     "output_type": "execute_result"
    }
   ],
   "source": [
    "my_object = MyClassB()\n",
    "my_object.var"
   ]
  },
  {
   "cell_type": "markdown",
   "metadata": {},
   "source": [
    "I don't recommend making a class which uses the same name for a class variable and an instance variable, but if you do, the class variable is still accessible through the class name:"
   ]
  },
  {
   "cell_type": "code",
   "execution_count": 14,
   "metadata": {},
   "outputs": [
    {
     "name": "stdout",
     "output_type": "stream",
     "text": [
      "Instance variable: 200\n",
      "Class variable: 100\n"
     ]
    }
   ],
   "source": [
    "class MyClassC:\n",
    "    var = 100\n",
    "    \n",
    "    def __init__(self):\n",
    "        self.var = 200\n",
    "        \n",
    "my_object = MyClassC()\n",
    "print(f\"Instance variable: {my_object.var}\")\n",
    "print(f\"Class variable: {MyClassC.var}\")"
   ]
  },
  {
   "cell_type": "markdown",
   "metadata": {},
   "source": [
    "The point here is that class variables are *shared* by all instances of the class. They *belong to the class* rather than the object.\n",
    "\n",
    "One classic example of this technique in practice is a class which keeps track of how many instances have been created. This is useful if you want to give each instance a unique ID for example:"
   ]
  },
  {
   "cell_type": "code",
   "execution_count": 15,
   "metadata": {},
   "outputs": [
    {
     "name": "stdout",
     "output_type": "stream",
     "text": [
      "Alice's ID is 0\n",
      "Bob's ID is 1\n",
      "There have been a total of 2 card objects created\n"
     ]
    }
   ],
   "source": [
    "class MembershipCard:\n",
    "    total = 0\n",
    "    \n",
    "    def __init__(self, name):\n",
    "        self.name = name\n",
    "        self.id = MembershipCard.total\n",
    "        MembershipCard.total += 1\n",
    "        \n",
    "\n",
    "alice_card = MembershipCard(\"Alice\")\n",
    "bob_card = MembershipCard(\"Bob\")\n",
    "\n",
    "print(f\"Alice's ID is {alice_card.id}\")\n",
    "print(f\"Bob's ID is {bob_card.id}\")\n",
    "print(f\"There have been a total of {MembershipCard.total} card objects created\")"
   ]
  },
  {
   "cell_type": "markdown",
   "metadata": {},
   "source": [
    "Here is another example, suppose we are creating a class to represent contracts with temporary contractors that our company takes out. Each contract is good for a certain number of hours, which we need to decrease every time we ask them to do a job. It also contains the name of the contractor. Here's a possible class design with some simple instance variables and an instance method:"
   ]
  },
  {
   "cell_type": "code",
   "execution_count": 16,
   "metadata": {},
   "outputs": [
    {
     "name": "stdout",
     "output_type": "stream",
     "text": [
      "Contract with Sahara is inactive.\n",
      "Contract with Irfan is still active, 50 hours remaining.\n"
     ]
    }
   ],
   "source": [
    "class Contract:\n",
    "    def __init__(self, name, hours):\n",
    "        self.name = name\n",
    "        self.hours = hours\n",
    "        self.active = True\n",
    "        \n",
    "    def spend_hours(self, hours_spent):\n",
    "        if hours_spent > self.hours:\n",
    "            raise ValueError(\"Not enough hours on this contact to do that\")\n",
    "            \n",
    "        self.hours -= hours_spent\n",
    "        self.active = self.hours > 0\n",
    "            \n",
    "    def __str__(self):\n",
    "        if self.active:\n",
    "            return f\"Contract with {self.name} is still active, {self.hours} hours remaining.\"\n",
    "        else:\n",
    "            return f\"Contract with {self.name} is inactive.\"\n",
    "            \n",
    "contract1 = Contract(\"Sahara\", 100)\n",
    "contract2 = Contract(\"Irfan\", 50)\n",
    "\n",
    "contract1.spend_hours(40)\n",
    "contract1.spend_hours(40)\n",
    "contract1.spend_hours(20)\n",
    "\n",
    "print(contract1)\n",
    "print(contract2)"
   ]
  },
  {
   "cell_type": "markdown",
   "metadata": {},
   "source": [
    "As the demo code shows, each object contains its own values for the instance variables. Changing the values in `contract1` does not change `contract2`.\n",
    "\n",
    "Now suppose we want to make it so that `spend_hours` returns the amount of money we spend for this contractor to work these hours. For this we obviously need to know the hourly rate, and let's assume in this utopia that everyone is paid equally to do the same work. So while the hourly rate might change from time to time (e.g. the increases you would expect to keep in line with the industry and inflation), it is *not* a piece of information we permit to be different between two separate contracts.\n",
    "\n",
    "We can add the hourly rate as a class variable, and add a return statement to the `spend_hours` method."
   ]
  },
  {
   "cell_type": "code",
   "execution_count": 17,
   "metadata": {},
   "outputs": [
    {
     "name": "stdout",
     "output_type": "stream",
     "text": [
      "We owe £1950 for this week's work.\n"
     ]
    }
   ],
   "source": [
    "class Contract:\n",
    "    hourly_rate = 30\n",
    "    \n",
    "    def __init__(self, name, hours):\n",
    "        self.name = name\n",
    "        self.hours = hours\n",
    "        self.active = True\n",
    "        \n",
    "    def spend_hours(self, hours_spent):\n",
    "        if hours_spent > self.hours:\n",
    "            raise ValueError(\"Not enough hours on this contact to do that\")\n",
    "            \n",
    "        self.hours -= hours_spent\n",
    "        self.active = self.hours > 0\n",
    "        return hours_spent * Contract.hourly_rate\n",
    "            \n",
    "    def __str__(self):\n",
    "        if self.active:\n",
    "            return f\"Contract with {self.name} is still active, {self.hours} hours remaining.\"\n",
    "        else:\n",
    "            return f\"Contract with {self.name} is inactive.\"\n",
    "            \n",
    "contract1 = Contract(\"Sahara\", 100)\n",
    "contract2 = Contract(\"Irfan\", 50)\n",
    "\n",
    "total_owed = 0\n",
    "total_owed += contract1.spend_hours(40)\n",
    "total_owed += contract2.spend_hours(25)\n",
    "\n",
    "print(f\"We owe £{total_owed} for this week's work.\")"
   ]
  },
  {
   "cell_type": "markdown",
   "metadata": {},
   "source": [
    "We can also create *class methods* which again belong to the class rather than the object. To do this we need to use the `@classmethod` decorator, and rather than using `self` in the list of parameters, we typically use `cls`. \n",
    "\n",
    "Have a look at the `add_inflation` class method below, and the new demo code:"
   ]
  },
  {
   "cell_type": "code",
   "execution_count": 18,
   "metadata": {},
   "outputs": [
    {
     "name": "stdout",
     "output_type": "stream",
     "text": [
      "New hourly rate after inflation: 30.6\n",
      "We owe £1989.0 for this week's work.\n"
     ]
    }
   ],
   "source": [
    "class Contract:\n",
    "    hourly_rate = 30\n",
    "    \n",
    "    def __init__(self, name, hours):\n",
    "        self.name = name\n",
    "        self.hours = hours\n",
    "        self.active = True\n",
    "        \n",
    "    def spend_hours(self, hours_spent):\n",
    "        if hours_spent > self.hours:\n",
    "            raise ValueError(\"Not enough hours on this contact to do that\")\n",
    "            \n",
    "        self.hours -= hours_spent\n",
    "        self.active = self.hours > 0\n",
    "        return hours_spent * Contract.hourly_rate\n",
    "            \n",
    "    def __str__(self):\n",
    "        if self.active:\n",
    "            return f\"Contract with {self.name} is still active, {self.hours} hours remaining.\"\n",
    "        else:\n",
    "            return f\"Contract with {self.name} is inactive.\"\n",
    "        \n",
    "    @classmethod\n",
    "    def add_inflation(cls, inflation_percent=1):\n",
    "        cls.hourly_rate = round(cls.hourly_rate * (1 + inflation_percent/100), 2)\n",
    "            \n",
    "contract1 = Contract(\"Sahara\", 100)\n",
    "contract2 = Contract(\"Irfan\", 50)\n",
    "\n",
    "Contract.add_inflation(2)\n",
    "print(f\"New hourly rate after inflation: {Contract.hourly_rate}\")\n",
    "\n",
    "total_owed = 0\n",
    "total_owed += contract1.spend_hours(40)\n",
    "total_owed += contract2.spend_hours(25)\n",
    "\n",
    "print(f\"We owe £{total_owed} for this week's work.\")"
   ]
  },
  {
   "cell_type": "markdown",
   "metadata": {},
   "source": [
    "And finally, Python has one more decorator: `@staticmethod`, which is used for methods that do not use any elements from the class or any instances, but we want to bundle them in this class for the benefit of the structure of the code.\n",
    "\n",
    "For anyone with a background in Java, or even if you don't, it is worth pointing out that `static` in Java is also used to create class variables, and there is no real distinction between a class method and a static method. Methods in Java do not have the self-referential object name in the list of parameters (`self` and `cls` in Python, `this` in Java).\n",
    "\n",
    "For this reason, you may occasionally find people talking about *static variables* and *static methods* to refer to the *class* concepts we used here.\n",
    "\n",
    "There is an example of a `@staticmethod` in the code below. Suppose we find ourselves increasing values by percentages (like inflation) a lot within our `Contract` class, we might want to abstract this logic into its own method, but it does not need to know any information about any contract object or the class itself."
   ]
  },
  {
   "cell_type": "code",
   "execution_count": 19,
   "metadata": {},
   "outputs": [
    {
     "name": "stdout",
     "output_type": "stream",
     "text": [
      "New hourly rate after inflation: 30.6\n",
      "We owe £1989.0 for this week's work.\n"
     ]
    }
   ],
   "source": [
    "class Contract:\n",
    "    hourly_rate = 30\n",
    "    \n",
    "    def __init__(self, name, hours):\n",
    "        self.name = name\n",
    "        self.hours = hours\n",
    "        self.active = True\n",
    "        \n",
    "    def spend_hours(self, hours_spent):\n",
    "        if hours_spent > self.hours:\n",
    "            raise ValueError(\"Not enough hours on this contact to do that\")\n",
    "            \n",
    "        self.hours -= hours_spent\n",
    "        self.active = self.hours > 0\n",
    "        return hours_spent * Contract.hourly_rate\n",
    "            \n",
    "    def __str__(self):\n",
    "        if self.active:\n",
    "            return f\"Contract with {self.name} is still active, {self.hours} hours remaining.\"\n",
    "        else:\n",
    "            return f\"Contract with {self.name} is inactive.\"\n",
    "        \n",
    "    @classmethod\n",
    "    def add_inflation(cls, inflation_percent=1):\n",
    "        new_rate = Contract.increase_percentage(cls.hourly_rate, inflation_percent)\n",
    "        cls.hourly_rate = round(new_rate, 2)\n",
    "        \n",
    "    @staticmethod\n",
    "    def increase_percentage(value, percentage):\n",
    "        return value * (1 + percentage/100)\n",
    "            \n",
    "        \n",
    "contract1 = Contract(\"Sahara\", 100)\n",
    "contract2 = Contract(\"Irfan\", 50)\n",
    "\n",
    "Contract.add_inflation(2)\n",
    "print(f\"New hourly rate after inflation: {Contract.hourly_rate}\")\n",
    "\n",
    "total_owed = 0\n",
    "total_owed += contract1.spend_hours(40)\n",
    "total_owed += contract2.spend_hours(25)\n",
    "\n",
    "print(f\"We owe £{total_owed} for this week's work.\")"
   ]
  },
  {
   "cell_type": "markdown",
   "metadata": {},
   "source": [
    "### Exercise\n",
    "Continuing the theme from the previous notebooks: go back to your student assignment system design in section 5.1; can you see any places in the class design where you can use abstract classes (with abstract methods), class variables, or class/static methods? Think about each class: does it need instances? Think about each method: does it need information from the object, can it make do with just information from the class, or does it really need neither?"
   ]
  },
  {
   "cell_type": "markdown",
   "metadata": {},
   "source": [
    "## What Next?\n",
    "There is so much more to learn about good object-oriented design: there are entire books of design patterns that describe common repeatable ways of setting out your class structures, and there are more advanced features like multiple inheritance, which brings some of its own problems too. But you've seen all that you need to start to make use of object oriented programming. Now you need to practice them, to really ground the concepts we've seen so far. The material in future weeks of the unit will all be using object oriented programming, so we'll introduce new concepts as and when they are useful.\n",
    "\n",
    "But before that, there's another programming paradigm that has seen a small resurgence in popularity in the last few years: functional programming. Python is not a functional language, but it does support a few nice features that are heavily inspired by functional languages."
   ]
  }
 ],
 "metadata": {
  "kernelspec": {
   "display_name": "Python 3 (ipykernel)",
   "language": "python",
   "name": "python3"
  },
  "language_info": {
   "codemirror_mode": {
    "name": "ipython",
    "version": 3
   },
   "file_extension": ".py",
   "mimetype": "text/x-python",
   "name": "python",
   "nbconvert_exporter": "python",
   "pygments_lexer": "ipython3",
   "version": "3.11.4"
  }
 },
 "nbformat": 4,
 "nbformat_minor": 4
}
