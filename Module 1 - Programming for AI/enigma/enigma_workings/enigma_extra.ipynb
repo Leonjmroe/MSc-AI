{
 "cells": [
  {
   "cell_type": "code",
   "execution_count": 1,
   "id": "9e45a0dd-a21b-49c4-876e-abae20318724",
   "metadata": {},
   "outputs": [],
   "source": [
    "from enigma import *\n",
    "from enigma_extra import EnigmaMachinePIOffsetter"
   ]
  },
  {
   "cell_type": "code",
   "execution_count": 7,
   "id": "520af747-6eed-4a48-bcbb-ab2d18fa2850",
   "metadata": {},
   "outputs": [
    {
     "name": "stdout",
     "output_type": "stream",
     "text": [
      "char_count 0\n",
      "char in V\n",
      "pi_offset 3\n",
      "pi offset char: Y\n",
      "char_count 1\n",
      "char in J\n",
      "pi_offset 1\n",
      "pi offset char: K\n",
      "char_count 2\n",
      "char in X\n",
      "pi_offset 4\n",
      "pi offset char: B\n",
      "char_count 3\n",
      "char in U\n",
      "pi_offset 1\n",
      "pi offset char: V\n",
      "YKBV\n"
     ]
    }
   ],
   "source": [
    "plugboard_extra_3 = Plugboard()\n",
    "plugboard_extra_3.add(PlugLead('QW'))\n",
    "plugboard_extra_3.add(PlugLead('ER'))\n",
    "plugboard_extra_3.add(PlugLead('TZ'))\n",
    "plugboard_extra_3.add(PlugLead('AS'))\n",
    "plugboard_extra_3.add(PlugLead('DF'))\n",
    "plugboard_extra_3.add(PlugLead('GH'))\n",
    "plugboard_extra_3.add(PlugLead('PY'))\n",
    "plugboard_extra_3.add(PlugLead('XC'))\n",
    "plugboard_extra_3.add(PlugLead('VB'))\n",
    "plugboard_extra_3.add(PlugLead('UL'))\n",
    "plugboard_extra_3.add(PlugLead('IO'))\n",
    "plugboard_extra_3.add(PlugLead('JK'))\n",
    "plugboard_extra_3.add(PlugLead('NM'))\n",
    "\n",
    "ring_settings_extra_3 = [1, 1, 1]\n",
    "rotor_adjuster_extra_3 = Rotor_Adjuster(ring_settings_extra_3)\n",
    "reflector_extra_3 = Reflector('B', rotor_adjuster_extra_3)\n",
    "rotor_engine_extra_3 = Rotor_Engine(rotor_adjuster_extra_3, reflector_extra_3)\n",
    "\n",
    "rotor_engine_extra_3.add_rotor(Rotor('I'))\n",
    "rotor_engine_extra_3.add_rotor(Rotor('II'))\n",
    "rotor_engine_extra_3.add_rotor(Rotor('III'))\n",
    "\n",
    "reflector_extra_3.set_rotor_count(rotor_engine_extra_3.get_rotors_count())\n",
    "rotor_turner_extra_3 = Rotor_Turner(ring_settings_extra_3, rotor_adjuster_extra_3)\n",
    "notch_adjuster_extra_3 = Notch_Adjuster(ring_settings_extra_3, rotor_engine_extra_3, rotor_adjuster_extra_3)\n",
    "\n",
    "enigma_extra_3 = EnigmaMachinePIOffsetter(['A', 'A', 'A'], rotor_engine_extra_3, rotor_turner_extra_3, notch_adjuster_extra_3, rotor_adjuster_extra_3, reflector_extra_3, plugboard_extra_3)\n",
    "enigma_extra_3.encode('SDRF', True)"
   ]
  },
  {
   "cell_type": "code",
   "execution_count": 3,
   "id": "9c266116-a119-4dfd-ab31-4ed296537bfe",
   "metadata": {},
   "outputs": [
    {
     "data": {
      "text/plain": [
       "9"
      ]
     },
     "execution_count": 3,
     "metadata": {},
     "output_type": "execute_result"
    }
   ],
   "source": [
    "from mpmath import mp\n",
    "\n",
    "\n",
    "def compute_pi(decimal_places):\n",
    "    if decimal_places == 0:\n",
    "        return 3\n",
    "    mp.dps = decimal_places + 2  # Ensure you have enough decimal places\n",
    "    pi_value = mp.pi \n",
    "    return int(str(pi_value).split('.')[-1][-2])  # Change [-1] to [-2] to get the second last digit\n",
    "\n",
    "\n",
    "\n",
    "compute_pi(5)"
   ]
  },
  {
   "cell_type": "code",
   "execution_count": null,
   "id": "620900c9-3ad4-4061-93e3-56328af5cb5e",
   "metadata": {},
   "outputs": [],
   "source": [
    "3.141592654"
   ]
  }
 ],
 "metadata": {
  "kernelspec": {
   "display_name": "Python 3 (ipykernel)",
   "language": "python",
   "name": "python3"
  },
  "language_info": {
   "codemirror_mode": {
    "name": "ipython",
    "version": 3
   },
   "file_extension": ".py",
   "mimetype": "text/x-python",
   "name": "python",
   "nbconvert_exporter": "python",
   "pygments_lexer": "ipython3",
   "version": "3.11.4"
  }
 },
 "nbformat": 4,
 "nbformat_minor": 5
}
