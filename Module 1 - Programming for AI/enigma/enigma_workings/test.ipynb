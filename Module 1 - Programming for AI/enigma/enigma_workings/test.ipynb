{
 "cells": [
  {
   "cell_type": "code",
   "execution_count": 9,
   "id": "12be7f72-81b9-450b-9af4-f244706d514e",
   "metadata": {},
   "outputs": [
    {
     "data": {
      "text/plain": [
       "1250"
      ]
     },
     "execution_count": 9,
     "metadata": {},
     "output_type": "execute_result"
    }
   ],
   "source": [
    "class OBJ1():\n",
    "    def __init__(self, count):\n",
    "        self.count = count\n",
    "\n",
    "    def run(self, var):\n",
    "        self.count = self.count * var\n",
    "        return self.count\n",
    "\n",
    "\n",
    "class OBJ2():\n",
    "    def __init__(self, count):\n",
    "        self.count = count\n",
    "\n",
    "    def run(self, var):\n",
    "        return obj1.run(var)\n",
    "\n",
    "obj1 = OBJ1(10)\n",
    "obj2 = OBJ2(40)\n",
    "\n",
    "\n",
    "obj2.run(5)\n",
    "obj2.run(5)\n",
    "obj2.run(5)"
   ]
  },
  {
   "cell_type": "code",
   "execution_count": null,
   "id": "eab778b2-4ba0-494e-a4d0-80148236f0d2",
   "metadata": {},
   "outputs": [],
   "source": []
  }
 ],
 "metadata": {
  "kernelspec": {
   "display_name": "Python 3 (ipykernel)",
   "language": "python",
   "name": "python3"
  },
  "language_info": {
   "codemirror_mode": {
    "name": "ipython",
    "version": 3
   },
   "file_extension": ".py",
   "mimetype": "text/x-python",
   "name": "python",
   "nbconvert_exporter": "python",
   "pygments_lexer": "ipython3",
   "version": "3.11.4"
  }
 },
 "nbformat": 4,
 "nbformat_minor": 5
}
