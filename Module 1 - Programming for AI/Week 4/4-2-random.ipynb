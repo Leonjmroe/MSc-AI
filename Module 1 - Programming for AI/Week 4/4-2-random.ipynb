{
 "cells": [
  {
   "cell_type": "markdown",
   "metadata": {},
   "source": [
    "## 4.2 – Random Numbers\n",
    "### Random Module\n",
    "The standard way to generate random numbers in the base version of Python is to use the `random` module."
   ]
  },
  {
   "cell_type": "code",
   "execution_count": 1,
   "metadata": {},
   "outputs": [],
   "source": [
    "import random"
   ]
  },
  {
   "cell_type": "markdown",
   "metadata": {},
   "source": [
    "A small bit of randomness is very powerful. You might be trying to generate random numbers to insert into quiz questions, or you might be trying to control the behaviour of an AI algorithm, or you might be writing a game that uses *procedural generation* to create its levels. All of this behaviour can be driven by a single function:"
   ]
  },
  {
   "cell_type": "code",
   "execution_count": 2,
   "metadata": {},
   "outputs": [
    {
     "data": {
      "text/plain": [
       "0.8612564712292173"
      ]
     },
     "execution_count": 2,
     "metadata": {},
     "output_type": "execute_result"
    }
   ],
   "source": [
    "random.random()"
   ]
  },
  {
   "cell_type": "markdown",
   "metadata": {},
   "source": [
    "The `.random()` function inside the `random` module produces a random floating point number between 0 and 1. Technically, it produces $x$ such that $0 \\le x < 1$, i.e. it can be equal to zero but it cannot be equal to 1. \n",
    "\n",
    "Try running the cell above multiple times to see the result changing.\n",
    "\n",
    "> ##### Slight tangent....\n",
    "> If we think of random number generation as a mathematically continuous function, you might think this is a distinction without a difference – surely it is effectively impossible to actually produce a value of exactly zero, there are uncountably infinite values in the range. However, in practice, there are only *finitely* many floating point numbers between `0` and `1`. So the probability of producing a value of `0` is somewhere in the order of 1 in 10 quadrillion, it *is* possible. Software can process items in the order of millions or even billions per second, so hitting 1 in 10 quadrillion odds in real applications is certainly possible. But getting a value of `1` is guaranteed to be impossible from `.random()`.\n",
    "\n",
    "The reason I say that this function can drive all random generation is because with a bit of maths we can use it to generate a value in *any* range. If $x$ is a random value between $0$ and $1$, then to get a value between $a$ and $b$, we can simply calculate $a + (b-a)x$:"
   ]
  },
  {
   "cell_type": "code",
   "execution_count": 3,
   "metadata": {},
   "outputs": [
    {
     "data": {
      "text/plain": [
       "18.666651426098632"
      ]
     },
     "execution_count": 3,
     "metadata": {},
     "output_type": "execute_result"
    }
   ],
   "source": [
    "a = 10\n",
    "b = 20\n",
    "x = random.random()\n",
    "a + (b-a)*x"
   ]
  },
  {
   "cell_type": "markdown",
   "metadata": {},
   "source": [
    "If we want the result to be an integer, we could simply pass the number into the `int(…)` function."
   ]
  },
  {
   "cell_type": "code",
   "execution_count": 4,
   "metadata": {},
   "outputs": [
    {
     "data": {
      "text/plain": [
       "11"
      ]
     },
     "execution_count": 4,
     "metadata": {},
     "output_type": "execute_result"
    }
   ],
   "source": [
    "int(a + (b-a) * random.random())"
   ]
  },
  {
   "cell_type": "markdown",
   "metadata": {},
   "source": [
    "If we want to perform an action with a probability of `prob` we can simply write an if statement like this:"
   ]
  },
  {
   "cell_type": "code",
   "execution_count": 5,
   "metadata": {},
   "outputs": [
    {
     "name": "stdout",
     "output_type": "stream",
     "text": [
      "HEADS!\n"
     ]
    }
   ],
   "source": [
    "prob = 0.5\n",
    "if random.random() < prob:\n",
    "    print(\"HEADS!\")\n",
    "else:\n",
    "    print(\"TAILS!\")"
   ]
  },
  {
   "cell_type": "markdown",
   "metadata": {},
   "source": [
    "If we want to choose a random value from a list `my_list`, we can generate a random integer between `0` and `len(my_list)` and use this as an index for the list:"
   ]
  },
  {
   "cell_type": "code",
   "execution_count": 6,
   "metadata": {},
   "outputs": [
    {
     "data": {
      "text/plain": [
       "'egg'"
      ]
     },
     "execution_count": 6,
     "metadata": {},
     "output_type": "execute_result"
    }
   ],
   "source": [
    "my_list = [\"cat\", \"dog\", \"egg\"]\n",
    "index = int(len(my_list) * random.random())\n",
    "my_list[index]"
   ]
  },
  {
   "cell_type": "markdown",
   "metadata": {},
   "source": [
    "So this is all great, then why do we need a whole module for `random`? The reason is mainly because it offers nicer syntax. The code above to choose a random element from a list is quite clunky, when we can actually do this instead:"
   ]
  },
  {
   "cell_type": "code",
   "execution_count": 7,
   "metadata": {},
   "outputs": [
    {
     "data": {
      "text/plain": [
       "'egg'"
      ]
     },
     "execution_count": 7,
     "metadata": {},
     "output_type": "execute_result"
    }
   ],
   "source": [
    "random.choice(my_list)"
   ]
  },
  {
   "cell_type": "markdown",
   "metadata": {},
   "source": [
    "This code is easy to remember and easy to read.\n",
    "\n",
    "> ##### Important tangent....\n",
    "> Obviously the value of `x = a + (b-a) * random.random()` can be equal to `a` since `random.random()` can be equal to `0`, but much less obvious is the fact that `x` *might* be equal to `b`, even though `random.random()` *cannot* be equal to `1`. The reason is because of floating point rounding and the tiny arithmetic errors introduced. Again you'd be looking at quadrillions-to-1 odds, but this is another good reason to stick with `random.choice(…)`, rather than doing the maths yourself.\n",
    "\n",
    "Generating random integers is a common job as well, so there is also `.randint(a, b)`, which generates a random integer from `a` to `b` *inclusive* – an unusual break from tradition."
   ]
  },
  {
   "cell_type": "code",
   "execution_count": 8,
   "metadata": {},
   "outputs": [
    {
     "data": {
      "text/plain": [
       "1"
      ]
     },
     "execution_count": 8,
     "metadata": {},
     "output_type": "execute_result"
    }
   ],
   "source": [
    "random.randint(0, 3) # can produce 3"
   ]
  },
  {
   "cell_type": "markdown",
   "metadata": {},
   "source": [
    "There is also `.randrange(…)` which accepts the same arguments as `range(…)`, and this one works as you'd expect:"
   ]
  },
  {
   "cell_type": "code",
   "execution_count": 9,
   "metadata": {},
   "outputs": [
    {
     "data": {
      "text/plain": [
       "0"
      ]
     },
     "execution_count": 9,
     "metadata": {},
     "output_type": "execute_result"
    }
   ],
   "source": [
    "random.randrange(0, 3) # cannot produce 3"
   ]
  },
  {
   "cell_type": "markdown",
   "metadata": {},
   "source": [
    "As with any module, the best way to use it is to keep [the documentation](https://docs.python.org/3/library/random.html) to hand and consult it often.\n",
    "\n",
    "### Deterministic Randomness\n",
    "There is one more function I want to mention: `random.seed(x)`. \n",
    "\n",
    "Python's random number generator is not really producing *true randomness*, because computers are really just fancy circuits. Unless you have your computer hooked up to a [Geiger-Müller counter](http://www.fourmilab.ch/hotbits/) or a [lava lamp](https://blog.cloudflare.com/lavarand-in-production-the-nitty-gritty-technical-details/), it is a predictable machine, albeit one running billions of operations per second.\n",
    "\n",
    "The way most computers generate random numbers is actually *pseudo random*. It starts with some *arbitrary* value called a *seed*, such as the number of nanoseconds that have passed since the last millisecond, and then uses a formula to generate values from this based on a non-predictable pattern. You cannot predict the next random number simply based on the current one, you would need to know the seed as well. In theory if you observed enough numbers you could work out the seed, but in practice computers can deal with numbers big enough to make this take longer than the lifespan of the universe. You can read more detail about randomness on [random.org](https://random.org/randomness/).\n",
    "\n",
    "Sometimes you want your code to exhibit *random* behaviour in the sense that it produces an unpredictable sequence of actions, but you want it to perform ***the same*** actions every time you run the code. In a literal sense this makes the actions “predictable”, but the sequence itself has no obvious pattern. This is extremely useful when you are trying to test code with randomness. If you've written an AI that is meant to act with an element of randomness, but it isn't working quite right, it's extremely useful to be able to get the same results every time you run the code so you can fix the bug. This is called *deterministic randomness*.\n",
    "\n",
    "To achieve this we can set the seed of the random number generator to anything we like. The value we pass in will not be reflected in the numbers in any obvious way. But now every time you run the code, provided the seed is the same, you will get the same random number sequence, and therefore the same results – provided you use the random numbers the same way!\n",
    "\n",
    "Try running this cell multiple times:"
   ]
  },
  {
   "cell_type": "code",
   "execution_count": 10,
   "metadata": {
    "scrolled": true
   },
   "outputs": [
    {
     "name": "stdout",
     "output_type": "stream",
     "text": [
      "My lottery numbers:\n",
      "[55, 25, 49, 57, 27, 3]\n"
     ]
    }
   ],
   "source": [
    "random.seed(0)\n",
    "\n",
    "print(\"My lottery numbers:\")\n",
    "print([random.randint(1, 59) for _ in range(6)])"
   ]
  },
  {
   "cell_type": "markdown",
   "metadata": {},
   "source": [
    "The exact same code produces the same result wherever it is run:"
   ]
  },
  {
   "cell_type": "code",
   "execution_count": 11,
   "metadata": {},
   "outputs": [
    {
     "name": "stdout",
     "output_type": "stream",
     "text": [
      "My lottery numbers:\n",
      "[55, 25, 49, 57, 27, 3]\n"
     ]
    }
   ],
   "source": [
    "random.seed(0)\n",
    "\n",
    "print(\"My lottery numbers:\")\n",
    "print([random.randint(1, 59) for _ in range(6)])"
   ]
  },
  {
   "cell_type": "markdown",
   "metadata": {},
   "source": [
    "But bear in mind that even without changing the seed, if you insert additional random numbers earlier in your code it will change the sequence that appears later."
   ]
  },
  {
   "cell_type": "code",
   "execution_count": 12,
   "metadata": {},
   "outputs": [
    {
     "name": "stdout",
     "output_type": "stream",
     "text": [
      "My lottery numbers:\n",
      "[41, 22, 55, 13, 16, 2]\n"
     ]
    }
   ],
   "source": [
    "random.seed(0)\n",
    "\n",
    "# use some random numbers for something else\n",
    "[random.random() for _ in range(100)]\n",
    "\n",
    "print(\"My lottery numbers:\")\n",
    "print([random.randint(1, 59) for _ in range(6)])"
   ]
  },
  {
   "cell_type": "markdown",
   "metadata": {},
   "source": [
    "### Questions\n",
    "Here are a couple of questions to practice using the `random` module, make sure you use the documentation! \n",
    "\n",
    "#### Question 1\n",
    "I used a list comprehension in the previous cells to generate multiple numbers. Can you find a way to do this just using functions from `random`?"
   ]
  },
  {
   "cell_type": "code",
   "execution_count": null,
   "metadata": {},
   "outputs": [],
   "source": []
  },
  {
   "cell_type": "markdown",
   "metadata": {},
   "source": [
    "#### Question 2\n",
    "In the cell below, write a list comprehension that generates every possible [standard playing card](https://en.wikipedia.org/wiki/Standard_52-card_deck) as a tuple, e.g. `('A', '♠')`. Tuples containing all the possible face values and all the possible suits have been provided.\n",
    "\n",
    "Then, use a function from the `random` module to simulate shuffling the list of tuples. This could be the start of a Python implementation of many traditional card games!"
   ]
  },
  {
   "cell_type": "code",
   "execution_count": 13,
   "metadata": {},
   "outputs": [],
   "source": [
    "face_values = ('A', '2', '3', '4', '5', '6', '7', '8', '9', '10', 'J', 'Q', 'K')\n",
    "suits = ('♠', '♥', '♦', '♣')"
   ]
  },
  {
   "cell_type": "markdown",
   "metadata": {},
   "source": [
    "## What Next?\n",
    "When you are done with this notebook, go back to Engage and move onto the next section."
   ]
  },
  {
   "cell_type": "code",
   "execution_count": 1,
   "metadata": {},
   "outputs": [
    {
     "name": "stdout",
     "output_type": "stream",
     "text": [
      "Deck before shuffling:\n",
      "[('A', '♠'), ('A', '♥'), ('A', '♦'), ('A', '♣'), ('2', '♠'), ('2', '♥'), ('2', '♦'), ('2', '♣'), ('3', '♠'), ('3', '♥'), ('3', '♦'), ('3', '♣'), ('4', '♠'), ('4', '♥'), ('4', '♦'), ('4', '♣'), ('5', '♠'), ('5', '♥'), ('5', '♦'), ('5', '♣'), ('6', '♠'), ('6', '♥'), ('6', '♦'), ('6', '♣'), ('7', '♠'), ('7', '♥'), ('7', '♦'), ('7', '♣'), ('8', '♠'), ('8', '♥'), ('8', '♦'), ('8', '♣'), ('9', '♠'), ('9', '♥'), ('9', '♦'), ('9', '♣'), ('10', '♠'), ('10', '♥'), ('10', '♦'), ('10', '♣'), ('J', '♠'), ('J', '♥'), ('J', '♦'), ('J', '♣'), ('Q', '♠'), ('Q', '♥'), ('Q', '♦'), ('Q', '♣'), ('K', '♠'), ('K', '♥'), ('K', '♦'), ('K', '♣')]\n",
      "\n",
      "Deck after shuffling:\n",
      "[('J', '♣'), ('5', '♠'), ('10', '♥'), ('A', '♣'), ('10', '♣'), ('9', '♣'), ('10', '♠'), ('8', '♠'), ('5', '♣'), ('J', '♥'), ('K', '♣'), ('A', '♥'), ('5', '♦'), ('6', '♦'), ('7', '♦'), ('A', '♦'), ('7', '♣'), ('3', '♣'), ('9', '♦'), ('4', '♣'), ('7', '♠'), ('J', '♠'), ('4', '♠'), ('8', '♣'), ('Q', '♣'), ('A', '♠'), ('K', '♠'), ('2', '♥'), ('4', '♥'), ('2', '♣'), ('4', '♦'), ('5', '♥'), ('6', '♥'), ('8', '♥'), ('9', '♥'), ('K', '♥'), ('6', '♠'), ('Q', '♥'), ('9', '♠'), ('6', '♣'), ('10', '♦'), ('Q', '♦'), ('8', '♦'), ('2', '♠'), ('J', '♦'), ('7', '♥'), ('3', '♠'), ('3', '♥'), ('K', '♦'), ('3', '♦'), ('Q', '♠'), ('2', '♦')]\n"
     ]
    }
   ],
   "source": [
    "import random\n",
    "\n",
    "# Given tuples\n",
    "face_values = ('A', '2', '3', '4', '5', '6', '7', '8', '9', '10', 'J', 'Q', 'K')\n",
    "suits = ('♠', '♥', '♦', '♣')\n",
    "\n",
    "# Generate the deck using a list comprehension\n",
    "deck = [(face, suit) for face in face_values for suit in suits]\n",
    "\n",
    "# Output the deck before shuffling\n",
    "print(\"Deck before shuffling:\")\n",
    "print(deck)\n",
    "\n",
    "# Shuffle the deck\n",
    "random.shuffle(deck)\n",
    "\n",
    "# Output the deck after shuffling\n",
    "print(\"\\nDeck after shuffling:\")\n",
    "print(deck)"
   ]
  },
  {
   "cell_type": "code",
   "execution_count": null,
   "metadata": {},
   "outputs": [],
   "source": []
  }
 ],
 "metadata": {
  "kernelspec": {
   "display_name": "Python 3 (ipykernel)",
   "language": "python",
   "name": "python3"
  },
  "language_info": {
   "codemirror_mode": {
    "name": "ipython",
    "version": 3
   },
   "file_extension": ".py",
   "mimetype": "text/x-python",
   "name": "python",
   "nbconvert_exporter": "python",
   "pygments_lexer": "ipython3",
   "version": "3.11.4"
  }
 },
 "nbformat": 4,
 "nbformat_minor": 2
}
