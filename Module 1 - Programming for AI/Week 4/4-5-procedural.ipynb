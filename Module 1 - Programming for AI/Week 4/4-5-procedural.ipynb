{
 "cells": [
  {
   "cell_type": "markdown",
   "metadata": {},
   "source": [
    "# Programming Paradigms\n",
    "## 4.5 – Procedural Programming\n",
    "Hopefully the Python code that you have been writing so far outside of Jupyter looks something like this:\n",
    "```python\n",
    "# define some functions\n",
    "def function1(...):\n",
    "    # ...\n",
    "    \n",
    "def function2(...):\n",
    "    # ...\n",
    "    \n",
    "def function3(...):\n",
    "    # ...\n",
    "    \n",
    "# main code goes here – i.e. use the functions\n",
    "x = function1(...)\n",
    "```\n",
    "\n",
    "This is an example of the **procedural programming** paradigm. The solution to the task is broken down with variables, data structures, and crucially: procedures (and functions!). This is the programming paradigm that is favoured by languages like C.\n",
    "\n",
    "In C, all code must be written inside a subroutine, but there is a special subroutine called `main`. If a file called `program.c` is compiled and run, then the `main` subroutine in that file is the code which is run first. In Python we can write this code “outside” of our subroutine definitions, as we do in the example above (the final line of the example). But there is a slight issue with doing this in real programs.\n",
    "\n",
    "If we are writing lots of useful functions and procedures, we might want to allow other users to *import* our code as a module (as we saw earlier). If so, we do not necessarily want the “outside” code to run. It might be test code to make sure our functions actually work, not something other programs want to happen automatically. Ideally, we would like the code “outside the subroutines” to run only when the file itself is run as a Python program, not when it is imported into another file. \n",
    "\n",
    "We can check the current *namespace* to achieve this. It is just a one line modification to the code above, and gives us a structure that ends up looking quite similar to a C `main` subroutine:\n",
    "```python\n",
    "# define some functions\n",
    "def function1(...):\n",
    "    # ...\n",
    "    \n",
    "def function2(...):\n",
    "    # ...\n",
    "    \n",
    "def function3(...):\n",
    "    # ...\n",
    "    \n",
    "if __name__ == \"__main__\":\n",
    "    # main code goes here – i.e. use the functions\n",
    "    x = function1(...)\n",
    "```\n",
    "\n",
    "This line of code, `if __name__ == \"__main__\":` is common to see in Python programs which are intended to be run, even if there is no intention for the code to ever be imported by someone else.\n",
    "\n",
    "### Procedural Data Structures\n",
    "Procedural programming was the dominant paradigm for a long time, but some of its behaviours can end up being quite inelegant. This is particularly prominent when we try to implement our own data structures.\n",
    "\n",
    "#### Stack Data Structure\n",
    "A **stack** is a collection of items, to which we can only add one item at a time, and we can only retrieve one item at a time. The order is *last in, first out*. So you can think of a stack as being like a stack of plates: the last item you add to the top of the stack will be the first one you retrieve. Adding an item to a stack is called *pushing* and removing the top item of a stack is called *popping*. \n",
    "\n",
    "Now, Python is a language of convenience! Its builtin list type already supports `append` and `pop`. We can use a list as a stack already. But, as we've mentioned before, those features must have been coded by *someone*. Understanding more about how *data structures* actually work means being able to implement these algorithms. \n",
    "\n",
    "We will not be doing this at the same level of abstraction as the inbuilt Python features. Features like lists in the default version of Python are actually written in C code somewhere. This isn't our objective either. We just want to understand the algorithms: how does a stack “push” function actually work when you have a fixed amount of memory? If you understand these principles using the high-level tools of Python then\n",
    "* it will help you build your own advanced data structures when trying to solve more complicated problems in Python, and\n",
    "* it will mean you actually can start to do this for real if you ever go and learn a language like C.\n",
    "\n",
    "So, what if we wanted to create our own stack data type based on Python lists, *where we are only allowed to use non-negative list indexing*? So `list[0]` is allowed, but `list.pop()` is not allowed. We are simulating the use of a traditional *array* with a Python *list* – and an array is what Python is actually using *under the hood* to make its list type work in the first place – again, more on this in a future week.\n",
    "\n",
    "A stack can be implemented with an array in the following way:\n",
    "* To create a new stack of size `size`:\n",
    " * Create an array `contents` with room for `size` elements\n",
    " * Create a variable called `head` set to `0` – this *“points”* at the next available space\n",
    "* To push an item `x`:\n",
    " * Check if the stack is full, if it is, give an error, otherwise continue\n",
    " * Add `x` to `contents` at position `head`\n",
    " * Increase `head` by one\n",
    "* To pop an item:\n",
    " * Check if the stack is empty, if it is, give an error, otherwise continue\n",
    " * Decrease `head` by one\n",
    " * Return the element at position `head` of `contents`\n",
    " \n",
    "Below is an animation demonstrating the following commands in order (you might need to click play on the video):\n",
    "* New stack, size 5\n",
    "* Push 4\n",
    "* Push 10\n",
    "* Push 3\n",
    "* Pop\n",
    "* Pop\n",
    "* Push 7\n",
    "* Pop\n",
    "\n",
    "<br /><video controls loop autoplay width=240 src=\"./resources/stack.mp4\">\n",
    "</video>\n",
    "\n",
    "#### Stack Implementation\n",
    "Let's create a procedural Python implementation of a stack."
   ]
  },
  {
   "cell_type": "code",
   "execution_count": 1,
   "metadata": {},
   "outputs": [
    {
     "name": "stdout",
     "output_type": "stream",
     "text": [
      "12\n",
      "12\n",
      "7\n"
     ]
    }
   ],
   "source": [
    "def new_stack(size):\n",
    "    # our stack will be a list of [list, int] for [contents, head]\n",
    "    # so stack[0] is contents\n",
    "    #    stack[1] is head\n",
    "    contents = [0] * size\n",
    "    head = 0\n",
    "    return [contents, head]\n",
    "\n",
    "def is_full(stack):\n",
    "    return stack[1] == len(stack[0])\n",
    "    \n",
    "def is_empty(stack):\n",
    "    return stack[1] == 0    \n",
    "\n",
    "def push(stack, x):\n",
    "    if is_full(stack):\n",
    "        # fail silently, could also raise an error here instead\n",
    "        return\n",
    "    stack[0][stack[1]] = x\n",
    "    stack[1] += 1\n",
    "    \n",
    "def pop(stack):\n",
    "    if is_empty(stack):\n",
    "        return\n",
    "    stack[1] -= 1\n",
    "    return stack[0][stack[1]]\n",
    "\n",
    "if __name__ == \"__main__\":\n",
    "    my_stack = new_stack(5)\n",
    "    push(my_stack, 4)\n",
    "    push(my_stack, 10)\n",
    "    push(my_stack, 3)\n",
    "    push(my_stack, 12)\n",
    "    push(my_stack, 12)\n",
    "    push(my_stack, 12)\n",
    "    print(pop(my_stack)) # should print 3\n",
    "    print(pop(my_stack)) # should print 10\n",
    "    push(my_stack, 7)\n",
    "    print(pop(my_stack)) # should print 7"
   ]
  },
  {
   "cell_type": "markdown",
   "metadata": {},
   "source": [
    "This is, more or less, how people used to implement their own data structures in a procedural language. And it works! If we saved the code above as `stack.py` then we could use these stack functions in another program by writing `import stack`, like this:\n",
    "```python\n",
    "import stack\n",
    "\n",
    "my_stack = stack.new_stack(5)\n",
    "stack.push(my_stack, 4)\n",
    "```\n",
    "\n",
    "The code at the bottom is protected by the “if name equals main” line, so won't be run when the code is imported. Perfect for test code like this.\n",
    "\n",
    "Spend some time looking at the code above. Modify the code so to push additional elements onto the stack which go beyond its size, then seeing what happens when you pop an element.\n",
    "\n",
    "### Limitations\n",
    "\n",
    "This isn't really the preferred method in Python. The code is a bit inelegant, in a few ways.\n",
    "\n",
    "The first problem is actually *not* the fault of procedural programming, it's because I've had to use an inelegant “hack” to avoid using a specific Python feature. I chose to store the stack as a list of two items because then we could pass that list around and modify its elements in different procedures. But this leads to awkward lines like `stack[0][stack[1]] = x`. \n",
    "\n",
    "In a “proper” procedural language you can normally create *structures* that make this syntax a bit nicer by allowing for a variable with named elements. For example we might be able to make a structure which always contains an array called `contents` and an integer called `head`, so then we could do: \n",
    "```\n",
    "stack.contents[stack.head] = x\n",
    "```\n",
    "Much nicer!\n",
    "\n",
    "We actually can simulate this in Python too, but to do so we need to use classes and objects (the feature I was avoiding, and will come up next week, so we'll come back to this).\n",
    "\n",
    "So try to ignore that slightly awkward syntax for now. But there are other problems more fundamental to procedural programming. One is that the user of this stack library still has direct access to the underlying data. In the cell below I can access the bottom element of the stack – which shouldn't be possible – by accessing the underlying contents array. Even if we used a traditional procedural programming *structure* this problem would persist. We haven't really met the brief of making a data structure that can *only* be accessed first-in-last-out."
   ]
  },
  {
   "cell_type": "code",
   "execution_count": 2,
   "metadata": {},
   "outputs": [
    {
     "data": {
      "text/plain": [
       "4"
      ]
     },
     "execution_count": 2,
     "metadata": {},
     "output_type": "execute_result"
    }
   ],
   "source": [
    "# access the bottom element of the stack directly\n",
    "my_stack[0][0]"
   ]
  },
  {
   "cell_type": "markdown",
   "metadata": {},
   "source": [
    "Do you remember back in the unit introduction, we said that we like to distinguish between *data* and *actions*. The `my_stack` variable is stack in terms of its data only. The variable itself has no notion of the possible *actions* available to a stack.\n",
    "\n",
    "That brings us back to those inbuilt *push* and *pop*-like features of Python lists. With a list, we can do this:"
   ]
  },
  {
   "cell_type": "code",
   "execution_count": 3,
   "metadata": {},
   "outputs": [
    {
     "name": "stdout",
     "output_type": "stream",
     "text": [
      "3\n",
      "10\n",
      "7\n"
     ]
    }
   ],
   "source": [
    "my_stack = []\n",
    "my_stack.append(4)\n",
    "my_stack.append(10)\n",
    "my_stack.append(3)\n",
    "print(my_stack.pop()) # should print 3\n",
    "print(my_stack.pop()) # should print 10\n",
    "my_stack.append(7)\n",
    "print(my_stack.pop()) # should print 7"
   ]
  },
  {
   "cell_type": "markdown",
   "metadata": {},
   "source": [
    "The `append` and `pop` *methods* belong to the list variable itself. This syntax, `variable.method()` is possible because Python lists are actually ***objects***, a word we've used before, but soon will give a precise meaning to.\n",
    "\n",
    "### Exercise\n",
    "That is a topic for next week. For now, make sure you are thoroughly comfortable with how the Stack code above works. \n",
    "\n",
    "Try to write a similar set of functions in the cell below for a *queue*. A queue is a *first in, first out* data structure. So if I insert items in the order: `4, 10, 3` then I should remove them in the same order: `4, 10, 3`. Without looking anything up, are you able to implement a queue using the same restrictions as before? You can use a list to simulate a fixed amount of memory, and as a hint, you will need *two* variables which “point” to the beginning and the end of your data inside the list. There is some skeleton code to start."
   ]
  },
  {
   "cell_type": "code",
   "execution_count": null,
   "metadata": {},
   "outputs": [],
   "source": [
    "def new_queue(size):\n",
    "    # our queue will be a list of [list, int, int] for [contents, head, tail]\n",
    "    # so queue[0] is contents\n",
    "    #    queue[1] is head\n",
    "    #    queue[2] is tail\n",
    "    contents = [0] * size\n",
    "    head = 0\n",
    "    tail = 0\n",
    "    return [contents, head, tail]\n",
    "\n",
    "def add(queue, x):\n",
    "    pass\n",
    "\n",
    "def remove(queue):\n",
    "    pass\n",
    "\n",
    "if __name__ == \"__main__\":\n",
    "    my_queue = new_queue(5)\n",
    "    add(my_queue, 4)\n",
    "    add(my_queue, 10)\n",
    "    add(my_queue, 3)\n",
    "    print(remove(my_queue)) # should print 4\n",
    "    print(remove(my_queue)) # should print 10\n",
    "    add(my_queue, 7)\n",
    "    print(remove(my_queue)) # should print 3"
   ]
  },
  {
   "cell_type": "markdown",
   "metadata": {},
   "source": [
    "Once you have written your queue, try the code below. You might run into a problem if you remove items from your queue and then try to add new items to replace them. If so, you have implemented a *linear queue*, which is still good! See if you can work out from the code why it is breaking.\n",
    "\n",
    "The standard way around this is called a *circular queue*. You can look up the differences if you are interested, but this lesson is supposed to be about the procedural structure (paradigm), not the data structures themselves – we'll come back to these ideas later in the unit."
   ]
  },
  {
   "cell_type": "code",
   "execution_count": 2,
   "metadata": {},
   "outputs": [
    {
     "ename": "NameError",
     "evalue": "name 'new_queue' is not defined",
     "output_type": "error",
     "traceback": [
      "\u001b[0;31m---------------------------------------------------------------------------\u001b[0m",
      "\u001b[0;31mNameError\u001b[0m                                 Traceback (most recent call last)",
      "Cell \u001b[0;32mIn[2], line 3\u001b[0m\n\u001b[1;32m      1\u001b[0m \u001b[38;5;66;03m## advanced version\u001b[39;00m\n\u001b[1;32m      2\u001b[0m \u001b[38;5;66;03m## see the note above before running\u001b[39;00m\n\u001b[0;32m----> 3\u001b[0m my_queue \u001b[38;5;241m=\u001b[39m new_queue(\u001b[38;5;241m3\u001b[39m)\n\u001b[1;32m      4\u001b[0m add(my_queue, \u001b[38;5;241m4\u001b[39m)\n\u001b[1;32m      5\u001b[0m add(my_queue, \u001b[38;5;241m10\u001b[39m)\n",
      "\u001b[0;31mNameError\u001b[0m: name 'new_queue' is not defined"
     ]
    }
   ],
   "source": [
    "## advanced version\n",
    "## see the note above before running\n",
    "my_queue = new_queue(3)\n",
    "add(my_queue, 4)\n",
    "add(my_queue, 10)\n",
    "add(my_queue, 3)\n",
    "print(remove(my_queue)) # should print 4\n",
    "print(remove(my_queue)) # should print 10\n",
    "add(my_queue, 7)\n",
    "print(remove(my_queue)) # should print 3"
   ]
  },
  {
   "cell_type": "markdown",
   "metadata": {},
   "source": [
    "## What Next?\n",
    "Once you have had a go at the queue (if you are struggling, ask on the forum!) and you are done with this notebook, go back to Engage and move onto the weekly wrap up and your exercise sheet."
   ]
  }
 ],
 "metadata": {
  "kernelspec": {
   "display_name": "Python 3 (ipykernel)",
   "language": "python",
   "name": "python3"
  },
  "language_info": {
   "codemirror_mode": {
    "name": "ipython",
    "version": 3
   },
   "file_extension": ".py",
   "mimetype": "text/x-python",
   "name": "python",
   "nbconvert_exporter": "python",
   "pygments_lexer": "ipython3",
   "version": "3.11.4"
  }
 },
 "nbformat": 4,
 "nbformat_minor": 2
}
