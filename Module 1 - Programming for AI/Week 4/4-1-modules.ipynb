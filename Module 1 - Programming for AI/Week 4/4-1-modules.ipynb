{
 "cells": [
  {
   "cell_type": "markdown",
   "metadata": {},
   "source": [
    "# Chapter 4 – Structure and Reuse\n",
    "## 4.1 – Importing Modules\n",
    "### Additional Inbuilt Functions\n",
    "At some point, you will want to do something in Python beyond the functions you already know. Suppose you are converting `float`s to `int`s and you want to *round up*. You will go to your favourite search engine, search for “round up Python”, and the results will tell you to use the module called `math`.\n",
    "\n",
    "As we've already mentioned on Engage, a **module** is a collection of definitions, and the `math` module contains many useful functions for doing, well, maths (the ‘s’ is a British vs. American spelling thing, sorry). The list of inbuilt functions is kept only to the most essential and commonly used – if for no other reason than it being annoying when there are lots of reserved words that you cannot use for your own variable and function names. But we can import the `math` module with a single line:"
   ]
  },
  {
   "cell_type": "code",
   "execution_count": 2,
   "metadata": {},
   "outputs": [],
   "source": [
    "import math"
   ]
  },
  {
   "cell_type": "markdown",
   "metadata": {},
   "source": [
    "Lines of code like this are often seen at the top of `.py` files (programs), listing all the modules which will be used throughout the code. Once the line of code has been run, any subsequent line can call a function in the `math` module using a syntax like `math.<function>`.\n",
    "\n",
    "⚠️ ***Important***\n",
    "\n",
    "In Jupyter, *you* need to make sure you have run the code cell containing the `import` statement, otherwise the later calls to those modules' functions will not run. You need to do this even if it looks like it has already run! You are essentially setting up the *state* of the Jupyter Notebook itself. \n",
    "\n",
    "If you open this Notebook then immediately run a cell which tries to call a function in `math` it will cause an error. Try running the cell below to confirm. Then run the cell above, and finally run the one below again. This will make sure all the rest of the cells work properly if you decide to run them. At the same time, look how easy it is to round up our decimal numbers!"
   ]
  },
  {
   "cell_type": "code",
   "execution_count": 3,
   "metadata": {},
   "outputs": [
    {
     "data": {
      "text/plain": [
       "1"
      ]
     },
     "execution_count": 3,
     "metadata": {},
     "output_type": "execute_result"
    }
   ],
   "source": [
    "math.ceil(0.25)"
   ]
  },
  {
   "cell_type": "markdown",
   "metadata": {},
   "source": [
    "The `ceil` function is short for “ceiling”, another name for rounding up. We'll show you some more functions from the `math` module shortly. But first, let's finish talking about the `import X` line itself, since there is not much to cover, we might as well do it all now."
   ]
  },
  {
   "cell_type": "markdown",
   "metadata": {},
   "source": [
    "#### Alternative Importing Styles\n",
    "There are a couple of other methods for importing modules depending on how you want to address the functions later on in your code. This is mostly a mater of convention, really. If you only want a single definition from a module, but you will use it a lot, you can import it into the *local namespace* – this acts as if you have actually written the `def` line within the same file:"
   ]
  },
  {
   "cell_type": "code",
   "execution_count": 3,
   "metadata": {},
   "outputs": [
    {
     "data": {
      "text/plain": [
       "1"
      ]
     },
     "execution_count": 3,
     "metadata": {},
     "output_type": "execute_result"
    }
   ],
   "source": [
    "from math import ceil\n",
    "\n",
    "ceil(0.25)"
   ]
  },
  {
   "cell_type": "markdown",
   "metadata": {},
   "source": [
    "So rather than writing `math.ceil` we can just write `ceil`. \n",
    "\n",
    "I don't really recommend doing this as a matter of course – sometimes it's the conventional way to use a module, but in this case it would probably be slightly confusing to someone reading your code; they might think “why has this person written their own `ceil` function instead of using `math.ceil`” – only to realise later that you are importing it this way.\n",
    "\n",
    "If you use many or all of the functions within `math`, you can actually write `from math import *`. This is even more confusing because you will see function names pop up in the code that aren't even listed in the import statements. Again the general advice is to avoid this, but you might see it from time to time.\n",
    "\n",
    "If you don't want to use `math.ceil` because it is simply too many characters, then might I suggest the following:"
   ]
  },
  {
   "cell_type": "code",
   "execution_count": 4,
   "metadata": {},
   "outputs": [
    {
     "data": {
      "text/plain": [
       "1"
      ]
     },
     "execution_count": 4,
     "metadata": {},
     "output_type": "execute_result"
    }
   ],
   "source": [
    "import math as m\n",
    "\n",
    "m.ceil(0.25)"
   ]
  },
  {
   "cell_type": "markdown",
   "metadata": {},
   "source": [
    "You can *rename* the module reference as you import it using the syntax in the cell above. This might seem unnecessary for `math`, this only saves 3 characters! But if you use it a lot, it might be worth it. For one of the libraries you'll see later in the unit, `numpy`, it is considered standard to import it using the line `import numpy as np`."
   ]
  },
  {
   "cell_type": "markdown",
   "metadata": {},
   "source": [
    "### How To Learn A Module\n",
    "There's not a lot more to say about the import statement itself. We'll continue to show you some more examples of common modules, but typically you will learn to use a module when you search the web for advice on how to do something. \n",
    "\n",
    "**Question**: “How do I take the square root of a number?” <br />\n",
    "**Answer**: In earlier sections we avoided the use of modules by using `x ** 0.5`. But actually the preferred method is to use the `math` module, which I will now re-import using the standard name:"
   ]
  },
  {
   "cell_type": "code",
   "execution_count": 5,
   "metadata": {},
   "outputs": [],
   "source": [
    "import math"
   ]
  },
  {
   "cell_type": "code",
   "execution_count": 6,
   "metadata": {},
   "outputs": [
    {
     "data": {
      "text/plain": [
       "1.4142135623730951"
      ]
     },
     "execution_count": 6,
     "metadata": {},
     "output_type": "execute_result"
    }
   ],
   "source": [
    "math.sqrt(2)"
   ]
  },
  {
   "cell_type": "markdown",
   "metadata": {},
   "source": [
    "The `math` module has a bunch of useful functions for when you are dealing with numbers. The best place to start with a new module is to check the documentation. To actually do this, I don't normally start with the documentation itself – I will just open a new tab and search for a phrase like \"math python\" (whatever gets you there fastest – good programmers are lazy programmers!).\n",
    "\n",
    "One warning: there are some reasonably big differences between Python 3 (the version we are using) and the old version, Python 2. Some people still cling to Python 2, and while the majority have shifted, you do have to be careful you are looking at the newest documentation.\n",
    "\n",
    "At the time of writing, when I searched for \"math python\", the first result was this. Notice this is the old version, as indicated in the dropdown in the top left. \n",
    "\n",
    "<img src=\"./resources/python2doc.png\" width=700 />\n",
    "\n",
    "We can change the dropdown to the latest version, or whatever you are using, to see the latest documentation. In the screenshot below I change it to 3.7:\n",
    "\n",
    "<img src=\"./resources/python3doc.png\" width=700 />\n",
    "\n",
    "It even looks nicer!\n",
    "\n",
    "One important thing to note when reading the documentation, if you haven't already, is that *optional arguments* are denoted using \\[ square brackets \\], as you can see in the screenshot below.\n",
    "\n",
    "<img src=\"./resources/optionalarg.png\" width=700 />\n",
    "\n",
    "Note that this is *not* saying you need to use square brackets when you call the function.\n",
    "\n",
    "### Useful Functions\n",
    "\n",
    "From reading the documentation, I can see a bunch of useful functions. Here are a few examples:"
   ]
  },
  {
   "cell_type": "code",
   "execution_count": 7,
   "metadata": {},
   "outputs": [
    {
     "name": "stdout",
     "output_type": "stream",
     "text": [
      "0.5 rounded is 0, rounded up is 1, and rounded down is 0\n",
      "1.5 rounded is 2, rounded up is 2, and rounded down is 1\n"
     ]
    }
   ],
   "source": [
    "x = 0.5\n",
    "print(f\"{x} rounded is {round(x)}, rounded up is {math.ceil(x)}, and rounded down is {math.floor(x)}\")\n",
    "\n",
    "x = 1.5\n",
    "print(f\"{x} rounded is {round(x)}, rounded up is {math.ceil(x)}, and rounded down is {math.floor(x)}\")"
   ]
  },
  {
   "cell_type": "markdown",
   "metadata": {},
   "source": [
    "*Note: had you noticed before that `round(x)` does not always round up on `.5` values? (Did you notice now?? If not, read the output of that cell again carefully!) There are many ways to round! This is why it is so important to [read the documentation](https://docs.python.org/3/library/functions.html#round).*\n",
    "\n",
    "We have inbuilt functions for $e^x$:"
   ]
  },
  {
   "cell_type": "code",
   "execution_count": 8,
   "metadata": {},
   "outputs": [
    {
     "data": {
      "text/plain": [
       "2.718281828459045"
      ]
     },
     "execution_count": 8,
     "metadata": {},
     "output_type": "execute_result"
    }
   ],
   "source": [
    "x = 1\n",
    "math.exp(x)"
   ]
  },
  {
   "cell_type": "markdown",
   "metadata": {},
   "source": [
    "So naturally we have the inverse too $\\ln (x)$:"
   ]
  },
  {
   "cell_type": "code",
   "execution_count": 9,
   "metadata": {},
   "outputs": [
    {
     "data": {
      "text/plain": [
       "10.0"
      ]
     },
     "execution_count": 9,
     "metadata": {},
     "output_type": "execute_result"
    }
   ],
   "source": [
    "x = 10\n",
    "y = math.exp(x)\n",
    "math.log(y)"
   ]
  },
  {
   "cell_type": "markdown",
   "metadata": {},
   "source": [
    "And let's see some trigonometry while we're at it too. You remember that $\\sin^2(x) + \\cos^2(x) \\equiv 1$, right?"
   ]
  },
  {
   "cell_type": "code",
   "execution_count": 10,
   "metadata": {},
   "outputs": [
    {
     "data": {
      "text/plain": [
       "1.0"
      ]
     },
     "execution_count": 10,
     "metadata": {},
     "output_type": "execute_result"
    }
   ],
   "source": [
    "x = math.pi / 5\n",
    "math.sin(x) ** 2 + math.cos(x) ** 2"
   ]
  },
  {
   "cell_type": "markdown",
   "metadata": {},
   "source": [
    "### Questions\n",
    "[Here is a link](https://docs.python.org/3/library/math.html) to the latest version 3 documentation for the `math` module.\n",
    "\n",
    "Each of the following cells presents a situation where you might want to use something from the `math` module. Read the explanations in the text, then use the documentation from the link above to work out how the `math` module can help."
   ]
  },
  {
   "cell_type": "markdown",
   "metadata": {},
   "source": [
    "#### Exercise 1\n",
    "We've known for a long time that numbers like `0.1` are stored as a `float` in Python, which is a *floating point* number. This is a standard way of storing decimal numbers, but because it works in base 2 rather than base 10, it actually cannot represent some seemingly simple decimal values.\n",
    "\n",
    "For example, the value 0.1 itself is quite problematic. Using it alone seems fine, but you can run into problems when you try to do something like this:"
   ]
  },
  {
   "cell_type": "code",
   "execution_count": 4,
   "metadata": {},
   "outputs": [
    {
     "data": {
      "text/plain": [
       "True"
      ]
     },
     "execution_count": 4,
     "metadata": {},
     "output_type": "execute_result"
    }
   ],
   "source": [
    "val1 = 0.1 + 0.1 + 0.1\n",
    "val2 = 0.3\n",
    "val1 == val2\n",
    "math.isclose(val1, val2) "
   ]
  },
  {
   "cell_type": "markdown",
   "metadata": {},
   "source": [
    "Find a replacement for `==` in the `math` module and fix the code above."
   ]
  },
  {
   "cell_type": "markdown",
   "metadata": {},
   "source": [
    "#### Exercise 2\n",
    "If we have an entire list made of floating point values, then the result of the `sum` function can also be inaccurate. Find an alternative and fix the code below:"
   ]
  },
  {
   "cell_type": "code",
   "execution_count": 6,
   "metadata": {},
   "outputs": [
    {
     "data": {
      "text/plain": [
       "1.0"
      ]
     },
     "execution_count": 6,
     "metadata": {},
     "output_type": "execute_result"
    }
   ],
   "source": [
    "math.fsum([0.1] * 10)"
   ]
  },
  {
   "cell_type": "markdown",
   "metadata": {},
   "source": [
    "#### Exercise 3\n",
    "Suppose you have two ropes of lengths `a` and `b`, and you want to cut them into equal sized small pieces without wasting any rope, then you can use the *greatest common divisor*. Find a way to do that in the cell below."
   ]
  },
  {
   "cell_type": "code",
   "execution_count": 8,
   "metadata": {},
   "outputs": [
    {
     "data": {
      "text/plain": [
       "25"
      ]
     },
     "execution_count": 8,
     "metadata": {},
     "output_type": "execute_result"
    }
   ],
   "source": [
    "a = 100\n",
    "b = 125\n",
    "\n",
    "math.gcd(a, b)\n",
    "# the greatest common divisor of 100 and 125 is 25"
   ]
  },
  {
   "cell_type": "markdown",
   "metadata": {},
   "source": [
    "#### Exercise 4\n",
    "You are already familiar with `sum`, what if you want to multiply all of the elements in a list (or other iterable), is there a simple way?"
   ]
  },
  {
   "cell_type": "code",
   "execution_count": 14,
   "metadata": {},
   "outputs": [
    {
     "name": "stdout",
     "output_type": "stream",
     "text": [
      "The sum is 16\n"
     ]
    }
   ],
   "source": [
    "collection = [4, 7, 2, 3]\n",
    "print(f\"The sum is {sum(collection)}\")\n",
    "# what is the product?"
   ]
  },
  {
   "cell_type": "markdown",
   "metadata": {},
   "source": [
    "## What Next?\n",
    "When you are done with this notebook, go back to Engage and move onto the next section."
   ]
  }
 ],
 "metadata": {
  "kernelspec": {
   "display_name": "Python 3 (ipykernel)",
   "language": "python",
   "name": "python3"
  },
  "language_info": {
   "codemirror_mode": {
    "name": "ipython",
    "version": 3
   },
   "file_extension": ".py",
   "mimetype": "text/x-python",
   "name": "python",
   "nbconvert_exporter": "python",
   "pygments_lexer": "ipython3",
   "version": "3.11.4"
  }
 },
 "nbformat": 4,
 "nbformat_minor": 2
}
