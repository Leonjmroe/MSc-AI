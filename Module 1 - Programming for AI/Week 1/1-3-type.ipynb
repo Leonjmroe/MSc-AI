{
 "cells": [
  {
   "cell_type": "markdown",
   "metadata": {},
   "source": [
    "## Section 1.3 – Type\n",
    "### Numbers\n",
    "As we mentioned in the introduction on Engage, data within Python will always have a specific **type**, and it's really important to be able to keep track of and predict what type a certain value or variable will be, because the type of a value can change how it works in certain circumstances. \n",
    "\n",
    "We can find the type of a particular value in Python using the following syntax: `type(x)`. In these examples we show the type of the number `10` and the Boolean `True`:"
   ]
  },
  {
   "cell_type": "code",
   "execution_count": 1,
   "metadata": {},
   "outputs": [
    {
     "data": {
      "text/plain": [
       "int"
      ]
     },
     "execution_count": 1,
     "metadata": {},
     "output_type": "execute_result"
    }
   ],
   "source": [
    "type(10)"
   ]
  },
  {
   "cell_type": "markdown",
   "metadata": {},
   "source": [
    "`type(10)` gives `int` – 10 is a type of number called an *integer* (whole number)"
   ]
  },
  {
   "cell_type": "code",
   "execution_count": 2,
   "metadata": {},
   "outputs": [
    {
     "data": {
      "text/plain": [
       "bool"
      ]
     },
     "execution_count": 2,
     "metadata": {},
     "output_type": "execute_result"
    }
   ],
   "source": [
    "type(True)"
   ]
  },
  {
   "cell_type": "markdown",
   "metadata": {},
   "source": [
    "`type(True)` gives `bool` – Python's shorthand for Boolean\n",
    "\n",
    "This might look a bit strange. It is a new way of writing code compared to what you've seen before. \n",
    "\n",
    "`type(x)` is called a **function** – any *expression* written in the place of `x` will first be *evaluated*, then the *type* of the result will be outputted as the result of the overall expression. We will start to *use* some important functions in this notebook, but we will talk more about them formally in week 2.\n",
    "\n",
    "I have cleared the output field of the following cells. Try to guess what the type will be, then run them and see if you are right:"
   ]
  },
  {
   "cell_type": "code",
   "execution_count": 1,
   "metadata": {},
   "outputs": [
    {
     "data": {
      "text/plain": [
       "int"
      ]
     },
     "execution_count": 1,
     "metadata": {},
     "output_type": "execute_result"
    }
   ],
   "source": [
    "type(10 + 20)"
   ]
  },
  {
   "cell_type": "code",
   "execution_count": 2,
   "metadata": {},
   "outputs": [
    {
     "data": {
      "text/plain": [
       "bool"
      ]
     },
     "execution_count": 2,
     "metadata": {},
     "output_type": "execute_result"
    }
   ],
   "source": [
    "type(True or not False)"
   ]
  },
  {
   "cell_type": "code",
   "execution_count": 3,
   "metadata": {},
   "outputs": [
    {
     "data": {
      "text/plain": [
       "float"
      ]
     },
     "execution_count": 3,
     "metadata": {},
     "output_type": "execute_result"
    }
   ],
   "source": [
    "type(10 / 2)"
   ]
  },
  {
   "cell_type": "markdown",
   "metadata": {},
   "source": [
    "No one will blame you if you didn't get the third one right. Obviously the result of 10 ÷ 2 is 5, so why does its type come up as `float` rather than `int`?\n",
    "\n",
    "`float` is short for **floating point**. This is the format that computers use to store fractional (decimal) numbers. We know that 10 ÷ 2 results in an integer, but for other divisions this isn't always true. When you divide two numbers using `/` in Python, the result is *always* a float. Python will indicate this by writing `5.0` instead of `5`, as the following pieces of code show:"
   ]
  },
  {
   "cell_type": "code",
   "execution_count": 3,
   "metadata": {},
   "outputs": [
    {
     "data": {
      "text/plain": [
       "5.0"
      ]
     },
     "execution_count": 3,
     "metadata": {},
     "output_type": "execute_result"
    }
   ],
   "source": [
    "10 / 2"
   ]
  },
  {
   "cell_type": "code",
   "execution_count": 4,
   "metadata": {},
   "outputs": [
    {
     "data": {
      "text/plain": [
       "float"
      ]
     },
     "execution_count": 4,
     "metadata": {},
     "output_type": "execute_result"
    }
   ],
   "source": [
    "type(5.0)"
   ]
  },
  {
   "cell_type": "code",
   "execution_count": 5,
   "metadata": {},
   "outputs": [
    {
     "data": {
      "text/plain": [
       "int"
      ]
     },
     "execution_count": 5,
     "metadata": {},
     "output_type": "execute_result"
    }
   ],
   "source": [
    "type(5)"
   ]
  },
  {
   "cell_type": "markdown",
   "metadata": {},
   "source": [
    "### Variables\n",
    "Python is a *dynamically typed* language. You do not really need to know what that means, except that Python will generally do a good job of keeping track of type for you. We do not need to declare the type of a variable when we create it, which we would have to in many other languages.\n",
    "\n",
    "As we've mentioned before, cells in Jupyter notebooks run in one big environment, so if we make a variable in one cell we can modify and use it in another cell, as you can see in the examples below. Just make sure you run them in the right order! \n",
    "\n",
    "These cells demonstrate how Python keeps track of what is assigned to a variable even if you change its type."
   ]
  },
  {
   "cell_type": "code",
   "execution_count": 6,
   "metadata": {},
   "outputs": [
    {
     "data": {
      "text/plain": [
       "int"
      ]
     },
     "execution_count": 6,
     "metadata": {},
     "output_type": "execute_result"
    }
   ],
   "source": [
    "num = 10\n",
    "type(num)"
   ]
  },
  {
   "cell_type": "code",
   "execution_count": 7,
   "metadata": {},
   "outputs": [
    {
     "data": {
      "text/plain": [
       "float"
      ]
     },
     "execution_count": 7,
     "metadata": {},
     "output_type": "execute_result"
    }
   ],
   "source": [
    "num = num / 2\n",
    "type(num)"
   ]
  },
  {
   "cell_type": "markdown",
   "metadata": {},
   "source": [
    "### Useful Operations\n",
    "However, we do occasionally want to have control over the type of our data. Suppose we are doing division where we *want* the answer to be an integer."
   ]
  },
  {
   "cell_type": "code",
   "execution_count": 8,
   "metadata": {},
   "outputs": [
    {
     "data": {
      "text/plain": [
       "66.66666666666667"
      ]
     },
     "execution_count": 8,
     "metadata": {},
     "output_type": "execute_result"
    }
   ],
   "source": [
    "200 / 3"
   ]
  },
  {
   "cell_type": "markdown",
   "metadata": {},
   "source": [
    "There are a few options for this. \n",
    "\n",
    "#### Integer Division\n",
    "If we use `//` instead of `/` this will perform *integer division*:"
   ]
  },
  {
   "cell_type": "code",
   "execution_count": 9,
   "metadata": {},
   "outputs": [
    {
     "data": {
      "text/plain": [
       "66"
      ]
     },
     "execution_count": 9,
     "metadata": {},
     "output_type": "execute_result"
    }
   ],
   "source": [
    "200 // 3"
   ]
  },
  {
   "cell_type": "markdown",
   "metadata": {},
   "source": [
    "*(Note: it might be more correct to call this “floor” division, since it always rounds down, including negative numbers.)*\n",
    "\n",
    "The integer division operation has a useful counterpart called *modulo*. This shows the *remainder after integer division* and is written with `%`:"
   ]
  },
  {
   "cell_type": "code",
   "execution_count": 10,
   "metadata": {},
   "outputs": [
    {
     "data": {
      "text/plain": [
       "2"
      ]
     },
     "execution_count": 10,
     "metadata": {},
     "output_type": "execute_result"
    }
   ],
   "source": [
    "200 % 3"
   ]
  },
  {
   "cell_type": "markdown",
   "metadata": {},
   "source": [
    "The two operations `//` and `%` can be used to answer a division question with a remainder. \n",
    "\n",
    "For example: \n",
    "> Q: What is 200 divided by 3? <br>\n",
    "> A: It is 66 remainder 2.\n",
    "\n",
    "In general: \n",
    "> Q: What is `x` divided by `y`? <br>\n",
    "> A: It is `x // y` remainder `x % y`.\n",
    "\n",
    "#### Type Conversion\n",
    "If we already have a decimal number we can also *directly* convert it to an integer:"
   ]
  },
  {
   "cell_type": "code",
   "execution_count": 11,
   "metadata": {},
   "outputs": [
    {
     "data": {
      "text/plain": [
       "66"
      ]
     },
     "execution_count": 11,
     "metadata": {},
     "output_type": "execute_result"
    }
   ],
   "source": [
    "num = 200 / 3\n",
    "num = int(num)\n",
    "num"
   ]
  },
  {
   "cell_type": "markdown",
   "metadata": {},
   "source": [
    "Here we used the *function* called `int(x)` to convert the number into an integer.\n",
    "\n",
    "#### Rounding\n",
    "Notice that both of the previous techniques simply *truncate* (throw away) the decimal part of the floating point number. If you wish to round to create an integer, you can use another useful function: `round(x)`"
   ]
  },
  {
   "cell_type": "code",
   "execution_count": 12,
   "metadata": {},
   "outputs": [
    {
     "data": {
      "text/plain": [
       "67"
      ]
     },
     "execution_count": 12,
     "metadata": {},
     "output_type": "execute_result"
    }
   ],
   "source": [
    "num = 200 / 3\n",
    "num = round(num)\n",
    "num"
   ]
  },
  {
   "cell_type": "markdown",
   "metadata": {},
   "source": [
    "Again, we will talk more about functions in week 2.\n",
    "\n",
    "#### Combining Types\n",
    "Type is useful for understanding what sort of operations make sense. We can do\n",
    "```python\n",
    "10 + 20\n",
    "```\n",
    "and\n",
    "```python\n",
    "True and True\n",
    "```\n",
    "but\n",
    "```python\n",
    "True + True\n",
    "```\n",
    "doesn't really make sense. The addition operation `+` is defined for two numbers and the result is a number. The AND operation `and` is defined for two Booleans and the result is a Boolean. It doesn't really make sense to *add* two Boolean values.\n",
    "\n",
    "***Advanced Note:*** *actually, remember how I said you can think of `True` as being equal to `1`? It actually **is**. So `True + True` equals `2`. That's just confusing though, so I don't recommend you actually do arithmetic with Booleans in any normal setting*.\n",
    "\n",
    "There are some very common operations that combine types – where the output is not be the same type as the input. Guess what the result of the following cell is before you run it:"
   ]
  },
  {
   "cell_type": "code",
   "execution_count": 4,
   "metadata": {},
   "outputs": [
    {
     "data": {
      "text/plain": [
       "bool"
      ]
     },
     "execution_count": 4,
     "metadata": {},
     "output_type": "execute_result"
    }
   ],
   "source": [
    "type(10 > 2)"
   ]
  },
  {
   "cell_type": "markdown",
   "metadata": {},
   "source": [
    "... I'll try not to spoil the answer.\n",
    "\n",
    "Had a go yet?\n",
    "\n",
    "Okay, the result is a Boolean. If you recognise the symbol then you will know it means \"greater than\". 10 is greater than 2, so the result is True, a Boolean.\n",
    "\n",
    "You can use all of the following operations to compare two numbers (and other things, as you'll see later)\n",
    "\n",
    "|Operation |  Code   |\n",
    "|:---------|:-------:|\n",
    "|Greater than| `>` |\n",
    "|Less than| `<` |\n",
    "|Greater than or equal| `>=` |\n",
    "|Less than or equal| `<=` |\n",
    "|Equal| `==` |\n",
    "|Not equal| `!=` |"
   ]
  },
  {
   "cell_type": "code",
   "execution_count": 13,
   "metadata": {},
   "outputs": [
    {
     "data": {
      "text/plain": [
       "True"
      ]
     },
     "execution_count": 13,
     "metadata": {},
     "output_type": "execute_result"
    }
   ],
   "source": [
    "10 > 2"
   ]
  },
  {
   "cell_type": "code",
   "execution_count": 14,
   "metadata": {
    "scrolled": true
   },
   "outputs": [
    {
     "data": {
      "text/plain": [
       "False"
      ]
     },
     "execution_count": 14,
     "metadata": {},
     "output_type": "execute_result"
    }
   ],
   "source": [
    "5 == 2"
   ]
  },
  {
   "cell_type": "markdown",
   "metadata": {},
   "source": [
    "⚠️**Huge important point!!** ⚠️\n",
    "\n",
    "There is a very important difference between `5 == 2` and `5 = 2`\n",
    "\n",
    "The latter is interpreted as an *assignment*. But `5` is not a variable, you cannot change its value to `2`. So this code will give an error. \n",
    "\n"
   ]
  },
  {
   "cell_type": "code",
   "execution_count": 15,
   "metadata": {},
   "outputs": [
    {
     "ename": "SyntaxError",
     "evalue": "cannot assign to literal (<ipython-input-15-5e437cf2364c>, line 1)",
     "output_type": "error",
     "traceback": [
      "\u001b[0;36m  File \u001b[0;32m\"<ipython-input-15-5e437cf2364c>\"\u001b[0;36m, line \u001b[0;32m1\u001b[0m\n\u001b[0;31m    5 = 2\u001b[0m\n\u001b[0m    ^\u001b[0m\n\u001b[0;31mSyntaxError\u001b[0m\u001b[0;31m:\u001b[0m cannot assign to literal\n"
     ]
    }
   ],
   "source": [
    "5 = 2"
   ]
  },
  {
   "cell_type": "markdown",
   "metadata": {},
   "source": [
    "When you produce a cell with an error in Jupyter, Python will tell you some information about what went wrong, in this case a syntax error. `5` is a *literal* (an exact value) not a *variable* so we cannot assign anything to it. This is the first time we have deliberately shown you an error, though you have probably seen many already if you are playing around properly! Do not be put off by errors, they are a crucial part of programming. Just try to fix them if you can see what's wrong. We'll come back to learning how to read and fix errors in a later chapter.\n",
    "\n",
    "Confusing equality and assignment is a common mistake, but at least if it gives an error you will notice. It becomes more subtle with variables, so you really need to be careful:"
   ]
  },
  {
   "cell_type": "code",
   "execution_count": 16,
   "metadata": {},
   "outputs": [
    {
     "data": {
      "text/plain": [
       "False"
      ]
     },
     "execution_count": 16,
     "metadata": {},
     "output_type": "execute_result"
    }
   ],
   "source": [
    "num = 5\n",
    "# The following line is an expression, when evaluated it outputs False\n",
    "num == 2"
   ]
  },
  {
   "cell_type": "code",
   "execution_count": 17,
   "metadata": {},
   "outputs": [
    {
     "data": {
      "text/plain": [
       "2"
      ]
     },
     "execution_count": 17,
     "metadata": {},
     "output_type": "execute_result"
    }
   ],
   "source": [
    "num = 5 \n",
    "# The following line is a statement, when executed it changes the value of num!\n",
    "num = 2\n",
    "num"
   ]
  },
  {
   "cell_type": "markdown",
   "metadata": {},
   "source": [
    "#### Questions\n",
    "As usual have a go at the quiz below to test your understanding so far."
   ]
  },
  {
   "cell_type": "code",
   "execution_count": null,
   "metadata": {},
   "outputs": [
    {
     "name": "stdout",
     "output_type": "stream",
     "text": [
      "Question 1 of 14\n",
      "What is the result of this expression?\n",
      "type(2 + 1)\n",
      ">>>int\n",
      "Correct!\n",
      "\n",
      "Question 2 of 14\n",
      "What is the result of this expression?\n",
      "type(5 == 5)\n",
      ">>>true\n",
      "Incorrect, try again...\n",
      "\n",
      "What is the result of this expression?\n",
      "type(5 == 5)\n",
      ">>>True\n",
      "Incorrect, try again...\n",
      "\n",
      "What is the result of this expression?\n",
      "type(5 == 5)\n",
      ">>>Bool\n",
      "Incorrect. The answer is case sensitive\n",
      "\n",
      "** Type 'I give up' (without quotes) to see the solution **\n",
      "\n",
      "What is the result of this expression?\n",
      "type(5 == 5)\n",
      ">>>BOOL\n",
      "Incorrect. The answer is case sensitive\n",
      "\n",
      "** Type 'I give up' (without quotes) to see the solution **\n",
      "\n",
      "What is the result of this expression?\n",
      "type(5 == 5)\n",
      ">>>True\n",
      "Incorrect, try again...\n",
      "\n",
      "** Type 'I give up' (without quotes) to see the solution **\n",
      "\n",
      "What is the result of this expression?\n",
      "type(5 == 5)\n",
      ">>>Bool\n",
      "Incorrect. The answer is case sensitive\n",
      "\n",
      "** Type 'I give up' (without quotes) to see the solution **\n",
      "\n",
      "What is the result of this expression?\n",
      "type(5 == 5)\n",
      ">>>bool\n",
      "Correct!\n",
      "\n",
      "Question 3 of 14\n",
      "What is the result of this expression?\n",
      "type(8 / 2)\n",
      ">>>float\n",
      "Correct!\n",
      "\n",
      "Question 4 of 14\n",
      "What is the result of this expression?\n",
      "type(5 > 3)\n",
      ">>>boool\n",
      "Incorrect, try again...\n",
      "\n",
      "What is the result of this expression?\n",
      "type(5 > 3)\n",
      ">>>bool\n",
      "Correct!\n",
      "\n",
      "Question 5 of 14\n",
      "What is the result of this expression?\n",
      "type(5 / 2)\n"
     ]
    }
   ],
   "source": [
    "%run ../scripts/interactive_questions ./questions/1.3.1q.txt"
   ]
  },
  {
   "cell_type": "markdown",
   "metadata": {},
   "source": [
    "## What Next?\n",
    "When you are done with this notebook, go back to Engage and move onto the final section."
   ]
  }
 ],
 "metadata": {
  "kernelspec": {
   "display_name": "Python 3 (ipykernel)",
   "language": "python",
   "name": "python3"
  },
  "language_info": {
   "codemirror_mode": {
    "name": "ipython",
    "version": 3
   },
   "file_extension": ".py",
   "mimetype": "text/x-python",
   "name": "python",
   "nbconvert_exporter": "python",
   "pygments_lexer": "ipython3",
   "version": "3.11.4"
  }
 },
 "nbformat": 4,
 "nbformat_minor": 2
}
