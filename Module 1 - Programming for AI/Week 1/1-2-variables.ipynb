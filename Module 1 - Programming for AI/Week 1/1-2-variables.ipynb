{
 "cells": [
  {
   "cell_type": "markdown",
   "metadata": {},
   "source": [
    "## Section 1.2 – Variables\n",
    "### Long Calculations\n",
    "Last time we looked at expressions, small blocks of code that we can evaluate to produce a value, like `2 + 3` or `True or False`."
   ]
  },
  {
   "cell_type": "code",
   "execution_count": 1,
   "metadata": {},
   "outputs": [
    {
     "data": {
      "text/plain": [
       "5"
      ]
     },
     "execution_count": 1,
     "metadata": {},
     "output_type": "execute_result"
    }
   ],
   "source": [
    "2 + 3"
   ]
  },
  {
   "cell_type": "code",
   "execution_count": 2,
   "metadata": {},
   "outputs": [
    {
     "data": {
      "text/plain": [
       "True"
      ]
     },
     "execution_count": 2,
     "metadata": {},
     "output_type": "execute_result"
    }
   ],
   "source": [
    "True or False"
   ]
  },
  {
   "cell_type": "markdown",
   "metadata": {},
   "source": [
    "But sometimes we need to calculate something more complicated. As a reminder, we mentioned on Engage that I'm evaluating food options for my massive dog. Here he is again.\n",
    "\n",
    "<img src=\"./resources/1.2.1.jpg\" alt=\"Massive Newfoundland dog called Hoffmann\" align=\"left\" width=200 />"
   ]
  },
  {
   "cell_type": "markdown",
   "metadata": {},
   "source": [
    "The guidelines on the side of his current bag of food say that for a dog of his age, he should eat **100g of food per day per 10kg body weight**. Since he is 70kg, that means he should eat 700g of food per day.\n",
    "\n",
    "Sadly, he has been showing some signs of food allergies, so I would like to try him on another source of protein. I know for certain that he is *not* allergic to eggs. Of course, this would not be a balanced diet, but how many eggs would he need to eat per day to meet his daily calorie requirement? *Note: do not feed a dog only eggs! Talk to your vet about nutritional requirements.*\n",
    "\n",
    "I know that his current food provides 3600kcal/kg. A medium egg is about 60kcal. So how many eggs a day would he need to eat?\n",
    "\n",
    "We could work this out in one long arithmetic expression, but it would not be much fun. "
   ]
  },
  {
   "cell_type": "code",
   "execution_count": 3,
   "metadata": {},
   "outputs": [
    {
     "data": {
      "text/plain": [
       "42.0"
      ]
     },
     "execution_count": 3,
     "metadata": {},
     "output_type": "execute_result"
    }
   ],
   "source": [
    "70 / 10 * 100 / 1000 * 3600 / 60"
   ]
  },
  {
   "cell_type": "markdown",
   "metadata": {},
   "source": [
    "The answer I got is 42 eggs. *Note: again – do not feed your dog 42 eggs in one day.*\n",
    "\n",
    "*Can you keep track of what's going on there?*\n",
    "\n",
    "How confident am I that the answer is right, or might I have made a mistake? <br>\n",
    "If I write this down somewhere and come back to it later will I have any idea what is going on?<br>\n",
    "And if I want to change something – calculate this for another dog, or a different sized egg – what do I change? "
   ]
  },
  {
   "cell_type": "markdown",
   "metadata": {},
   "source": [
    "### Variables\n",
    "Thankfully, we can make this situation much better using **variables**. A variable is a named value. You can create variables with almost any name you like, set their values, change them, and use them in other expressions. Variables are an essential part of programming, they:\n",
    "1. Make code easier to read\n",
    "2. Make code easier to change\n",
    "3. Enable code that would be impossible as a single expression\n",
    "\n",
    "Linking back to the introduction of section on expressions, variables allow us to separate the **data** from the **instructions**."
   ]
  },
  {
   "cell_type": "markdown",
   "metadata": {},
   "source": [
    "To create a new variable in Python called `weight` with a value equal to `70`, we write:\n",
    "```python\n",
    "weight = 70\n",
    "```\n",
    "\n",
    "This is called **assignment**, and is an example of a **statement**. Statements, unlike expressions, do not produce a resulting value. Notice that when we run a cell containing an expression in jupyter, we get a label that says `Out[x]:`"
   ]
  },
  {
   "cell_type": "code",
   "execution_count": 4,
   "metadata": {},
   "outputs": [
    {
     "data": {
      "text/plain": [
       "70"
      ]
     },
     "execution_count": 4,
     "metadata": {},
     "output_type": "execute_result"
    }
   ],
   "source": [
    "70"
   ]
  },
  {
   "cell_type": "markdown",
   "metadata": {},
   "source": [
    "`Out` is short for output. The output of the expression `70` is just `70`. The output of `70 + 1` is `71`.\n",
    "\n",
    "The following cell has no output line:"
   ]
  },
  {
   "cell_type": "code",
   "execution_count": 5,
   "metadata": {},
   "outputs": [],
   "source": [
    "weight = 70"
   ]
  },
  {
   "cell_type": "markdown",
   "metadata": {},
   "source": [
    "Not because it didn't run properly – you can try running it as many times as you like. It just didn't produce an output.\n",
    "* We can **evaluate** an **expression** to get an output\n",
    "* We can **execute** a **statement** to *do something*\n",
    "\n",
    "#### Assignments\n",
    "The left hand side of an assignment is a variable **name**. The right hand side is **any expression**. \n",
    "\n",
    "So the statement \n",
    "```python\n",
    "weight = 70\n",
    "``` \n",
    "*assigns* the value `70` to the name `weight`. If we use `weight` in a later expression, it will act as if we had written the value `70`."
   ]
  },
  {
   "cell_type": "code",
   "execution_count": 6,
   "metadata": {},
   "outputs": [
    {
     "data": {
      "text/plain": [
       "7.0"
      ]
     },
     "execution_count": 6,
     "metadata": {},
     "output_type": "execute_result"
    }
   ],
   "source": [
    "weight = 70\n",
    "weight / 10"
   ]
  },
  {
   "cell_type": "markdown",
   "metadata": {},
   "source": [
    "The output of `weight / 10` is `7.0` — *note: we will explain why this says 7.0 instead of 7 in the next section.*\n",
    "\n",
    "Notice in the cell above that we can run multiple lines of code in succession by writing them one after another. We never had an occasion to do this before because we were always looking at evaluating expressions, and we wanted to see the result – it would be lost in Jupyter if we performed multiple expressions one after another, as you can see in the following cell:"
   ]
  },
  {
   "cell_type": "code",
   "execution_count": 7,
   "metadata": {},
   "outputs": [
    {
     "data": {
      "text/plain": [
       "4"
      ]
     },
     "execution_count": 7,
     "metadata": {},
     "output_type": "execute_result"
    }
   ],
   "source": [
    "5 + 2\n",
    "7 - 3"
   ]
  },
  {
   "cell_type": "markdown",
   "metadata": {},
   "source": [
    "Notice that only the second result is displayed in Jupyter, the result of `5 + 2` simply *“goes nowhere”*. But real code is basically just a sequence of *statements*, so it makes sense to run multiple, one after another. \n",
    "\n",
    "Everything you've learned about expressions is still useful because expressions are used *within* statements. The right hand side of an assignment can be *any expression*. For example:"
   ]
  },
  {
   "cell_type": "code",
   "execution_count": 2,
   "metadata": {},
   "outputs": [],
   "source": [
    "bool_variable = True and False"
   ]
  },
  {
   "cell_type": "markdown",
   "metadata": {},
   "source": [
    "Again this line does not produce an output, but the right hand side (after the `=`) is an expression which is *evaluated* and then the result is stored in the variable called `bool_variable`.\n",
    "\n",
    "Can you work out how to get Jupyter to show the value of `bool_variable` in the cell below? Try it:"
   ]
  },
  {
   "cell_type": "code",
   "execution_count": 3,
   "metadata": {},
   "outputs": [
    {
     "data": {
      "text/plain": [
       "False"
      ]
     },
     "execution_count": 3,
     "metadata": {},
     "output_type": "execute_result"
    }
   ],
   "source": [
    "bool_variable"
   ]
  },
  {
   "cell_type": "markdown",
   "metadata": {},
   "source": [
    "(Select the text or double-click to view the answer: <span style=\"color: black; background: black\">Just write the variable name on its own!</span>)"
   ]
  },
  {
   "cell_type": "markdown",
   "metadata": {},
   "source": [
    "#### A Better Long Calculation\n",
    "\n",
    "So here is another version of the food calculation I made earlier, this time using variables. At first, this will seem like an intimidating amount of code to be shown at once. But it's really important to read through each line carefully one by one and see if you can understand what it does before moving on."
   ]
  },
  {
   "cell_type": "code",
   "execution_count": 9,
   "metadata": {},
   "outputs": [
    {
     "data": {
      "text/plain": [
       "42.0"
      ]
     },
     "execution_count": 9,
     "metadata": {},
     "output_type": "execute_result"
    }
   ],
   "source": [
    "weight = 70\n",
    "daily_food_per_10kg = 100\n",
    "kcal_per_kg_food = 3600\n",
    "kcal_per_egg = 60\n",
    "\n",
    "grams_food_per_day = (weight / 10) * daily_food_per_10kg\n",
    "kg_food_per_day = grams_food_per_day / 1000\n",
    "kcal_per_day = kg_food_per_day * kcal_per_kg_food\n",
    "num_of_eggs = kcal_per_day / kcal_per_egg\n",
    "\n",
    "num_of_eggs"
   ]
  },
  {
   "cell_type": "markdown",
   "metadata": {},
   "source": [
    "The final line of this cell tells jupyter to display the value of the variable `num_of_eggs` in the output of the cell – it is an *expression* containing just the variable `num_of_eggs`. \n",
    "\n",
    "This code is a lot longer than the version we had before! At first glance it might look *more* confusing. But, if you read it carefully, and read the variable names, you should be able to follow what is going on. \n",
    "\n",
    "Now it is incredibly easy to change the calculation. Perhaps we want to try using large eggs, which have about 72 calories each. Or perhaps we'd be curious to know how the final number would change for a dog weighing 10kg. These changes are easy to make by changing the first few lines, and we can re-run the cell to instantly re-use the same logic. Try changing those values now, how many large eggs would my dog require per day?\n",
    "\n",
    "#### Readability and Comments\n",
    "The variable names do not matter to Python, they are just for human readers. You might be tempted to just use any placeholder, like `a` or `x` for our variables. In fact, most programmers will do this from time to time. But using descriptive names makes the code much easier to read, so you should always try to use human-readable variables names. \n",
    "\n",
    "We can make the code *even easier* to read by adding **comments**. Anything written after a hash symbol `#` will be ignored by Python – like the variable names, it is only there for human readers.\n",
    "\n",
    "```python\n",
    "# this is a comment, it will be ignored, the following line is normal\n",
    "my_variable = 2 + 2\n",
    "```\n",
    "\n",
    "We normally write comments on the line *above* the line they refer to, rather than on the same line as other code – this makes it easier for people who use screen readers to read the comments. However it is possible to write a comment at the end of a line.\n",
    "\n",
    "```python\n",
    "my_variable = 2 + 2    # avoid writing comments like this if possible, but it will work\n",
    "```\n",
    "\n",
    "I have added some comments to my previous code to explain the purpose of each variable:"
   ]
  },
  {
   "cell_type": "code",
   "execution_count": 10,
   "metadata": {},
   "outputs": [
    {
     "data": {
      "text/plain": [
       "42.0"
      ]
     },
     "execution_count": 10,
     "metadata": {},
     "output_type": "execute_result"
    }
   ],
   "source": [
    "# weight in kg\n",
    "weight = 70\n",
    "# the current food daily requirement per 10kg dog weight\n",
    "daily_food_per_10kg = 100\n",
    "# the calories per kg of current food\n",
    "kcal_per_kg_food = 3600\n",
    "# the calories per egg\n",
    "kcal_per_egg = 60\n",
    "\n",
    "# calculate the number of eggs required to meet daily calories\n",
    "grams_food_per_day = (weight / 10) * daily_food_per_10kg\n",
    "kg_food_per_day = grams_food_per_day / 1000\n",
    "kcal_per_day = kg_food_per_day * kcal_per_kg_food\n",
    "num_of_eggs = kcal_per_day / kcal_per_egg\n",
    "\n",
    "# output the number of eggs to jupyter\n",
    "num_of_eggs"
   ]
  },
  {
   "cell_type": "markdown",
   "metadata": {},
   "source": [
    "##### Important Note\n",
    "**Use comments thoughtfully.** If you expect someone else to read your code, then you should use comments to guide them. Even if you do not expect anyone else to read your code, you might want to write comments for *a future version of you*! It is easy to forget what we were trying to do in code we wrote months or years ago. Used well, comments can guide you through tricky code, and save you lots of time trying to figure out *what* something does, and *why*.\n",
    "\n",
    "**However**, the goal is *readable code*, not *lots of comments*. You can assume the reader knows how to read and write normal code. There are many ways to make code readable, and your first priority should always be to **name variables sensibly**. Over-commenting will make code harder to read, so you do not need to comment on lines of code that are obvious to another programmer, and you certainly do not need to comment *every* line of code. "
   ]
  },
  {
   "cell_type": "markdown",
   "metadata": {},
   "source": [
    "#### Variable Variables\n",
    "The reason they are called *variables* is because the value of a particular name can be changed *inside* the code itself. Suppose the number of grams of food per day is supposed to go down by 5% each year as my dog gets older. We can calculate the result after 3 years using the following code:"
   ]
  },
  {
   "cell_type": "code",
   "execution_count": 11,
   "metadata": {},
   "outputs": [
    {
     "data": {
      "text/plain": [
       "600.1625"
      ]
     },
     "execution_count": 11,
     "metadata": {},
     "output_type": "execute_result"
    }
   ],
   "source": [
    "# weight in kg\n",
    "WEIGHT = 70\n",
    "# the current food daily requirement per 10kg dog weight\n",
    "DAILY_FOOD_PER_10KG = 100\n",
    "# the reduction per year in percent\n",
    "REDUCTION_PER_YEAR = 5\n",
    "\n",
    "\n",
    "# amount of food now\n",
    "grams_food_per_day = (WEIGHT / 10) * DAILY_FOOD_PER_10KG\n",
    "\n",
    "modifier = 1 - (REDUCTION_PER_YEAR / 100)\n",
    "\n",
    "# after 1 year\n",
    "grams_food_per_day = grams_food_per_day * modifier\n",
    "\n",
    "# after 2 years\n",
    "grams_food_per_day = grams_food_per_day * modifier\n",
    "\n",
    "# after 3 years\n",
    "grams_food_per_day = grams_food_per_day * modifier\n",
    "\n",
    "grams_food_per_day"
   ]
  },
  {
   "cell_type": "markdown",
   "metadata": {},
   "source": [
    "Notice that the first three variables: `WEIGHT`, `DAILY_FOOD_PER_10KG`, and `REDUCTION_PER_YEAR` were unchanged after they were defined, we are only giving them names because it makes the code easier to read and easier to change. These variables represent options from the user, so in this code it would be strange if the code changed them later. Some languages allow us to specify that a variable's value cannot be changed, and this is called a **constant**. Python does not have a special syntax for constants – it does not prevent later code from changing these values. But if we are going to use a variable *like* it is a constant, it is relatively standard to write its name in all upper case letters.\n",
    "\n",
    "You will see more in the quizes for this section, below."
   ]
  },
  {
   "cell_type": "markdown",
   "metadata": {},
   "source": [
    "#### Questions\n",
    "Speak of the devil! Run the cells below to get some questions about variables. \n",
    "##### Part One\n",
    "In this quiz you will be keeping track of the values of variables. Again, the aim is to test your ability to manually process the code, not test your maths or memory – you can use a calculator and/or keep track of variables on paper if you need to. Also, as these are automatically generated examples for demonstration, please ignore the meaningless variable names!"
   ]
  },
  {
   "cell_type": "code",
   "execution_count": 1,
   "metadata": {
    "scrolled": false
   },
   "outputs": [
    {
     "name": "stdout",
     "output_type": "stream",
     "text": [
      "Question 1 of 15\n",
      "After the following code is executed:\n",
      "pig = 1\n",
      "What is the result of the expression below?\n",
      "pig * 5\n",
      ">>>5\n",
      "Correct!\n",
      "\n",
      "Question 2 of 15\n",
      "After the following code is executed:\n",
      "egg = 4\n",
      "What is the result of the expression below?\n",
      "egg * 2\n",
      ">>>8\n",
      "Correct!\n",
      "\n",
      "Question 3 of 15\n",
      "After the following code is executed:\n",
      "dog = 4\n",
      "What is the result of the expression below?\n",
      "dog + dog\n",
      ">>>8\n",
      "Correct!\n",
      "\n",
      "Question 4 of 15\n",
      "After the following code is executed:\n",
      "pig = True\n",
      "What is the result of the expression below?\n",
      "pig and False\n",
      ">>>False\n",
      "Correct!\n",
      "\n",
      "Question 5 of 15\n",
      "After the following code is executed:\n",
      "egg = True\n",
      "What is the result of the expression below?\n",
      "egg or True\n",
      ">>>True\n",
      "Correct!\n",
      "\n",
      "Question 6 of 15\n",
      "After the following code is executed:\n",
      "pig = True\n",
      "What is the result of the expression below?\n",
      "pig and True\n",
      ">>>True\n",
      "Correct!\n",
      "\n",
      "Question 7 of 15\n",
      "After the following code is executed:\n",
      "dog = 3\n",
      "pig = 2\n",
      "What is the result of the expression below?\n",
      "dog + pig\n",
      ">>>5\n",
      "Correct!\n",
      "\n",
      "Question 8 of 15\n",
      "After the following code is executed:\n",
      "egg = 3\n",
      "dog = 1\n",
      "What is the result of the expression below?\n",
      "egg + dog\n",
      ">>>4\n",
      "Correct!\n",
      "\n",
      "Question 9 of 15\n",
      "After the following code is executed:\n",
      "dog = True\n",
      "pig = False\n",
      "What is the result of the expression below?\n",
      "dog and not pig\n",
      ">>>True\n",
      "Correct!\n",
      "\n",
      "Question 10 of 15\n",
      "After the following code is executed:\n",
      "fox = 3\n",
      "pig = fox + 2\n",
      "What is the result of the expression below?\n",
      "fox + pig\n",
      ">>>5\n",
      "Incorrect, try again...\n",
      "\n",
      "After the following code is executed:\n",
      "fox = 3\n",
      "pig = fox + 2\n",
      "What is the result of the expression below?\n",
      "fox + pig\n",
      ">>>8\n",
      "Correct!\n",
      "\n",
      "Question 11 of 15\n",
      "After the following code is executed:\n",
      "egg = False\n",
      "fox = not egg\n",
      "What is the result of the expression below?\n",
      "fox and fox\n",
      ">>>True\n",
      "Correct!\n",
      "\n",
      "Question 12 of 15\n",
      "After the following code is executed:\n",
      "pig = False\n",
      "egg = not pig\n",
      "What is the result of the expression below?\n",
      "pig or egg\n",
      ">>>True\n",
      "Correct!\n",
      "\n",
      "Question 13 of 15\n",
      "After the following code is executed:\n",
      "dog = 1\n",
      "dog = dog + 1\n",
      "pig = dog\n",
      "What is the result of the expression below?\n",
      "dog + pig\n",
      ">>>4\n",
      "Correct!\n",
      "\n",
      "Question 14 of 15\n",
      "After the following code is executed:\n",
      "dog = 3\n",
      "pig = dog\n",
      "dog = dog + 4\n",
      "What is the result of the expression below?\n",
      "dog + pig\n",
      ">>>10\n",
      "Correct!\n",
      "\n",
      "Question 15 of 15\n",
      "After the following code is executed:\n",
      "pig = 2\n",
      "egg = pig\n",
      "pig = pig + 1\n",
      "egg = egg + pig\n",
      "What is the result of the expression below?\n",
      "egg\n",
      ">>>5\n",
      "Correct!\n",
      "\n",
      "All questions answered correctly! Great job.\n",
      "Would you like to try more questions like these? (Y/N)\n",
      ">>>N\n"
     ]
    }
   ],
   "source": [
    "%run ../scripts/interactive_questions ./questions/1.2.1q.txt"
   ]
  },
  {
   "cell_type": "markdown",
   "metadata": {},
   "source": [
    "##### Part Two\n",
    "In this quiz we flip it around: the quiz will tell you the result of running some code, but the name of a variable will be missing, and you need to work out what it should be.\n",
    "\n",
    "Notice that the number of underscores indicate how long the blank needs to be. For example, if the question says:\n",
    "```\n",
    "The result of running the following code is 5.\n",
    "What should fill in the blank?\n",
    "egg = 2\n",
    "dog = 3\n",
    "egg + ___\n",
    "```\n",
    "\n",
    "Then you can see from `___` that the answer is three characters long (select the characters with your mouse if you find it hard to judge the length). So even though an answer of `3` *technically* gives the correct result, it is not in the spirit of the question. Here you are supposed to use a variable name, and the correct answer is `dog`."
   ]
  },
  {
   "cell_type": "code",
   "execution_count": null,
   "metadata": {
    "scrolled": false
   },
   "outputs": [
    {
     "name": "stdout",
     "output_type": "stream",
     "text": [
      "Question 1 of 15\n",
      "The result of running the following code is 3.\n",
      "What should fill in the blank?\n",
      "dog = 2\n",
      "___ = 1\n",
      "dog + pig\n",
      ">>>pig\n",
      "Correct!\n",
      "\n",
      "Question 2 of 15\n",
      "The result of running the following code is 9.\n",
      "What should fill in the blank?\n",
      "fox = 1\n",
      "___ = 8\n",
      "pig + fox\n",
      ">>>fox\n",
      "Incorrect, try again...\n",
      "\n",
      "The result of running the following code is 9.\n",
      "What should fill in the blank?\n",
      "fox = 1\n",
      "___ = 8\n",
      "pig + fox\n",
      ">>>pig\n",
      "Correct!\n",
      "\n",
      "Question 3 of 15\n",
      "The result of running the following code is 9.\n",
      "What should fill in the blank?\n",
      "pig = 5\n",
      "___ = 4\n",
      "dog + pig\n",
      ">>>dog\n",
      "Correct!\n",
      "\n",
      "Question 4 of 15\n",
      "The result of running the following code is 11.\n",
      "What should fill in the blank?\n",
      "fox = 6\n",
      "egg = 5\n",
      "___ + egg\n",
      ">>>fox\n",
      "Correct!\n",
      "\n",
      "Question 5 of 15\n",
      "The result of running the following code is 7.\n",
      "What should fill in the blank?\n",
      "dog = 2\n",
      "fox = 5\n",
      "dog + ___\n",
      ">>>fox\n",
      "Correct!\n",
      "\n",
      "Question 6 of 15\n",
      "The result of running the following code is 4.\n",
      "What should fill in the blank?\n",
      "fox = 2\n",
      "egg = 3\n",
      "fox + ___\n",
      ">>>egg\n",
      "Incorrect, try again...\n",
      "\n",
      "The result of running the following code is 4.\n",
      "What should fill in the blank?\n",
      "fox = 2\n",
      "egg = 3\n",
      "fox + ___\n"
     ]
    }
   ],
   "source": [
    "%run ../scripts/interactive_questions ./questions/1.2.2q.txt"
   ]
  },
  {
   "cell_type": "markdown",
   "metadata": {},
   "source": [
    "## What Next?\n",
    "When you are done with this notebook, go back to Engage and move onto the next section."
   ]
  }
 ],
 "metadata": {
  "kernelspec": {
   "display_name": "Python 3 (ipykernel)",
   "language": "python",
   "name": "python3"
  },
  "language_info": {
   "codemirror_mode": {
    "name": "ipython",
    "version": 3
   },
   "file_extension": ".py",
   "mimetype": "text/x-python",
   "name": "python",
   "nbconvert_exporter": "python",
   "pygments_lexer": "ipython3",
   "version": "3.11.4"
  }
 },
 "nbformat": 4,
 "nbformat_minor": 2
}
