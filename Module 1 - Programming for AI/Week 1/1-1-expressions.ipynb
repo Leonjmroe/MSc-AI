{
 "cells": [
  {
   "cell_type": "markdown",
   "metadata": {},
   "source": [
    "# Week 1 Part 1 – The Basics \n",
    "\n",
    "> # ⚠️\n",
    "> ***Note: you should have completed the introduction to Jupyter video and notebook, and read the page called \"Expressions\" on Engage before starting this notebook.*** <br> \n",
    ">\n",
    ">***Future notebooks will not carry this warning – you should only open a notebook once you have been instructed to on Engage.***"
   ]
  },
  {
   "cell_type": "markdown",
   "metadata": {},
   "source": [
    "## Section 1.1 – Expressions\n",
    "### Arithmetic\n",
    "We begin our journey into programming with the concept of expressions.\n",
    "\n",
    "Have a look at the following example of some Python code:"
   ]
  },
  {
   "cell_type": "code",
   "execution_count": 1,
   "metadata": {},
   "outputs": [
    {
     "data": {
      "text/plain": [
       "7"
      ]
     },
     "execution_count": 1,
     "metadata": {},
     "output_type": "execute_result"
    }
   ],
   "source": [
    "4 + 3"
   ]
  },
  {
   "cell_type": "markdown",
   "metadata": {},
   "source": [
    "Doing some basic maths in programming is very common. Earlier you saw an example where we might want to find the length of time between two dates – a surprisingly tricky task, depending on the dates involved. Solving it requires not just knowledge of programming **syntax** (e.g. Python) but a bunch of logic and a bit of maths as well.\n",
    "\n",
    "Python supports many arithmetic **operations**: addition `+`, subtraction `-`, multiplication `*`, division `/` and more. These operations all take two numbers and produce another number.\n",
    "\n",
    "This piece of code is called an **expression**. It has a value which we can **evaluate**."
   ]
  },
  {
   "cell_type": "code",
   "execution_count": 2,
   "metadata": {},
   "outputs": [
    {
     "data": {
      "text/plain": [
       "6"
      ]
     },
     "execution_count": 2,
     "metadata": {},
     "output_type": "execute_result"
    }
   ],
   "source": [
    "2 + 4"
   ]
  },
  {
   "cell_type": "markdown",
   "metadata": {},
   "source": [
    "When we *evaluate* `2+4` we get `6`. The expression is `2+4`, the value we get when we evaluate it is `6`.\n",
    "\n",
    "*Remember: you can change the code inside jupyter cells to see what the results would be with different numbers. Try changing the numbers above and rerunning the cell!*"
   ]
  },
  {
   "cell_type": "markdown",
   "metadata": {},
   "source": [
    "#### Code Structure\n",
    "To be able to *write* code we need to know how the computer will *read* it. A lot of the time a single line of code will do more than one thing. Luckily, it is always possible to work out the order in which everything happens.\n",
    "\n",
    "In maths there is an *order of precedence*, which says that multiplication is always performed before addition (you may have come across BODMAS, BIDMAS, PEMDAS, etc). Arithmetic expressions in Python follow this order as well. So if we write code like this..."
   ]
  },
  {
   "cell_type": "code",
   "execution_count": 3,
   "metadata": {},
   "outputs": [
    {
     "data": {
      "text/plain": [
       "10"
      ]
     },
     "execution_count": 3,
     "metadata": {},
     "output_type": "execute_result"
    }
   ],
   "source": [
    "4 + 3 * 2"
   ]
  },
  {
   "cell_type": "markdown",
   "metadata": {},
   "source": [
    "then sure enough, Python will follow the normal rules. \n",
    "\n",
    "This code\n",
    "```python\n",
    "4 + 3 * 2\n",
    "```\n",
    "evaluates to `10`. We do `3 * 2` first, which is `6`, and then add `4`, to get `10`.\n",
    "\n",
    "As with regular arithmetic, we can use parentheses to change the order:"
   ]
  },
  {
   "cell_type": "code",
   "execution_count": 4,
   "metadata": {},
   "outputs": [
    {
     "data": {
      "text/plain": [
       "14"
      ]
     },
     "execution_count": 4,
     "metadata": {},
     "output_type": "execute_result"
    }
   ],
   "source": [
    "(4 + 3) * 2"
   ]
  },
  {
   "cell_type": "code",
   "execution_count": 5,
   "metadata": {},
   "outputs": [
    {
     "data": {
      "text/plain": [
       "-2"
      ]
     },
     "execution_count": 5,
     "metadata": {},
     "output_type": "execute_result"
    }
   ],
   "source": [
    "1 - (2 + 1)"
   ]
  },
  {
   "cell_type": "markdown",
   "metadata": {},
   "source": [
    "#### Questions\n",
    "Your turn! Run the cell below and see if you can answer the questions. The aim of the exercise is to properly work out in what order Python will **evaluate** the operations.\n",
    "\n",
    "This is not meant to be challenging mathematically – if you are struggling feel free to use a basic calculator, but do the order of operations yourself.\n",
    "\n",
    "The questions within each quiz get harder as you go on, and may even introduce some ideas you haven't seen before that you will need to work out. ***Make sure you complete the initial set of questions in every quiz at least once.***\n",
    "\n",
    "*Note 1: you can input decimal or negative numbers exactly as you'd expect!*<br>\n",
    "*Note 2: remember you need to either finish the quiz or stop the execution of the cell before you can run another cell*"
   ]
  },
  {
   "cell_type": "code",
   "execution_count": 3,
   "metadata": {},
   "outputs": [
    {
     "data": {
      "text/plain": [
       "'/Users/leon/Desktop/MSc Artificial Intelligence/Module 1 - Principles of Programming for AI/Week 1'"
      ]
     },
     "execution_count": 3,
     "metadata": {},
     "output_type": "execute_result"
    }
   ],
   "source": [
    "import os\n",
    "os.getcwd()"
   ]
  },
  {
   "cell_type": "code",
   "execution_count": 5,
   "metadata": {
    "scrolled": true
   },
   "outputs": [
    {
     "name": "stdout",
     "output_type": "stream",
     "text": [
      "Question 1 of 12\n",
      "What is the result of this expression?\n",
      "1 + 2\n",
      ">>>3\n",
      "Correct!\n",
      "\n",
      "Question 2 of 12\n",
      "What is the result of this expression?\n",
      "5 + 3\n",
      ">>>8\n",
      "Correct!\n",
      "\n",
      "Question 3 of 12\n",
      "What is the result of this expression?\n",
      "(1 + 2) * 2\n",
      ">>>6\n",
      "Correct!\n",
      "\n",
      "Question 4 of 12\n",
      "What is the result of this expression?\n",
      "5 + 2 * 2\n",
      ">>>9\n",
      "Correct!\n",
      "\n",
      "Question 5 of 12\n",
      "What is the result of this expression?\n",
      "(4 + 2) * 2\n",
      ">>>12\n",
      "Correct!\n",
      "\n",
      "Question 6 of 12\n",
      "What is the result of this expression?\n",
      "2 + 2 * 3\n",
      ">>>8\n",
      "Correct!\n",
      "\n",
      "Question 7 of 12\n",
      "What is the result of this expression?\n",
      "1 + 3 * 2\n",
      ">>>7\n",
      "Correct!\n",
      "\n",
      "Question 8 of 12\n",
      "What is the result of this expression?\n",
      "5 - 5 + 3\n",
      ">>>3\n",
      "Correct!\n",
      "\n",
      "Question 9 of 12\n",
      "What is the result of this expression?\n",
      "4 - 5 + 2\n",
      ">>>3\n",
      "Incorrect, try again...\n",
      "\n",
      "What is the result of this expression?\n",
      "4 - 5 + 2\n",
      ">>>1\n",
      "Correct!\n",
      "\n",
      "Question 10 of 12\n",
      "What is the result of this expression?\n",
      "5 + 1 / 2\n",
      ">>>5.5\n",
      "Correct!\n",
      "\n",
      "Question 11 of 12\n",
      "What is the result of this expression?\n",
      "3 + 5 / 2\n",
      ">>>5.5\n",
      "Correct!\n",
      "\n",
      "Question 12 of 12\n",
      "What is the result of this expression?\n",
      "2 + 1 / 2\n",
      ">>>2.5\n",
      "Correct!\n",
      "\n",
      "All questions answered correctly! Great job.\n",
      "Would you like to try more questions like these? (Y/N)\n",
      ">>>N\n"
     ]
    }
   ],
   "source": [
    "%run ../scripts/interactive_questions ./questions/1.1.1q.txt"
   ]
  },
  {
   "cell_type": "markdown",
   "metadata": {},
   "source": [
    "### Booleans\n",
    "We use numbers a lot in programming, but we use other things too. A Boolean (named after [George Boole](https://en.wikipedia.org/wiki/George_Boole)) is a value that is either true or false. There are many ways you could write these:\n",
    "* true, false\n",
    "* T, F\n",
    "* 1, 0\n",
    "\n",
    "In Python, we write `True` and `False` (notice the T and F are upper case)."
   ]
  },
  {
   "cell_type": "code",
   "execution_count": 6,
   "metadata": {},
   "outputs": [
    {
     "data": {
      "text/plain": [
       "True"
      ]
     },
     "execution_count": 6,
     "metadata": {},
     "output_type": "execute_result"
    }
   ],
   "source": [
    "True"
   ]
  },
  {
   "cell_type": "code",
   "execution_count": 7,
   "metadata": {},
   "outputs": [
    {
     "data": {
      "text/plain": [
       "False"
      ]
     },
     "execution_count": 7,
     "metadata": {},
     "output_type": "execute_result"
    }
   ],
   "source": [
    "False"
   ]
  },
  {
   "cell_type": "markdown",
   "metadata": {},
   "source": [
    "Notice that both of these cells above each just contain a single Boolean value, but we could still consider them expressions. When we evaluate `True` we get `True`. A single number could be an expression too, the expression `2` has the value of `2`."
   ]
  },
  {
   "cell_type": "markdown",
   "metadata": {},
   "source": [
    "#### Boolean Operations\n",
    "Addition is an *arithmetic operation*. It takes two numbers and produces another number.\n",
    "\n",
    "There are three *Boolean operations* you need to know as well:\n",
    "* **AND**\n",
    "* **OR**\n",
    "* **NOT**\n",
    "\n",
    "And here is how they work:\n",
    "* X **AND** Y – is true if X and Y are both true, otherwise the result is false \n",
    "* X **OR** Y – is true if either X or Y are true, otherwise the result is false \n",
    "* **NOT** X – flips the value of X: true becomes false, false becomes true \n",
    "\n",
    "These are not just programming features, these a fundamental to areas in mathematics and logic, and also electronics. In fact, the silicon inside your computer that is making it work is essentially performing the job of various [logic gates](https://en.wikipedia.org/wiki/Logic_gate).\n",
    "\n",
    "In Python we use `and` to do the AND operation:"
   ]
  },
  {
   "cell_type": "code",
   "execution_count": 8,
   "metadata": {},
   "outputs": [
    {
     "data": {
      "text/plain": [
       "False"
      ]
     },
     "execution_count": 8,
     "metadata": {},
     "output_type": "execute_result"
    }
   ],
   "source": [
    "True and False"
   ]
  },
  {
   "cell_type": "markdown",
   "metadata": {},
   "source": [
    "we use the word `or` to do the OR operation:"
   ]
  },
  {
   "cell_type": "code",
   "execution_count": 9,
   "metadata": {},
   "outputs": [
    {
     "data": {
      "text/plain": [
       "True"
      ]
     },
     "execution_count": 9,
     "metadata": {},
     "output_type": "execute_result"
    }
   ],
   "source": [
    "True or False"
   ]
  },
  {
   "cell_type": "markdown",
   "metadata": {},
   "source": [
    "and, you guessed it, we use the word `not` to do the NOT operation:"
   ]
  },
  {
   "cell_type": "code",
   "execution_count": 10,
   "metadata": {},
   "outputs": [
    {
     "data": {
      "text/plain": [
       "True"
      ]
     },
     "execution_count": 10,
     "metadata": {},
     "output_type": "execute_result"
    }
   ],
   "source": [
    "not False"
   ]
  },
  {
   "cell_type": "markdown",
   "metadata": {},
   "source": [
    "***Again:*** *try changing the values of the expressions in the cells above and re-running them. Can you guess what they will produce before you hit run?*\n",
    "\n",
    "#### Boolean Order of Precedence\n",
    "The *order of precendence* goes:\n",
    "1. NOT\n",
    "2. AND\n",
    "3. OR\n",
    "\n",
    "So when we *evaluate*\n",
    "```python\n",
    "not False and not False or False\n",
    "```\n",
    "we get\n",
    "```python\n",
    "True\n",
    "```"
   ]
  },
  {
   "cell_type": "code",
   "execution_count": 6,
   "metadata": {},
   "outputs": [
    {
     "data": {
      "text/plain": [
       "True"
      ]
     },
     "execution_count": 6,
     "metadata": {},
     "output_type": "execute_result"
    }
   ],
   "source": [
    "not False and not False or False"
   ]
  },
  {
   "cell_type": "markdown",
   "metadata": {},
   "source": [
    "Can you see why? Let's write parentheses to show the order.\n",
    "\n",
    "NOT is applied first:\n",
    "```python\n",
    "(not False) and (not False) or False\n",
    "```\n",
    "then AND\n",
    "```python\n",
    "((not False) and (not False)) or False\n",
    "```\n",
    "finally OR\n",
    "```python\n",
    "(((not False) and (not False)) or False)\n",
    "```"
   ]
  },
  {
   "cell_type": "markdown",
   "metadata": {},
   "source": [
    "At some point you will need to write complicated lines of code that do multiple things at once, and to be able to write a line of code like that you need to be able to read them. The single line of code is a sequence of actions – you need to be able to work out what order they will be performed in, and then work out what the result would be.\n",
    "\n",
    "To be clear, the expression `not False and not False or False` is not very easy to read for anyone. The coder should probably have used parentheses to make it clearer. Even I occasionally have to look up the order of precedence in situations like this!\n",
    "\n",
    "But, now we have the exact same expression, and have added the parentheses to make it clearer. So at this point you should be able to evaluate each of the operators to get the final result. Let's do that, starting by evaluating all of the NOTs:\n",
    "\n",
    "```python\n",
    "(((not False) and (not False)) or False)\n",
    "```\n",
    "\n",
    "becomes\n",
    "```python\n",
    "((True and True) or False)\n",
    "```\n",
    "\n",
    "then we evaluate the AND to get:\n",
    "```python\n",
    "(True or False)\n",
    "```\n",
    "\n",
    "then we evaluate the final OR to get:\n",
    "```python\n",
    "True\n",
    "```\n",
    "\n",
    "#### Questions\n",
    "Now let's try some questions on Boolean operations. Run the cell below, and for each question, try to work out in what order Python will *evaluate* the operations, and then work out the final result."
   ]
  },
  {
   "cell_type": "code",
   "execution_count": 7,
   "metadata": {},
   "outputs": [
    {
     "name": "stdout",
     "output_type": "stream",
     "text": [
      "Question 1 of 15\n",
      "What is the result of this expression?\n",
      "True and False\n",
      ">>>False\n",
      "Correct!\n",
      "\n",
      "Question 2 of 15\n",
      "What is the result of this expression?\n",
      "not True\n",
      ">>>False\n",
      "Correct!\n",
      "\n",
      "Question 3 of 15\n",
      "What is the result of this expression?\n",
      "False or True\n",
      ">>>True\n",
      "Correct!\n",
      "\n",
      "Question 4 of 15\n",
      "What is the result of this expression?\n",
      "False and True\n",
      ">>>False\n",
      "Correct!\n",
      "\n",
      "Question 5 of 15\n",
      "What is the result of this expression?\n",
      "not False\n",
      ">>>True\n",
      "Correct!\n",
      "\n",
      "Question 6 of 15\n",
      "What is the result of this expression?\n",
      "True or False and True\n",
      ">>>False\n",
      "Incorrect, try again...\n",
      "\n",
      "What is the result of this expression?\n",
      "True or False and True\n",
      ">>>True\n",
      "Correct!\n",
      "\n",
      "Question 7 of 15\n",
      "What is the result of this expression?\n",
      "(True or False) and False\n",
      ">>>False\n",
      "Correct!\n",
      "\n",
      "Question 8 of 15\n",
      "What is the result of this expression?\n",
      "(False or True) and True\n",
      ">>>True\n",
      "Correct!\n",
      "\n",
      "Question 9 of 15\n",
      "What is the result of this expression?\n",
      "False or True and True\n",
      ">>>True\n",
      "Correct!\n",
      "\n",
      "Question 10 of 15\n",
      "What is the result of this expression?\n",
      "(False or False) and True\n",
      ">>>False\n",
      "Correct!\n",
      "\n",
      "Question 11 of 15\n",
      "What is the result of this expression?\n",
      "False or True and not True\n",
      ">>>True\n",
      "Incorrect, try again...\n",
      "\n",
      "What is the result of this expression?\n",
      "False or True and not True\n",
      ">>>False\n",
      "Correct!\n",
      "\n",
      "Question 12 of 15\n",
      "What is the result of this expression?\n",
      "(not True or True) and not False\n",
      ">>>True\n",
      "Correct!\n",
      "\n",
      "Question 13 of 15\n",
      "What is the result of this expression?\n",
      "False or not True and False\n",
      ">>>True\n",
      "Incorrect, try again...\n",
      "\n",
      "What is the result of this expression?\n",
      "False or not True and False\n",
      ">>>False\n",
      "Correct!\n",
      "\n",
      "Question 14 of 15\n",
      "What is the result of this expression?\n",
      "(not False or True) and True\n",
      ">>>TRue\n",
      "Incorrect. The answer is case sensitive\n",
      "\n",
      "What is the result of this expression?\n",
      "(not False or True) and True\n",
      ">>>True\n",
      "Correct!\n",
      "\n",
      "Question 15 of 15\n",
      "What is the result of this expression?\n",
      "(not False or True) and not True\n",
      ">>>False\n",
      "Correct!\n",
      "\n",
      "All questions answered correctly! Great job.\n",
      "Would you like to try more questions like these? (Y/N)\n",
      ">>>N\n"
     ]
    }
   ],
   "source": [
    "%run ../scripts/interactive_questions ./questions/1.1.2q.txt"
   ]
  },
  {
   "cell_type": "markdown",
   "metadata": {},
   "source": [
    "Again, make sure you complete the entire quiz at least once! Sometimes there are small hidden lessons inside the quizzes!\n",
    "\n",
    "## What Next?\n",
    "When you are done with this notebook, go back to Engage and move onto the next section."
   ]
  }
 ],
 "metadata": {
  "kernelspec": {
   "display_name": "Python 3 (ipykernel)",
   "language": "python",
   "name": "python3"
  },
  "language_info": {
   "codemirror_mode": {
    "name": "ipython",
    "version": 3
   },
   "file_extension": ".py",
   "mimetype": "text/x-python",
   "name": "python",
   "nbconvert_exporter": "python",
   "pygments_lexer": "ipython3",
   "version": "3.11.4"
  }
 },
 "nbformat": 4,
 "nbformat_minor": 2
}
