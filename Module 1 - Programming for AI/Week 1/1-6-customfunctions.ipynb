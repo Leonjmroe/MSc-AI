{
 "cells": [
  {
   "cell_type": "markdown",
   "metadata": {},
   "source": [
    "## Section 1.6 – Custom Functions\n",
    "### Writing Functions in Python\n",
    "We have already discussed how useful functions are on Engage, and we showed you how we could write our own version of the `pow` function that looks like this: \n",
    "\n",
    "```python\n",
    "def pow(x, y):\n",
    "    return x ** y\n",
    "```\n",
    "\n",
    "For the benefit of easy reference, let's repeat the breakdown of each component. The first line is called the **signature**:\n",
    "```python\n",
    "def pow(x, y):\n",
    "```\n",
    "* `def` \n",
    " * This keyword indicates this is a *function definition*\n",
    "* `pow`\n",
    " * The name of the function, this is what we will *call* later\n",
    "* `(x, y)`\n",
    " * We list all of the *parameters* (inputs) of the function and give them variable names – we can call them whatever we like\n",
    "* `:` \n",
    " * This colon indicates the start of a new *block* of code\n",
    " * At least one but possibly more of the following lines of code will *belong* to this function\n",
    "\n",
    "Now let's add the second line:\n",
    "```python\n",
    "def pow(x, y):\n",
    "    return x ** y\n",
    "```\n",
    "* `⇥` \n",
    " * Notice this line is *indented* – there are four spaces (or a *tab* character) at the start of this line\n",
    " * If a line ends in a colon `:` then the next line ***must*** be indented\n",
    " * Every indented line is considered part of the same block of code – in this case, part of the same function\n",
    "* `return`\n",
    " * This keyword indicates that we are ending the function and the result of evaluating the expression on the right hand side will be *returned* (outputted)\n",
    "* `x ** y`\n",
    " * Finally, this is the calculation that the function will do with the input parameters `x` and `y`\n",
    " \n",
    "Here is a demonstration of this function in action that you can run and play around with. I have renamed the function to `my_pow` so we can demonstrate it is not just the same as the builtin function `pow`:"
   ]
  },
  {
   "cell_type": "code",
   "execution_count": 1,
   "metadata": {
    "scrolled": true
   },
   "outputs": [
    {
     "data": {
      "text/plain": [
       "32"
      ]
     },
     "execution_count": 1,
     "metadata": {},
     "output_type": "execute_result"
    }
   ],
   "source": [
    "def my_pow(x, y):\n",
    "    return x ** y\n",
    "\n",
    "my_pow(2, 5)"
   ]
  },
  {
   "cell_type": "markdown",
   "metadata": {},
   "source": [
    "Notice that, like variables, function definitions persist between Jupyter cells:"
   ]
  },
  {
   "cell_type": "code",
   "execution_count": 2,
   "metadata": {
    "scrolled": true
   },
   "outputs": [
    {
     "data": {
      "text/plain": [
       "1024"
      ]
     },
     "execution_count": 2,
     "metadata": {},
     "output_type": "execute_result"
    }
   ],
   "source": [
    "my_pow(2, 10)"
   ]
  },
  {
   "cell_type": "markdown",
   "metadata": {},
   "source": [
    "### More Examples\n",
    "Here are some more examples of custom functions. This first one takes a number of minutes and a number of seconds and returns the total number of seconds:"
   ]
  },
  {
   "cell_type": "code",
   "execution_count": 3,
   "metadata": {
    "scrolled": true
   },
   "outputs": [
    {
     "data": {
      "text/plain": [
       "320"
      ]
     },
     "execution_count": 3,
     "metadata": {},
     "output_type": "execute_result"
    }
   ],
   "source": [
    "def total_seconds(minutes, seconds):\n",
    "    return minutes*60 + seconds\n",
    "\n",
    "total_seconds(5, 20)"
   ]
  },
  {
   "cell_type": "markdown",
   "metadata": {},
   "source": [
    "This next function is a bit more complicated. Notice two things\n",
    "1. We can have multiple lines of code inside a function so long as they are all indented. We can even assign variables and use them.\n",
    "2. The syntax `\"\"\" ... \"\"\"` can be used for a multi-line comment. It is common to comment more complicated functions like this with a multi-line comment directly after the *signature*:"
   ]
  },
  {
   "cell_type": "code",
   "execution_count": 4,
   "metadata": {
    "scrolled": true
   },
   "outputs": [
    {
     "data": {
      "text/plain": [
       "23"
      ]
     },
     "execution_count": 4,
     "metadata": {},
     "output_type": "execute_result"
    }
   ],
   "source": [
    "def years_between(date1, date2):\n",
    "    \"\"\" Calculates the number of years between two dates, rounding up\n",
    "        Only works for modern dates!\n",
    "        \n",
    "        Assumes dates are input as strings in the format\n",
    "            dd/MM/yyyy\n",
    "        e.g. 1st December 2019 is \"01/12/2019\"\n",
    "    \"\"\"\n",
    "    year1 = int(date1[6:])\n",
    "    year2 = int(date2[6:])\n",
    "    return abs(year1 - year2)\n",
    "\n",
    "years_between(\"01/05/2016\", \"30/12/1993\")"
   ]
  },
  {
   "cell_type": "markdown",
   "metadata": {},
   "source": [
    "### Scope\n",
    "Now that we are using variables inside functions we need to talk about **scope**. When you create a new variable inside a function it only exists *inside* that function. Outside of the function it will be like the variable never existed.\n",
    "\n",
    "Pay careful attention to the following code examples:"
   ]
  },
  {
   "cell_type": "code",
   "execution_count": 5,
   "metadata": {
    "scrolled": true
   },
   "outputs": [
    {
     "data": {
      "text/plain": [
       "20"
      ]
     },
     "execution_count": 5,
     "metadata": {},
     "output_type": "execute_result"
    }
   ],
   "source": [
    "def add(x, y):\n",
    "    z = x + y\n",
    "    return z\n",
    "\n",
    "add(10, 10)"
   ]
  },
  {
   "cell_type": "markdown",
   "metadata": {},
   "source": [
    "If we query the value of `z` after running the function `add`, we will get an error:"
   ]
  },
  {
   "cell_type": "code",
   "execution_count": 6,
   "metadata": {
    "scrolled": true
   },
   "outputs": [
    {
     "ename": "NameError",
     "evalue": "name 'z' is not defined",
     "output_type": "error",
     "traceback": [
      "\u001b[0;31m---------------------------------------------------------------------------\u001b[0m",
      "\u001b[0;31mNameError\u001b[0m                                 Traceback (most recent call last)",
      "Cell \u001b[0;32mIn[6], line 6\u001b[0m\n\u001b[1;32m      3\u001b[0m     \u001b[38;5;28;01mreturn\u001b[39;00m z\n\u001b[1;32m      5\u001b[0m add(\u001b[38;5;241m10\u001b[39m, \u001b[38;5;241m10\u001b[39m)\n\u001b[0;32m----> 6\u001b[0m z\n",
      "\u001b[0;31mNameError\u001b[0m: name 'z' is not defined"
     ]
    }
   ],
   "source": [
    "def add(x, y):\n",
    "    z = x + y\n",
    "    return z\n",
    "\n",
    "add(10, 10)\n",
    "z"
   ]
  },
  {
   "cell_type": "markdown",
   "metadata": {},
   "source": [
    "Below shows a very similar example but with the variable called `elephant` instead of `z`. This time, the variable has a value before the function is defined. Notice that *neither* defining nor calling the function changes the value of `elephant` when we query it at the end."
   ]
  },
  {
   "cell_type": "code",
   "execution_count": null,
   "metadata": {
    "scrolled": true
   },
   "outputs": [],
   "source": [
    "elephant = 100\n",
    "\n",
    "def add(x, y):\n",
    "    elephant = x + y\n",
    "    return elephant\n",
    "\n",
    "add(10, 10)\n",
    "elephant"
   ]
  },
  {
   "cell_type": "markdown",
   "metadata": {},
   "source": [
    "⚠️ *Advanced note:* it is possible to *access* a variable *inside* a function which is in the *outer* scope, as the following example demonstrates. However, this is generally considered less than ideal practice. It is similar to the concept of a *global variable*."
   ]
  },
  {
   "cell_type": "code",
   "execution_count": null,
   "metadata": {},
   "outputs": [],
   "source": [
    "orangutan = 100\n",
    "\n",
    "def add(x, y):\n",
    "    result = x + y + orangutan\n",
    "    return result\n",
    "\n",
    "add(10, 10)"
   ]
  },
  {
   "cell_type": "markdown",
   "metadata": {},
   "source": [
    "There is not enough space here to discuss all the subtleties of when and whether this is a good or bad idea. But bear in mind that you could always add the extra variable to the list of parameters, and this can make for clearer code (if you've used better variable names than the ones I've got here)."
   ]
  },
  {
   "cell_type": "code",
   "execution_count": null,
   "metadata": {},
   "outputs": [],
   "source": [
    "orangutan = 100\n",
    "\n",
    "def add(x, y, orangutan):\n",
    "    result = x + y + orangutan\n",
    "    return result\n",
    "\n",
    "add(10, 10, orangutan)"
   ]
  },
  {
   "cell_type": "markdown",
   "metadata": {},
   "source": [
    "#### Empty Function\n",
    "In Python every line of code that ends with a `:` (like a function signature) *must* be followed by at least one indented line. If for some reason we want to create a function that does nothing (maybe to come back to it later), we will get an error if we write this:"
   ]
  },
  {
   "cell_type": "code",
   "execution_count": null,
   "metadata": {},
   "outputs": [],
   "source": [
    "def do_nothing(x):\n",
    "    \n",
    "do_nothing(10)"
   ]
  },
  {
   "cell_type": "markdown",
   "metadata": {},
   "source": [
    "So we can fill the function with the word `pass`. This is “pass” as in “Do I want some crisps? No, I'll pass.”, not as in “pass”ing a variable or “this test passed”."
   ]
  },
  {
   "cell_type": "code",
   "execution_count": null,
   "metadata": {},
   "outputs": [],
   "source": [
    "def do_nothing(x):\n",
    "    pass\n",
    "\n",
    "do_nothing(10)"
   ]
  },
  {
   "cell_type": "markdown",
   "metadata": {},
   "source": [
    "### Questions\n",
    "Now it's your turn. You have two sets of questions to complete. First is your normal interactive quiz, which you can take in the cell below."
   ]
  },
  {
   "cell_type": "code",
   "execution_count": null,
   "metadata": {
    "scrolled": true
   },
   "outputs": [],
   "source": [
    "%run ../scripts/interactive_questions ./questions/1.6.1q.txt"
   ]
  },
  {
   "cell_type": "markdown",
   "metadata": {},
   "source": [
    "#### Custom Functions\n",
    "Once you have completed the quiz, we need to get you writing your own functions! Over time we will shift away from the comprehension style questions in the quizzes and towards more code written in functions like this.\n",
    "\n",
    "Each question will have\n",
    "* A description of what function you should write\n",
    "* Some examples which show how your function should work\n",
    "* A skeleton function which you need to complete\n",
    "\n",
    "You should write your code directly into the Jupyter cell. When you run the cell (ctrl+return) it will run some automated tests on your function. Keep editing your code until all of the tests succeed!\n",
    "\n",
    "For now, ***do not*** use any coding features that we have not covered up until this point in the unit! This is part of the challenge. Maybe you already know how to write if statements for example – and if so, great! But that's next section. All of the exercises here can be completed just using the material we've covered. Later material might make them too easy, so where is the fun in that? The way to show off is to do it *without* using those features.\n",
    "\n",
    "The skeleton function will include the *signature* of the function, and then the word `pass` to create a valid empty function. You can immediately run the tests to see what happens. Replace the word `pass` with your code. \n",
    "\n",
    "#### Question 1: Add\n",
    "For this first question, we want you to create a function called `add` which sums two inputs and returns the result. In other words, `add` is to `+` as `pow` is to `**`. Some examples are shown below:"
   ]
  },
  {
   "cell_type": "code",
   "execution_count": 7,
   "metadata": {},
   "outputs": [
    {
     "name": "stdout",
     "output_type": "stream",
     "text": [
      "Example tests for function add\n",
      "\n",
      "Test 1/5: add(1, 1) -> 2\n",
      "Test 2/5: add(1, 0) -> 1\n",
      "Test 3/5: add(0, 1) -> 1\n",
      "Test 4/5: add(0, 0) -> 0\n",
      "Test 5/5: add(-1, 1) -> 0\n"
     ]
    }
   ],
   "source": [
    "%run ../scripts/show_examples.py ./questions/1.6/add"
   ]
  },
  {
   "cell_type": "code",
   "execution_count": 9,
   "metadata": {
    "scrolled": false
   },
   "outputs": [
    {
     "name": "stdout",
     "output_type": "stream",
     "text": [
      "Running tests on function add\n",
      "\n",
      "Test 1/20: \n",
      "\tinputs: 1, 1\n",
      "\texpected: 2\n",
      "\tactual: 2\n",
      "\tresult: PASS\n",
      "Test 2/20: \n",
      "\tinputs: 1, 0\n",
      "\texpected: 1\n",
      "\tactual: 1\n",
      "\tresult: PASS\n",
      "Test 3/20: \n",
      "\tinputs: 0, 1\n",
      "\texpected: 1\n",
      "\tactual: 1\n",
      "\tresult: PASS\n",
      "Test 4/20: \n",
      "\tinputs: 0, 0\n",
      "\texpected: 0\n",
      "\tactual: 0\n",
      "\tresult: PASS\n",
      "Test 5/20: \n",
      "\tinputs: -1, 1\n",
      "\texpected: 0\n",
      "\tactual: 0\n",
      "\tresult: PASS\n",
      "Test 6/20: \n",
      "\tinputs: -5, 1\n",
      "\texpected: -4\n",
      "\tactual: -4\n",
      "\tresult: PASS\n",
      "Test 7/20: \n",
      "\tinputs: 1, -5\n",
      "\texpected: -4\n",
      "\tactual: -4\n",
      "\tresult: PASS\n",
      "Test 8/20: \n",
      "\tinputs: -6, -9\n",
      "\texpected: -15\n",
      "\tactual: -15\n",
      "\tresult: PASS\n",
      "Test 9/20: \n",
      "\tinputs: -8, 7\n",
      "\texpected: -1\n",
      "\tactual: -1\n",
      "\tresult: PASS\n",
      "Test 10/20: \n",
      "\tinputs: 2, 6\n",
      "\texpected: 8\n",
      "\tactual: 8\n",
      "\tresult: PASS\n",
      "Test 11/20: \n",
      "\tinputs: -2, 6\n",
      "\texpected: 4\n",
      "\tactual: 4\n",
      "\tresult: PASS\n",
      "Test 12/20: \n",
      "\tinputs: -3, -4\n",
      "\texpected: -7\n",
      "\tactual: -7\n",
      "\tresult: PASS\n",
      "Test 13/20: \n",
      "\tinputs: -9084, 9695\n",
      "\texpected: 611\n",
      "\tactual: 611\n",
      "\tresult: PASS\n",
      "Test 14/20: \n",
      "\tinputs: 9603, -9155\n",
      "\texpected: 448\n",
      "\tactual: 448\n",
      "\tresult: PASS\n",
      "Test 15/20: \n",
      "\tinputs: 9972, 9429\n",
      "\texpected: 19401\n",
      "\tactual: 19401\n",
      "\tresult: PASS\n",
      "Test 16/20: \n",
      "\tinputs: -9407, -9719\n",
      "\texpected: -19126\n",
      "\tactual: -19126\n",
      "\tresult: PASS\n",
      "Test 17/20: \n",
      "\tinputs: -0.9887378673768961, 3.2049075724477802\n",
      "\texpected: 2.216169705070884\n",
      "\tactual: 2.216169705070884\n",
      "\tresult: PASS\n",
      "Test 18/20: \n",
      "\tinputs: 9.925156787071455, 8.338824358949122\n",
      "\texpected: 18.263981146020576\n",
      "\tactual: 18.263981146020576\n",
      "\tresult: PASS\n",
      "Test 19/20: \n",
      "\tinputs: 5.866501682604483, -8.352540236067052\n",
      "\texpected: -2.486038553462569\n",
      "\tactual: -2.486038553462569\n",
      "\tresult: PASS\n",
      "Test 20/20: \n",
      "\tinputs: 2.255662100814245, -0.27111596061666354\n",
      "\texpected: 1.9845461401975815\n",
      "\tactual: 1.9845461401975815\n",
      "\tresult: PASS\n",
      "\n",
      "Running 10 secret tests...\n",
      "\n",
      "Test 1/10: PASS\n",
      "Test 2/10: PASS\n",
      "Test 3/10: PASS\n",
      "Test 4/10: PASS\n",
      "Test 5/10: PASS\n",
      "Test 6/10: PASS\n",
      "Test 7/10: PASS\n",
      "Test 8/10: PASS\n",
      "Test 9/10: PASS\n",
      "Test 10/10: PASS\n",
      "\n",
      "All tests passed! Great job!\n"
     ]
    }
   ],
   "source": [
    "def add(x, y):\n",
    "    z = x + y\n",
    "    return z\n",
    "\n",
    "# do not change the line below, it runs the tests\n",
    "%run -i ../scripts/function_tester.py ./questions/1.6/add"
   ]
  },
  {
   "cell_type": "markdown",
   "metadata": {},
   "source": [
    "#### Question 2: Swap The Ends\n",
    "Write a function called `swap_ends` which will swap the characters at either end of a string and return the result. \n",
    "\n",
    "You may assume the string will always be length 2 or above.\n",
    "\n",
    "You'll need to use string indexing and concatenation to complete this function. Refer back to the section on strings (section 1.4) if you need to.\n",
    "\n",
    "As usual, example inputs are shown below."
   ]
  },
  {
   "cell_type": "code",
   "execution_count": 12,
   "metadata": {},
   "outputs": [],
   "source": [
    "# %run ../scripts/show_examples.py ./questions/1.6/swap_ends"
   ]
  },
  {
   "cell_type": "code",
   "execution_count": 13,
   "metadata": {},
   "outputs": [
    {
     "name": "stdout",
     "output_type": "stream",
     "text": [
      "Running tests on function swap_ends\n",
      "\n",
      "Test 1/5: \n",
      "\tinputs: 'hello'\n",
      "\texpected: 'oellh'\n",
      "\tactual: 'oellh'\n",
      "\tresult: PASS\n",
      "Test 2/5: \n",
      "\tinputs: 'oellh'\n",
      "\texpected: 'hello'\n",
      "\tactual: 'hello'\n",
      "\tresult: PASS\n",
      "Test 3/5: \n",
      "\tinputs: 'tt'\n",
      "\texpected: 'tt'\n",
      "\tactual: 'tt'\n",
      "\tresult: PASS\n",
      "Test 4/5: \n",
      "\tinputs: '15'\n",
      "\texpected: '51'\n",
      "\tactual: '51'\n",
      "\tresult: PASS\n",
      "Test 5/5: \n",
      "\tinputs: 'a reasonably long string'\n",
      "\texpected: 'g reasonably long strina'\n",
      "\tactual: 'g reasonably long strina'\n",
      "\tresult: PASS\n",
      "\n",
      "Running 3 secret tests...\n",
      "\n",
      "Test 1/3: PASS\n",
      "Test 2/3: PASS\n",
      "Test 3/3: PASS\n",
      "\n",
      "All tests passed! Great job!\n"
     ]
    }
   ],
   "source": [
    "def swap_ends(s):\n",
    "    start = s[:1]\n",
    "    end = s[-1]\n",
    "    middle_end = len(s) - 1\n",
    "    middle = s[1:middle_end]\n",
    "    final = end + middle + start\n",
    "    return final\n",
    "    \n",
    "\n",
    "%run -i ../scripts/function_tester.py ./questions/1.6/swap_ends"
   ]
  },
  {
   "cell_type": "markdown",
   "metadata": {},
   "source": [
    "#### Question 3: 24 to 12 Hour Clock\n",
    "Create a function which converts an hour written in the 24 hour clock into the 12 hour clock. So `15` should return `3`, and `3` should return `3`. Function names can contain numbers, but *cannot start* with a number. So the function will be called `convert24to12`. Example inputs shown below, as usual.\n",
    "\n",
    "*Hint: remember the **modulo** operation from a previous section*"
   ]
  },
  {
   "cell_type": "code",
   "execution_count": 14,
   "metadata": {},
   "outputs": [
    {
     "name": "stdout",
     "output_type": "stream",
     "text": [
      "Example tests for function convert24to12\n",
      "\n",
      "Test 1/5: convert24to12(15) -> 3\n",
      "Test 2/5: convert24to12(3) -> 3\n",
      "Test 3/5: convert24to12(23) -> 11\n",
      "Test 4/5: convert24to12(1) -> 1\n",
      "Test 5/5: convert24to12(0) -> 12\n"
     ]
    }
   ],
   "source": [
    "%run ../scripts/show_examples.py ./questions/1.6/convert24to12"
   ]
  },
  {
   "cell_type": "code",
   "execution_count": 51,
   "metadata": {
    "scrolled": false
   },
   "outputs": [
    {
     "name": "stdout",
     "output_type": "stream",
     "text": [
      "Running tests on function convert24to12\n",
      "\n",
      "Test 1/5: \n",
      "\tinputs: 15\n",
      "\texpected: 3\n",
      "\tactual: 3\n",
      "\tresult: PASS\n",
      "Test 2/5: \n",
      "\tinputs: 3\n",
      "\texpected: 3\n",
      "\tactual: 3\n",
      "\tresult: PASS\n",
      "Test 3/5: \n",
      "\tinputs: 23\n",
      "\texpected: 11\n",
      "\tactual: 11\n",
      "\tresult: PASS\n",
      "Test 4/5: \n",
      "\tinputs: 1\n",
      "\texpected: 1\n",
      "\tactual: 1\n",
      "\tresult: PASS\n",
      "Test 5/5: \n",
      "\tinputs: 0\n",
      "\texpected: 12\n",
      "\tactual: 12\n",
      "\tresult: PASS\n",
      "\n",
      "Running 19 secret tests...\n",
      "\n",
      "Test 1/19: PASS\n",
      "Test 2/19: PASS\n",
      "Test 3/19: PASS\n",
      "Test 4/19: PASS\n",
      "Test 5/19: PASS\n",
      "Test 6/19: PASS\n",
      "Test 7/19: PASS\n",
      "Test 8/19: PASS\n",
      "Test 9/19: PASS\n",
      "Test 10/19: PASS\n",
      "Test 11/19: PASS\n",
      "Test 12/19: PASS\n",
      "Test 13/19: PASS\n",
      "Test 14/19: PASS\n",
      "Test 15/19: PASS\n",
      "Test 16/19: PASS\n",
      "Test 17/19: PASS\n",
      "Test 18/19: PASS\n",
      "Test 19/19: PASS\n",
      "\n",
      "All tests passed! Great job!\n"
     ]
    }
   ],
   "source": [
    "def convert24to12(hour):\n",
    "    remainder = ((-hour % 12) * -1) + 12\n",
    "#     hour = hour + remainder\n",
    "    return remainder\n",
    "\n",
    "%run -i ../scripts/function_tester.py ./questions/1.6/convert24to12"
   ]
  },
  {
   "cell_type": "markdown",
   "metadata": {},
   "source": [
    "## What Next?\n",
    "When you are done with this notebook, go back to Engage and move onto the next section, where we will learn more about the structure of code and logic – moving beyond the glorified calculator!"
   ]
  },
  {
   "cell_type": "code",
   "execution_count": 45,
   "metadata": {},
   "outputs": [
    {
     "data": {
      "text/plain": [
       "1"
      ]
     },
     "execution_count": 45,
     "metadata": {},
     "output_type": "execute_result"
    }
   ],
   "source": [
    "((-1 % 12) * -1) + 12"
   ]
  },
  {
   "cell_type": "code",
   "execution_count": null,
   "metadata": {},
   "outputs": [],
   "source": []
  }
 ],
 "metadata": {
  "kernelspec": {
   "display_name": "Python 3 (ipykernel)",
   "language": "python",
   "name": "python3"
  },
  "language_info": {
   "codemirror_mode": {
    "name": "ipython",
    "version": 3
   },
   "file_extension": ".py",
   "mimetype": "text/x-python",
   "name": "python",
   "nbconvert_exporter": "python",
   "pygments_lexer": "ipython3",
   "version": "3.11.4"
  }
 },
 "nbformat": 4,
 "nbformat_minor": 2
}
