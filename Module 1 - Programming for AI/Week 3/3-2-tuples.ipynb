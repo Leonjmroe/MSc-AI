{
 "cells": [
  {
   "cell_type": "markdown",
   "metadata": {},
   "source": [
    "## 3.2 Tuples\n",
    "### An Immutable Sequence\n",
    "In Python, tuples are written like lists but with *parentheses* rather than square brackets:"
   ]
  },
  {
   "cell_type": "code",
   "execution_count": 1,
   "metadata": {},
   "outputs": [
    {
     "data": {
      "text/plain": [
       "(1, 2, 3)"
      ]
     },
     "execution_count": 1,
     "metadata": {},
     "output_type": "execute_result"
    }
   ],
   "source": [
    "(1, 2, 3)"
   ]
  },
  {
   "cell_type": "code",
   "execution_count": 2,
   "metadata": {},
   "outputs": [
    {
     "data": {
      "text/plain": [
       "tuple"
      ]
     },
     "execution_count": 2,
     "metadata": {},
     "output_type": "execute_result"
    }
   ],
   "source": [
    "type((1, 2, 3))"
   ]
  },
  {
   "cell_type": "markdown",
   "metadata": {},
   "source": [
    "We can access their elements just like any other sequence:"
   ]
  },
  {
   "cell_type": "code",
   "execution_count": 3,
   "metadata": {},
   "outputs": [
    {
     "data": {
      "text/plain": [
       "3"
      ]
     },
     "execution_count": 3,
     "metadata": {},
     "output_type": "execute_result"
    }
   ],
   "source": [
    "coordinate = (3, 4)\n",
    "coordinate[0]"
   ]
  },
  {
   "cell_type": "markdown",
   "metadata": {},
   "source": [
    "But we cannot modify tuples once created:"
   ]
  },
  {
   "cell_type": "code",
   "execution_count": 4,
   "metadata": {},
   "outputs": [
    {
     "ename": "TypeError",
     "evalue": "'tuple' object does not support item assignment",
     "output_type": "error",
     "traceback": [
      "\u001b[0;31m---------------------------------------------------------------------------\u001b[0m",
      "\u001b[0;31mTypeError\u001b[0m                                 Traceback (most recent call last)",
      "\u001b[0;32m<ipython-input-4-28ce0687a95d>\u001b[0m in \u001b[0;36m<module>\u001b[0;34m\u001b[0m\n\u001b[1;32m      1\u001b[0m \u001b[0mcoordinate\u001b[0m \u001b[0;34m=\u001b[0m \u001b[0;34m(\u001b[0m\u001b[0;36m3\u001b[0m\u001b[0;34m,\u001b[0m \u001b[0;36m4\u001b[0m\u001b[0;34m)\u001b[0m\u001b[0;34m\u001b[0m\u001b[0;34m\u001b[0m\u001b[0m\n\u001b[0;32m----> 2\u001b[0;31m \u001b[0mcoordinate\u001b[0m\u001b[0;34m[\u001b[0m\u001b[0;36m0\u001b[0m\u001b[0;34m]\u001b[0m \u001b[0;34m=\u001b[0m \u001b[0;36m5\u001b[0m\u001b[0;34m\u001b[0m\u001b[0;34m\u001b[0m\u001b[0m\n\u001b[0m",
      "\u001b[0;31mTypeError\u001b[0m: 'tuple' object does not support item assignment"
     ]
    }
   ],
   "source": [
    "coordinate = (3, 4)\n",
    "coordinate[0] = 5"
   ]
  },
  {
   "cell_type": "markdown",
   "metadata": {},
   "source": [
    "Like lists, tuples can contain any data type, but like strings they are *immutable*. We can still do some common operations like the concatenation of two tuples, just like we can with strings, because it does not modify the original objects, it just returns a new tuple:"
   ]
  },
  {
   "cell_type": "code",
   "execution_count": 5,
   "metadata": {},
   "outputs": [
    {
     "data": {
      "text/plain": [
       "(1, 2, 3, 4)"
      ]
     },
     "execution_count": 5,
     "metadata": {},
     "output_type": "execute_result"
    }
   ],
   "source": [
    "(1, 2) + (3, 4)"
   ]
  },
  {
   "cell_type": "markdown",
   "metadata": {},
   "source": [
    "#### To Mutate Or Not To Mutate?\n",
    "The choice of whether to use a mutable or immutable type is a design decision. It is somewhat philosophical: we never really *need* to use a tuple; we could use a list and just never modify it, the real world difference would be negligible. Tuples can never grow in size, so they can make more efficient use of memory, but that is about it.\n",
    "\n",
    "However by choosing to use an immutable type you are making a design statement that says you believe this object should not be modified. This means you can pass it into other functions secure in the knowledge that they cannot modify your data. If they try, it will cause an error, and the code will crash.\n",
    "\n",
    "This can be a good thing. Suppose you are using a sequence of items that you do not expect to change. You accidentally call a procedure which modifies the data passed in. If you are using a tuple, you will get an error as soon as you run this line – then you can decide whether you should have called a different function. If you were using a list, you might not notice that the data had changed until something went wrong later. These kinds of logical errors can be hard to find specifically because they *don't* cause the code to crash.\n",
    "\n",
    "#### Example\n",
    "In this example, we use tuples to find the Euclidean distance between two points. Try changing the values of `point1` and `point2` and re-running the cell."
   ]
  },
  {
   "cell_type": "code",
   "execution_count": 4,
   "metadata": {},
   "outputs": [
    {
     "data": {
      "text/plain": [
       "4.0"
      ]
     },
     "execution_count": 4,
     "metadata": {},
     "output_type": "execute_result"
    }
   ],
   "source": [
    "def distance(point1, point2):\n",
    "    x1, x2 = point1[0], point1[0]\n",
    "    y1, y2 = point1[1], point2[1]    \n",
    "    return ((x2 - x1)**2 + (y2 - y1)**2) ** (0.5)\n",
    "\n",
    "point1 = (5, 4)\n",
    "point2 = (10, 8)\n",
    "distance(point1, point2)"
   ]
  },
  {
   "cell_type": "markdown",
   "metadata": {},
   "source": [
    "#### Tuples Without Parentheses\n",
    "You have actually seen tuples before in the previous section, in the line:\n",
    "```python\n",
    "for i, item in enumerate(my_list):\n",
    "```\n",
    "\n",
    "It looks like `enumerate` is somehow returning two items at once, but it is actually returning tuples. There are many situations where we can drop the parentheses from either end of a tuple, e.g.:"
   ]
  },
  {
   "cell_type": "code",
   "execution_count": 7,
   "metadata": {},
   "outputs": [
    {
     "data": {
      "text/plain": [
       "tuple"
      ]
     },
     "execution_count": 7,
     "metadata": {},
     "output_type": "execute_result"
    }
   ],
   "source": [
    "point = 2, 4\n",
    "type(point)"
   ]
  },
  {
   "cell_type": "markdown",
   "metadata": {},
   "source": [
    "This is called *packing*, the two objects are combined to form a tuple. If we want to write a one item tuple we can do so with a trailing comma:"
   ]
  },
  {
   "cell_type": "code",
   "execution_count": 8,
   "metadata": {},
   "outputs": [
    {
     "data": {
      "text/plain": [
       "(1,)"
      ]
     },
     "execution_count": 8,
     "metadata": {},
     "output_type": "execute_result"
    }
   ],
   "source": [
    "1,"
   ]
  },
  {
   "cell_type": "markdown",
   "metadata": {},
   "source": [
    "But there are some situations where we still need to use parentheses. We need them to represent an empty tuple:"
   ]
  },
  {
   "cell_type": "code",
   "execution_count": 9,
   "metadata": {},
   "outputs": [
    {
     "data": {
      "text/plain": [
       "()"
      ]
     },
     "execution_count": 9,
     "metadata": {},
     "output_type": "execute_result"
    }
   ],
   "source": [
    "() "
   ]
  },
  {
   "cell_type": "markdown",
   "metadata": {},
   "source": [
    "And we obviously cannot pass a tuple into a function like this:"
   ]
  },
  {
   "cell_type": "code",
   "execution_count": 10,
   "metadata": {},
   "outputs": [
    {
     "ename": "TypeError",
     "evalue": "type() takes 1 or 3 arguments",
     "output_type": "error",
     "traceback": [
      "\u001b[0;31m---------------------------------------------------------------------------\u001b[0m",
      "\u001b[0;31mTypeError\u001b[0m                                 Traceback (most recent call last)",
      "\u001b[0;32m<ipython-input-10-02bfa40dc3a7>\u001b[0m in \u001b[0;36m<module>\u001b[0;34m\u001b[0m\n\u001b[0;32m----> 1\u001b[0;31m \u001b[0mtype\u001b[0m\u001b[0;34m(\u001b[0m\u001b[0;36m2\u001b[0m\u001b[0;34m,\u001b[0m \u001b[0;36m4\u001b[0m\u001b[0;34m)\u001b[0m\u001b[0;34m\u001b[0m\u001b[0;34m\u001b[0m\u001b[0m\n\u001b[0m",
      "\u001b[0;31mTypeError\u001b[0m: type() takes 1 or 3 arguments"
     ]
    }
   ],
   "source": [
    "type(2, 4)"
   ]
  },
  {
   "cell_type": "markdown",
   "metadata": {},
   "source": [
    "In this case `type(2, 4)` is interpreted as trying to call `type` with two arguments, not a single tuple argument.\n",
    "\n",
    "We can also include two items on the left hand side of an assignment:"
   ]
  },
  {
   "cell_type": "code",
   "execution_count": 11,
   "metadata": {},
   "outputs": [
    {
     "name": "stdout",
     "output_type": "stream",
     "text": [
      "x is 2, y is 4\n"
     ]
    }
   ],
   "source": [
    "point = 2, 4\n",
    "x, y = point\n",
    "print(f\"x is {x}, y is {y}\")"
   ]
  },
  {
   "cell_type": "markdown",
   "metadata": {},
   "source": [
    "And this is what is happening in the line of code above that calls `enumerate`. The tuples that are returned from `enumerate` are *unpacked* into the variable names `i` and `item`.\n",
    "\n",
    "A combination of the two leads to this very neat one line assignment that swaps two variables:"
   ]
  },
  {
   "cell_type": "code",
   "execution_count": 12,
   "metadata": {},
   "outputs": [
    {
     "name": "stdout",
     "output_type": "stream",
     "text": [
      "a is 5, b is 10\n"
     ]
    }
   ],
   "source": [
    "a = 10\n",
    "b = 5\n",
    "\n",
    "a, b = b, a\n",
    "\n",
    "print(f\"a is {a}, b is {b}\")"
   ]
  },
  {
   "cell_type": "markdown",
   "metadata": {},
   "source": [
    "> ***Exercise*** <br />\n",
    "> Go back to the `distance` function above and clean up the readability of the first 4 lines using tuple unpacking\n",
    "\n",
    "### Packing and Unpacking\n",
    "This nice simple syntax for tuples allows Python to achieve some complicated-looking features very elegantly. Some languages have special syntax which allows for *multiple return values* from a function. This is a bit of a controversial topic in some programming circles – one argument being that it can erode the pure mathematical-like nature of a function, which can lead to unintuitive code or errors.\n",
    "\n",
    "Without getting into that whole debate, Python's tuples allow for us to write functions that *look* like they are returning multiple values, and we can even call these functions using the correspondingly simple syntax. Have a look at this example:"
   ]
  },
  {
   "cell_type": "code",
   "execution_count": 13,
   "metadata": {},
   "outputs": [
    {
     "name": "stdout",
     "output_type": "stream",
     "text": [
      "Roots are 1.0 and -2.0\n"
     ]
    }
   ],
   "source": [
    "def quadratic_roots(a, b, c):\n",
    "    \"\"\" Returns the roots of the quadratic ax^2 + bx + c \"\"\"\n",
    "    root_bsq_minus_4ac = ((b ** 2) - (4 * a * c)) ** 0.5\n",
    "    root1 = (-b + root_bsq_minus_4ac) / (2 * a)\n",
    "    root2 = (-b - root_bsq_minus_4ac) / (2 * a)\n",
    "    return root1, root2 \n",
    "\n",
    "root1, root2 = quadratic_roots(1, 1, -2)\n",
    "print(f\"Roots are {root1} and {root2}\")"
   ]
  },
  {
   "cell_type": "markdown",
   "metadata": {},
   "source": [
    "What's actually happening is that the function is *packing* the two values into a single tuple, returning this tuple, which is then *unpacked* into the two values. The purity of the function is maintained: it has three inputs and one output, which just happens to be a tuple containing two elements.\n",
    "\n",
    "Of course you need to be careful of your assumptions around this “nice” syntax. If you assign the return value to a single variable, that variable will be a tuple:"
   ]
  },
  {
   "cell_type": "code",
   "execution_count": 14,
   "metadata": {},
   "outputs": [
    {
     "name": "stdout",
     "output_type": "stream",
     "text": [
      "roots is (1.0, -2.0)\n"
     ]
    }
   ],
   "source": [
    "roots = quadratic_roots(1, 1, -2)\n",
    "print(f\"roots is {roots}\")"
   ]
  },
  {
   "cell_type": "markdown",
   "metadata": {},
   "source": [
    "This is unlike some other languages which support multiple return values. In MATLAB if you ask for a single return value from a function that returns multiple, then it is assigned to the first return value. In Python you get a tuple containing all of the return values – because this is what is really happening.\n",
    "\n",
    "If for some reason you only want the first (or any other) return value, it's common practice in Python to assign the other values to a dummy variable named `_`:"
   ]
  },
  {
   "cell_type": "code",
   "execution_count": 15,
   "metadata": {},
   "outputs": [
    {
     "name": "stdout",
     "output_type": "stream",
     "text": [
      "root1 is 1.0\n"
     ]
    }
   ],
   "source": [
    "root1, _ = quadratic_roots(1, 1, -2)\n",
    "print(f\"root1 is {root1}\")"
   ]
  },
  {
   "cell_type": "markdown",
   "metadata": {},
   "source": [
    "Tuples enable some even more useful function syntax. \n",
    "\n",
    "Have you ever noticed that some functions, like `min`, seem to take *any* number of arguments?"
   ]
  },
  {
   "cell_type": "code",
   "execution_count": 16,
   "metadata": {},
   "outputs": [
    {
     "name": "stdout",
     "output_type": "stream",
     "text": [
      "1\n",
      "-5\n"
     ]
    }
   ],
   "source": [
    "print(min(5, 3, 1))\n",
    "print(min(5, 3, 1, -1, -3, -5))"
   ]
  },
  {
   "cell_type": "markdown",
   "metadata": {},
   "source": [
    "In some languages it's possible to have two functions with the same name that have different numbers of parameters, and in this case the corresponding function is called depending on how many arguments you pass in. \n",
    "\n",
    "In Python, this is not supported. If you define a new function with the same name as an old one, the new one will *replace* the old one. It can lead to very confusing code, so for now I suggest you avoid re-using names (there are some exceptions to this we'll come back to in a later week).\n",
    "\n",
    "We have already seen another powerful syntax that allows the caller to omit arguments when calling a function. Can you remember what it is? Have a think, hidden answer below, select to uncover!\n",
    "\n",
    "Answer: <span style=\"background: black\">Optional parameters/keyword parameters. We actually could write a function which takes 6 parameters, but at least the last three must have optional values. Hopefully you can immediately see that this would be a terrible idea. It would be very inelegant, and still only support up to 6 arguments.</span>\n",
    "\n",
    "What we'd like is to create a function which allows for *variable arguments* – a confusing term, the word *variable* already has a meaning and we often use variables for arguments! But we are looking for a function with a variable *number* of arguments, sometimes also going by the horrible-to-say term *varargs*. \n",
    "\n",
    "Python supports this with an asterisk `*`. *Note:* Got experience with C? No need for nightmares – the asterisk in Python has nothing to do with pointers! It does not seem to have a designated name but it is used for packing and unpacking. People call it *star* or *splat*.\n",
    "\n",
    "After any positional parameters we can place a *varargs* parameter with an asterisk before its name – this will capture any left-over arguments in the function call and place them inside a tuple with this name:"
   ]
  },
  {
   "cell_type": "code",
   "execution_count": 8,
   "metadata": {},
   "outputs": [
    {
     "name": "stdout",
     "output_type": "stream",
     "text": [
      "1\n",
      "-5\n"
     ]
    }
   ],
   "source": [
    "def my_min(*args):\n",
    "    lowest = ghfhg[0]\n",
    "    for i in range(1, len(ghfhg)):\n",
    "        if ghfhg[i] < lowest:\n",
    "            lowest = ghfhg[i]\n",
    "    return lowest\n",
    "\n",
    "print(my_min(5, 3, 1))\n",
    "print(my_min(5, 3, 1, -1, -3, -5))"
   ]
  },
  {
   "cell_type": "markdown",
   "metadata": {},
   "source": [
    "To demonstrate that the parameter really is a tuple, I'm going to add some print statements to the function, to see what the parameter *looks like* from the *perspective* of the function. It's really useful to try to think about *scope* this way – ask “what does the function *see*?”. It will help you structure your code cleanly to be able to switch between perspectives this way. But remember what we talked about in week 2! The print statements are being used to *demonstrate* something for the purposes of education, we normally would never leave a print statement inside a function."
   ]
  },
  {
   "cell_type": "code",
   "execution_count": 18,
   "metadata": {},
   "outputs": [
    {
     "name": "stdout",
     "output_type": "stream",
     "text": [
      "args is (5, 3, 1)\n",
      "type(args) is <class 'tuple'>\n",
      "1\n",
      "\n",
      "args is (5, 3, 1, -1, -3, -5)\n",
      "type(args) is <class 'tuple'>\n",
      "-5\n"
     ]
    }
   ],
   "source": [
    "def my_min(*args):\n",
    "    print(f\"args is {args}\")\n",
    "    print(f\"type(args) is {type(args)}\")\n",
    "    lowest = args[0]\n",
    "    for i in range(1, len(args)):\n",
    "        if args[i] < lowest:\n",
    "            lowest = args[i]\n",
    "    return lowest\n",
    "\n",
    "print(my_min(5, 3, 1))\n",
    "print()\n",
    "print(my_min(5, 3, 1, -1, -3, -5))"
   ]
  },
  {
   "cell_type": "markdown",
   "metadata": {},
   "source": [
    "This asterisk can be used to manually *pack* and *unpack* arguments. When used before a function parameter it *packs* all of the arguments into one tuple.\n",
    "\n",
    "We can also do the reverse. Suppose we have a function with a fixed number of parameters like the function `quadratic_roots` we defined above, but the values we want to pass in are already inside a tuple. The asterisk allows us to unpack the arguments inside the function call:"
   ]
  },
  {
   "cell_type": "code",
   "execution_count": 9,
   "metadata": {},
   "outputs": [
    {
     "ename": "TypeError",
     "evalue": "quadratic_roots() missing 2 required positional arguments: 'b' and 'c'",
     "output_type": "error",
     "traceback": [
      "\u001b[0;31m---------------------------------------------------------------------------\u001b[0m",
      "\u001b[0;31mTypeError\u001b[0m                                 Traceback (most recent call last)",
      "Cell \u001b[0;32mIn[9], line 9\u001b[0m\n\u001b[1;32m      6\u001b[0m     \u001b[38;5;28;01mreturn\u001b[39;00m root1, root2 \n\u001b[1;32m      8\u001b[0m my_args \u001b[38;5;241m=\u001b[39m (\u001b[38;5;241m1\u001b[39m, \u001b[38;5;241m1\u001b[39m, \u001b[38;5;241m-\u001b[39m\u001b[38;5;241m2\u001b[39m)\n\u001b[0;32m----> 9\u001b[0m \u001b[38;5;28mprint\u001b[39m(quadratic_roots(my_args))\n",
      "\u001b[0;31mTypeError\u001b[0m: quadratic_roots() missing 2 required positional arguments: 'b' and 'c'"
     ]
    }
   ],
   "source": [
    "def quadratic_roots(a, b, c):\n",
    "    \"\"\" Returns the roots of the quadratic ax^2 + bx + c \"\"\"\n",
    "    root_bsq_minus_4ac = ((b ** 2) - (4 * a * c)) ** 0.5\n",
    "    root1 = (-b + root_bsq_minus_4ac) / (2 * a)\n",
    "    root2 = (-b - root_bsq_minus_4ac) / (2 * a)\n",
    "    return root1, root2 \n",
    "\n",
    "my_args = (1, 1, -2)\n",
    "print(quadratic_roots(*my_args))"
   ]
  },
  {
   "cell_type": "markdown",
   "metadata": {},
   "source": [
    "It's not just tuples that can be unpacked, but any *iterable* collection, which includes lists too:"
   ]
  },
  {
   "cell_type": "code",
   "execution_count": 10,
   "metadata": {},
   "outputs": [
    {
     "name": "stdout",
     "output_type": "stream",
     "text": [
      "(1.0, -2.0)\n"
     ]
    }
   ],
   "source": [
    "my_args = [1, 1, -2]\n",
    "print(quadratic_roots(*my_args))"
   ]
  },
  {
   "cell_type": "markdown",
   "metadata": {},
   "source": [
    "And this asterisk syntax can be really useful outside of function calls as well when you have multiple objects you want to insert inside another collection. Suppose we want to interleave two collections of objects, if we use normal indexing and slicing we get horrible mix of collections inside collections:"
   ]
  },
  {
   "cell_type": "code",
   "execution_count": 21,
   "metadata": {},
   "outputs": [
    {
     "name": "stdout",
     "output_type": "stream",
     "text": [
      "('red', ['orange', 'yellow'], ('green', 'blue'), ['indigo', 'violet'])\n",
      "There are 4 colours in the rainbow\n"
     ]
    }
   ],
   "source": [
    "rgb = (\"red\", \"green\", \"blue\")\n",
    "oyiv = [\"orange\", \"yellow\", \"indigo\", \"violet\"]\n",
    "\n",
    "rainbow = (rgb[0], oyiv[:2], rgb[1:], oyiv[2:])\n",
    "print(rainbow)\n",
    "print(f\"There are {len(rainbow)} colours in the rainbow\")"
   ]
  },
  {
   "cell_type": "markdown",
   "metadata": {},
   "source": [
    "This is where the asterisk comes in handy to *unpack* the iterables:"
   ]
  },
  {
   "cell_type": "code",
   "execution_count": 22,
   "metadata": {},
   "outputs": [
    {
     "name": "stdout",
     "output_type": "stream",
     "text": [
      "('red', 'orange', 'yellow', 'green', 'blue', 'indigo', 'violet')\n",
      "There are 7 colours in the rainbow\n"
     ]
    }
   ],
   "source": [
    "rainbow = (rgb[0], *oyiv[:2], *rgb[1:], *oyiv[2:])\n",
    "print(rainbow)\n",
    "print(f\"There are {len(rainbow)} colours in the rainbow\")"
   ]
  },
  {
   "cell_type": "markdown",
   "metadata": {},
   "source": [
    "Which actually brings us full circle to our final neat function syntax. What if we have a function that returns multiple values (in a tuple), and we want to capture *some* in their own variables but *others* inside a tuple? This is a really specific request! But some versions of this are possible. When unpacking a tuple we can use an asterisk to capture all of the unspecified values:"
   ]
  },
  {
   "cell_type": "code",
   "execution_count": 23,
   "metadata": {},
   "outputs": [
    {
     "name": "stdout",
     "output_type": "stream",
     "text": [
      "first: 5\n",
      "middle: [6, 7, 8]\n",
      "last: 9\n"
     ]
    }
   ],
   "source": [
    "first, *middle, last = range(5, 10)\n",
    "print(f\"first: {first}\")\n",
    "print(f\"middle: {middle}\")\n",
    "print(f\"last: {last}\")"
   ]
  },
  {
   "cell_type": "markdown",
   "metadata": {},
   "source": [
    "So if a function returns multiple values and you want them divvied up in a particular order, then you might be able to use tuple unpacking to do this for you. Sadly, you can only have one variable capture multiple values, if you try to use two asterisks in an assignment like this you will get an error:"
   ]
  },
  {
   "cell_type": "code",
   "execution_count": 24,
   "metadata": {},
   "outputs": [
    {
     "ename": "SyntaxError",
     "evalue": "two starred expressions in assignment (<ipython-input-24-2ec4eb06368c>, line 2)",
     "output_type": "error",
     "traceback": [
      "\u001b[0;36m  File \u001b[0;32m\"<ipython-input-24-2ec4eb06368c>\"\u001b[0;36m, line \u001b[0;32m2\u001b[0m\n\u001b[0;31m    *first_half, *second_half = range(0, 10)\u001b[0m\n\u001b[0m    ^\u001b[0m\n\u001b[0;31mSyntaxError\u001b[0m\u001b[0;31m:\u001b[0m two starred expressions in assignment\n"
     ]
    }
   ],
   "source": [
    "# note: will produce an error, you'll have to do this manually!\n",
    "*first_half, *second_half = range(0, 10)"
   ]
  },
  {
   "cell_type": "markdown",
   "metadata": {},
   "source": [
    "### Questions\n",
    "Tuples fundamentally use the same *sequence* syntax that lists use. Hopefully we do not need to dwell too much on your comprehension of this syntax, but there is a short interactive quiz below just in case.\n",
    "\n",
    "Deciding whether to use a list or a tuple is more of a *design* question. You will see them come up in later material, including this week's exercise sheet.\n",
    "\n",
    "#### Interactive Quiz"
   ]
  },
  {
   "cell_type": "code",
   "execution_count": null,
   "metadata": {},
   "outputs": [],
   "source": [
    "%run ../scripts/interactive_questions ./questions/3.2.1q.txt"
   ]
  },
  {
   "cell_type": "markdown",
   "metadata": {},
   "source": [
    "## What Next?\n",
    "When you are done with this notebook, go back to Engage and move onto the next section."
   ]
  },
  {
   "cell_type": "code",
   "execution_count": null,
   "metadata": {},
   "outputs": [],
   "source": []
  }
 ],
 "metadata": {
  "kernelspec": {
   "display_name": "Python 3 (ipykernel)",
   "language": "python",
   "name": "python3"
  },
  "language_info": {
   "codemirror_mode": {
    "name": "ipython",
    "version": 3
   },
   "file_extension": ".py",
   "mimetype": "text/x-python",
   "name": "python",
   "nbconvert_exporter": "python",
   "pygments_lexer": "ipython3",
   "version": "3.11.4"
  }
 },
 "nbformat": 4,
 "nbformat_minor": 2
}
