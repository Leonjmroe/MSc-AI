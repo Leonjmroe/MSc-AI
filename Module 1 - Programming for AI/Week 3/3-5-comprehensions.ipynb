{
 "cells": [
  {
   "cell_type": "markdown",
   "metadata": {},
   "source": [
    "## 3.5 Comprehensions\n",
    "Comprehensions are rules that generate collections. We can use them with lists, sets, and dictionaries. Here is a list comprehension:"
   ]
  },
  {
   "cell_type": "code",
   "execution_count": 1,
   "metadata": {},
   "outputs": [
    {
     "data": {
      "text/plain": [
       "[0, 1, 4, 9, 16, 25, 36, 49, 64, 81]"
      ]
     },
     "execution_count": 1,
     "metadata": {},
     "output_type": "execute_result"
    }
   ],
   "source": [
    "squares = [x ** 2 for x in range(0, 10)]\n",
    "squares"
   ]
  },
  {
   "cell_type": "markdown",
   "metadata": {},
   "source": [
    "In one line we've created a list containing the first 10 square numbers. We can filter the results also:"
   ]
  },
  {
   "cell_type": "code",
   "execution_count": 2,
   "metadata": {},
   "outputs": [
    {
     "data": {
      "text/plain": [
       "[0, 4, 16, 36, 64, 100, 144, 196, 256, 324]"
      ]
     },
     "execution_count": 2,
     "metadata": {},
     "output_type": "execute_result"
    }
   ],
   "source": [
    "even_squares = [x ** 2 for x in range(0,20) if x ** 2 % 2 == 0]\n",
    "even_squares"
   ]
  },
  {
   "cell_type": "markdown",
   "metadata": {},
   "source": [
    "The above code in the cell above is semantically equivalent to the code in the cell below. It is essentially a combination of a for loop and an if statement in one line. It is obviously significantly shorter, and once you get used to the syntax, just as easy to read."
   ]
  },
  {
   "cell_type": "code",
   "execution_count": 3,
   "metadata": {},
   "outputs": [
    {
     "data": {
      "text/plain": [
       "[0, 4, 16, 36, 64, 100, 144, 196, 256, 324]"
      ]
     },
     "execution_count": 3,
     "metadata": {},
     "output_type": "execute_result"
    }
   ],
   "source": [
    "even_squares = []\n",
    "for x in range(0, 20):\n",
    "    if x ** 2 % 2 == 0:\n",
    "        even_squares.append(x ** 2)\n",
    "even_squares"
   ]
  },
  {
   "cell_type": "markdown",
   "metadata": {},
   "source": [
    "The `zip` function takes two sequences and produces a sequence of tuples of elements from each one, so:"
   ]
  },
  {
   "cell_type": "code",
   "execution_count": 4,
   "metadata": {},
   "outputs": [
    {
     "data": {
      "text/plain": [
       "[(1, 2), (3, 4), (5, 6)]"
      ]
     },
     "execution_count": 4,
     "metadata": {},
     "output_type": "execute_result"
    }
   ],
   "source": [
    "a = [1, 3, 5]\n",
    "b = [2, 4, 6]\n",
    "list(zip(a, b))"
   ]
  },
  {
   "cell_type": "markdown",
   "metadata": {},
   "source": [
    "And this can be very useful in a list comprehension:"
   ]
  },
  {
   "cell_type": "code",
   "execution_count": 5,
   "metadata": {},
   "outputs": [
    {
     "data": {
      "text/plain": [
       "[2, 12, 30]"
      ]
     },
     "execution_count": 5,
     "metadata": {},
     "output_type": "execute_result"
    }
   ],
   "source": [
    "a = [1, 3, 5]\n",
    "b = [2, 4, 6]\n",
    "[x * y for x, y in zip(a, b)]"
   ]
  },
  {
   "cell_type": "markdown",
   "metadata": {},
   "source": [
    "The example using `zip` above creates a list with corresponding elements multiplied together. We can use a nested for loop within a list comprehension to create a list containing the product of *every possible* pair of elements from two sequences like this, though it may not be immediately obvious what is going on here:"
   ]
  },
  {
   "cell_type": "code",
   "execution_count": 6,
   "metadata": {},
   "outputs": [
    {
     "data": {
      "text/plain": [
       "[2, 4, 6, 6, 12, 18, 10, 20, 30]"
      ]
     },
     "execution_count": 6,
     "metadata": {},
     "output_type": "execute_result"
    }
   ],
   "source": [
    "a = [1, 3, 5]\n",
    "b = [2, 4, 6]\n",
    "[x * y for x in a for y in b]"
   ]
  },
  {
   "cell_type": "markdown",
   "metadata": {},
   "source": [
    "The previous result will be easier to understand if we create a list of tuples showing the two individual elements before they were multiplied. We must include the parentheses if we wish to create a tuple inside a list comprehension:"
   ]
  },
  {
   "cell_type": "code",
   "execution_count": 7,
   "metadata": {},
   "outputs": [
    {
     "data": {
      "text/plain": [
       "[(1, 2), (1, 4), (1, 6), (3, 2), (3, 4), (3, 6), (5, 2), (5, 4), (5, 6)]"
      ]
     },
     "execution_count": 7,
     "metadata": {},
     "output_type": "execute_result"
    }
   ],
   "source": [
    "a = [1, 3, 5]\n",
    "b = [2, 4, 6]\n",
    "[(x, y) for x in a for y in b]"
   ]
  },
  {
   "cell_type": "markdown",
   "metadata": {},
   "source": [
    "The comprehension above has nested for loops but creates a 1D list as a result. Try writing it out with nested for loops, based on the example in the 3rd cell from the top. Inside the nested for loops the 'expanded' version simply appends the result each time, so you only get a 1D list.\n",
    "\n",
    "But it is possible to use list comprehensions to create 2D lists, we can write comprehensions inside comprehensions. Have a look at the code below, what is it doing?"
   ]
  },
  {
   "cell_type": "code",
   "execution_count": 8,
   "metadata": {},
   "outputs": [
    {
     "data": {
      "text/plain": [
       "[[0, 1, 1], [1, 0, 1], [1, 1, 0]]"
      ]
     },
     "execution_count": 8,
     "metadata": {},
     "output_type": "execute_result"
    }
   ],
   "source": [
    "twod_list = [[1, 0, 0], [0, 1, 0], [0, 0, 1]]\n",
    "[[1 - x for x in row] for row in twod_list]"
   ]
  },
  {
   "cell_type": "markdown",
   "metadata": {},
   "source": [
    "#### ⚠️ Creating 2D Lists ⚠️\n",
    "This 2D comprehension syntax is how we create a blank 2D list of a given size without running into the problem we did in a previous section where we had multiple copies of the same list.\n",
    "\n",
    "As we've mentioned, sometimes we do not actually need the variable that we get as part of some syntax. In these cases we use an underscore `_` as a stand-in for a generic variable that we will not use."
   ]
  },
  {
   "cell_type": "code",
   "execution_count": 9,
   "metadata": {
    "scrolled": true
   },
   "outputs": [
    {
     "data": {
      "text/plain": [
       "[['♜', '', '', '', '', '', '', ''],\n",
       " ['', '', '', '', '', '', '', ''],\n",
       " ['', '', '', '', '', '', '', ''],\n",
       " ['', '', '', '', '', '', '', ''],\n",
       " ['', '', '', '', '', '', '', ''],\n",
       " ['', '', '', '', '', '', '', ''],\n",
       " ['', '', '', '', '', '', '', ''],\n",
       " ['', '', '', '', '', '', '', '']]"
      ]
     },
     "execution_count": 9,
     "metadata": {},
     "output_type": "execute_result"
    }
   ],
   "source": [
    "my_board = [[\"\" for _ in range(8)] for _ in range(8)]\n",
    "my_board[0][0] = \"♜\"\n",
    "my_board"
   ]
  },
  {
   "cell_type": "markdown",
   "metadata": {},
   "source": [
    "#### Dictionary Comprehensions\n",
    "We can create comprehensions for sets and dictionaries as well. Sets look exactly like the list comprehension syntax but with curly brackets. For dictionaries, use the colon syntax, as when building a dictionary from scratch. Here's a dictionary comprehension that flips the keys and values of another dictionary:"
   ]
  },
  {
   "cell_type": "code",
   "execution_count": 10,
   "metadata": {},
   "outputs": [
    {
     "data": {
      "text/plain": [
       "{5000: 'ray', 3000: 'ali', 2000: 'sam'}"
      ]
     },
     "execution_count": 10,
     "metadata": {},
     "output_type": "execute_result"
    }
   ],
   "source": [
    "player_to_scores = {\"ray\": 5000, \"ali\": 3000, \"sam\": 2000}\n",
    "scores_to_player = { score: player for player, score in player_to_scores.items() }\n",
    "scores_to_player"
   ]
  },
  {
   "cell_type": "markdown",
   "metadata": {},
   "source": [
    "*There is no such thing as a tuple comprehension.* Comprehensions build objects one item at a time, and tuples cannot be modified once they are created. The syntax that looks like a tuple comprehension is actually a *generator expression*. "
   ]
  },
  {
   "cell_type": "code",
   "execution_count": 11,
   "metadata": {},
   "outputs": [
    {
     "data": {
      "text/plain": [
       "<generator object <genexpr> at 0x7f9910446350>"
      ]
     },
     "execution_count": 11,
     "metadata": {},
     "output_type": "execute_result"
    }
   ],
   "source": [
    "(x ** 2 for x in range(10))"
   ]
  },
  {
   "cell_type": "markdown",
   "metadata": {},
   "source": [
    "Generators are objects that produce other objects one at a time, without constructing the full list in memory at once. In older versions of Python, `range(10)` actually produced a list of 10 items. Now it just produces a “range object”, which is a lot like a generator. It's an object that “remembers” the necessary data – e.g. I will create the values from 0 to 9, the next element is 5 – but does not actually generate them until asked."
   ]
  },
  {
   "cell_type": "code",
   "execution_count": 12,
   "metadata": {},
   "outputs": [
    {
     "data": {
      "text/plain": [
       "range(0, 10)"
      ]
     },
     "execution_count": 12,
     "metadata": {},
     "output_type": "execute_result"
    }
   ],
   "source": [
    "range(10)"
   ]
  },
  {
   "cell_type": "code",
   "execution_count": 13,
   "metadata": {},
   "outputs": [
    {
     "data": {
      "text/plain": [
       "range"
      ]
     },
     "execution_count": 13,
     "metadata": {},
     "output_type": "execute_result"
    }
   ],
   "source": [
    "type(range(10))"
   ]
  },
  {
   "cell_type": "markdown",
   "metadata": {},
   "source": [
    "This means we can create range objects that, if fully expanded into a list, would not fit into a reasonable amount of memory.\n",
    "\n",
    "Let's show an exmaple. A googol is 1 followed by 100 zeroes, or `10 ** 100`. This is a, frankly, outrageously big number. Could we create a list containing a googol integers?\n",
    "\n",
    "One popular online backup company who advertises on all of my podcasts has about 100,000 spinning hard drives, and their biggest hard drives are 14TB big. The population of the Earth is just under 8 billion. \n",
    "\n",
    "Suppose we gave every single person on Earth 100,000 14TB hard drives. The number of bytes on all of these hard drives combined would still be under `10 ** 30`, and each integer in Python is over a single byte big. So even all of these hard drives combined are not even *close* to being able to store a list containing a googol integers in Python.\n",
    "\n",
    "In other words, don't try this on an old version of Python:"
   ]
  },
  {
   "cell_type": "code",
   "execution_count": 14,
   "metadata": {},
   "outputs": [
    {
     "data": {
      "text/plain": [
       "range(0, 10000000000000000000000000000000000000000000000000000000000000000000000000000000000000000000000000000)"
      ]
     },
     "execution_count": 14,
     "metadata": {},
     "output_type": "execute_result"
    }
   ],
   "source": [
    "range(10 ** 100)"
   ]
  },
  {
   "cell_type": "markdown",
   "metadata": {},
   "source": [
    "But back in the realm of normality, let's say you do actually *want* a full list or tuple, not a range object (for a more reasonable range). You can put the range object into the `list` or `tuple` function to expand it fully:"
   ]
  },
  {
   "cell_type": "code",
   "execution_count": 15,
   "metadata": {},
   "outputs": [
    {
     "data": {
      "text/plain": [
       "(0, 1, 2, 3, 4, 5, 6, 7, 8, 9)"
      ]
     },
     "execution_count": 15,
     "metadata": {},
     "output_type": "execute_result"
    }
   ],
   "source": [
    "tuple(range(10))"
   ]
  },
  {
   "cell_type": "markdown",
   "metadata": {},
   "source": [
    "And you can do the same thing with a generator. So here is the closest equivalent of a “tuple comprehension”:"
   ]
  },
  {
   "cell_type": "code",
   "execution_count": 16,
   "metadata": {},
   "outputs": [
    {
     "data": {
      "text/plain": [
       "(0, 1, 4, 9, 16, 25, 36, 49, 64, 81)"
      ]
     },
     "execution_count": 16,
     "metadata": {},
     "output_type": "execute_result"
    }
   ],
   "source": [
    "tuple(x ** 2 for x in range(10))"
   ]
  },
  {
   "cell_type": "markdown",
   "metadata": {},
   "source": [
    "Generators are useful to save memory when we don't need to construct the full list. For example, if you just want to find the *maximum* object of an expression that you can write as a list comprehension, you don't need to construct the whole list, you can just feed the generator straight into the `max` function. Here we find the maximum even square number up to 99 squared (mathematicians will find the answer obvious before seeing it, but just for demonstration):"
   ]
  },
  {
   "cell_type": "code",
   "execution_count": 17,
   "metadata": {},
   "outputs": [
    {
     "data": {
      "text/plain": [
       "9604"
      ]
     },
     "execution_count": 17,
     "metadata": {},
     "output_type": "execute_result"
    }
   ],
   "source": [
    "max(x ** 2 for x in range(100) if x ** 2 % 2 == 0)"
   ]
  },
  {
   "cell_type": "markdown",
   "metadata": {},
   "source": [
    "#### The Beauty of Comprehensions?\n",
    "Comprehensions are powerful, and it can be fun to see how much you can do on one line! But always remember that the goal is readable code.\n",
    "\n",
    "Here's a reminder of the `winning_score` function from last section which extracted the winner from a high score dictionary written in a specific format:"
   ]
  },
  {
   "cell_type": "code",
   "execution_count": 1,
   "metadata": {},
   "outputs": [
    {
     "name": "stdout",
     "output_type": "stream",
     "text": [
      "The top player today was **ali** with a score of **7000**!\n"
     ]
    }
   ],
   "source": [
    "def winning_score(scores):\n",
    "    top_player = \"\"\n",
    "    top_score = -1\n",
    "    for key in scores:\n",
    "        player_scores = scores[key]\n",
    "        max_score = max(player_scores)\n",
    "        if max_score > top_score:\n",
    "            top_player = key\n",
    "            top_score = max_score\n",
    "    return top_player, top_score\n",
    "\n",
    "recent_scores = {\"ray\": [5000], \"ali\": [3000, 7000], \"sam\": [2000, 1000]}\n",
    "player, score = winning_score(recent_scores)\n",
    "print(f\"The top player today was **{player}** with a score of **{score}**!\")"
   ]
  },
  {
   "cell_type": "markdown",
   "metadata": {},
   "source": [
    "It's actually possible to do this all on one line using a comprehension, or as shown below, a generator expression:"
   ]
  },
  {
   "cell_type": "code",
   "execution_count": 19,
   "metadata": {},
   "outputs": [
    {
     "name": "stdout",
     "output_type": "stream",
     "text": [
      "The top player today was **ali** with a score of **7000**!\n"
     ]
    }
   ],
   "source": [
    "score, player = max(((max(v), k) for k, v in recent_scores.items()))\n",
    "\n",
    "print(f\"The top player today was **{player}** with a score of **{score}**!\")"
   ]
  },
  {
   "cell_type": "markdown",
   "metadata": {},
   "source": [
    "But should you? This code isn't necessarily the most readable! Still, you might need to understand complicated code like this one day, so give it a careful read and make sure you understand what is going on."
   ]
  },
  {
   "cell_type": "markdown",
   "metadata": {},
   "source": [
    "## What Next?\n",
    "Ultimately, comprehensions are *essentially* equivalent to the expanded for loop – there are some really specific technical reasons why you might prefer a comprehension, but they almost certainly won't help you solve a problem you couldn't solve with a loop. But learning to write comprehensions is one of those features that makes Python feel powerful and fun to write. If you find yourself creating lists or dictionaries within loops, then it is worth considering whether a comprehension could do the same thing on one line.\n",
    "\n",
    "When you are done with this notebook, go back to Engage for the end of week wrap up."
   ]
  }
 ],
 "metadata": {
  "kernelspec": {
   "display_name": "Python 3 (ipykernel)",
   "language": "python",
   "name": "python3"
  },
  "language_info": {
   "codemirror_mode": {
    "name": "ipython",
    "version": 3
   },
   "file_extension": ".py",
   "mimetype": "text/x-python",
   "name": "python",
   "nbconvert_exporter": "python",
   "pygments_lexer": "ipython3",
   "version": "3.11.4"
  }
 },
 "nbformat": 4,
 "nbformat_minor": 2
}
