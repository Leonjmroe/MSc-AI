{
 "cells": [
  {
   "cell_type": "markdown",
   "metadata": {},
   "source": [
    "## 3.3 2D Structures\n",
    "### 2D Data Structures\n",
    "Lists and tuples can contain any data type, including more lists and tuples! We already saw examples of lists containing lists in the previous section. Here's another:"
   ]
  },
  {
   "cell_type": "code",
   "execution_count": 1,
   "metadata": {},
   "outputs": [
    {
     "data": {
      "text/plain": [
       "[[1, 0, 0], [0, 1, 0], [0, 0, 1]]"
      ]
     },
     "execution_count": 1,
     "metadata": {},
     "output_type": "execute_result"
    }
   ],
   "source": [
    "list_of_lists = [[1, 0, 0], [0, 1, 0], [0, 0, 1]]\n",
    "list_of_lists"
   ]
  },
  {
   "cell_type": "markdown",
   "metadata": {},
   "source": [
    "This is a list of length 3"
   ]
  },
  {
   "cell_type": "code",
   "execution_count": 2,
   "metadata": {},
   "outputs": [
    {
     "data": {
      "text/plain": [
       "3"
      ]
     },
     "execution_count": 2,
     "metadata": {},
     "output_type": "execute_result"
    }
   ],
   "source": [
    "list_of_lists = [[1, 0, 0], [0, 1, 0], [0, 0, 1]]\n",
    "len(list_of_lists)"
   ]
  },
  {
   "cell_type": "markdown",
   "metadata": {},
   "source": [
    "We can access the first element in the normal way"
   ]
  },
  {
   "cell_type": "code",
   "execution_count": 3,
   "metadata": {},
   "outputs": [
    {
     "data": {
      "text/plain": [
       "[1, 0, 0]"
      ]
     },
     "execution_count": 3,
     "metadata": {},
     "output_type": "execute_result"
    }
   ],
   "source": [
    "list_of_lists = [[1, 0, 0], [0, 1, 0], [0, 0, 1]]\n",
    "list_of_lists[0]"
   ]
  },
  {
   "cell_type": "markdown",
   "metadata": {},
   "source": [
    "It is another list of length 3"
   ]
  },
  {
   "cell_type": "code",
   "execution_count": 4,
   "metadata": {},
   "outputs": [
    {
     "data": {
      "text/plain": [
       "3"
      ]
     },
     "execution_count": 4,
     "metadata": {},
     "output_type": "execute_result"
    }
   ],
   "source": [
    "list_of_lists = [[1, 0, 0], [0, 1, 0], [0, 0, 1]]\n",
    "len(list_of_lists[0])"
   ]
  },
  {
   "cell_type": "markdown",
   "metadata": {},
   "source": [
    "We can access the elements of this *sublist* using this notation:"
   ]
  },
  {
   "cell_type": "code",
   "execution_count": 5,
   "metadata": {},
   "outputs": [
    {
     "data": {
      "text/plain": [
       "1"
      ]
     },
     "execution_count": 5,
     "metadata": {},
     "output_type": "execute_result"
    }
   ],
   "source": [
    "list_of_lists = [[1, 0, 0], [0, 1, 0], [0, 0, 1]]\n",
    "list_of_lists[0][0]"
   ]
  },
  {
   "cell_type": "markdown",
   "metadata": {},
   "source": [
    "So, this says\n",
    "```python\n",
    "list_of_lists[0]\n",
    "              ↳ # take the first element of list_of_lists (which is a list)\n",
    "list_of_lists[0][0]\n",
    "                 ↳ # take the first element of the list returned by the previous part of the expression\n",
    "```\n",
    "\n",
    "We can use this notation to change values too. Let's change the middle `1` into a `5`:"
   ]
  },
  {
   "cell_type": "code",
   "execution_count": 6,
   "metadata": {},
   "outputs": [
    {
     "data": {
      "text/plain": [
       "[[1, 0, 0], [0, 5, 0], [0, 0, 1]]"
      ]
     },
     "execution_count": 6,
     "metadata": {},
     "output_type": "execute_result"
    }
   ],
   "source": [
    "list_of_lists = [[1, 0, 0], [0, 1, 0], [0, 0, 1]]\n",
    "list_of_lists[1][1] = 5\n",
    "list_of_lists"
   ]
  },
  {
   "cell_type": "markdown",
   "metadata": {},
   "source": [
    "This is an example of a **2D list**. You can think of it as a table, or mathematical matrix. The original list was a representation of an identity matrix, which we would normally write like this:\n",
    "\n",
    "$$ \\left( \\begin{matrix} 1 & 0 & 0 \\\\ 0 & 1 & 0 \\\\ 0 & 0 & 1 \\end{matrix} \\right)  $$\n",
    "\n",
    "But this is is not very clear from the way it is printed in Python, so let's write a function to print it more clearly. \n",
    "\n",
    "This function uses a *nested* for loop – a for loop inside a for loop. This is very common when we are dealing with 2D lists, because we want one for loop to go through the rows and one for loop to go through each element (column) in that row.\n",
    "\n",
    "The code below also uses a *named keyword argument* in the print statement – normally a print statement will start a new line, but by using `end=\" \"` we are telling it to end the print statement with a space rather than a line break. \n",
    "\n",
    "Also, again remember that we normally avoid print statements inside functions. But this *procedure* has `print` in the name, it's clearly a helper function being used to print a specific kind of input, so this still makes sense. There is no other information that should have been *returned* instead."
   ]
  },
  {
   "cell_type": "code",
   "execution_count": 7,
   "metadata": {},
   "outputs": [
    {
     "name": "stdout",
     "output_type": "stream",
     "text": [
      "1 0 0 \n",
      "0 1 0 \n",
      "0 0 1 \n"
     ]
    }
   ],
   "source": [
    "def print_matrix(matrix):\n",
    "    # for each row\n",
    "    for i in range(0, len(matrix)):\n",
    "        # for each column\n",
    "        for j in range(0, len(matrix[i])):\n",
    "            print(matrix[i][j], end=\" \")\n",
    "        print()\n",
    "        \n",
    "list_of_lists = [[1, 0, 0], [0, 1, 0], [0, 0, 1]]\n",
    "print_matrix(list_of_lists)"
   ]
  },
  {
   "cell_type": "markdown",
   "metadata": {},
   "source": [
    "Try changing the values in `list_of_lists` to see how the output changes. Can you write a 2D list that is rectangular instead of square?\n",
    "\n",
    "Notice that a list of lists *could* have different sized lists on each “row”:"
   ]
  },
  {
   "cell_type": "code",
   "execution_count": 8,
   "metadata": {},
   "outputs": [
    {
     "name": "stdout",
     "output_type": "stream",
     "text": [
      "1 0 0 \n",
      "0 1 0 0 \n",
      "0 0 1 \n"
     ]
    }
   ],
   "source": [
    "list_of_lists = [[1, 0, 0], [0, 1, 0, 0], [0, 0, 1]]\n",
    "print_matrix(list_of_lists)"
   ]
  },
  {
   "cell_type": "markdown",
   "metadata": {},
   "source": [
    "But this is a recipe for headaches later! It is certainly a list of lists, but it is *not* a valid *matrix* in the mathematical sense. Some people might refrain from using the “2D list” label as well. In general, you'd be better to avoid doing this unless you have a very good reason.\n",
    "\n",
    "2D lists (or 2D tuples) are used quite often. They can represent tables of information, boards in games, images, matricies, and so on.\n",
    "\n",
    "#### ND Lists\n",
    "We can of course have lists within lists within lists, thereby creating multidimensional lists of any dimension! It is quite unusual to see anything 4D or above but there's nothing stopping you:"
   ]
  },
  {
   "cell_type": "code",
   "execution_count": 9,
   "metadata": {},
   "outputs": [
    {
     "data": {
      "text/plain": [
       "5"
      ]
     },
     "execution_count": 9,
     "metadata": {},
     "output_type": "execute_result"
    }
   ],
   "source": [
    "# 4D list\n",
    "woah = [[[[0, 1], [2, 3]], [[4, 5], [6, 7]]], [[[8, 9], [10, 11]], [[12, 13], [14, 15]]]]\n",
    "woah[0][1][0][1]"
   ]
  },
  {
   "cell_type": "markdown",
   "metadata": {},
   "source": [
    "####  ⚠️ Warning: Creating 2D Lists ⚠️\n",
    "If you need a list of a certain size then it's sensible to allocate this first and then fill out the elements, rather than growing as you add the elements. This has a few benefits: for one, it's slightly more memory efficient, but it also prevents mistakes. If you allocate space for 8 elements, then accidentally try to allocate something into the 9th space using `[x]` syntax (rather than `.append`) you will get an error."
   ]
  },
  {
   "cell_type": "code",
   "execution_count": 10,
   "metadata": {},
   "outputs": [
    {
     "data": {
      "text/plain": [
       "['♜', '♞', '♝', '♛', '♚', '♝', '♞', '♜']"
      ]
     },
     "execution_count": 10,
     "metadata": {},
     "output_type": "execute_result"
    }
   ],
   "source": [
    "chess = [\"\"] * 8\n",
    "# Python supports unicode strings!\n",
    "chess[0] = \"♜\"\n",
    "chess[1] = \"♞\"\n",
    "chess[2] = \"♝\"\n",
    "chess[3] = \"♛\"\n",
    "chess[4] = \"♚\"\n",
    "chess[5] = \"♝\"\n",
    "chess[6] = \"♞\"\n",
    "chess[7] = \"♜\"\n",
    "\n",
    "# Note: there are more efficient ways of doing this, we could split a single string into a list.\n",
    "# But consider this a simple demonstration. Rather than hardcoded strings we might be loading in\n",
    "# text from a file, for example.\n",
    "\n",
    "chess"
   ]
  },
  {
   "cell_type": "code",
   "execution_count": 11,
   "metadata": {},
   "outputs": [
    {
     "ename": "IndexError",
     "evalue": "list assignment index out of range",
     "output_type": "error",
     "traceback": [
      "\u001b[0;31m---------------------------------------------------------------------------\u001b[0m",
      "\u001b[0;31mIndexError\u001b[0m                                Traceback (most recent call last)",
      "\u001b[0;32m<ipython-input-11-8a3da243bfd1>\u001b[0m in \u001b[0;36m<module>\u001b[0;34m\u001b[0m\n\u001b[1;32m      2\u001b[0m \u001b[0;31m# we get an error which we wouldn't get with .append\u001b[0m\u001b[0;34m\u001b[0m\u001b[0;34m\u001b[0m\u001b[0;34m\u001b[0m\u001b[0m\n\u001b[1;32m      3\u001b[0m \u001b[0;34m\u001b[0m\u001b[0m\n\u001b[0;32m----> 4\u001b[0;31m \u001b[0mchess\u001b[0m\u001b[0;34m[\u001b[0m\u001b[0;36m9\u001b[0m\u001b[0;34m]\u001b[0m \u001b[0;34m=\u001b[0m \u001b[0;34m\"♟\"\u001b[0m\u001b[0;34m\u001b[0m\u001b[0;34m\u001b[0m\u001b[0m\n\u001b[0m",
      "\u001b[0;31mIndexError\u001b[0m: list assignment index out of range"
     ]
    }
   ],
   "source": [
    "# if we accidentally try to add a pawn to the same row in the next position,\n",
    "# we get an error which we wouldn't get with .append\n",
    "\n",
    "chess[9] = \"♟\""
   ]
  },
  {
   "cell_type": "markdown",
   "metadata": {},
   "source": [
    "It's quite common to want to do this with a 2D list of a specific size as well. But here you have to be careful.\n",
    "\n",
    "Suppose we start with the following empty board, the same syntax seems to work, create a list containing eight spaces then create a list containing eight lists of eight spaces:"
   ]
  },
  {
   "cell_type": "code",
   "execution_count": 12,
   "metadata": {},
   "outputs": [
    {
     "data": {
      "text/plain": [
       "[['', '', '', '', '', '', '', ''],\n",
       " ['', '', '', '', '', '', '', ''],\n",
       " ['', '', '', '', '', '', '', ''],\n",
       " ['', '', '', '', '', '', '', ''],\n",
       " ['', '', '', '', '', '', '', ''],\n",
       " ['', '', '', '', '', '', '', ''],\n",
       " ['', '', '', '', '', '', '', ''],\n",
       " ['', '', '', '', '', '', '', '']]"
      ]
     },
     "execution_count": 12,
     "metadata": {},
     "output_type": "execute_result"
    }
   ],
   "source": [
    "my_board = [[\"\"] * 8] * 8\n",
    "my_board"
   ]
  },
  {
   "cell_type": "markdown",
   "metadata": {},
   "source": [
    "But we run into a problem when we try to change the contents:"
   ]
  },
  {
   "cell_type": "code",
   "execution_count": 13,
   "metadata": {},
   "outputs": [
    {
     "data": {
      "text/plain": [
       "[['♜', '', '', '', '', '', '', ''],\n",
       " ['♜', '', '', '', '', '', '', ''],\n",
       " ['♜', '', '', '', '', '', '', ''],\n",
       " ['♜', '', '', '', '', '', '', ''],\n",
       " ['♜', '', '', '', '', '', '', ''],\n",
       " ['♜', '', '', '', '', '', '', ''],\n",
       " ['♜', '', '', '', '', '', '', ''],\n",
       " ['♜', '', '', '', '', '', '', '']]"
      ]
     },
     "execution_count": 13,
     "metadata": {},
     "output_type": "execute_result"
    }
   ],
   "source": [
    "my_board = [[\"\"] * 8] * 8\n",
    "my_board[0][0] = \"♜\"\n",
    "my_board"
   ]
  },
  {
   "cell_type": "markdown",
   "metadata": {},
   "source": [
    "Modifying the first row modifies the same element in every row! The problem is we have created a list containing eight copies of the *exact same list*. This was a similar issue we faced in the previous section where two variable names referred to the same list data. \n",
    "\n",
    "The solution is to create the inner lists within a loop – you could do this manually, but we won't show you that now, because there is a really nice one line version using a syntax you'll see in section 4.5 called *list comprehensions*, so hold on pre-allocating your 2D lists until then!\n",
    "\n",
    "### Questions\n",
    "#### No Interactive Quiz\n",
    "Questions about 2D arrays in our quiz format would be hard to read! So try the exercises below instead, and always remember that if you get stuck you can create a new cell to explore the concepts and syntax further yourself.\n",
    "\n",
    "#### Question 1: Rowwise Maximum\n",
    "Write a function which returns a list containing the maximum element in each row of an input 2D list.\n",
    "\n",
    "By convention we assume that 2D structures are stored and indexed *row by column*. So this 2D list:\n",
    "```python\n",
    "my_list = [[1, 2, 3], [4, 5, 6]]\n",
    "```\n",
    "would be printed as\n",
    "```\n",
    "1 2 3\n",
    "4 5 6\n",
    "```\n",
    "i.e. it has two rows and three columns.\n",
    "\n",
    "`my_list[0][1]` gets the element with position first row (row `0`) and second column (column `1`). This returns `2`.\n",
    "\n",
    "`my_list[0]` is the entire first row of `my_list`. This returns `[1, 2, 3]`."
   ]
  },
  {
   "cell_type": "code",
   "execution_count": 15,
   "metadata": {},
   "outputs": [
    {
     "name": "stdout",
     "output_type": "stream",
     "text": [
      "Example tests for function max_rowwise\n",
      "\n",
      "Test 1/5: max_rowwise([[1]]) -> [1]\n",
      "Test 2/5: max_rowwise([[1, 2], [3, 4], [5, 6]]) -> [2, 4, 6]\n",
      "Test 3/5: max_rowwise([[1, 0, 0], [0, 1, 0], [0, 0, 1]]) -> [1, 1, 1]\n",
      "Test 4/5: max_rowwise([[-1, -10], [-30, -2]]) -> [-1, -2]\n",
      "Test 5/5: max_rowwise([[6, 6], [0, 4]]) -> [6, 4]\n"
     ]
    }
   ],
   "source": [
    "%run ../scripts/show_examples.py ./questions/3.2/max_rowwise"
   ]
  },
  {
   "cell_type": "code",
   "execution_count": null,
   "metadata": {},
   "outputs": [],
   "source": [
    "def max_rowwise(towd_list):\n",
    "    pass\n",
    "\n",
    "%run -i ../scripts/function_tester.py ./questions/3.2/max_rowwise"
   ]
  },
  {
   "cell_type": "markdown",
   "metadata": {},
   "source": [
    "#### Question 2: Columnwise Minimum\n",
    "Now do the opposite! Given an input 2D array, I want to know the *minimum* value in each *column*. The input will always be rectangular: every row will have the same number of elements.\n",
    "\n",
    "This one is harder! Get creative. Search online if you run into odd problems."
   ]
  },
  {
   "cell_type": "code",
   "execution_count": 16,
   "metadata": {},
   "outputs": [
    {
     "name": "stdout",
     "output_type": "stream",
     "text": [
      "Example tests for function min_colwise\n",
      "\n",
      "Test 1/5: min_colwise([[1]]) -> [1]\n",
      "Test 2/5: min_colwise([[1, 2], [3, 4], [5, 6]]) -> [1, 2]\n",
      "Test 3/5: min_colwise([[1, 0, 0], [0, 1, 0], [0, 0, 1]]) -> [0, 0, 0]\n",
      "Test 4/5: min_colwise([[-1, -10], [-30, -2]]) -> [-30, -10]\n",
      "Test 5/5: min_colwise([[7, 0], [6, 4]]) -> [6, 0]\n"
     ]
    }
   ],
   "source": [
    "%run ../scripts/show_examples.py ./questions/3.2/min_colwise"
   ]
  },
  {
   "cell_type": "code",
   "execution_count": null,
   "metadata": {},
   "outputs": [],
   "source": [
    "def min_colwise(twod_list):\n",
    "    pass\n",
    "\n",
    "%run -i ../scripts/function_tester.py ./questions/3.2/min_colwise"
   ]
  },
  {
   "cell_type": "markdown",
   "metadata": {},
   "source": [
    "## What Next?\n",
    "When you are done with this notebook, go back to Engage and move onto the next section."
   ]
  }
 ],
 "metadata": {
  "kernelspec": {
   "display_name": "Python 3 (ipykernel)",
   "language": "python",
   "name": "python3"
  },
  "language_info": {
   "codemirror_mode": {
    "name": "ipython",
    "version": 3
   },
   "file_extension": ".py",
   "mimetype": "text/x-python",
   "name": "python",
   "nbconvert_exporter": "python",
   "pygments_lexer": "ipython3",
   "version": "3.11.4"
  }
 },
 "nbformat": 4,
 "nbformat_minor": 2
}
