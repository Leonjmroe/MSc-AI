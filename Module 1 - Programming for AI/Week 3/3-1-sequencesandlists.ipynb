{
 "cells": [
  {
   "cell_type": "markdown",
   "metadata": {},
   "source": [
    "# Week 3 – Data Structures\n",
    "## 3.1 Sequences and Lists\n",
    "### Data From Data\n",
    "On Engage we mentioned that in many programming languages (such as Java), a string is made up of multiple characters. Character is the primitive type, and string is a composite. Don't worry about the exact syntax right now, but you can even see this in the names of the types when we write Java code – which, requires us to declare the type of each variable:\n",
    "\n",
    "```java\n",
    "char my_character = 's'\n",
    "String my_string = \"string\"\n",
    "```\n",
    "\n",
    "The type `char` is written with a lower case first letter, but the type `String` is written with an upper case one.\n",
    "\n",
    "Enough about Java. In Python, strings *can* be broken down into characters, but each character is just a single letter string. The *object* you get as a result of *indexing* the string is itself another string:"
   ]
  },
  {
   "cell_type": "code",
   "execution_count": 1,
   "metadata": {},
   "outputs": [
    {
     "data": {
      "text/plain": [
       "True"
      ]
     },
     "execution_count": 1,
     "metadata": {},
     "output_type": "execute_result"
    }
   ],
   "source": [
    "text = \"hello\"\n",
    "character = text[0]\n",
    "type(text) == type(character)"
   ]
  },
  {
   "cell_type": "markdown",
   "metadata": {},
   "source": [
    "Strings in Python are an example of a *sequence* data type. Sequences are *collections* – objects which “hold” more than one object. Sequences must also support certain operations, like indexing, **slicing** (e.g. `text[3:5]`), and so on.\n",
    "\n",
    "But what if we don't just want to store characters? It's finally introduce a Python feature which may feel long overdue: the list.\n",
    "\n",
    "### Lists\n",
    "A **list** is an ordered collection of arbitrary objects. *Ordered* means that the items in the list are in some specific *order* (it does not mean *sorted*!). In other words, the *first* item of a list is always the same item and it is *before* the *second* item in the list. This means we can also index the list, and hence it is a *sequence* type data structure. \n",
    "\n",
    "Lists are written with square brackets. We can write a list containing the numbers from `1` to `5` like this:"
   ]
  },
  {
   "cell_type": "code",
   "execution_count": 2,
   "metadata": {},
   "outputs": [
    {
     "data": {
      "text/plain": [
       "[1, 2, 3, 4, 5]"
      ]
     },
     "execution_count": 2,
     "metadata": {},
     "output_type": "execute_result"
    }
   ],
   "source": [
    "[1, 2, 3, 4, 5]"
   ]
  },
  {
   "cell_type": "markdown",
   "metadata": {},
   "source": [
    "Or a list containing just the number `31`:"
   ]
  },
  {
   "cell_type": "code",
   "execution_count": 3,
   "metadata": {},
   "outputs": [
    {
     "data": {
      "text/plain": [
       "[31]"
      ]
     },
     "execution_count": 3,
     "metadata": {},
     "output_type": "execute_result"
    }
   ],
   "source": [
    "[31]"
   ]
  },
  {
   "cell_type": "markdown",
   "metadata": {},
   "source": [
    "Or a list containing the string `\"Python\"`:"
   ]
  },
  {
   "cell_type": "code",
   "execution_count": 4,
   "metadata": {},
   "outputs": [
    {
     "data": {
      "text/plain": [
       "['Python']"
      ]
     },
     "execution_count": 4,
     "metadata": {},
     "output_type": "execute_result"
    }
   ],
   "source": [
    "[\"Python\"]"
   ]
  },
  {
   "cell_type": "markdown",
   "metadata": {},
   "source": [
    "Or a list containing nothing:"
   ]
  },
  {
   "cell_type": "code",
   "execution_count": 5,
   "metadata": {},
   "outputs": [
    {
     "data": {
      "text/plain": [
       "[]"
      ]
     },
     "execution_count": 5,
     "metadata": {},
     "output_type": "execute_result"
    }
   ],
   "source": [
    "[] "
   ]
  },
  {
   "cell_type": "markdown",
   "metadata": {},
   "source": [
    "Or a list containing the number 31, the string `\"Python\"`, and a list containing the numbers `1` to `5` (yes, we can have lists inside lists!):"
   ]
  },
  {
   "cell_type": "code",
   "execution_count": 6,
   "metadata": {
    "scrolled": true
   },
   "outputs": [
    {
     "data": {
      "text/plain": [
       "[31, 'Python', [1, 2, 3, 4, 5]]"
      ]
     },
     "execution_count": 6,
     "metadata": {},
     "output_type": "execute_result"
    }
   ],
   "source": [
    "[31, \"Python\", [1, 2, 3, 4, 5]]"
   ]
  },
  {
   "cell_type": "markdown",
   "metadata": {},
   "source": [
    "Lists support the exact same sequence operations that you have already learned from strings, including finding the length with `len` and *indexing* the string using square brackets `[i]`."
   ]
  },
  {
   "cell_type": "code",
   "execution_count": 7,
   "metadata": {},
   "outputs": [
    {
     "name": "stdout",
     "output_type": "stream",
     "text": [
      "The length of my list is 3 and the first element is 31\n"
     ]
    }
   ],
   "source": [
    "my_list = [31, \"Python\", [1, 2, 3, 4, 5]]\n",
    "print(f\"The length of my list is {len(my_list)} and the first element is {my_list[0]}\")"
   ]
  },
  {
   "cell_type": "markdown",
   "metadata": {},
   "source": [
    "***Task***: modify the code above to produce a *sub-list* in the same way were were able to produce a *substring*. In other words, take a *slice* of the list.\n",
    "\n",
    "Unlike strings, lists are **mutable**, meaning that we can change them after they have been created. Specifically we can change their contents. \n",
    "\n",
    "Mutability is a really important concept, so let's make this clear. We can *always* reassign a variable:"
   ]
  },
  {
   "cell_type": "code",
   "execution_count": 8,
   "metadata": {},
   "outputs": [
    {
     "name": "stdout",
     "output_type": "stream",
     "text": [
      "goodbye\n"
     ]
    }
   ],
   "source": [
    "text = \"hello\"\n",
    "text = \"goodbye\"\n",
    "print(text)"
   ]
  },
  {
   "cell_type": "markdown",
   "metadata": {},
   "source": [
    "The value of the variable named `text` changed from `\"hello\"` to `\"goodbye\"`. But we didn't *change the string* `\"hello\"`, we just replaced it. In the same way that if we wrote:"
   ]
  },
  {
   "cell_type": "code",
   "execution_count": 9,
   "metadata": {},
   "outputs": [
    {
     "name": "stdout",
     "output_type": "stream",
     "text": [
      "20\n"
     ]
    }
   ],
   "source": [
    "num = 10\n",
    "num = 20\n",
    "print(num)"
   ]
  },
  {
   "cell_type": "markdown",
   "metadata": {},
   "source": [
    "We are not changing the value `10`, we're just replacing it with a different value `20`. `10` still exists and works just as we'd expect!\n",
    "\n",
    "With strings, we in fact *cannot* change the values of the characters within the string itself. Suppose we try to assign something into the first position of the string, we will get an error:"
   ]
  },
  {
   "cell_type": "code",
   "execution_count": 10,
   "metadata": {},
   "outputs": [
    {
     "ename": "TypeError",
     "evalue": "'str' object does not support item assignment",
     "output_type": "error",
     "traceback": [
      "\u001b[0;31m---------------------------------------------------------------------------\u001b[0m",
      "\u001b[0;31mTypeError\u001b[0m                                 Traceback (most recent call last)",
      "Cell \u001b[0;32mIn[10], line 2\u001b[0m\n\u001b[1;32m      1\u001b[0m text \u001b[38;5;241m=\u001b[39m \u001b[38;5;124m\"\u001b[39m\u001b[38;5;124mhello\u001b[39m\u001b[38;5;124m\"\u001b[39m\n\u001b[0;32m----> 2\u001b[0m text[\u001b[38;5;241m0\u001b[39m] \u001b[38;5;241m=\u001b[39m \u001b[38;5;124m\"\u001b[39m\u001b[38;5;124mg\u001b[39m\u001b[38;5;124m\"\u001b[39m\n",
      "\u001b[0;31mTypeError\u001b[0m: 'str' object does not support item assignment"
     ]
    }
   ],
   "source": [
    "text = \"hello\"\n",
    "text[0] = \"g\""
   ]
  },
  {
   "cell_type": "markdown",
   "metadata": {},
   "source": [
    "However, with a list, the item assignment operation will work:"
   ]
  },
  {
   "cell_type": "code",
   "execution_count": null,
   "metadata": {},
   "outputs": [],
   "source": [
    "my_list = [\"h\", \"e\", \"l\", \"l\", \"o\"]\n",
    "my_list[0] = \"g\"\n",
    "print(my_list)"
   ]
  },
  {
   "cell_type": "markdown",
   "metadata": {},
   "source": [
    "We have modified the contents of the list. The *contents* of the variable have changed, rather than the entire variable being *replaced*.\n",
    "\n",
    "Like a string, we cannot index a position beyond the end of a list, even if we are trying to add an item to it:"
   ]
  },
  {
   "cell_type": "code",
   "execution_count": null,
   "metadata": {},
   "outputs": [],
   "source": [
    "my_list = [1, 2, 3, 4, 5]\n",
    "my_list[5] = 6"
   ]
  },
  {
   "cell_type": "markdown",
   "metadata": {},
   "source": [
    "But we *can* add items to lists using the *method* called `append`:"
   ]
  },
  {
   "cell_type": "code",
   "execution_count": null,
   "metadata": {},
   "outputs": [],
   "source": [
    "my_list = [1, 2, 3, 4, 5]\n",
    "my_list.append(6)\n",
    "my_list"
   ]
  },
  {
   "cell_type": "markdown",
   "metadata": {},
   "source": [
    "### List Methods\n",
    "If you'll recall, in week 1 we showed you a few useful *methods* for strings. A *method* is a subroutine that applies to a specific object, and is called with a `.` between the name of the object and subroutine. Like strings, lists also have many useful methods, including `append`. \n",
    "\n",
    "As with strings, we can search for the position of an item within a list:"
   ]
  },
  {
   "cell_type": "code",
   "execution_count": null,
   "metadata": {},
   "outputs": [],
   "source": [
    "my_list = [1, 2, 3, 4, 5]\n",
    "my_list.index(3)"
   ]
  },
  {
   "cell_type": "markdown",
   "metadata": {},
   "source": [
    "`my_list.index(obj)` returns the index of the object `obj` in the list `my_list`. If the object is not found then this causes an error. \n",
    "\n",
    "This is in contrast to `text.find(ss)` which would return `-1` if the substring `ss` was not found in the string `text`. Interestingly you can also use `.index` with strings if you *want* the method to cause an error when the substring cannot be found. Sometimes this is useful – one of the common principles when developing good Python code is that it is better to “fail loudly”. Returning `-1` might go unnoticed until much later, which might then become a bug that someone has to hunt down. If it had caused an error instead the code would crash, but you would immediately know where the problem was.\n",
    "\n",
    "As we mentioned last week when we talked about errors, you should ***not*** be using `try` and `except` if you can prevent the error from happening in the first place. Here you can do this by checking whether the item is in the list *before* you try to get the index. Python has a really nice special keyword `in` to do this, which works like this:"
   ]
  },
  {
   "cell_type": "code",
   "execution_count": null,
   "metadata": {},
   "outputs": [],
   "source": [
    "my_list = [1, 2, 3, 4, 5]\n",
    "3 in my_list"
   ]
  },
  {
   "cell_type": "markdown",
   "metadata": {},
   "source": [
    "Think for a second about this new keyword. It actually looks a lot like some of the *operators* we saw earlier. The syntax is:\n",
    "```python\n",
    "obj in collection\n",
    "```\n",
    "\n",
    "it has two inputs: the object on the left can be any object and the object on the right must be a collection. The return type is a Boolean: `True` or `False`. As with any Boolean expression, it is common to see this syntax used as the subject of an if statement:"
   ]
  },
  {
   "cell_type": "code",
   "execution_count": null,
   "metadata": {},
   "outputs": [],
   "source": [
    "my_list = [1, 2, 3, 4, 5]\n",
    "if 3 in my_list:\n",
    "    print(f\"3 is at index {my_list.index(3)}\")\n",
    "else:\n",
    "    print(\"3 is not in the list :(\")"
   ]
  },
  {
   "cell_type": "markdown",
   "metadata": {},
   "source": [
    "Here is the elegance of Python in action. The English sentence \"if 3 is in my_list\" translates almost perfectly into code: `if 3 in my_list`. But as we discussed when we first introduced operators like `<`, you know what is really happening. This is really a *Boolean expression* which is being evaluated, and the result is being fed into the if statement. So `if 3 in list_one or in list_two` is not going to work (what should it be?).\n",
    "\n",
    "We are seeing lots of parallels between strings and lists, so you may not be surprised to hear that we can use this keyword `in` for testing substrings as well:"
   ]
  },
  {
   "cell_type": "code",
   "execution_count": null,
   "metadata": {},
   "outputs": [],
   "source": [
    "\"gg\" in \"eggs\""
   ]
  },
  {
   "cell_type": "markdown",
   "metadata": {},
   "source": [
    "Lists support a bunch of the kinds of string operations you've seen before, plus a whole host of other methods. As with strings I recommend searching for them or reading the documentation [online](https://docs.python.org/3/tutorial/datastructures.html) as and when you need them. Rather than memorise a few useful methods it is useful to get into the habit of reading the documentation. That said, here are a few more code examples you can read and play around with to learn a few more list methods:"
   ]
  },
  {
   "cell_type": "code",
   "execution_count": null,
   "metadata": {},
   "outputs": [],
   "source": [
    "# like strings, we can concatenate lists\n",
    "[1, 2, 3] + [\"another\", \"list\"]"
   ]
  },
  {
   "cell_type": "code",
   "execution_count": null,
   "metadata": {},
   "outputs": [],
   "source": [
    "# and repeat list contents\n",
    "[1, 2] * 3"
   ]
  },
  {
   "cell_type": "code",
   "execution_count": null,
   "metadata": {},
   "outputs": [],
   "source": [
    "# [] is an empty list\n",
    "my_list = []\n",
    "my_list.append(1)\n",
    "my_list.append(2)\n",
    "my_list.append(3)\n",
    "my_list"
   ]
  },
  {
   "cell_type": "code",
   "execution_count": null,
   "metadata": {},
   "outputs": [],
   "source": [
    "# if we use .append to append list to a list it will add it *as a single item*, not concatenate them\n",
    "my_list = [1, 2, 3]\n",
    "my_list.append([4, 5, 6])\n",
    "my_list"
   ]
  },
  {
   "cell_type": "code",
   "execution_count": null,
   "metadata": {},
   "outputs": [],
   "source": [
    "# but .extend might be what we were really looking for\n",
    "my_list = [1, 2, 3]\n",
    "my_list.extend([4, 5, 6])\n",
    "my_list"
   ]
  },
  {
   "cell_type": "code",
   "execution_count": null,
   "metadata": {},
   "outputs": [],
   "source": [
    "my_list = [1, 2, 3]\n",
    "\n",
    "# insert(i, o) will insert o at position i\n",
    "my_list.insert(0, 4)\n",
    "my_list"
   ]
  },
  {
   "cell_type": "code",
   "execution_count": null,
   "metadata": {},
   "outputs": [],
   "source": [
    "my_list = [1, 2, 3]\n",
    "\n",
    "# pop removes the last element of the list and returns it\n",
    "x = my_list.pop()\n",
    "print(x)\n",
    "print(my_list)"
   ]
  },
  {
   "cell_type": "code",
   "execution_count": null,
   "metadata": {},
   "outputs": [],
   "source": [
    "my_list = [1, 0, 0, 1, 1, 0, 1, 0]\n",
    "\n",
    "# count returns the number of occurances of a particular object\n",
    "my_list.count(0)"
   ]
  },
  {
   "cell_type": "markdown",
   "metadata": {},
   "source": [
    "There are also some useful inbuilt functions which work on any collection, including lists:"
   ]
  },
  {
   "cell_type": "code",
   "execution_count": null,
   "metadata": {},
   "outputs": [],
   "source": [
    "my_list = [1, 2, 3]\n",
    "print(\"my_list = [1, 2, 3]\")\n",
    "\n",
    "# you have already seen len\n",
    "print(f\"len(my_list): {len(my_list)}\")\n",
    "\n",
    "# sum will sum (add) the elements of a list, if they are numeric\n",
    "print(f\"sum(my_list): {sum(my_list)}\")"
   ]
  },
  {
   "cell_type": "markdown",
   "metadata": {},
   "source": [
    "#### Function or Procedure?\n",
    "Do you remember the difference between a function and a procedure? If not, go back and reread section 2.1 from week 1! \n",
    "\n",
    "We specifically pointed out the fact that string methods did *not* work like procedures – they return a new string, they do not modify the existing string:"
   ]
  },
  {
   "cell_type": "code",
   "execution_count": null,
   "metadata": {},
   "outputs": [],
   "source": [
    "text = \"hello\"\n",
    "text.replace('e', 'u')\n",
    "print(text)"
   ]
  },
  {
   "cell_type": "markdown",
   "metadata": {},
   "source": [
    "But similar looking methods on lists ***do*** modify the object, they *are* procedures:"
   ]
  },
  {
   "cell_type": "code",
   "execution_count": null,
   "metadata": {},
   "outputs": [],
   "source": [
    "my_list = [1, 2, 3, 4, 5]\n",
    "my_list.reverse()\n",
    "print(my_list)"
   ]
  },
  {
   "cell_type": "markdown",
   "metadata": {},
   "source": [
    "And this can lead to some really confusing mistakes, because these procedures specifically *do not* return values:"
   ]
  },
  {
   "cell_type": "code",
   "execution_count": null,
   "metadata": {
    "scrolled": true
   },
   "outputs": [],
   "source": [
    "my_list = [1, 2, 3, 4, 5]\n",
    "new_list = my_list.reverse()\n",
    "print(new_list)"
   ]
  },
  {
   "cell_type": "markdown",
   "metadata": {},
   "source": [
    "But other methods of a list object ***are*** functions so they *do* return values:"
   ]
  },
  {
   "cell_type": "code",
   "execution_count": null,
   "metadata": {},
   "outputs": [],
   "source": [
    "my_list = [1, 2, 3, 4, 5]\n",
    "new_list = my_list.copy()\n",
    "print(new_list)"
   ]
  },
  {
   "cell_type": "markdown",
   "metadata": {},
   "source": [
    "Unfortunately this is something you simply have to get used to. Remember you can always consult the documentation for any function, either online or using built-in tools, which should explain how it works. Alternatively, if you are ever at all unsure, just try it out in a Jupyter cell or Python shell instance!"
   ]
  },
  {
   "cell_type": "code",
   "execution_count": null,
   "metadata": {},
   "outputs": [],
   "source": [
    "help(my_list.copy)"
   ]
  },
  {
   "cell_type": "markdown",
   "metadata": {},
   "source": [
    "### Lists in Loops\n",
    "Lists are another type of object that be the target of a *for-each loop*. So we can do things like this:"
   ]
  },
  {
   "cell_type": "code",
   "execution_count": null,
   "metadata": {},
   "outputs": [],
   "source": [
    "my_list = [4, 1, 3, 2, 5]\n",
    "lowest = my_list[0]\n",
    "for num in my_list:\n",
    "    lowest = min(lowest, num)\n",
    "\n",
    "lowest"
   ]
  },
  {
   "cell_type": "markdown",
   "metadata": {},
   "source": [
    "This is actually a really common pattern, to find the biggest or smallest item in a collection with a for loop. We can also pass the list directly into the `min` function to achieve the same goal:\n"
   ]
  },
  {
   "cell_type": "code",
   "execution_count": null,
   "metadata": {},
   "outputs": [],
   "source": [
    "min(my_list)"
   ]
  },
  {
   "cell_type": "markdown",
   "metadata": {},
   "source": [
    "But we are not always dealing with plain lists of numbers! The pattern in the previous cell (set up a `lowest` variable, go through each element in a for loop, for each new element keep track of whichever is smaller, the previously saved one or the new one) will pop up in all sorts of applications.\n",
    "\n",
    "Lists are useful because they store any number of items. We often want to do the same or a similar thing to multiple items within a list, and so the for-each loop is perfect for this.\n",
    "\n",
    "Of course, you can use a regular for loop (using `range(len(my_list))`) if you want to have an index variable instead. Then you can find each element from the list easily using your index variable. \n",
    "\n",
    "If you want to have both you can use a builtin function called `enumerate`. This is great if you want to apply some kind of operation to every element in a list:"
   ]
  },
  {
   "cell_type": "code",
   "execution_count": null,
   "metadata": {},
   "outputs": [],
   "source": [
    "def square_each_element(in_list):\n",
    "    for i, item in enumerate(in_list):\n",
    "        in_list[i] = item ** 2\n",
    "        print(i)\n",
    "\n",
    "my_list = [2, -2, 5, 10]\n",
    "square_each_element(my_list)\n",
    "my_list"
   ]
  },
  {
   "cell_type": "markdown",
   "metadata": {},
   "source": [
    "#### ⚠️ Careful ⚠️\n",
    "Notice `square_each_element` is a *procedure*! It has no return statement, it modifies the object that was passed in. We previously wrote functions that took integers and strings as parameters, but since these are *immutable* we could not modify them. Lists are *mutable*, so if you modify an input list in the body of a subroutine, you will modify the original list. This can be intended (as in `square_each_element`), but it can also be accidental. Just including a return statement *does not* prevent this behaviour.\n",
    "\n",
    "#### 🚨 Extra Careful! 🚨\n",
    "Multiple variable *names* can refer to the same *object*. We've seen this above: `in_list` inside the subroutine referred to the same list as `my_list` outside the subroutine. But this can happen even within the same *scope*. This can really mess with your head, so it's okay if this seems a bit confusing, but it's important and learning this now can prevent some headaches later. Read the following example carefully, and guess what it outputs before running it:"
   ]
  },
  {
   "cell_type": "code",
   "execution_count": null,
   "metadata": {},
   "outputs": [],
   "source": [
    "def list_of_inverts(in_list):\n",
    "    out_list = in_list\n",
    "    for i, item in enumerate(out_list):\n",
    "        out_list[i] = -1 * item\n",
    "    return out_list\n",
    "\n",
    "old_list = [1, 2, 3, 4, 5]\n",
    "new_list = list_of_inverts(old_list)\n",
    "\n",
    "print(f\"The value of new_list is: {new_list}\")\n",
    "print(f\"The value of old_list is: {old_list}\")"
   ]
  },
  {
   "cell_type": "markdown",
   "metadata": {},
   "source": [
    "Remember to try to guess the output before running the cell.\n",
    "<br /> <br /> <br /><br /> <br /> <br />\n",
    "The value of `new_list` will not be a surprise, but the value of `old_list` might be. This line:\n",
    "```python\n",
    "out_list = in_list\n",
    "```\n",
    "creates a new named variable called `out_list` which refers to ***the exact same list*** as `in_list`. Not just the same values, *literally the same data in memory*. If you modify one, it modifies the other.\n",
    "\n",
    "This is why Python lists have the `.copy()` function that I used earlier. Let's fix that code, notice the small change:"
   ]
  },
  {
   "cell_type": "code",
   "execution_count": null,
   "metadata": {},
   "outputs": [],
   "source": [
    "def list_of_inverts(in_list):\n",
    "    out_list = in_list.copy()\n",
    "    for i, item in enumerate(out_list):\n",
    "        out_list[i] = -1 * item\n",
    "    return out_list\n",
    "\n",
    "old_list = [1, 2, 3, 4, 5]\n",
    "new_list = list_of_inverts(old_list)\n",
    "\n",
    "print(f\"The value of new_list is: {new_list}\")\n",
    "print(f\"The value of old_list is: {old_list}\")"
   ]
  },
  {
   "cell_type": "markdown",
   "metadata": {},
   "source": [
    "### Questions\n",
    "#### Interactive Quiz \n",
    "Run the cell below to do the quiz about lists."
   ]
  },
  {
   "cell_type": "code",
   "execution_count": null,
   "metadata": {},
   "outputs": [],
   "source": [
    "%run ../scripts/interactive_questions ./questions/3.1.1q.txt"
   ]
  },
  {
   "cell_type": "markdown",
   "metadata": {},
   "source": [
    "#### Question 1: All Collatz Steps\n",
    "Remember back in section 2.4 we introduced a sequence which was part of an unsolved mathematical problem called the Collatz conjecture? The sequence was formed by repeatedly applying the following function:\n",
    "$$f(n) = \\begin{cases} \n",
    "      3n+1 & n \\text{ is odd} \\\\\n",
    "      \\frac{n}{2} & n \\text{ is even} \n",
    "   \\end{cases}$$\n",
    "   \n",
    "Interestingly, the sequence always seems to eventually produce a $1$. \n",
    "\n",
    "Previously we wrote functions which could count the number of applications (steps) required to reach $1$ from any number. What if we wanted a function which would calculate every value in the sequence between an input $n$ and $1$?\n",
    "\n",
    "We could write something like this which uses a `print` statement:\n",
    "```python\n",
    "def collatz_sequence(n):\n",
    "    steps = 0\n",
    "    while(n != 1):\n",
    "        print(n)\n",
    "        if n % 2 == 0:\n",
    "            n = n // 2\n",
    "        else:\n",
    "            n = 3*n + 1\n",
    "    print(n)\n",
    "```\n",
    "\n",
    "But if you were paying attention last week, you will know this is no good! The function does not return anything, it just prints it. What if we want to use this information somewhere else? Maybe we want to find the Collatz sequence for all the numbers from 1 to 50 and display the longest.\n",
    "\n",
    "So, instead, we should write a function that *returns a list* containing the sequence from `n` to `1` (inclusive)."
   ]
  },
  {
   "cell_type": "code",
   "execution_count": 11,
   "metadata": {},
   "outputs": [
    {
     "name": "stdout",
     "output_type": "stream",
     "text": [
      "Example tests for function collatz_sequence\n",
      "\n",
      "Test 1/5: collatz_sequence(2) -> [2, 1]\n",
      "Test 2/5: collatz_sequence(3) -> [3, 10, 5, 16, 8, 4, 2, 1]\n",
      "Test 3/5: collatz_sequence(4) -> [4, 2, 1]\n",
      "Test 4/5: collatz_sequence(5) -> [5, 16, 8, 4, 2, 1]\n",
      "Test 5/5: collatz_sequence(6) -> [6, 3, 10, 5, 16, 8, 4, 2, 1]\n"
     ]
    }
   ],
   "source": [
    "%run ../scripts/show_examples.py ./questions/3.1/collatz_sequence"
   ]
  },
  {
   "cell_type": "code",
   "execution_count": 17,
   "metadata": {},
   "outputs": [
    {
     "name": "stdout",
     "output_type": "stream",
     "text": [
      "Running tests on function collatz_sequence\n",
      "\n",
      "2\n",
      "Test 1/9: \n",
      "\tinputs: 2\n",
      "\texpected: [2, 1]\n",
      "\tactual: [2, 1]\n",
      "\tresult: PASS\n",
      "3\n",
      "10\n",
      "5\n",
      "16\n",
      "8\n",
      "4\n",
      "2\n",
      "Test 2/9: \n",
      "\tinputs: 3\n",
      "\texpected: [3, 10, 5, 16, 8, 4, 2, 1]\n",
      "\tactual: [8, 10, 5, 16, 8, 4, 2, 1]\n",
      "\tresult: FAIL\n",
      "\n",
      "Try editing your code and re-running the cell.\n"
     ]
    }
   ],
   "source": [
    "def collatz_sequence(n):\n",
    "    steps = 1\n",
    "    result = []\n",
    "    while(n != 1):\n",
    "        steps += 1\n",
    "        print(n)\n",
    "        if n % 2 == 0:\n",
    "            n = n // 2\n",
    "        else:\n",
    "            n = 3*n + 1\n",
    "        result.append(n)\n",
    "    result = [steps] + result\n",
    "    return result\n",
    "            \n",
    "%run -i ../scripts/function_tester.py ./questions/3.1/collatz_sequence"
   ]
  },
  {
   "cell_type": "markdown",
   "metadata": {},
   "source": [
    "#### Question 2: Filter Less Than\n",
    "Given a list of integers `my_list` and another integer `limit`, return a new list which only contains the elements from `my_list` that are less than `limit`."
   ]
  },
  {
   "cell_type": "code",
   "execution_count": null,
   "metadata": {},
   "outputs": [],
   "source": [
    "%run ../scripts/show_examples.py ./questions/3.1/filter_less_than"
   ]
  },
  {
   "cell_type": "code",
   "execution_count": null,
   "metadata": {},
   "outputs": [],
   "source": [
    "def filter_less_than(my_list, limit):\n",
    "    pass\n",
    "\n",
    "%run -i ../scripts/function_tester.py ./questions/3.1/filter_less_than"
   ]
  },
  {
   "cell_type": "markdown",
   "metadata": {},
   "source": [
    "## What Next?\n",
    "When you are done with this notebook, go back to Engage and move onto the next section."
   ]
  }
 ],
 "metadata": {
  "kernelspec": {
   "display_name": "Python 3 (ipykernel)",
   "language": "python",
   "name": "python3"
  },
  "language_info": {
   "codemirror_mode": {
    "name": "ipython",
    "version": 3
   },
   "file_extension": ".py",
   "mimetype": "text/x-python",
   "name": "python",
   "nbconvert_exporter": "python",
   "pygments_lexer": "ipython3",
   "version": "3.11.4"
  }
 },
 "nbformat": 4,
 "nbformat_minor": 2
}
