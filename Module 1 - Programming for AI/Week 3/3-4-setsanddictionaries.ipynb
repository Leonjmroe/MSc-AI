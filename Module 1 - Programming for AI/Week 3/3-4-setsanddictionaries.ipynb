{
 "cells": [
  {
   "cell_type": "markdown",
   "metadata": {},
   "source": [
    "## 3.4 Sets, Dictionaries, and Comprehensions\n",
    "### Sets\n",
    "A **set**, like its mathematical namesake, is an *unordered* collection of *distinct* items. \n",
    "* *Unordered* means that there is no order to the items – sequences have a first item, second item, third item, and so on; but sets are just a collection of items in no particular order.\n",
    "* *Distinct* means that items are either members of the set or they are not, there cannot be multiple copies of an item in a set.\n",
    "\n",
    "The notation mirrors the mathematical one too, we use curly brackets to write sets:"
   ]
  },
  {
   "cell_type": "code",
   "execution_count": 1,
   "metadata": {},
   "outputs": [
    {
     "data": {
      "text/plain": [
       "{1, 2, 3}"
      ]
     },
     "execution_count": 1,
     "metadata": {},
     "output_type": "execute_result"
    }
   ],
   "source": [
    "{1, 2, 3}"
   ]
  },
  {
   "cell_type": "code",
   "execution_count": 2,
   "metadata": {},
   "outputs": [
    {
     "data": {
      "text/plain": [
       "set"
      ]
     },
     "execution_count": 2,
     "metadata": {},
     "output_type": "execute_result"
    }
   ],
   "source": [
    "type({1, 2, 3})"
   ]
  },
  {
   "cell_type": "code",
   "execution_count": 3,
   "metadata": {},
   "outputs": [
    {
     "data": {
      "text/plain": [
       "True"
      ]
     },
     "execution_count": 3,
     "metadata": {},
     "output_type": "execute_result"
    }
   ],
   "source": [
    "# sets are unordered\n",
    "{1, 2, 3} == {2, 3, 1}"
   ]
  },
  {
   "cell_type": "code",
   "execution_count": 4,
   "metadata": {},
   "outputs": [
    {
     "ename": "TypeError",
     "evalue": "'set' object is not subscriptable",
     "output_type": "error",
     "traceback": [
      "\u001b[0;31m---------------------------------------------------------------------------\u001b[0m",
      "\u001b[0;31mTypeError\u001b[0m                                 Traceback (most recent call last)",
      "\u001b[0;32m<ipython-input-4-c6958c39d26a>\u001b[0m in \u001b[0;36m<module>\u001b[0;34m\u001b[0m\n\u001b[1;32m      1\u001b[0m \u001b[0;31m# they really are unordered, we can't even ask for the 'first' element\u001b[0m\u001b[0;34m\u001b[0m\u001b[0;34m\u001b[0m\u001b[0;34m\u001b[0m\u001b[0m\n\u001b[1;32m      2\u001b[0m \u001b[0mnums\u001b[0m \u001b[0;34m=\u001b[0m \u001b[0;34m{\u001b[0m\u001b[0;36m1\u001b[0m\u001b[0;34m,\u001b[0m \u001b[0;36m2\u001b[0m\u001b[0;34m,\u001b[0m \u001b[0;36m3\u001b[0m\u001b[0;34m}\u001b[0m\u001b[0;34m\u001b[0m\u001b[0;34m\u001b[0m\u001b[0m\n\u001b[0;32m----> 3\u001b[0;31m \u001b[0mnums\u001b[0m\u001b[0;34m[\u001b[0m\u001b[0;36m0\u001b[0m\u001b[0;34m]\u001b[0m\u001b[0;34m\u001b[0m\u001b[0;34m\u001b[0m\u001b[0m\n\u001b[0m",
      "\u001b[0;31mTypeError\u001b[0m: 'set' object is not subscriptable"
     ]
    }
   ],
   "source": [
    "# they really are unordered, we can't even ask for the 'first' element\n",
    "nums = {1, 2, 3}\n",
    "nums[0]"
   ]
  },
  {
   "cell_type": "code",
   "execution_count": 5,
   "metadata": {},
   "outputs": [
    {
     "data": {
      "text/plain": [
       "True"
      ]
     },
     "execution_count": 5,
     "metadata": {},
     "output_type": "execute_result"
    }
   ],
   "source": [
    "# items are distinct\n",
    "{1, 1, 1, 2, 2, 3} == {2, 3, 3, 3, 1}"
   ]
  },
  {
   "cell_type": "markdown",
   "metadata": {},
   "source": [
    "Apart from being unordered and having distinct items, sets behave a lot like lists. They can hold any types of data, and they are mutable:"
   ]
  },
  {
   "cell_type": "code",
   "execution_count": 6,
   "metadata": {},
   "outputs": [
    {
     "data": {
      "text/plain": [
       "{10, 2, 'set'}"
      ]
     },
     "execution_count": 6,
     "metadata": {},
     "output_type": "execute_result"
    }
   ],
   "source": [
    "my_set = {\"my\", 2, \"set\"}\n",
    "my_set.add(10)\n",
    "my_set.remove(\"my\")\n",
    "my_set"
   ]
  },
  {
   "cell_type": "markdown",
   "metadata": {},
   "source": [
    "The most common use for a set is fast membership testing. Let's return to some code that we used a long time ago: censoring vowels from an input string. Before we had a monolithic if statement:\n",
    "```python\n",
    "if char == \"a\" or char == \"e\" or char == \"i\" or char == \"o\" or char == \"u\":\n",
    "```\n",
    "using a set makes this significantly nicer to read:\n",
    "```python\n",
    "if char in {\"a\", \"e\", \"i\", \"o\", \"u\"}:\n",
    "```\n",
    "\n",
    "A list would work here too, the difference is minimal. As a general principle, lists are actually slightly more efficient to use for one-off membership testing, such as in the example above. But if you reuse the collection in multiple places then a set is the better choice, as in the example below:"
   ]
  },
  {
   "cell_type": "code",
   "execution_count": 7,
   "metadata": {},
   "outputs": [
    {
     "data": {
      "text/plain": [
       "'b*ld*rd*sh'"
      ]
     },
     "execution_count": 7,
     "metadata": {},
     "output_type": "execute_result"
    }
   ],
   "source": [
    "VOWELS = {\"a\", \"e\", \"i\", \"o\", \"u\"}\n",
    "\n",
    "def censor_vowels(word):\n",
    "    out_str = \"\"\n",
    "    for i in range(len(word)):\n",
    "        char = word[i]\n",
    "        if char in VOWELS:\n",
    "            out_str += \"*\"\n",
    "        else:\n",
    "            out_str += char\n",
    "    return out_str\n",
    "\n",
    "censor_vowels(\"balderdash\")"
   ]
  },
  {
   "cell_type": "markdown",
   "metadata": {},
   "source": [
    "In the code above, `VOWELS` is being used as a constant – perhaps we use it in multiple places in the code. If we really want to get technical, we can actually create an immutable set using the `frozenset` function, and ensure that no code ever ties to modify the set:"
   ]
  },
  {
   "cell_type": "code",
   "execution_count": 8,
   "metadata": {},
   "outputs": [
    {
     "ename": "AttributeError",
     "evalue": "'frozenset' object has no attribute 'remove'",
     "output_type": "error",
     "traceback": [
      "\u001b[0;31m---------------------------------------------------------------------------\u001b[0m",
      "\u001b[0;31mAttributeError\u001b[0m                            Traceback (most recent call last)",
      "\u001b[0;32m<ipython-input-8-df4a8d2bca3b>\u001b[0m in \u001b[0;36m<module>\u001b[0;34m\u001b[0m\n\u001b[1;32m      1\u001b[0m \u001b[0mVOWELS\u001b[0m \u001b[0;34m=\u001b[0m \u001b[0mfrozenset\u001b[0m\u001b[0;34m(\u001b[0m\u001b[0;34m{\u001b[0m\u001b[0;34m\"a\"\u001b[0m\u001b[0;34m,\u001b[0m \u001b[0;34m\"e\"\u001b[0m\u001b[0;34m,\u001b[0m \u001b[0;34m\"i\"\u001b[0m\u001b[0;34m,\u001b[0m \u001b[0;34m\"o\"\u001b[0m\u001b[0;34m,\u001b[0m \u001b[0;34m\"u\"\u001b[0m\u001b[0;34m}\u001b[0m\u001b[0;34m)\u001b[0m\u001b[0;34m\u001b[0m\u001b[0;34m\u001b[0m\u001b[0m\n\u001b[0;32m----> 2\u001b[0;31m \u001b[0mVOWELS\u001b[0m\u001b[0;34m.\u001b[0m\u001b[0mremove\u001b[0m\u001b[0;34m(\u001b[0m\u001b[0;34m\"a\"\u001b[0m\u001b[0;34m)\u001b[0m\u001b[0;34m\u001b[0m\u001b[0;34m\u001b[0m\u001b[0m\n\u001b[0m",
      "\u001b[0;31mAttributeError\u001b[0m: 'frozenset' object has no attribute 'remove'"
     ]
    }
   ],
   "source": [
    "VOWELS = frozenset({\"a\", \"e\", \"i\", \"o\", \"u\"})\n",
    "VOWELS.remove(\"a\")"
   ]
  },
  {
   "cell_type": "markdown",
   "metadata": {},
   "source": [
    "If you want to create an empty set to add elements to, you have to write `set()`:"
   ]
  },
  {
   "cell_type": "code",
   "execution_count": 9,
   "metadata": {},
   "outputs": [
    {
     "data": {
      "text/plain": [
       "0"
      ]
     },
     "execution_count": 9,
     "metadata": {},
     "output_type": "execute_result"
    }
   ],
   "source": [
    "empty_set = set()\n",
    "len(empty_set)"
   ]
  },
  {
   "cell_type": "markdown",
   "metadata": {},
   "source": [
    "We cannot just write `{}`, because this is reserved for an empty *dictionary*, another data structure which uses curly brackets. Most programmers probably find themselves using dictionaries more often than sets, so let's move on!\n",
    "\n",
    "### Dictionaries\n",
    "A **dictionary** in Python is the inbuilt implementation of a data structure that is sometimes also called a *map* or an *associative array*. Whereas lists and tuples are indexed by their position (and sets are not indexable at all), dictionaries are indexed by arbitrary **keys**. Each key has an associated **value**. We could think of the entire dictionary as being a collection of *key-value pairs*.\n",
    "\n",
    "To create a dictionary from some data, we can list the key-value pairs inside curly brackets with colons separating the keys and pairs:"
   ]
  },
  {
   "cell_type": "code",
   "execution_count": 10,
   "metadata": {},
   "outputs": [
    {
     "data": {
      "text/plain": [
       "{'ray': 5000, 'ali': 3000, 'sam': 2000}"
      ]
     },
     "execution_count": 10,
     "metadata": {},
     "output_type": "execute_result"
    }
   ],
   "source": [
    "high_scores = {\"ray\": 5000, \"ali\": 3000, \"sam\": 2000}\n",
    "high_scores"
   ]
  },
  {
   "cell_type": "code",
   "execution_count": 11,
   "metadata": {},
   "outputs": [
    {
     "data": {
      "text/plain": [
       "dict"
      ]
     },
     "execution_count": 11,
     "metadata": {},
     "output_type": "execute_result"
    }
   ],
   "source": [
    "type(high_scores)"
   ]
  },
  {
   "cell_type": "markdown",
   "metadata": {},
   "source": [
    "The keys can be *any immutable type*. It is common to use strings and numbers, but you could also use tuples provided they themselves only contain immutable types.\n",
    "\n",
    "We can think of a dictionary like a table of values:\n",
    "\n",
    "|key  |value  |\n",
    "|:---:|:-----:|\n",
    "|ray  |5000   |\n",
    "|ali  |3000   |\n",
    "|sam  |2000   |\n",
    "\n",
    "And we can retrieve the value of any particular key using the same square bracket syntax we use with lists:"
   ]
  },
  {
   "cell_type": "code",
   "execution_count": 12,
   "metadata": {},
   "outputs": [
    {
     "data": {
      "text/plain": [
       "3000"
      ]
     },
     "execution_count": 12,
     "metadata": {},
     "output_type": "execute_result"
    }
   ],
   "source": [
    "high_scores[\"ali\"]"
   ]
  },
  {
   "cell_type": "markdown",
   "metadata": {},
   "source": [
    "We can add values too by simply assigning a value to a new key:"
   ]
  },
  {
   "cell_type": "code",
   "execution_count": 13,
   "metadata": {},
   "outputs": [
    {
     "data": {
      "text/plain": [
       "{'ray': 5000, 'ali': 3000, 'sam': 2000, 'andrew': 10000}"
      ]
     },
     "execution_count": 13,
     "metadata": {},
     "output_type": "execute_result"
    }
   ],
   "source": [
    "high_scores[\"andrew\"] = 10000\n",
    "high_scores"
   ]
  },
  {
   "cell_type": "markdown",
   "metadata": {},
   "source": [
    "Dictionaries can only store one value for any given key. `high_scores[\"ali\"]` currently produces `3000`, and if we try to insert another value for the key `\"ali\"` we will just overwrite the previous one:"
   ]
  },
  {
   "cell_type": "code",
   "execution_count": 14,
   "metadata": {},
   "outputs": [
    {
     "data": {
      "text/plain": [
       "{'ray': 5000, 'ali': 7000, 'sam': 2000, 'andrew': 10000}"
      ]
     },
     "execution_count": 14,
     "metadata": {},
     "output_type": "execute_result"
    }
   ],
   "source": [
    "high_scores[\"ali\"] = 7000\n",
    "high_scores"
   ]
  },
  {
   "cell_type": "markdown",
   "metadata": {},
   "source": [
    "So, in an actual game, a dictionary might be a good choice to score each player's personal high score. It would not necessarily be the best choice to store a traditional high score table, because then you might expect the same person's name to occur multiple times. These are the kinds of things to think about when deciding what data structure to use.\n",
    "\n",
    "The value of the key-value pair *can* be mutable, so it is possible to store a list for each key, thereby effectively storing multiple values per key provided you account for this in the syntax:"
   ]
  },
  {
   "cell_type": "code",
   "execution_count": 15,
   "metadata": {},
   "outputs": [
    {
     "data": {
      "text/plain": [
       "{'ray': [5000], 'ali': [3000, 7000], 'sam': [2000, 1000]}"
      ]
     },
     "execution_count": 15,
     "metadata": {},
     "output_type": "execute_result"
    }
   ],
   "source": [
    "recent_scores = {\"ray\": [5000], \"ali\": [3000], \"sam\": [2000]}\n",
    "recent_scores[\"ali\"].append(7000)\n",
    "recent_scores[\"sam\"].append(1000)\n",
    "recent_scores"
   ]
  },
  {
   "cell_type": "markdown",
   "metadata": {},
   "source": [
    "You can use the `.keys()` and `.values()` methods on a dictionary to get quick access to just its keys or values. This allows statements like:"
   ]
  },
  {
   "cell_type": "code",
   "execution_count": 5,
   "metadata": {},
   "outputs": [
    {
     "data": {
      "text/plain": [
       "dict_keys"
      ]
     },
     "execution_count": 5,
     "metadata": {},
     "output_type": "execute_result"
    }
   ],
   "source": [
    "high_scores = {\"ray\": 5000, \"ali\": 3000, \"sam\": 2000}\n",
    "max(high_scores.values())\n",
    "\n",
    "type(high_scores.keys())"
   ]
  },
  {
   "cell_type": "markdown",
   "metadata": {},
   "source": [
    "#### Iteration\n",
    "If you want to iterate through each item of a dictionary then the easiest method is to iterate through its keys, then you can retrieve the value for each key by querying the dictionary. In fact, using a dictionary as the target of a for each loop directly will give you the keys by default. Take some time to read through and understand the code below:"
   ]
  },
  {
   "cell_type": "code",
   "execution_count": 1,
   "metadata": {},
   "outputs": [
    {
     "name": "stdout",
     "output_type": "stream",
     "text": [
      "The top player today was **ali** with a score of **7000**!\n"
     ]
    }
   ],
   "source": [
    "def winning_score(scores):\n",
    "    top_player = \"\"\n",
    "    top_score = -1\n",
    "    for key in scores:\n",
    "        player_scores = scores[key]\n",
    "        max_score = max(player_scores)\n",
    "        if max_score > top_score:\n",
    "            top_player = key\n",
    "            top_score = max_score\n",
    "    return top_player, top_score\n",
    "\n",
    "recent_scores = {\"ray\": [5000], \"ali\": [3000, 7000], \"sam\": [2000, 1000]}\n",
    "player, score = winning_score(recent_scores)\n",
    "print(f\"The top player today was **{player}** with a score of **{score}**!\")"
   ]
  },
  {
   "cell_type": "markdown",
   "metadata": {},
   "source": [
    "When you are dealing with data you will often find yourself having to navigate through the data structure to actually get the data you are looking for. Just like in the example above, we have stored our score data in a format that is perfectly sensible, but it requires a little bit of work to get the winning score. \n",
    "\n",
    "This is something worth bearing in mind as you move into this week's final section, but first let's see some exercises!"
   ]
  },
  {
   "cell_type": "markdown",
   "metadata": {},
   "source": [
    "### Questions\n",
    "#### Question 1:  Longest Value\n",
    "Given a dictionary, return the *key* of the element whose *value* has the longest result for the function `len`. \n",
    "\n",
    "The dictionary will only contain values which support the `len` function. So it could include strings, tuples, lists, a mix of these, and so on. Only a single element will have the longest value."
   ]
  },
  {
   "cell_type": "code",
   "execution_count": 18,
   "metadata": {},
   "outputs": [
    {
     "name": "stdout",
     "output_type": "stream",
     "text": [
      "Example tests for function longest_value\n",
      "\n",
      "Test 1/5: longest_value({'a': 'a'}) -> 'a'\n",
      "Test 2/5: longest_value({'a': 'a', 'b': 'bb', 'c': 'ccc'}) -> 'c'\n",
      "Test 3/5: longest_value({'c': '0', 'b': '000', 'd': '00'}) -> 'b'\n",
      "Test 4/5: longest_value({'dog': (0, 1, 1, 1, 0), 'egg': (0, 1, 1, 0), 'cat': (0, 1, 0), 'fox': (0, 0)}) -> 'dog'\n",
      "Test 5/5: longest_value({'a': 'aaaaa', 2: (1, 2, 3, 4), (3,): {'ccc': 2, 'ddd': 3}, 'four': {0, -100, 100}}) -> 'a'\n"
     ]
    }
   ],
   "source": [
    "%run ../scripts/show_examples.py ./questions/3.3/longest_value"
   ]
  },
  {
   "cell_type": "code",
   "execution_count": null,
   "metadata": {
    "scrolled": false
   },
   "outputs": [],
   "source": [
    "def longest_value(dictionary):\n",
    "    pass\n",
    "\n",
    "%run -i ../scripts/function_tester.py ./questions/3.3/longest_value"
   ]
  },
  {
   "cell_type": "markdown",
   "metadata": {},
   "source": [
    "#### Question 2: Substitution Cipher\n",
    "Given a lower case string and a dictionary containing substitutions from one letter to another, return the string that results by making all of the substitutions. So the following dictionary `{\"t\": \"f\"}` will replace all `t`s with `f`s."
   ]
  },
  {
   "cell_type": "code",
   "execution_count": 19,
   "metadata": {},
   "outputs": [
    {
     "name": "stdout",
     "output_type": "stream",
     "text": [
      "Example tests for function sub_cipher\n",
      "\n",
      "Test 1/5: sub_cipher('test', {'t': 'f'}) -> 'fesf'\n",
      "Test 2/5: sub_cipher('pear', {'r': 'p', 'p': 'r'}) -> 'reap'\n",
      "Test 3/5: sub_cipher('string', {}) -> 'string'\n",
      "Test 4/5: sub_cipher('011011', {'0': '1', '1': '0'}) -> '100100'\n",
      "Test 5/5: sub_cipher('hello!', {'!': '?'}) -> 'hello?'\n"
     ]
    }
   ],
   "source": [
    "%run ../scripts/show_examples.py ./questions/3.3/sub_cipher"
   ]
  },
  {
   "cell_type": "code",
   "execution_count": null,
   "metadata": {},
   "outputs": [],
   "source": [
    "def sub_cipher(s, dic):\n",
    "    pass\n",
    "\n",
    "%run -i ../scripts/function_tester.py ./questions/3.3/sub_cipher"
   ]
  },
  {
   "cell_type": "markdown",
   "metadata": {},
   "source": [
    "#### Question 3: Longest Cycle\n",
    "Given a dictionary, return the length of the longest *cycle*. \n",
    "\n",
    "For the purposes of this question, a cycle is defined as a repeating sequence of elements found by using the *value* of one element as the *key* of the next element. For example, suppose 1 maps to 4 which maps to 2 which maps to 1. We could represent this cycle in the following dictionary: `{1: 4, 4: 2, 2: 1}`, the cycle has length 3.\n",
    "\n",
    "The following dictionary has two independent cycles. To make it clearer, one is made only of integers, and one is made only of single character strings: \n",
    "\n",
    "`{1: 4, \"b\": \"a\", \"h\": \"b\", 2: 1, \"a\": \"t\", 4: 2, \"t\": \"h\"}` \n",
    "\n",
    "Can you detangle the two cycles just by inspection? What are they?\n",
    "\n",
    "Once you've worked it out, you'll see that the cycle of integers has length 3, and the cycle of strings has length 4. So given this dictionary, the function you write for this exercise should return 4, because this is the length of the longest cycle.\n",
    "\n",
    "*Your code must not modify the dictionary that is passed in!* You can, of course, make a *copy* of the dictionary which you then modify. You can always look up how to do specific things (like making a copy of a dictionary or removing elements from a dictionary) online."
   ]
  },
  {
   "cell_type": "code",
   "execution_count": 20,
   "metadata": {},
   "outputs": [
    {
     "name": "stdout",
     "output_type": "stream",
     "text": [
      "Example tests for function longest_cycle\n",
      "\n",
      "Test 1/5: longest_cycle({1: 4, 4: 2, 2: 1}) -> 3\n",
      "Test 2/5: longest_cycle({}) -> 0\n",
      "Test 3/5: longest_cycle({12754: 12754, 'mpz': 'mpz', 'dxx': 'dxx', 9066: 9066}) -> 1\n",
      "Test 4/5: longest_cycle({1: 4, 'b': 'a', 'h': 'b', 2: 1, 'a': 't', 4: 2, 't': 'h'}) -> 4\n",
      "Test 5/5: longest_cycle({3: 1, 1: 3, 'x': 'x', 'j': 'z', 'z': 'j', 6: 6}) -> 2\n"
     ]
    }
   ],
   "source": [
    "%run ../scripts/show_examples.py ./questions/3.3/longest_cycle"
   ]
  },
  {
   "cell_type": "code",
   "execution_count": null,
   "metadata": {},
   "outputs": [],
   "source": [
    "def longest_cycle(dic):\n",
    "    pass\n",
    "\n",
    "%run -i ../scripts/function_tester.py ./questions/3.3/longest_cycle"
   ]
  },
  {
   "cell_type": "markdown",
   "metadata": {},
   "source": [
    "## What Next?\n",
    "When you are done with this notebook, go back to Engage and move onto the next section."
   ]
  }
 ],
 "metadata": {
  "kernelspec": {
   "display_name": "Python 3 (ipykernel)",
   "language": "python",
   "name": "python3"
  },
  "language_info": {
   "codemirror_mode": {
    "name": "ipython",
    "version": 3
   },
   "file_extension": ".py",
   "mimetype": "text/x-python",
   "name": "python",
   "nbconvert_exporter": "python",
   "pygments_lexer": "ipython3",
   "version": "3.11.4"
  }
 },
 "nbformat": 4,
 "nbformat_minor": 2
}
