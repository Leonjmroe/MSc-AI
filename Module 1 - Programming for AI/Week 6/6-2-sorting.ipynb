{
 "cells": [
  {
   "attachments": {},
   "cell_type": "markdown",
   "metadata": {},
   "source": [
    "## 6.2 – Sorting\n",
    "### Selection Sort\n",
    "Hopefully you're happy with the idea of sorting from the material on Engage, so let's cut to the chase and introduce the first sorting algorithm: *selection sort*.\n",
    "\n",
    "The basic idea behind selection sort is to build up the sorted list of items by repeatedly taking the smallest item from the input list and moving it into the correct place in the sorted list. \n",
    "\n",
    "This animation demonstrates the process:\n",
    "\n",
    "<br /><video controls loop autoplay width=600 src=\"./resources/selection_sort.mp4\">\n",
    "</video>\n",
    "\n",
    "#### Implementation Details\n",
    "We spoke previously about how we can think about code at three levels: algorithm, pseudocode, implementation; each one requiring more implementation detail – choices to get the algorithm to work. We have described selection sort as an abstract idea, you can understand how the algorithm sorts the list. But the animation above is not actually all that precise, what is it doing? Creating a new list? Moving items around within a list?\n",
    "\n",
    "Either could be described as the selection sort algorithm, but it makes sense to show you the more *memory* efficient version, which does move items around *in-place* i.e. within the list itself, using only *swaps*, therefore requiring only constant $O(1)$ memory.\n",
    "\n",
    "Here is an animation the same list, this time clearly using the in-place version of selection sort using swaps:\n",
    "\n",
    "<br /><video controls loop autoplay width=600 src=\"./resources/selection_sort2.mp4\">\n",
    "</video>\n",
    "\n",
    "A swap of two items in Python can be done nicely with tuple packing syntax\n",
    "\n",
    "```python\n",
    "a, b = b, a\n",
    "```\n",
    "\n",
    "or the old fashioned way using a temporary variable\n",
    "\n",
    "```python\n",
    "temp = a\n",
    "a = b\n",
    "b = temp\n",
    "```\n",
    "\n",
    "again the point is not to calculate how much extra memory is used exactly, but to observe how it scales with the size of the list. In this case the memory cost does not scale at all, it is constant $O(1)$.\n",
    "\n",
    "#### Implementation\n",
    "As we move towards pseudocode and eventually the implementation itself we must make more and more details concrete. Below is an implementation of selection sort in Python – notice it is a procedure, it modifies the list in-place.\n",
    "\n",
    "As an exercise, try writing down a set of steps as pseudocode – code-like syntax that is not specific to Python. Did the choice of Python force us to make any specific decisions we might not have if we were explaining it in a more abstract form?"
   ]
  },
  {
   "cell_type": "code",
   "execution_count": 1,
   "metadata": {},
   "outputs": [
    {
     "name": "stdout",
     "output_type": "stream",
     "text": [
      "[4, 9, 19, 22, 35, 37, 42, 53]\n"
     ]
    }
   ],
   "source": [
    "def selection_sort(my_list):\n",
    "    for i in range(0, len(my_list)-1):\n",
    "        # look for smallest item in rest of list, to swap with item in position i\n",
    "        \n",
    "        min_index = i\n",
    "        for j in range(i + 1, len(my_list)):\n",
    "            if my_list[j] < my_list[min_index]:\n",
    "                min_index = j\n",
    "                \n",
    "        if i != min_index:\n",
    "            my_list[i], my_list[min_index] = my_list[min_index], my_list[i]\n",
    "            \n",
    "my_list = [37, 42, 9, 19, 35, 4, 53, 22]\n",
    "selection_sort(my_list)\n",
    "print(my_list)"
   ]
  },
  {
   "attachments": {},
   "cell_type": "markdown",
   "metadata": {},
   "source": [
    "#### Selection Sort Complexity\n",
    "When considering the time complexity of sorting algorithms, we usually consider the *comparison* to be the constant time element, as with search. This makes selection sort quite easy to analyse since it always performs the same number. On the first iteration for an input of size $n$ it will check $n-1$ items to find the smallest, on the next iteration it will check $n-2$, then $n-3$ and so on. \n",
    "\n",
    "The exact sum is quite easy to calculate using the formula for the sum of consecutive integers, but remember we are not *really* interested in the exact sum. The biggest term in the final formula will be $n^2$, meaning we have a complexity of $O(n^2)$, we do not care about any other terms in the sum or constant factors. It's actually quite easy to see this complexity arise directly from the code: there are two nested for loops, both of which do approximately $n$ iterations, so the final result should be $n \\times n = n^2$.\n",
    "\n",
    "In addition, the complexity is always the same: selection sort is best, worst, and average case complexity of $O(n^2)$.\n",
    "\n",
    "#### Instability\n",
    "The final thing to point out is that selection sort is an *unstable* sorting algorithm in this implementation. This means that equal items are not guaranteed to be in the same order after sorting. \n",
    "\n",
    "That might initially seem like an odd idea: surely `9` always equals `9`? Well, it does! If you are sorting a list of integers you have nothing to worry about.\n",
    "\n",
    "But imagine you were sorting cards by number: the 9 of spades might be before the 9 of hearts in the input, but *after* in the output. \n",
    "\n",
    "To demonstrate, we need to tweak the function. If we compare Python tuples using `<` it will compare each item in turn:"
   ]
  },
  {
   "cell_type": "code",
   "execution_count": 2,
   "metadata": {},
   "outputs": [
    {
     "data": {
      "text/plain": [
       "False"
      ]
     },
     "execution_count": 2,
     "metadata": {},
     "output_type": "execute_result"
    }
   ],
   "source": [
    "(9, \"♥\") < (9, \"♠\")"
   ]
  },
  {
   "cell_type": "code",
   "execution_count": 3,
   "metadata": {},
   "outputs": [
    {
     "data": {
      "text/plain": [
       "True"
      ]
     },
     "execution_count": 3,
     "metadata": {},
     "output_type": "execute_result"
    }
   ],
   "source": [
    "(9, \"♥\") > (9, \"♠\")"
   ]
  },
  {
   "cell_type": "markdown",
   "metadata": {},
   "source": [
    "The strings `\"♥\"` and `\"♠\"` are automatically compared to break the tie between the two 9s. If we sort a list of tuples that represent playing cards, it will sort by number first, then by whichever suit happens to have the lower character encoding. We don't want that – a stable short should be able to sort by the first element and leave all the other elements in their original order.\n",
    "\n",
    "Let's enhance our selection sort function with a `key` parameter, which takes a function to be applied to each element in the list being sorted. By default it will still compare each item whole, but it will allow us to customise the behaviour from the perspective of the caller."
   ]
  },
  {
   "cell_type": "code",
   "execution_count": 4,
   "metadata": {},
   "outputs": [
    {
     "name": "stdout",
     "output_type": "stream",
     "text": [
      "[4, 9, 19, 22, 35, 37, 42, 53]\n"
     ]
    }
   ],
   "source": [
    "def selection_sort(my_list, key=lambda x:x):\n",
    "    for i in range(0, len(my_list)-1):\n",
    "        # look for smallest item in rest of list, to swap with item in position i\n",
    "        \n",
    "        min_index = i\n",
    "        for j in range(i + 1, len(my_list)):\n",
    "            if key(my_list[j]) < key(my_list[min_index]):\n",
    "                min_index = j\n",
    "                \n",
    "        if i != min_index:\n",
    "            my_list[i], my_list[min_index] = my_list[min_index], my_list[i]\n",
    "            \n",
    "my_list = [37, 42, 9, 19, 35, 4, 53, 22]\n",
    "selection_sort(my_list)\n",
    "print(my_list)"
   ]
  },
  {
   "cell_type": "markdown",
   "metadata": {},
   "source": [
    "Now the key is applied to each item being compared: take a look at the code change and make sure you understand it!\n",
    "\n",
    "You can see the old example still works fine, also.\n",
    "\n",
    "Now we can call the function and provide a new `key` function which says to only consider the first item when looking for the minimum:"
   ]
  },
  {
   "cell_type": "code",
   "execution_count": 5,
   "metadata": {},
   "outputs": [
    {
     "name": "stdout",
     "output_type": "stream",
     "text": [
      "[(4, '♣'), (9, '♥'), (9, '♠')]\n"
     ]
    }
   ],
   "source": [
    "my_cards = [(9, \"♠\"), (9, \"♥\"), (4, \"♣\")]\n",
    "selection_sort(my_cards, key=lambda t: t[0])\n",
    "print(my_cards)"
   ]
  },
  {
   "cell_type": "markdown",
   "metadata": {},
   "source": [
    "If you follow the logic of the algorithm, I hope it is pretty easy to see why, despite the fact that we made sure the function only considered the first item, we still ended up with the order of the two 9-cards reversed compared to our original list. \n",
    "\n",
    "Notice as we described above, the default ordering of the suit strings would put `\"♠\"` before `\"♥\"` *anyway*, so at least the `key` argument is definitely working!\n",
    "\n",
    "## What Next?\n",
    "Make sure you have a thorough look and understand this code. Once you have, move on to the next section on Engage."
   ]
  }
 ],
 "metadata": {
  "kernelspec": {
   "display_name": "Python 3 (ipykernel)",
   "language": "python",
   "name": "python3"
  },
  "language_info": {
   "codemirror_mode": {
    "name": "ipython",
    "version": 3
   },
   "file_extension": ".py",
   "mimetype": "text/x-python",
   "name": "python",
   "nbconvert_exporter": "python",
   "pygments_lexer": "ipython3",
   "version": "3.11.4"
  }
 },
 "nbformat": 4,
 "nbformat_minor": 4
}
