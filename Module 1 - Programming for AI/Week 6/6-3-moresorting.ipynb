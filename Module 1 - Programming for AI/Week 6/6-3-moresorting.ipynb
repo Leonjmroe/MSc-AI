{
 "cells": [
  {
   "cell_type": "markdown",
   "metadata": {},
   "source": [
    "## 6.3 – More Sorting\n",
    "### Comparing Objects\n",
    "Remember in the last section we mentioned the fact that our implementation of selection sort was *unstable* – for objects with equal value they are not guaranteed to remain in the same order. \n",
    "\n",
    "In this selection we'll introduce *insertion sort*, which has a stable implementation. But first, the issue of stability highlights the fact that there can be more to an object than just a simple value. This makes sense if we think about it within the object oriented programming framework – objects have many attributes and methods, for any two given objects it might not be obvious how to *order* them. In fact, it might not even be obvious whether two objects are even *equal*!\n",
    "\n",
    "So here's a nice collection of Python features. You can actually define these things for your own classes. If you try to use `<` with two objects, you get an error:"
   ]
  },
  {
   "cell_type": "code",
   "execution_count": 1,
   "metadata": {},
   "outputs": [
    {
     "ename": "TypeError",
     "evalue": "'<' not supported between instances of 'PlayingCard' and 'PlayingCard'",
     "output_type": "error",
     "traceback": [
      "\u001b[0;31m---------------------------------------------------------------------------\u001b[0m",
      "\u001b[0;31mTypeError\u001b[0m                                 Traceback (most recent call last)",
      "\u001b[0;32m<ipython-input-1-dc7bae07737a>\u001b[0m in \u001b[0;36m<module>\u001b[0;34m\u001b[0m\n\u001b[1;32m      7\u001b[0m \u001b[0mnine_of_spades\u001b[0m \u001b[0;34m=\u001b[0m \u001b[0mPlayingCard\u001b[0m\u001b[0;34m(\u001b[0m\u001b[0;36m9\u001b[0m\u001b[0;34m,\u001b[0m \u001b[0;34m\"♠\"\u001b[0m\u001b[0;34m)\u001b[0m\u001b[0;34m\u001b[0m\u001b[0;34m\u001b[0m\u001b[0m\n\u001b[1;32m      8\u001b[0m \u001b[0;34m\u001b[0m\u001b[0m\n\u001b[0;32m----> 9\u001b[0;31m \u001b[0mnine_of_hearts\u001b[0m \u001b[0;34m<\u001b[0m \u001b[0mnine_of_spades\u001b[0m\u001b[0;34m\u001b[0m\u001b[0;34m\u001b[0m\u001b[0m\n\u001b[0m",
      "\u001b[0;31mTypeError\u001b[0m: '<' not supported between instances of 'PlayingCard' and 'PlayingCard'"
     ]
    }
   ],
   "source": [
    "class PlayingCard:\n",
    "    def __init__(self, number, suit):\n",
    "        self.number = number\n",
    "        self.suit = suit\n",
    "        \n",
    "nine_of_hearts = PlayingCard(9, \"♥\")\n",
    "nine_of_spades = PlayingCard(9, \"♠\")\n",
    "\n",
    "nine_of_hearts < nine_of_spades"
   ]
  },
  {
   "cell_type": "markdown",
   "metadata": {},
   "source": [
    "In addition, you can use `==` on these objects, but it will check whether the two objects are *literally* the same object. Remember objects are mutable, so if we create two instances which happen to have the same contents, they are still two separate instances in memory – they must be, we might change one and the other should remain the same. But the code below looks a bit odd:"
   ]
  },
  {
   "cell_type": "code",
   "execution_count": 2,
   "metadata": {},
   "outputs": [
    {
     "data": {
      "text/plain": [
       "False"
      ]
     },
     "execution_count": 2,
     "metadata": {},
     "output_type": "execute_result"
    }
   ],
   "source": [
    "nine_of_hearts1 = PlayingCard(9, \"♥\")\n",
    "nine_of_hearts2 = PlayingCard(9, \"♥\")\n",
    "\n",
    "nine_of_hearts1 == nine_of_hearts2"
   ]
  },
  {
   "cell_type": "markdown",
   "metadata": {},
   "source": [
    "Thankfully Python has an easy way to support custom behaviour for these operators. Perhaps we are playing a card game where suit does not matter, so the cards should just be compared on value.\n",
    "\n",
    "First of all, we can override the `__eq__` method to define our own notion of equality. This will change the behaviour of `==`, but also affect code that uses keywords like `in`, e.g. `if card in hand_of_cards`. \n",
    "\n",
    "It's worth noting that if you do choose to override `__eq__` you *should* also override `__hash__`. We'll come back to *hash functions* in next week's material to learn why, but the simple answer is that sets and dictionaries will break for your objects if you do not. For now you can [read more here](https://docs.python.org/3/reference/datamodel.html#object.__hash__), but I am going to be lazy and only override `__eq__` until we learn more about what hash functions do next week.\n",
    "\n",
    "In addition, we can implement a method called `__lt__` (less than) to enable the `<` operator:"
   ]
  },
  {
   "cell_type": "code",
   "execution_count": 3,
   "metadata": {},
   "outputs": [
    {
     "name": "stdout",
     "output_type": "stream",
     "text": [
      "False\n",
      "False\n"
     ]
    }
   ],
   "source": [
    "class PlayingCard:\n",
    "    def __init__(self, number, suit):\n",
    "        self.number = number\n",
    "        self.suit = suit\n",
    "        \n",
    "    def __eq__(self, other):\n",
    "        if type(other) is type(self):\n",
    "            return self.number == other.number\n",
    "        else:\n",
    "            return NotImplemented\n",
    "        \n",
    "    def __lt__(self, other):\n",
    "        if type(other) is type(self):\n",
    "            return self.number < other.number\n",
    "        else:\n",
    "            return NotImplemented\n",
    "        \n",
    "    def __str__(self):\n",
    "        return f\"{self.number}{self.suit}\"\n",
    "    \n",
    "    def __repr__(self):\n",
    "        return f\"{self.number}{self.suit}\"\n",
    "        \n",
    "        \n",
    "nine_of_hearts = PlayingCard(9, \"♥\")\n",
    "nine_of_spades = PlayingCard(9, \"♠\")\n",
    "\n",
    "print(nine_of_hearts < nine_of_spades)\n",
    "print(nine_of_spades < nine_of_hearts)"
   ]
  },
  {
   "cell_type": "code",
   "execution_count": 4,
   "metadata": {},
   "outputs": [
    {
     "data": {
      "text/plain": [
       "True"
      ]
     },
     "execution_count": 4,
     "metadata": {},
     "output_type": "execute_result"
    }
   ],
   "source": [
    "nine_of_hearts1 = PlayingCard(9, \"♥\")\n",
    "nine_of_hearts2 = PlayingCard(9, \"♥\")\n",
    "\n",
    "nine_of_hearts1 == nine_of_hearts2"
   ]
  },
  {
   "cell_type": "markdown",
   "metadata": {},
   "source": [
    "Notice if we want the old behaviour which compares whether the two objects are identical, we can do that with the `is` operator:"
   ]
  },
  {
   "cell_type": "code",
   "execution_count": 5,
   "metadata": {
    "scrolled": true
   },
   "outputs": [
    {
     "data": {
      "text/plain": [
       "False"
      ]
     },
     "execution_count": 5,
     "metadata": {},
     "output_type": "execute_result"
    }
   ],
   "source": [
    "nine_of_hearts1 is nine_of_hearts2"
   ]
  },
  {
   "cell_type": "markdown",
   "metadata": {},
   "source": [
    "Also worth explaining `__str__` and `__repr__`. These are called when Python wants a string based representation of the object. `str` is for a human-readable version of the string – called if you print the object. `repr` is supposed to give an unambiguous representation, it will be called by debuggers for example, but it also gets called when we put multiple items in a list and print the list, so it's helpful for us to define both (here they return the same thing)."
   ]
  },
  {
   "cell_type": "code",
   "execution_count": 6,
   "metadata": {},
   "outputs": [
    {
     "name": "stdout",
     "output_type": "stream",
     "text": [
      "9♥\n",
      "[9♠, 9♥]\n"
     ]
    }
   ],
   "source": [
    "print(PlayingCard(9, \"♥\"))\n",
    "print([PlayingCard(9, \"♠\"), PlayingCard(9, \"♥\")])"
   ]
  },
  {
   "cell_type": "markdown",
   "metadata": {},
   "source": [
    "And as a final note, we obviously haven't implemented any of the other operators, and there are corresponding methods like `__gt__` for `>` or `__le__` for `<=`. It is quite a bore to go through and implement them all, so you can use a decorator from the `functools` module to help [if you want](https://docs.python.org/3/library/functools.html#functools.total_ordering). \n",
    "\n",
    "### Insertion Sort\n",
    "Now we can finally get around to the stable sort implementation. Insertion sort is actually similar to selection sort in the sense that it builds up the sorted list one element at a time. And like insertion sort, while we could implement it creating a new list, it is more efficient to have it work in-place.\n",
    "\n",
    "Here is the basic idea: at the start of iteration $k$ we assume that the sub-list of just the first $k$ elements is already sorted. Obviously this is okay because on iteration number 1 we only need to consider the first element as its own list, and any list of length 1 must be considered sorted.\n",
    "\n",
    "Then you take the next element from the list (the item at position `k` in the list, assuming zero-indexing – so the item directly after your sorted sub-list) and you store this item in a temporary variable. Now you go backwards through the array, checking the item at position `i = k-1`, `k-2`, `k-3`, and so on. Each time, you compare the item to the temporary variable: if it is less than or equal, you stop and insert the temporary variable value into position `i+1`. If the item is bigger, you move it one item to the right in the array, and continue moving down.\n",
    "\n",
    "We will need to test for either “less than or equal” or “greater than” in our code, but we did not implement these for the `PlayingCard` class. But we did implement `__lt__` and `__eq__`, so we can combine both in the code below to avoid having to redefine the class with new methods.\n",
    "\n",
    "Have a look at the code below to ensure you understand!"
   ]
  },
  {
   "cell_type": "code",
   "execution_count": 7,
   "metadata": {},
   "outputs": [
    {
     "name": "stdout",
     "output_type": "stream",
     "text": [
      "[4, 9, 19, 22, 35, 37, 42, 53]\n"
     ]
    }
   ],
   "source": [
    "def insertion_sort(my_list):\n",
    "    for k in range(1, len(my_list)):\n",
    "        temp = my_list[k]\n",
    "        \n",
    "        for i in reversed(range(-1, k)):\n",
    "            if i == -1 or (my_list[i] < temp or my_list[i] == temp):\n",
    "                my_list[i+1] = temp\n",
    "                break\n",
    "            else:\n",
    "                my_list[i+1] = my_list[i]\n",
    "    \n",
    "\n",
    "my_list = [37, 42, 9, 19, 35, 4, 53, 22]\n",
    "insertion_sort(my_list)\n",
    "print(my_list)"
   ]
  },
  {
   "cell_type": "code",
   "execution_count": 8,
   "metadata": {},
   "outputs": [
    {
     "name": "stdout",
     "output_type": "stream",
     "text": [
      "[4♣, 9♠, 9♥]\n"
     ]
    }
   ],
   "source": [
    "my_cards = [PlayingCard(9, \"♠\"), PlayingCard(9, \"♥\"), PlayingCard(4, \"♣\")]\n",
    "insertion_sort(my_cards)\n",
    "print(my_cards)"
   ]
  },
  {
   "cell_type": "markdown",
   "metadata": {},
   "source": [
    "Notice the list has been sorted successfully, and the order is stable: the two 9s are in the same positions they were at the start.\n",
    "\n",
    "***Exercise:*** go and modify the code for the PlayingCard class, using the `total_ordering` [decorator](https://docs.python.org/3/library/functools.html#functools.total_ordering) from `functools` to enable the use of `<=`, then modify the `insertion_sort` function to use that instead of the combination of `<` and `==`.\n",
    "\n",
    "### Insertion Sort Complexity\n",
    "***Have a think about the time complexity of insertion sort before continuing.***\n",
    "\n",
    "In the best case, the complexity is actually $O(n)$, which is when the list is already sorted. In this case the inner for loop will never perform more than one operation, so does not scale with the length of the list at all, so we are just left with the outer for loop for $O(n)$.\n",
    "\n",
    "In the average and worst case, the complexity is $O(n^2)$ again. The worst case is easiest to demonstrate, and occurs when the list is in exactly the reverse order. In that case, both for loops iterate the maximum number of times. The outer for loop repeats $n$ times the inner for loop, which itself repeats $n$ times, so $O(n^2)$. The average case is better, but that inner for loop still scales with the length of the list, and we get the same quadratic complexity class.\n",
    "\n",
    "Insertion sort outperforms selection sort in the number of comparisons, and the closer the list is to already being sorted, the better it performs.\n",
    "\n",
    "It might actually be that the *swapping* of elements is the time-sensitive bottleneck in our system. In that case, selection sort actually performs best. Insertion sort moves its items around more.\n",
    "\n",
    "## What Next?\n",
    "Once you are done, go back to Engage to move onto the next section."
   ]
  }
 ],
 "metadata": {
  "kernelspec": {
   "display_name": "Python 3 (ipykernel)",
   "language": "python",
   "name": "python3"
  },
  "language_info": {
   "codemirror_mode": {
    "name": "ipython",
    "version": 3
   },
   "file_extension": ".py",
   "mimetype": "text/x-python",
   "name": "python",
   "nbconvert_exporter": "python",
   "pygments_lexer": "ipython3",
   "version": "3.11.4"
  }
 },
 "nbformat": 4,
 "nbformat_minor": 4
}
