{
 "cells": [
  {
   "cell_type": "markdown",
   "metadata": {},
   "source": [
    "## 6.4 – Faster Sorting\n",
    "### Quick Sort\n",
    "Can you imagine a better name for an algorithm? Quick sort is faster than any of the sorts we've seen so far.\n",
    "\n",
    "Here is the idea: start by choosing a *pivot* item – for the purposes of the algorithm, any item will do, let's suppose we pick the last item in the list:\n",
    "\n",
    "<table><tbody><tr><td>37</td><td>42</td><td>9</td><td>19</td><td>35</td><td>4</td><td>53</td><td><b><u>22</u></b></td></tr></tbody></table>\n",
    "\n",
    "Next, write the pivot item down on its own:\n",
    "\n",
    "<table><tbody><tr><td><b><u>22</u></b></td></tr></tbody></table>\n",
    "\n",
    "Now we need to go through each item in the original list, and write it on the correct *side* of the pivot. We aren't comparing the items to each other, only to the pivot. So we get:\n",
    "\n",
    "<table><tbody><tr><td>9</td><td>19</td><td>4</td><td><b><u>22</u></b></td><td>35</td><td>37</td><td>53</td><td>42</td></tr></tbody></table>\n",
    "\n",
    "This is one iteration – the list has been split into two unsorted sublists. Now we can apply the same process again to both halves. Hopefully, this is screaming *recursion* to you! We want to *quick sort* the left list, then quick sort the right list. This is one situation where implementing this with a loop will actually be significantly more tricky.\n",
    "\n",
    "#### Partitioning\n",
    "So how is this implemented? Hopefully the recursion hasn't scared you off. But even then, the details are lacking on how to actually sort the items to the left and right of the pivot. It's easy to do this on paper with a few numbers, how do we do it with a limited amount of memory – ideally in-place?\n",
    "\n",
    "There are actually various ways to do this, and the one I'm going to use here is called Lomuto partitioning. It can handle any pivot, but the simplest version works when it is at one of the ends, so using the last element here is useful for simplicity.\n",
    "\n",
    "The basic idea is to create a “pointer” which starts at the first position of the list – in other words, a variable set to `0`. Then we go through each item in the list in turn and compare its value with the *pivot*. If the value is smaller than the pivot, then we swap the value with the value in the *pointer* position, *and* we increase the pointer by one. Eventually we reach the last item (the pivot), at which point we swap it with the final position of the pointer. By doing this we will have ensured that all the items smaller than the pivot end up to the left of the pivot in the list. Additionally, the pivot is guaranteed to be in its final position, so we can sort the sublists left and right of the pivot without including it.\n",
    "\n",
    "Here is an animation demonstrating a single round of Lomuto partitioning. Watch it carefully to understand it.\n",
    "\n",
    "<br /><video controls loop autoplay width=600 src=\"./resources/quick_sort.mp4\">\n",
    "</video>\n",
    "\n",
    "#### Implementation\n",
    "And here is a Python implementation. Notice the implementation details again: much like the binary sort, we are able to avoid creating new lists by using `start` and `end` variables which tell us which section of the list to sort."
   ]
  },
  {
   "cell_type": "code",
   "execution_count": 1,
   "metadata": {},
   "outputs": [
    {
     "name": "stdout",
     "output_type": "stream",
     "text": [
      "[4, 9, 19, 22, 35, 37, 42, 53]\n"
     ]
    }
   ],
   "source": [
    "def quick_sort(my_list, start=None, end=None):\n",
    "    if start is None:\n",
    "        start = 0\n",
    "    if end is None:\n",
    "        end = len(my_list)\n",
    "        \n",
    "    if end-start <= 1:\n",
    "        return\n",
    "        \n",
    "    ptr = start\n",
    "    pivot = end-1\n",
    "    for i in range(start, end):\n",
    "        if my_list[i] < my_list[pivot]:\n",
    "            my_list[i], my_list[ptr] = my_list[ptr], my_list[i]\n",
    "            ptr += 1\n",
    "            \n",
    "    my_list[pivot], my_list[ptr] = my_list[ptr], my_list[pivot]\n",
    "    \n",
    "    quick_sort(my_list, start=start, end=ptr)\n",
    "    quick_sort(my_list, start=ptr+1, end=end)\n",
    "    \n",
    "my_list = [37, 42, 9, 19, 35, 4, 53, 22]\n",
    "quick_sort(my_list)\n",
    "print(my_list)"
   ]
  },
  {
   "cell_type": "markdown",
   "metadata": {},
   "source": [
    "### Quick Sort Complexity\n",
    "If the name weren't enough, we've already spoiled the fact that quick sort has a better complexity class than selection sort and insertion sort. But can you work out exactly what it is?\n",
    "\n",
    "***Try to work out the complexity of quick sort before continuing.***\n",
    "\n",
    "Quick sort is efficient because it takes a *divide and conquer* approach: it finds a way to split the list into two halves, then treat each of those the same – much like binary search. This is generally a good approach to take to find a fast algorithm, if you can.\n",
    "\n",
    "As for the exact complexity, in the previous $O(n^2)$ algorithms we ended up noticing a pattern of nested for loops, each one contributing $n$ to the overall picture. Again the body of the quick sort algorithm includes another for loop which spans the length of the list, so it contributes at least $O(n)$.\n",
    "\n",
    "But the “outer” loop is obscured slightly because of the recursion. The way to think about this is to think back to binary search again. Provided quick sort manages to split the list roughly in half each time it repeats, the total number of halving operations will be *logarithmic*. Of course, unlike binary search, we check both halves – but in big O notation, $O(2 \\log(n))$ is the same as $O(\\log(n))$\n",
    "\n",
    "So each run of the function performs $n$ comparisons, and we do this $\\log(n)$ times, giving us the final average and best case complexity: $O(n \\log(n))$. \n",
    "\n",
    "We mentioned before that $O(\\log(n))$ is significantly better than $O(n)$, and likewise, $O(n \\log(n))$ is significantly better than $O(n^2)$. In fact, it has been proven that this is the best possible complexity for a sorting algorithm in the average case – it is not possible to create an algorithm which sorts in $O(n)$ time for example.\n",
    "\n",
    "There are a couple of sticking points left to deal with for quick sort. First of all, we mentioned that $O(n \\log(n))$ was the best and average case complexity. In the worst case, the pivot is either the largest or smallest item in the list. If this happens on every iteration, then the complexity degrades to $O(n^2)$! Unfortunately for our method of choosing the pivot, if the list is already sorted or in reverse order we will be guaranteed to see this behaviour. This is a good reason to pick a different pivot, and there is lots of work on trying to determine the best strategy here.\n",
    "\n",
    "Finally, does quick sort use any additional memory? You might be tempted to say no, it *looks* like an in-place algorithm. But actually, these recursive function calls use memory! Every time the function calls itself, Python has to remember the local variables and which line of execution to return to. Because the function calls itself a logarithmic number of times based on the size of the list, quick sort in this implementation actually uses $O(\\log(n))$ additional memory. \n",
    "\n",
    "This shouldn't be too much of a concern – again $\\log(n)$ is really small compared to $n$, especially for large values of $n$, which would normally be our biggest worry. An iterative implementation of the algorithm would not be able to escape this requirement either – we would need to use something like a stack to keep track of the values ourselves (which is exactly how the recursion works, anyway).\n",
    "\n",
    "***Exercise:*** Work out whether this implementation of quick sort is *stable*.\n",
    "\n",
    "***Exercise 2:*** How do we adapt Lomuto partitioning to work with an arbitrary pivot? Investigate other partitioning options, and methods for selecting the pivot. [Wikipedia](https://en.wikipedia.org/wiki/Quicksort) is a nice place to start.\n",
    "\n",
    "## What Next?\n",
    "Once you understand all of the material and have done the exercises, head back to Engage to move onto the week's wrap up."
   ]
  },
  {
   "cell_type": "code",
   "execution_count": null,
   "metadata": {},
   "outputs": [],
   "source": []
  }
 ],
 "metadata": {
  "kernelspec": {
   "display_name": "Python 3 (ipykernel)",
   "language": "python",
   "name": "python3"
  },
  "language_info": {
   "codemirror_mode": {
    "name": "ipython",
    "version": 3
   },
   "file_extension": ".py",
   "mimetype": "text/x-python",
   "name": "python",
   "nbconvert_exporter": "python",
   "pygments_lexer": "ipython3",
   "version": "3.11.4"
  }
 },
 "nbformat": 4,
 "nbformat_minor": 4
}
