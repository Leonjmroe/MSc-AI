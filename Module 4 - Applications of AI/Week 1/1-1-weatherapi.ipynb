{
 "cells": [
  {
   "cell_type": "markdown",
   "metadata": {},
   "source": [
    "# Applications of Artificial Intelligence\n",
    "## OpenWeather API Example\n",
    "### Introduction\n",
    "In this notebook we'll be looking at a quick demo of how you can call a web API from Python.\n",
    "\n",
    "### Sign Up\n",
    "If you want to get this notebook to run, you will need to sign up for an *API key* from our example API of choice: OpenWeather. The API key is a way of identifying your code and tying your requests to you. Running this kind of service is not free, and every request has a material cost (bandwidth plus development time, maintenance, and so on). In a demo like this, where you might run the notebook a dozen or so times at most, you are not likely to run into any limits – at the time of writing OpenWeather allow up to 60 calls in a minute and up to 1 million calls in a month on their free tier. But if you were to accidentally write code which repeatedly called the API too often, for example, the API key allows the provider to limit your access.\n",
    "\n",
    "You can sign up at the following address: [https://home.openweathermap.org/users/sign_up](https://home.openweathermap.org/users/sign_up)\n",
    "\n",
    "You will get an email confirmation containing your API key, or you can generate one via your account page.\n",
    "\n",
    "If you don't want to sign up, then you can still read all of the text and code in this notebook, and look at the results which are already shown (saved in the notebook itself).\n",
    "\n",
    "If you want to experiment, you could also find a different API provider online and adapt the notebook to work with that instead of OpenWeather.\n",
    "\n",
    "### API Key\n",
    "Insert your API key into the code below, e.g.\n",
    "```\n",
    "api_key = 'eac956b1ca02e957ac8a5d6b9f9d00b5'\n",
    "```"
   ]
  },
  {
   "cell_type": "code",
   "execution_count": 1,
   "metadata": {},
   "outputs": [],
   "source": [
    "api_key = 'insert api key here'"
   ]
  },
  {
   "cell_type": "markdown",
   "metadata": {},
   "source": [
    "### Query Example\n",
    "We'll be using a Python library called `requests` which, if you installed Python via Anaconda, should already be installed (if not, you can install it using `pip` in your terminal).\n",
    "\n",
    "Using `requests` we'll send an HTTP GET request. The details of the URL we need to use is given on the OpenWeather website here: [https://openweathermap.org/current](https://openweathermap.org/current)\n",
    "\n",
    "There are many options, but let's see what the weather is like in Bath today. We can use the URL:\n",
    "```\n",
    "api.openweathermap.org/data/2.5/weather?q=Bath&appid={API key}\n",
    "```\n",
    "\n",
    "The `requests` library requires we also add the protocol (`https://`) to the start of the URL."
   ]
  },
  {
   "cell_type": "code",
   "execution_count": 2,
   "metadata": {},
   "outputs": [
    {
     "name": "stdout",
     "output_type": "stream",
     "text": [
      "<Response [200]>\n"
     ]
    }
   ],
   "source": [
    "import requests\n",
    "\n",
    "weather = requests.get(f\"https://api.openweathermap.org/data/2.5/weather?q=Bath&appid={api_key}\")\n",
    "print(weather)"
   ]
  },
  {
   "cell_type": "markdown",
   "metadata": {},
   "source": [
    "The return type of the `.get` method is a specific `Response` object from the `requests` library:"
   ]
  },
  {
   "cell_type": "code",
   "execution_count": 3,
   "metadata": {},
   "outputs": [
    {
     "data": {
      "text/plain": [
       "requests.models.Response"
      ]
     },
     "execution_count": 3,
     "metadata": {},
     "output_type": "execute_result"
    }
   ],
   "source": [
    "type(weather)"
   ]
  },
  {
   "cell_type": "markdown",
   "metadata": {},
   "source": [
    "As you can see above, printing it alone simply shows the status code, and 200 means success. \n",
    "\n",
    "You may wish to read the `requests` [quick start guide](https://requests.readthedocs.io/en/latest/user/quickstart/) to learn the most common things you are likely to want to do with this `Response` object – not just for API calls, but for HTTP requests in general. Or you may wish to check [the documentation](https://requests.readthedocs.io/en/latest/api/) of the object itself to simply see a full list.\n",
    "\n",
    "Either way, we know that OpenWeather (from its own documentation) is supposed to respond with JSON-coded data. We'll cover more about JSON next week, but for now, think of it as some attribute-value pairs – something that can be stored in a Python dictionary, and that's exactly what we'll do. From the sites above, I know that calling the [`.json()`](https://requests.readthedocs.io/en/latest/api/?highlight=json#requests.Response.json) method of the object will give a Python dictionary containing the JSON data."
   ]
  },
  {
   "cell_type": "code",
   "execution_count": 4,
   "metadata": {},
   "outputs": [
    {
     "name": "stdout",
     "output_type": "stream",
     "text": [
      "{'coord': {'lon': -2.3591, 'lat': 51.3779}, 'weather': [{'id': 803, 'main': 'Clouds', 'description': 'broken clouds', 'icon': '04d'}], 'base': 'stations', 'main': {'temp': 282.3, 'feels_like': 278.18, 'temp_min': 282.04, 'temp_max': 282.59, 'pressure': 1029, 'humidity': 72}, 'visibility': 10000, 'wind': {'speed': 4.1, 'deg': 264}, 'clouds': {'all': 54}, 'dt': 1614273163, 'sys': {'type': 3, 'id': 2013556, 'country': 'GB', 'sunrise': 1614236578, 'sunset': 1614274941}, 'timezone': 0, 'id': 2656173, 'name': 'Bath', 'cod': 200}\n"
     ]
    }
   ],
   "source": [
    "if weather.status_code != 200:\n",
    "    raise Exception(f\"Problem with HTTP request, status code {weather.status_code}\")\n",
    "    \n",
    "# will raise a ValueError if the response does not contain valid JSON\n",
    "weather_dict = weather.json()\n",
    "\n",
    "print(weather_dict)"
   ]
  },
  {
   "cell_type": "markdown",
   "metadata": {},
   "source": [
    "This is quite hard to read, so here's another helpful Python library: \"pretty print\", or `pprint`. It prints data with more formatting to make it easier to read."
   ]
  },
  {
   "cell_type": "code",
   "execution_count": 5,
   "metadata": {},
   "outputs": [
    {
     "name": "stdout",
     "output_type": "stream",
     "text": [
      "{'base': 'stations',\n",
      " 'clouds': {'all': 54},\n",
      " 'cod': 200,\n",
      " 'coord': {'lat': 51.3779, 'lon': -2.3591},\n",
      " 'dt': 1614273163,\n",
      " 'id': 2656173,\n",
      " 'main': {'feels_like': 278.18,\n",
      "          'humidity': 72,\n",
      "          'pressure': 1029,\n",
      "          'temp': 282.3,\n",
      "          'temp_max': 282.59,\n",
      "          'temp_min': 282.04},\n",
      " 'name': 'Bath',\n",
      " 'sys': {'country': 'GB',\n",
      "         'id': 2013556,\n",
      "         'sunrise': 1614236578,\n",
      "         'sunset': 1614274941,\n",
      "         'type': 3},\n",
      " 'timezone': 0,\n",
      " 'visibility': 10000,\n",
      " 'weather': [{'description': 'broken clouds',\n",
      "              'icon': '04d',\n",
      "              'id': 803,\n",
      "              'main': 'Clouds'}],\n",
      " 'wind': {'deg': 264, 'speed': 4.1}}\n"
     ]
    }
   ],
   "source": [
    "from pprint import pprint\n",
    "\n",
    "pprint(weather_dict)"
   ]
  },
  {
   "cell_type": "markdown",
   "metadata": {},
   "source": [
    "Now we are ready to use this data in our application. \n",
    "\n",
    "Below is a simple script that compares three places to see which is warmest, try changing the names of the places!"
   ]
  },
  {
   "cell_type": "code",
   "execution_count": 6,
   "metadata": {},
   "outputs": [
    {
     "name": "stdout",
     "output_type": "stream",
     "text": [
      "It's 5.0°C in Bath right now.\n",
      "It's 7.9°C in San Francisco right now.\n",
      "It's 29.4°C in Singapore right now.\n",
      "\n",
      "I think I'd rather be in Singapore right now!\n"
     ]
    }
   ],
   "source": [
    "cities = [\"Bath\", \"San Francisco\", \"Singapore\"]\n",
    "\n",
    "warmest = (0, None)\n",
    "for city in cities:\n",
    "    weather = requests.get(f\"https://api.openweathermap.org/data/2.5/weather?q={city}&appid={api_key}\")\n",
    "\n",
    "    if weather.status_code != 200:\n",
    "        raise Exception(f\"Problem with HTTP request, status code {weather.status_code}\")\n",
    "    \n",
    "    weather_dict = weather.json()\n",
    "    \n",
    "    temperature_k = weather_dict['main']['feels_like']\n",
    "    \n",
    "    temperature_c = temperature_k - 273.15\n",
    "    \n",
    "    print(f\"It's {temperature_c:.1f}°C in {city} right now.\")\n",
    "    warmest = max(warmest, (temperature_k, city))\n",
    "\n",
    "print()\n",
    "print(f\"I think I'd rather be in {warmest[1]} right now!\")"
   ]
  },
  {
   "cell_type": "markdown",
   "metadata": {},
   "source": [
    "Think about how you might incorporate an API like this into a data logging application for the purposes of doing some data-driven AI. Can you think of any pitfalls? (e.g. for what reasons might the API fail, and how long might it take someone to notice?)\n",
    "\n",
    "You can read about more popular web APIs online, such as [this list](https://rapidapi.com/blog/most-popular-api/). Try some out yourself!"
   ]
  }
 ],
 "metadata": {
  "kernelspec": {
   "display_name": "Python 3 (ipykernel)",
   "language": "python",
   "name": "python3"
  },
  "language_info": {
   "codemirror_mode": {
    "name": "ipython",
    "version": 3
   },
   "file_extension": ".py",
   "mimetype": "text/x-python",
   "name": "python",
   "nbconvert_exporter": "python",
   "pygments_lexer": "ipython3",
   "version": "3.10.0"
  }
 },
 "nbformat": 4,
 "nbformat_minor": 4
}
