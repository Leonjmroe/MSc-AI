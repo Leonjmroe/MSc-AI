{
 "cells": [
  {
   "cell_type": "code",
   "execution_count": 2,
   "id": "c040c65a-e9c0-4d8b-8c65-588258855d7b",
   "metadata": {},
   "outputs": [
    {
     "ename": "NameError",
     "evalue": "name 'training_data' is not defined",
     "output_type": "error",
     "traceback": [
      "\u001b[0;31m---------------------------------------------------------------------------\u001b[0m",
      "\u001b[0;31mNameError\u001b[0m                                 Traceback (most recent call last)",
      "Cell \u001b[0;32mIn[2], line 26\u001b[0m\n\u001b[1;32m     20\u001b[0m     \u001b[38;5;66;03m# print(f\"Accuracy: {round(accuracy, 3)}\")\u001b[39;00m\n\u001b[1;32m     22\u001b[0m     \u001b[38;5;28;01mreturn\u001b[39;00m accuracy\n\u001b[0;32m---> 26\u001b[0m sklear_bayes(\u001b[43mtraining_data\u001b[49m, testing_data, alpha\u001b[38;5;241m=\u001b[39m\u001b[38;5;241m0.5\u001b[39m)\n",
      "\u001b[0;31mNameError\u001b[0m: name 'training_data' is not defined"
     ]
    }
   ],
   "source": [
    "import numpy as np\n",
    "from sklearn.naive_bayes import BernoulliNB\n",
    "\n",
    "\n",
    "def sklear_bayes(training_data, testing_data, alpha):\n",
    "    \n",
    "    X_train = training_data[:, 1:]  \n",
    "    y_train = training_data[:, 0]   \n",
    "\n",
    "    X_test = testing_data[:, 1:]  \n",
    "    y_test = testing_data[:, 0]   \n",
    "\n",
    "    clf = BernoulliNB(alpha=alpha)\n",
    "\n",
    "    clf.fit(X_train, y_train)\n",
    "\n",
    "    predictions = clf.predict(X_test)\n",
    "\n",
    "    accuracy = np.mean(predictions == y_test)\n",
    "    # print(f\"Accuracy: {round(accuracy, 3)}\")\n",
    "\n",
    "    return accuracy\n",
    "\n",
    "\n",
    "\n",
    "sklear_bayes(training_data, testing_data, alpha=0.5)"
   ]
  },
  {
   "cell_type": "code",
   "execution_count": null,
   "id": "7f2a36aa-d161-4694-a64f-f6444298603c",
   "metadata": {},
   "outputs": [],
   "source": [
    "def process_data():\n",
    "    processor = Processer()\n",
    "    training_data = processor.process(raw_training_data, testing=False)\n",
    "    testing_data = processor.process(raw_testing_data, testing=True)\n",
    "    return training_data, testing_data\n",
    "\n",
    "training_data, testing_data = process_data()"
   ]
  },
  {
   "cell_type": "code",
   "execution_count": null,
   "id": "36d372f6-85b7-41ad-9831-bcf741386b4a",
   "metadata": {},
   "outputs": [],
   "source": [
    "def grid_search():\n",
    "    range = np.arange(0, 5, 0.1).tolist()\n",
    "    best_accuracy = 0\n",
    "    optimum_param = None\n",
    "    \n",
    "    for param in range:\n",
    "        accuracy = sklear_bayes(training_data, testing_data, alpha=param)\n",
    "\n",
    "        if accuracy > best_accuracy:\n",
    "            best_accuracy = accuracy \n",
    "            optimum_param = param \n",
    "\n",
    "    print('best_accuracy: ', round(best_accuracy, 3))\n",
    "    print('optimum_param: ', optimum_param)\n",
    "\n",
    "grid_search()"
   ]
  }
 ],
 "metadata": {
  "kernelspec": {
   "display_name": "Python 3 (ipykernel)",
   "language": "python",
   "name": "python3"
  },
  "language_info": {
   "codemirror_mode": {
    "name": "ipython",
    "version": 3
   },
   "file_extension": ".py",
   "mimetype": "text/x-python",
   "name": "python",
   "nbconvert_exporter": "python",
   "pygments_lexer": "ipython3",
   "version": "3.10.0"
  }
 },
 "nbformat": 4,
 "nbformat_minor": 5
}
