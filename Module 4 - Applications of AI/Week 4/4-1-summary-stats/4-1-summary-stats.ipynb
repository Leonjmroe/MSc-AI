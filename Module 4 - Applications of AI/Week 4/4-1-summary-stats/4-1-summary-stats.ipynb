{
 "cells": [
  {
   "cell_type": "markdown",
   "metadata": {},
   "source": [
    "# Applications of Artificial Intelligence\n",
    "## Summary Statistics & Visualisations\n",
    "### Introduction\n",
    "In this notebook we'll look at an example of a typical process that many will follow for sense-checking data during data ingestion using *summary statistics*, as you did in your first assignment. While this is a sensible step and can alert you to possible issues, it is possible to miss some data problems that a visual inspection would reveal.\n",
    "\n",
    "### Loading Data\n",
    "The CSV file `data.csv` contains 13 datasets of X/Y points. The first column contains the dataset ID from 1 to 13, second column contains X coordinates, and third column contains Y coordinates.\n",
    "\n",
    "Let's use the CSV reading capabilities from `pandas` to load our data into a DataFrame. Remember that a DataFrame is like a `numpy` array, but contains useful additional information such as the names of headers."
   ]
  },
  {
   "cell_type": "code",
   "execution_count": 1,
   "metadata": {},
   "outputs": [
    {
     "data": {
      "text/html": [
       "<div>\n",
       "<style scoped>\n",
       "    .dataframe tbody tr th:only-of-type {\n",
       "        vertical-align: middle;\n",
       "    }\n",
       "\n",
       "    .dataframe tbody tr th {\n",
       "        vertical-align: top;\n",
       "    }\n",
       "\n",
       "    .dataframe thead th {\n",
       "        text-align: right;\n",
       "    }\n",
       "</style>\n",
       "<table border=\"1\" class=\"dataframe\">\n",
       "  <thead>\n",
       "    <tr style=\"text-align: right;\">\n",
       "      <th></th>\n",
       "      <th>dataset</th>\n",
       "      <th>x</th>\n",
       "      <th>y</th>\n",
       "    </tr>\n",
       "  </thead>\n",
       "  <tbody>\n",
       "    <tr>\n",
       "      <th>0</th>\n",
       "      <td>1</td>\n",
       "      <td>32.331110</td>\n",
       "      <td>61.411101</td>\n",
       "    </tr>\n",
       "    <tr>\n",
       "      <th>1</th>\n",
       "      <td>1</td>\n",
       "      <td>53.421463</td>\n",
       "      <td>26.186880</td>\n",
       "    </tr>\n",
       "    <tr>\n",
       "      <th>2</th>\n",
       "      <td>1</td>\n",
       "      <td>63.920202</td>\n",
       "      <td>30.832194</td>\n",
       "    </tr>\n",
       "    <tr>\n",
       "      <th>3</th>\n",
       "      <td>1</td>\n",
       "      <td>70.289506</td>\n",
       "      <td>82.533649</td>\n",
       "    </tr>\n",
       "    <tr>\n",
       "      <th>4</th>\n",
       "      <td>1</td>\n",
       "      <td>34.118830</td>\n",
       "      <td>45.734551</td>\n",
       "    </tr>\n",
       "    <tr>\n",
       "      <th>...</th>\n",
       "      <td>...</td>\n",
       "      <td>...</td>\n",
       "      <td>...</td>\n",
       "    </tr>\n",
       "    <tr>\n",
       "      <th>1841</th>\n",
       "      <td>13</td>\n",
       "      <td>39.487200</td>\n",
       "      <td>25.384600</td>\n",
       "    </tr>\n",
       "    <tr>\n",
       "      <th>1842</th>\n",
       "      <td>13</td>\n",
       "      <td>91.282100</td>\n",
       "      <td>41.538500</td>\n",
       "    </tr>\n",
       "    <tr>\n",
       "      <th>1843</th>\n",
       "      <td>13</td>\n",
       "      <td>50.000000</td>\n",
       "      <td>95.769200</td>\n",
       "    </tr>\n",
       "    <tr>\n",
       "      <th>1844</th>\n",
       "      <td>13</td>\n",
       "      <td>47.948700</td>\n",
       "      <td>95.000000</td>\n",
       "    </tr>\n",
       "    <tr>\n",
       "      <th>1845</th>\n",
       "      <td>13</td>\n",
       "      <td>44.102600</td>\n",
       "      <td>92.692300</td>\n",
       "    </tr>\n",
       "  </tbody>\n",
       "</table>\n",
       "<p>1846 rows × 3 columns</p>\n",
       "</div>"
      ],
      "text/plain": [
       "      dataset          x          y\n",
       "0           1  32.331110  61.411101\n",
       "1           1  53.421463  26.186880\n",
       "2           1  63.920202  30.832194\n",
       "3           1  70.289506  82.533649\n",
       "4           1  34.118830  45.734551\n",
       "...       ...        ...        ...\n",
       "1841       13  39.487200  25.384600\n",
       "1842       13  91.282100  41.538500\n",
       "1843       13  50.000000  95.769200\n",
       "1844       13  47.948700  95.000000\n",
       "1845       13  44.102600  92.692300\n",
       "\n",
       "[1846 rows x 3 columns]"
      ]
     },
     "execution_count": 1,
     "metadata": {},
     "output_type": "execute_result"
    }
   ],
   "source": [
    "import pandas as pd\n",
    "\n",
    "df = pd.read_csv('data.csv', sep=',')\n",
    "df"
   ]
  },
  {
   "cell_type": "markdown",
   "metadata": {},
   "source": [
    "### Data Validation\n",
    "Suppose we had just loaded a single dataset. Before moving on, we should quickly check the data. We want to ensure nothing went wrong in the data ingestion process, but we also want to start to get a “feel” for the data, and how we might use it. We might want to start to notice correlations or patterns.\n",
    "\n",
    "As mentioned previously, it would be common practice to check the mean and standard deviation of the data set to sense check that the numbers look correct. Another common practice would be to check the [Pearson correlation coefficient](https://en.wikipedia.org/wiki/Pearson_correlation_coefficient). This is a measure of the correlation between the X and Y data, where a value of 1 means strong positive correlation, -1 means strong negative correlation, and 0 means no correlation.\n",
    "\n",
    "Look what happens when we check the summary statistics of the *several* datasets that we loaded:"
   ]
  },
  {
   "cell_type": "code",
   "execution_count": 2,
   "metadata": {},
   "outputs": [
    {
     "name": "stdout",
     "output_type": "stream",
     "text": [
      "The (x, y) mean of dataset 1 is \t\t54.2661, 47.8347\n",
      "The (x, y) standard deviation of dataset 1 is \t16.7698, 26.9397\n",
      "The x y correlation of dataset 1 is \t\t-0.0641\n",
      "\n",
      "The (x, y) mean of dataset 2 is \t\t54.2659, 47.8315\n",
      "The (x, y) standard deviation of dataset 2 is \t16.7689, 26.9386\n",
      "The x y correlation of dataset 2 is \t\t-0.0686\n",
      "\n",
      "The (x, y) mean of dataset 3 is \t\t54.2678, 47.8359\n",
      "The (x, y) standard deviation of dataset 3 is \t16.7668, 26.9361\n",
      "The x y correlation of dataset 3 is \t\t-0.0690\n",
      "\n",
      "The (x, y) mean of dataset 4 is \t\t54.2673, 47.8395\n",
      "The (x, y) standard deviation of dataset 4 is \t16.7690, 26.9303\n",
      "The x y correlation of dataset 4 is \t\t-0.0630\n",
      "\n",
      "The (x, y) mean of dataset 5 is \t\t54.2699, 47.8370\n",
      "The (x, y) standard deviation of dataset 5 is \t16.7700, 26.9377\n",
      "The x y correlation of dataset 5 is \t\t-0.0694\n",
      "\n",
      "The (x, y) mean of dataset 6 is \t\t54.2614, 47.8303\n",
      "The (x, y) standard deviation of dataset 6 is \t16.7659, 26.9399\n",
      "The x y correlation of dataset 6 is \t\t-0.0617\n",
      "\n",
      "The (x, y) mean of dataset 7 is \t\t54.2688, 47.8355\n",
      "The (x, y) standard deviation of dataset 7 is \t16.7667, 26.9400\n",
      "The x y correlation of dataset 7 is \t\t-0.0685\n",
      "\n",
      "The (x, y) mean of dataset 8 is \t\t54.2669, 47.8316\n",
      "The (x, y) standard deviation of dataset 8 is \t16.7700, 26.9379\n",
      "The x y correlation of dataset 8 is \t\t-0.0666\n",
      "\n",
      "The (x, y) mean of dataset 9 is \t\t54.2673, 47.8377\n",
      "The (x, y) standard deviation of dataset 9 is \t16.7600, 26.9300\n",
      "The x y correlation of dataset 9 is \t\t-0.0683\n",
      "\n",
      "The (x, y) mean of dataset 10 is \t\t54.2687, 47.8308\n",
      "The (x, y) standard deviation of dataset 10 is \t16.7692, 26.9357\n",
      "The x y correlation of dataset 10 is \t\t-0.0686\n",
      "\n",
      "The (x, y) mean of dataset 11 is \t\t54.2602, 47.8397\n",
      "The (x, y) standard deviation of dataset 11 is \t16.7700, 26.9300\n",
      "The x y correlation of dataset 11 is \t\t-0.0656\n",
      "\n",
      "The (x, y) mean of dataset 12 is \t\t54.2603, 47.8398\n",
      "The (x, y) standard deviation of dataset 12 is \t16.7677, 26.9302\n",
      "The x y correlation of dataset 12 is \t\t-0.0603\n",
      "\n",
      "The (x, y) mean of dataset 13 is \t\t54.2633, 47.8323\n",
      "The (x, y) standard deviation of dataset 13 is \t16.7651, 26.9354\n",
      "The x y correlation of dataset 13 is \t\t-0.0645\n",
      "\n"
     ]
    }
   ],
   "source": [
    "for i in range(1, 14):\n",
    "    # select x, y values of rows with column 'dataset' set to i\n",
    "    dataset = df[df['dataset'] == i][['x', 'y']]\n",
    "    \n",
    "    mu = dataset.mean()\n",
    "    sig = dataset.std()\n",
    "    r = dataset['x'].corr(dataset['y'])\n",
    "    \n",
    "    print(f\"The (x, y) mean of dataset {i} is \\t\\t{mu[0]:.4f}, {mu[1]:.4f}\")\n",
    "    print(f\"The (x, y) standard deviation of dataset {i} is \\t{sig[0]:.4f}, {sig[1]:.4f}\")\n",
    "    print(f\"The x y correlation of dataset {i} is \\t\\t{r:.4f}\")\n",
    "    print()\n",
    "    "
   ]
  },
  {
   "cell_type": "markdown",
   "metadata": {},
   "source": [
    "Obviously, all of the datasets in this file have almost exactly the same summary statistics. This in itself shouldn't be too worrying, maybe the data is basically the same in all of them?\n",
    "\n",
    "So what does this mean for the use of the summary statistics for validation? If we expected numbers like the ones shown above, should we stop?\n",
    "\n",
    "### Data Visualisation\n",
    "In most situations you are unlikely to be comparing 13 datasets at once, you will just have one, so this issue wouldn't come up. But in this case, we obviously can't just rely on the statistics, we need to look at the data itself. This is also true when we are handling a single dataset, but it's not as obvious why until you see how different each of these 13 datasets is.\n",
    "\n",
    "The cell below visualises a single dataset using a simple scatter plot. Each time you run the cell it will plot the next dataset. If you have not been running the cells in the notebook so far, then run the entire thing now, which will re-plot the first dataset. Then you can rerun just the cell below to go through each one in turn. It's worth viewing all 13 to demonstrate just how much variation you can get in data with almost identical summary statistics. Think also about what these visualisations might tell you for future stages of the project."
   ]
  },
  {
   "cell_type": "code",
   "execution_count": 3,
   "metadata": {},
   "outputs": [],
   "source": [
    "i = 0"
   ]
  },
  {
   "cell_type": "code",
   "execution_count": 4,
   "metadata": {},
   "outputs": [
    {
     "data": {
      "image/png": "[encoded data removed]",
      "text/plain": [
       "<Figure size 432x288 with 1 Axes>"
      ]
     },
     "metadata": {
      "image/png": {
       "height": 277,
       "width": 235
      },
      "needs_background": "light"
     },
     "output_type": "display_data"
    }
   ],
   "source": [
    "# rerun this cell (e.g. ctrl+enter) to see each dataset visualised\n",
    "import matplotlib.pyplot as plt\n",
    "\n",
    "%matplotlib inline\n",
    "%config InlineBackend.figure_format = 'retina'\n",
    "\n",
    "i = min(i + 1, 13)\n",
    "dataset = df[df['dataset'] == i][['x', 'y']]\n",
    "ax = dataset.plot.scatter('x', 'y')\n",
    "ax.set_title(f\"Dataset {i}\")\n",
    "ax.set_aspect('equal', 'box')\n",
    "ax.axis([5, 105, -10, 110]);"
   ]
  },
  {
   "cell_type": "markdown",
   "metadata": {},
   "source": [
    "Remember, the different sets of points above had the exact same summary statistics!"
   ]
  }
 ],
 "metadata": {
  "kernelspec": {
   "display_name": "Python 3.6",
   "language": "python",
   "name": "python3"
  },
  "language_info": {
   "codemirror_mode": {
    "name": "ipython",
    "version": 3
   },
   "file_extension": ".py",
   "mimetype": "text/x-python",
   "name": "python",
   "nbconvert_exporter": "python",
   "pygments_lexer": "ipython3",
   "version": "3.8.0"
  }
 },
 "nbformat": 4,
 "nbformat_minor": 4
}
