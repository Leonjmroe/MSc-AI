{
 "cells": [
  {
   "cell_type": "markdown",
   "metadata": {},
   "source": [
    "# Applications of Artificial Intelligence\n",
    "## SQLite Demo\n",
    "### Introduction\n",
    "In this notebook we'll set up the database as shown in the unit material, and then demo some of the basic queries that are possible using SQL.\n",
    "\n",
    "### SQLite\n",
    "Most database management systems work on a client-server architecture. So you might set up a machine running a system like MySQL and this machine will be in charge of managing the database on the disk – this is the sever. Then, separately, you can create one or more clients which can communicate with the server over a network. This client code could be written in Python using the [MySQL Connector](https://dev.mysql.com/doc/connector-python/en/), another similar library, or an entirely different language. The client *can* run on the same physical hardware as the server, but usually isn't, and either way, the code itself is agnostic.\n",
    "\n",
    "This is the standard approach for most applications, especially any that have multiple users. But this requires a lot of setup just to demonstrate the basics of databases. In addition, if you are using a database within a single application then you may simply wish to bundle all of the database functionality into that one single application. This is where SQLite comes in.\n",
    "\n",
    "SQLite allows you to write code that interfaces directly with a database that is either stored on disk (storage) or even entirely within your computer's memory, just like another variable in your code. The SQLite library becomes part of your application, rather than running on a separate server. \n",
    "\n",
    "If your data requirements are complicated enough to warrant going beyond flat-file formats like CSV files, but you do not need to share the data with any other users or applications, then the SQLite model might be best for your project. Of course, if you do need to interface with an existing database server, then the concepts like SQL will transfer over with some minor modifications.\n",
    "\n",
    "### Demo\n",
    "To get started, we'll import the Python library `sqlite3`."
   ]
  },
  {
   "cell_type": "code",
   "execution_count": 2,
   "metadata": {},
   "outputs": [],
   "source": [
    "import sqlite3"
   ]
  },
  {
   "cell_type": "markdown",
   "metadata": {},
   "source": [
    "There are two main objects required to interface with a database using `sqlite3`. First, you create a `Connection` object, which represents the link to the database file. Then, you use this to create a `Cursor` object. The `Cursor` can execute SQL, and is used to retrieve the return values from queries.\n",
    "\n",
    "In some applications, you may wish to create multiple cursor objects to process multiple requests with the same database at the same. Here, we will reuse a single cursor for each query.\n",
    "\n",
    "`sqlite3.connect(filename)` connects to the file specified in the parameter and returns a `Connection` object. If you want to use an in-memory database, you can pass in `':memory:'` as the filename. If the database file does not exist, it is created.\n",
    "\n",
    "Most changes made through queries are only temporary until the `.commit()` method is called on the connection object, at which point they will be written to the file. This means that if a sequence of queries fails (say, due to an exception), then they can be rolled back.\n",
    "\n",
    "One exception, due to the way the underlying SQLite library works, is that a `CREATE TABLE` command will *always* automatically commit. You might find odd behaviour if you try to run the code in this notebook multiple times – you can always delete the `database.db` file to start over."
   ]
  },
  {
   "cell_type": "code",
   "execution_count": 3,
   "metadata": {},
   "outputs": [],
   "source": [
    "# .db is a common extension for sqlite databases\n",
    "# though .sqlite is also used\n",
    "connection = sqlite3.connect('database.db')\n",
    "cursor = connection.cursor()"
   ]
  },
  {
   "cell_type": "markdown",
   "metadata": {},
   "source": [
    "Once we have the cursor object, we can execute SQL commands by passing a string into the `.execute(...)` method. Let's create the tables from the examples.\n",
    "\n",
    "On the lines below, I format the string across multiple lines to make it easier to read (using triple quoted strings, which will include the newline characters in the string). But this formatting is not required, you could write the SQL query all on one line."
   ]
  },
  {
   "cell_type": "code",
   "execution_count": 4,
   "metadata": {},
   "outputs": [],
   "source": [
    "cursor.execute(\"\"\"CREATE TABLE Persons (\n",
    "                   PersonID INTEGER PRIMARY KEY,\n",
    "                   Name VARCHAR(255),\n",
    "                   DoB DATE\n",
    "                  );\"\"\")\n",
    "\n",
    "cursor.execute(\"\"\"CREATE TABLE Ratings (\n",
    "                   ViewerID INTEGER NOT NULL,\n",
    "                   FilmID INTEGER NOT NULL,\n",
    "                   Rating INTEGER,\n",
    "                   PRIMARY KEY (ViewerID, FilmID)\n",
    "                  );\"\"\");"
   ]
  },
  {
   "cell_type": "markdown",
   "metadata": {},
   "source": [
    "Let's insert some data into the tables."
   ]
  },
  {
   "cell_type": "code",
   "execution_count": 5,
   "metadata": {},
   "outputs": [],
   "source": [
    "cursor.execute(\"\"\"INSERT INTO Persons (Name, DoB)\n",
    "                  VALUES\n",
    "                   ('Ulrica Arkcoll', '1966-06-11'),\n",
    "                   ('Lisbeth Straw', '1979-07-01'),\n",
    "                   ('Floris Redborn', '1962-01-10');\"\"\")\n",
    "\n",
    "cursor.execute(\"\"\"INSERT INTO Ratings\n",
    "                  VALUES\n",
    "                   (2, 26, 4),\n",
    "                   (3, 79, 2),\n",
    "                   (1, 79, 2),\n",
    "                   (1, 26, 5);\"\"\")\n",
    "\n",
    "connection.commit()"
   ]
  },
  {
   "cell_type": "markdown",
   "metadata": {},
   "source": [
    "Now we can check to see if the data has been inserted correctly with a SELECT statement.\n",
    "\n",
    "If you submit a query that returns one or more results to a cursor object, you can then subsequently access that data, by using `.fetchone()` to access a single row, or `.fetchall()` to access multiple."
   ]
  },
  {
   "cell_type": "code",
   "execution_count": 6,
   "metadata": {},
   "outputs": [
    {
     "name": "stdout",
     "output_type": "stream",
     "text": [
      "[(2, 26, 4), (3, 79, 2), (1, 79, 2), (1, 26, 5)]\n"
     ]
    }
   ],
   "source": [
    "cursor.execute(\"SELECT * FROM Ratings\")\n",
    "result = cursor.fetchall()\n",
    "\n",
    "print(result)"
   ]
  },
  {
   "cell_type": "markdown",
   "metadata": {},
   "source": [
    "The `.execute(...)` method returns the cursor itself, and you can also use this object as an iterator in a for loop. The combination of these leads to some shortcuts which can make the code more succinct, but still readable if the query is simple:"
   ]
  },
  {
   "cell_type": "code",
   "execution_count": 7,
   "metadata": {},
   "outputs": [
    {
     "name": "stdout",
     "output_type": "stream",
     "text": [
      "User 1 rated film 26 as 5/5\n",
      "User 1 rated film 79 as 2/5\n",
      "User 2 rated film 26 as 4/5\n",
      "User 3 rated film 79 as 2/5\n"
     ]
    }
   ],
   "source": [
    "for rating in cursor.execute(\"SELECT * FROM Ratings ORDER BY ViewerID\"):\n",
    "    print(f\"User {rating[0]} rated film {rating[1]} as {rating[2]}/5\")"
   ]
  },
  {
   "cell_type": "markdown",
   "metadata": {},
   "source": [
    "You may at times be tempted to write SQL queries that pull all of the data into Python, and then simply continue to process the data from there. However, the whole point of using databases is that they have been engineered to execute queries efficiently, helping you handle data that is either too big or too complicated to manage in your application otherwise. \n",
    "\n",
    "Most of the time, you can do what you are trying to achieve in a single SQL query, so try to do this whenever possible, rather than falling back on Python with multiple queries. It's a good excuse to learn more SQL! \n",
    "\n",
    "Here's another example of a more advanced SQL query:"
   ]
  },
  {
   "cell_type": "code",
   "execution_count": 8,
   "metadata": {},
   "outputs": [
    {
     "name": "stdout",
     "output_type": "stream",
     "text": [
      "FilmID 79 has an average rating of 2.0 from 2 viewers.\n",
      "FilmID 26 has an average rating of 4.5 from 2 viewers.\n"
     ]
    }
   ],
   "source": [
    "cursor.execute(\"\"\"SELECT FilmID, AVG(Rating), COUNT(ViewerID)\n",
    "                  FROM Ratings\n",
    "                  GROUP BY FilmID\n",
    "                  ORDER BY COUNT(ViewerID) DESC;\"\"\")\n",
    "\n",
    "for result in cursor.fetchall():\n",
    "    print(f\"FilmID {result[0]} has an average rating of {result[1]} from {result[2]} viewers.\")"
   ]
  },
  {
   "cell_type": "markdown",
   "metadata": {},
   "source": [
    "### Exercises\n",
    "Go back through this notebook, and try writing new queries in each section:\n",
    "\n",
    "* Add a table called Films which contains FilmID, Title, and DirectorID. For an extra challenge, add the foreign key constraints into the table.\n",
    "* Populate the Films table with the names of films. Make sure to include entries for films with FilmID 26 and 79.\n",
    "* Modify the query in the cell above so that the output includes the names of the films, not just their IDs. You will likely want to use a [JOIN](https://www.w3schools.com/sql/sql_join.asp). Refer back to the unit material if you are unsure."
   ]
  }
 ],
 "metadata": {
  "kernelspec": {
   "display_name": "Python 3 (ipykernel)",
   "language": "python",
   "name": "python3"
  },
  "language_info": {
   "codemirror_mode": {
    "name": "ipython",
    "version": 3
   },
   "file_extension": ".py",
   "mimetype": "text/x-python",
   "name": "python",
   "nbconvert_exporter": "python",
   "pygments_lexer": "ipython3",
   "version": "3.10.0"
  }
 },
 "nbformat": 4,
 "nbformat_minor": 4
}
