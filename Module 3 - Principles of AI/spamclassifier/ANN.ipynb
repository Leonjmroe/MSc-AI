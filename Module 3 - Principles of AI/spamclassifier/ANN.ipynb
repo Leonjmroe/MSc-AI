{
 "cells": [
  {
   "cell_type": "code",
   "execution_count": 21,
   "id": "79c2c39d-69eb-4032-90f0-5f1670254021",
   "metadata": {},
   "outputs": [],
   "source": [
    "import numpy as np"
   ]
  },
  {
   "cell_type": "code",
   "execution_count": 22,
   "id": "9f5c6b18-11ab-472d-8b62-a91edb2c9bbc",
   "metadata": {},
   "outputs": [],
   "source": [
    "n_inputs = 2  # Number of input nodes\n",
    "n_hidden = 4  # Number of hidden nodes\n",
    "n_outputs = 1  # Number of output nodes"
   ]
  },
  {
   "cell_type": "code",
   "execution_count": 23,
   "id": "ce023b39-0856-48a1-bc89-89fd933dc9df",
   "metadata": {},
   "outputs": [],
   "source": [
    "weights_hidden = np.random.rand(n_inputs, n_hidden)\n",
    "biases_hidden = np.random.rand(n_hidden)\n",
    "\n",
    "weights_output = np.random.rand(n_hidden, n_outputs)\n",
    "biases_output = np.random.rand(n_outputs)"
   ]
  },
  {
   "cell_type": "code",
   "execution_count": 24,
   "id": "b14c0607-0552-4d4c-81a4-b5d063d6700e",
   "metadata": {},
   "outputs": [],
   "source": [
    "def sigmoid(x):\n",
    "    return 1 / (1 + np.exp(-x))\n",
    "\n",
    "def sigmoid_derivative(x):\n",
    "    return x * (1 - x)"
   ]
  },
  {
   "cell_type": "code",
   "execution_count": 25,
   "id": "565dd22e-859e-4a5b-97d4-4a1e1a786914",
   "metadata": {},
   "outputs": [],
   "source": [
    "def forward_propagate(inputs):\n",
    "    hidden_layer_input = np.dot(inputs, weights_hidden) + biases_hidden\n",
    "    hidden_layer_output = sigmoid(hidden_layer_input)\n",
    "\n",
    "    output_layer_input = np.dot(hidden_layer_output, weights_output) + biases_output\n",
    "    predicted_output = sigmoid(output_layer_input)\n",
    "    \n",
    "    return predicted_output"
   ]
  },
  {
   "cell_type": "code",
   "execution_count": 26,
   "id": "11b7fa07-5e40-4d87-944d-9d258cd0fa98",
   "metadata": {},
   "outputs": [],
   "source": [
    "def train(inputs, actual_output, learning_rate):\n",
    "    global weights_hidden, biases_hidden, weights_output, biases_output\n",
    "    \n",
    "    # Forward propagation\n",
    "    hidden_layer_input = np.dot(inputs, weights_hidden) + biases_hidden\n",
    "    hidden_layer_output = sigmoid(hidden_layer_input)\n",
    "\n",
    "    output_layer_input = np.dot(hidden_layer_output, weights_output) + biases_output\n",
    "    predicted_output = sigmoid(output_layer_input)\n",
    "    \n",
    "    # Calculating error\n",
    "    error = actual_output - predicted_output\n",
    "    \n",
    "    # Backpropagation\n",
    "    d_predicted_output = error * sigmoid_derivative(predicted_output)\n",
    "    \n",
    "    error_hidden_layer = d_predicted_output.dot(weights_output.T)\n",
    "    d_hidden_layer = error_hidden_layer * sigmoid_derivative(hidden_layer_output)\n",
    "    \n",
    "    # Updating Weights and Biases\n",
    "    weights_output += hidden_layer_output.T.dot(d_predicted_output) * learning_rate\n",
    "    biases_output += np.sum(d_predicted_output, axis=0, keepdims=True) * learning_rate\n",
    "    \n",
    "    weights_hidden += inputs.T.dot(d_hidden_layer) * learning_rate\n",
    "    biases_hidden += np.sum(d_hidden_layer, axis=0, keepdims=True) * learning_rate\n"
   ]
  },
  {
   "cell_type": "code",
   "execution_count": 27,
   "id": "37bf8c53-2229-49ac-98a1-7833945049de",
   "metadata": {},
   "outputs": [
    {
     "ename": "ValueError",
     "evalue": "non-broadcastable output operand with shape (1,) doesn't match the broadcast shape (1,1)",
     "output_type": "error",
     "traceback": [
      "\u001b[0;31m---------------------------------------------------------------------------\u001b[0m",
      "\u001b[0;31mValueError\u001b[0m                                Traceback (most recent call last)",
      "Cell \u001b[0;32mIn[27], line 8\u001b[0m\n\u001b[1;32m      5\u001b[0m n_epochs \u001b[38;5;241m=\u001b[39m \u001b[38;5;241m10000\u001b[39m\n\u001b[1;32m      7\u001b[0m \u001b[38;5;28;01mfor\u001b[39;00m epoch \u001b[38;5;129;01min\u001b[39;00m \u001b[38;5;28mrange\u001b[39m(n_epochs):\n\u001b[0;32m----> 8\u001b[0m     \u001b[43mtrain\u001b[49m\u001b[43m(\u001b[49m\u001b[43minputs\u001b[49m\u001b[43m,\u001b[49m\u001b[43m \u001b[49m\u001b[43mactual_output\u001b[49m\u001b[43m,\u001b[49m\u001b[43m \u001b[49m\u001b[43mlearning_rate\u001b[49m\u001b[43m)\u001b[49m\n\u001b[1;32m     10\u001b[0m     \u001b[38;5;28;01mif\u001b[39;00m epoch \u001b[38;5;241m%\u001b[39m \u001b[38;5;241m1000\u001b[39m \u001b[38;5;241m==\u001b[39m \u001b[38;5;241m0\u001b[39m:\n\u001b[1;32m     11\u001b[0m         \u001b[38;5;28mprint\u001b[39m(\u001b[38;5;124mf\u001b[39m\u001b[38;5;124m\"\u001b[39m\u001b[38;5;124mEpoch \u001b[39m\u001b[38;5;132;01m{\u001b[39;00mepoch\u001b[38;5;132;01m}\u001b[39;00m\u001b[38;5;124m Loss: \u001b[39m\u001b[38;5;132;01m{\u001b[39;00mnp\u001b[38;5;241m.\u001b[39mmean(np\u001b[38;5;241m.\u001b[39mabs(actual_output\u001b[38;5;250m \u001b[39m\u001b[38;5;241m-\u001b[39m\u001b[38;5;250m \u001b[39mforward_propagate(inputs)))\u001b[38;5;132;01m}\u001b[39;00m\u001b[38;5;124m\"\u001b[39m)\n",
      "Cell \u001b[0;32mIn[26], line 22\u001b[0m, in \u001b[0;36mtrain\u001b[0;34m(inputs, actual_output, learning_rate)\u001b[0m\n\u001b[1;32m     20\u001b[0m \u001b[38;5;66;03m# Updating Weights and Biases\u001b[39;00m\n\u001b[1;32m     21\u001b[0m weights_output \u001b[38;5;241m+\u001b[39m\u001b[38;5;241m=\u001b[39m hidden_layer_output\u001b[38;5;241m.\u001b[39mT\u001b[38;5;241m.\u001b[39mdot(d_predicted_output) \u001b[38;5;241m*\u001b[39m learning_rate\n\u001b[0;32m---> 22\u001b[0m biases_output \u001b[38;5;241m+\u001b[39m\u001b[38;5;241m=\u001b[39m np\u001b[38;5;241m.\u001b[39msum(d_predicted_output, axis\u001b[38;5;241m=\u001b[39m\u001b[38;5;241m0\u001b[39m, keepdims\u001b[38;5;241m=\u001b[39m\u001b[38;5;28;01mTrue\u001b[39;00m) \u001b[38;5;241m*\u001b[39m learning_rate\n\u001b[1;32m     24\u001b[0m weights_hidden \u001b[38;5;241m+\u001b[39m\u001b[38;5;241m=\u001b[39m inputs\u001b[38;5;241m.\u001b[39mT\u001b[38;5;241m.\u001b[39mdot(d_hidden_layer) \u001b[38;5;241m*\u001b[39m learning_rate\n\u001b[1;32m     25\u001b[0m biases_hidden \u001b[38;5;241m+\u001b[39m\u001b[38;5;241m=\u001b[39m np\u001b[38;5;241m.\u001b[39msum(d_hidden_layer, axis\u001b[38;5;241m=\u001b[39m\u001b[38;5;241m0\u001b[39m, keepdims\u001b[38;5;241m=\u001b[39m\u001b[38;5;28;01mTrue\u001b[39;00m) \u001b[38;5;241m*\u001b[39m learning_rate\n",
      "\u001b[0;31mValueError\u001b[0m: non-broadcastable output operand with shape (1,) doesn't match the broadcast shape (1,1)"
     ]
    }
   ],
   "source": [
    "inputs = np.array([[0,0], [0,1], [1,0], [1,1]])  # Example inputs\n",
    "actual_output = np.array([[0], [1], [1], [0]])  # Example outputs (e.g., XOR problem)\n",
    "\n",
    "learning_rate = 0.1\n",
    "n_epochs = 10000\n",
    "\n",
    "for epoch in range(n_epochs):\n",
    "    train(inputs, actual_output, learning_rate)\n",
    "    \n",
    "    if epoch % 1000 == 0:\n",
    "        print(f\"Epoch {epoch} Loss: {np.mean(np.abs(actual_output - forward_propagate(inputs)))}\")"
   ]
  },
  {
   "cell_type": "code",
   "execution_count": 16,
   "id": "ee61c5ce-d11a-4cee-a746-647b48d0882b",
   "metadata": {},
   "outputs": [
    {
     "name": "stdout",
     "output_type": "stream",
     "text": [
      "[[0.85785498]]\n"
     ]
    }
   ],
   "source": [
    "print(forward_propagate(np.array([[0, 1]])))  # Test with new data"
   ]
  },
  {
   "cell_type": "code",
   "execution_count": null,
   "id": "4967fd9e-482c-410b-8c44-dbdf86c0209e",
   "metadata": {},
   "outputs": [],
   "source": []
  }
 ],
 "metadata": {
  "kernelspec": {
   "display_name": "Python 3 (ipykernel)",
   "language": "python",
   "name": "python3"
  },
  "language_info": {
   "codemirror_mode": {
    "name": "ipython",
    "version": 3
   },
   "file_extension": ".py",
   "mimetype": "text/x-python",
   "name": "python",
   "nbconvert_exporter": "python",
   "pygments_lexer": "ipython3",
   "version": "3.10.0"
  }
 },
 "nbformat": 4,
 "nbformat_minor": 5
}
