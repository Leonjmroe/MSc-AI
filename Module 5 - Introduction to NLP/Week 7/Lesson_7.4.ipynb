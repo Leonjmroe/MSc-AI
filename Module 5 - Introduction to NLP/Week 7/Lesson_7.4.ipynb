{
 "cells": [
  {
   "cell_type": "markdown",
   "metadata": {},
   "source": [
    "# Week 7, Lesson 4, Activity 7: Evaluation tests for semantic representations\n",
    "\n",
    "&copy;2021, Ekaterina Kochmar"
   ]
  },
  {
   "cell_type": "markdown",
   "metadata": {},
   "source": [
    "Your task in this activity is to:\n",
    "\n",
    "- Implement an analogy solver algorithm and test word embeddings on this task."
   ]
  },
  {
   "cell_type": "markdown",
   "metadata": {},
   "source": [
    "## Step 1: Familiarise yourself with word embeddings via spaCy\n",
    "\n",
    "Let's first access word vectors and measure semantic similarity between words. `spaCy` has nice functionality around that.\n",
    "\n",
    "Let's start by measuring similarity between some sample words (feel free to experiment with your own ones). What do these similarities suggest about the meaning of the words? Which ones are most similar to each other?"
   ]
  },
  {
   "cell_type": "code",
   "execution_count": null,
   "metadata": {},
   "outputs": [],
   "source": [
    "import spacy\n",
    "nlp = spacy.load('en_core_web_md')\n",
    "\n",
    "text = u'cat dog apple orange pasta pizza coffee tea'\n",
    "words = nlp(text)\n",
    "\n",
    "print(\"\\t\" + text.replace(\" \", \"\\t\"))\n",
    "\n",
    "# Print out word similarities in a table\n",
    "for word1 in words:\n",
    "    output = str(word1) + \"\\t\"\n",
    "    for word2 in words:\n",
    "        output += str(round(word1.similarity(word2), 4)) + \"\\t\"\n",
    "    print(output)"
   ]
  },
  {
   "cell_type": "markdown",
   "metadata": {},
   "source": [
    "## Step 2: Implement a word analogy task\n",
    "\n",
    "Now, let's try to code the word analogy task and see if our algorithm can come up with the solution similar to the one presented in Mikolov et al.'s [paper](https://arxiv.org/pdf/1310.4546.pdf):\n",
    "\n",
    "That is, our analogy task will encode the relation `country:capital` but the computer won't be explicitly told that this is the relation to be used. Instead we'll ask a question \"*Russia is to Moscow as China is to what*? (as usual, feel free to insert your own variants). \n",
    "\n",
    "Let's first provide the list of countries and capitals in alphabetical order. To mix things up a bit, let's add some contries (e.g., *Switzerland* and *Brazil*) with no corresponding capitals on the list, some capitals (e.g., *Amsterdam* and *London*) with no corresponding countries, and some cities (e.g., *Barcelona* and *Venice*) that are not capitals. You can always check whether the model has a vector for the word by printing out part of the word vector (always a good idea to check the data you are working with!):\n"
   ]
  },
  {
   "cell_type": "code",
   "execution_count": null,
   "metadata": {},
   "outputs": [],
   "source": [
    "text = u'Amsterdam Ankara Athens Australia Barcelona Beijing Berlin Brazil Chicago China '\n",
    "text += u'France Germany Greece Italy Japan Lisbon London Madrid Moscow Paris '\n",
    "text += u'Poland Portugal Rome Russia Spain Switzerland Tokyo Turkey Venice Warsaw '\n",
    "words = nlp(text)\n",
    "\n",
    "for word in words:\n",
    "    print(word)\n",
    "    print (word.vector[:5])"
   ]
  },
  {
   "cell_type": "markdown",
   "metadata": {},
   "source": [
    "To measure similarity, you will need cosine to be defined:"
   ]
  },
  {
   "cell_type": "code",
   "execution_count": null,
   "metadata": {},
   "outputs": [],
   "source": [
    "import numpy as np\n",
    "import math\n",
    "\n",
    "#Implement cosine similarity\n",
    "def cosine(vec1, vec2):\n",
    "    if not len(vec1)==len(vec2): return 0\n",
    "    num = 0.0 # dot product\n",
    "    vec1_len = 0.0 # length of vec1\n",
    "    vec2_len = 0.0 # length of vec2\n",
    "    # calculate cosine value\n",
    "    return # cosine value"
   ]
  },
  {
   "cell_type": "markdown",
   "metadata": {},
   "source": [
    "Now you are all set to try out the analogy task."
   ]
  },
  {
   "cell_type": "code",
   "execution_count": null,
   "metadata": {},
   "outputs": [],
   "source": [
    "question = u\"Russia is to Moscow as China is to WHAT?\"\n",
    "text = nlp(question)\n",
    "source1 = text[0]\n",
    "source2 = text[3]\n",
    "target1 = text[5]\n",
    "\n",
    "max_sim = 0.0\n",
    "target2 = \"N/A\"\n",
    "\n",
    "#Apply the operations on vectors\n",
    "target2_vector = # this should be vector(source2) – vector(source1) + vector(target1)\n",
    "\n",
    "#Find the word with the most similar vector to the result\n",
    "for word in words:\n",
    "    if not (str(word)==str(target1) or str(word)==str(source1) or str(word)==str(source2)):\n",
    "        current_sim = cosine(target2_vector, word.vector)\n",
    "        if current_sim >= max_sim:\n",
    "            max_sim = current_sim \n",
    "            target2 = word\n",
    "\n",
    "print(question)\n",
    "print(target2)"
   ]
  },
  {
   "cell_type": "markdown",
   "metadata": {},
   "source": [
    "Finally, let's run the task on all countries:"
   ]
  },
  {
   "cell_type": "code",
   "execution_count": null,
   "metadata": {},
   "outputs": [],
   "source": [
    "#Define analogy task as a separate method\n",
    "#Note that the code below is almost exactly the same\n",
    "def analogy_task(country):\n",
    "    question = u\"Russia is to Moscow as \" + country\n",
    "    text = nlp(question)\n",
    "    source1 = text[0]\n",
    "    source2 = text[3]\n",
    "    target1 = text[5]\n",
    "\n",
    "    max_sim = 0.0\n",
    "    target2 = \"N/A\"\n",
    "\n",
    "    target2_vector = # this should be vector(source2) – vector(source1) + vector(target1)\n",
    "\n",
    "    # follow up with the rest of the code\n",
    "    \n",
    "    print(question)\n",
    "    print(\"\\t is to \" + str(target2))\n",
    "    \n",
    "\n",
    "countries = [\"China\", \"France\", \"Germany\", \"Greece\", \"Italy\", \n",
    "             \"Japan\", \"Poland\", \"Portugal\", \"Spain\", \"Turkey\"]\n",
    "\n",
    "for country in countries:\n",
    "    analogy_task(country)"
   ]
  },
  {
   "cell_type": "markdown",
   "metadata": {},
   "source": [
    "Does the result correspond to the real state-of-affairs? \n",
    "\n",
    "**Optional:** Apply the analogy task to pairs of words linked with other types of relations. For inspiration, consider the examples from Mikolov et al.'s [paper](https://arxiv.org/pdf/1301.3781.pdf)"
   ]
  },
  {
   "cell_type": "code",
   "execution_count": null,
   "metadata": {},
   "outputs": [],
   "source": []
  }
 ],
 "metadata": {
  "kernelspec": {
   "display_name": "Python 3",
   "language": "python",
   "name": "python3"
  },
  "language_info": {
   "codemirror_mode": {
    "name": "ipython",
    "version": 3
   },
   "file_extension": ".py",
   "mimetype": "text/x-python",
   "name": "python",
   "nbconvert_exporter": "python",
   "pygments_lexer": "ipython3",
   "version": "3.7.6"
  }
 },
 "nbformat": 4,
 "nbformat_minor": 4
}
