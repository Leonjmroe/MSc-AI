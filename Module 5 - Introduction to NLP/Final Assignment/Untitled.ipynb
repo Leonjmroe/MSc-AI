{
 "cells": [
  {
   "cell_type": "code",
   "execution_count": 1,
   "id": "f8856d30-7ff5-4999-b781-f752a008f4f5",
   "metadata": {},
   "outputs": [
    {
     "ename": "NameError",
     "evalue": "name 'df' is not defined",
     "output_type": "error",
     "traceback": [
      "\u001b[0;31m---------------------------------------------------------------------------\u001b[0m",
      "\u001b[0;31mNameError\u001b[0m                                 Traceback (most recent call last)",
      "Cell \u001b[0;32mIn[1], line 8\u001b[0m\n\u001b[1;32m      4\u001b[0m     named_entities \u001b[38;5;241m=\u001b[39m ne_chunk(tagged)\n\u001b[1;32m      5\u001b[0m     \u001b[38;5;28;01mreturn\u001b[39;00m named_entities\n\u001b[0;32m----> 8\u001b[0m tokenised_text \u001b[38;5;241m=\u001b[39m \u001b[43mdf\u001b[49m[\u001b[38;5;124m'\u001b[39m\u001b[38;5;124mFiltered_Review\u001b[39m\u001b[38;5;124m'\u001b[39m]\u001b[38;5;241m.\u001b[39miloc[\u001b[38;5;241m106\u001b[39m]\n\u001b[1;32m      9\u001b[0m named_entities \u001b[38;5;241m=\u001b[39m preprocess_and_ner(tokenised_text)\n\u001b[1;32m     10\u001b[0m \u001b[38;5;66;03m# print(named_entities)\u001b[39;00m\n",
      "\u001b[0;31mNameError\u001b[0m: name 'df' is not defined"
     ]
    }
   ],
   "source": [
    "def preprocess_and_ner(tokens):\n",
    "    \n",
    "    tagged = pos_tag(tokens)\n",
    "    named_entities = ne_chunk(tagged)\n",
    "    return named_entities\n",
    "\n",
    "\n",
    "tokenised_text = df['Filtered_Review'].iloc[106]\n",
    "named_entities = preprocess_and_ner(tokenised_text)\n",
    "# print(named_entities)"
   ]
  },
  {
   "cell_type": "code",
   "execution_count": null,
   "id": "da6899e7-cf47-4277-a53b-1cace5ebb0a1",
   "metadata": {},
   "outputs": [],
   "source": [
    "def tf_idf(reviews):\n",
    "    # Initialize the TF-IDF Vectorizer\n",
    "    tfidf_vectorizer = TfidfVectorizer()\n",
    "    \n",
    "    # Transform the reviews into a TF-IDF matrix\n",
    "    tfidf_matrix = tfidf_vectorizer.fit_transform(reviews)\n",
    "    \n",
    "    # Extract the feature names/terms from the TF-IDF Vectorizer\n",
    "    feature_names = tfidf_vectorizer.get_feature_names_out()\n",
    "    \n",
    "    # Calculate the average TF-IDF score for each term across all documents\n",
    "    scores = tfidf_matrix.mean(axis=0)\n",
    "    term_scores = {feature_names[col]: scores[0, col] for col in range(scores.shape[1])}\n",
    "    \n",
    "    # Sort the terms by their average TF-IDF score in descending order\n",
    "    sorted_term_scores = sorted(term_scores.items(), key=lambda x: x[1], reverse=True)\n",
    "    \n",
    "    # Optionally: Display the top 10 terms with the highest average TF-IDF scores\n",
    "    print(\"Top 15 terms by average TF-IDF score:\")\n",
    "    for term, score in sorted_term_scores[:15]:\n",
    "        print(f\"Term: {term}, Score: {round(score, 4)}\")\n",
    "    \n",
    "    # Calculate cosine similarity among the documents using the TF-IDF matrix\n",
    "    cos_sim_matrix = cosine_similarity(tfidf_matrix)\n",
    "    \n",
    "    # return tfidf_matrix, feature_names, cos_sim_matrix\n",
    "\n",
    "# tf_idf(df['Filtered_Review_String'])"
   ]
  }
 ],
 "metadata": {
  "kernelspec": {
   "display_name": "Python 3 (ipykernel)",
   "language": "python",
   "name": "python3"
  },
  "language_info": {
   "codemirror_mode": {
    "name": "ipython",
    "version": 3
   },
   "file_extension": ".py",
   "mimetype": "text/x-python",
   "name": "python",
   "nbconvert_exporter": "python",
   "pygments_lexer": "ipython3",
   "version": "3.10.0"
  }
 },
 "nbformat": 4,
 "nbformat_minor": 5
}
