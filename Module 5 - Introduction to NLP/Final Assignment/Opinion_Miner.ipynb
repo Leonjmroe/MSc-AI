{
 "cells": [
  {
   "cell_type": "code",
   "execution_count": 1,
   "id": "bad95280-3e1d-4ef7-a504-a1d108bb51bf",
   "metadata": {},
   "outputs": [],
   "source": [
    "import pandas as pd\n",
    "import numpy as np"
   ]
  },
  {
   "cell_type": "code",
   "execution_count": 2,
   "id": "467bfe9b-39e2-4c80-a037-39f0a5bdfebf",
   "metadata": {},
   "outputs": [],
   "source": [
    "data_files = ['Data/working.txt', 'Data/Customer_review_data/Apex AD2600 Progressive-scan DVD player.txt']"
   ]
  },
  {
   "cell_type": "code",
   "execution_count": 8,
   "id": "0fcb3c68-cf03-4b66-a8fc-303f26569e92",
   "metadata": {},
   "outputs": [
    {
     "name": "stdout",
     "output_type": "stream",
     "text": [
      "([], ['[t] incredibe price / performance . '])\n",
      "\n",
      "\n",
      "([''], \"i 've owned 6 or 7 dvd players since 1998 .\")\n",
      "\n",
      "\n",
      "(['dvd player[+3][p]'], 'this is by far the nicest one , in so many ways .')\n",
      "\n",
      "\n",
      "(['look[+3]', 'panel button layout[+3]', 'feature[+2]'], \"it 's very sleek looking with a very good front panel button layout , and it has a great feature set .\")\n",
      "\n",
      "\n",
      "(['forward[+2]', ' rewind[+2]'], \"its fast-forward and rewind work much more smoothly and consistently than those of other models i 've had .\")\n",
      "\n",
      "\n",
      "(['video format[+3]'], 'it plays alternate video formats ( vcds , svcds , cvds ) very well .')\n",
      "\n",
      "\n",
      "(['price[+3]'], 'and amazon.com has it for such a great price -- how can you go wrong ?')\n",
      "\n",
      "\n",
      "([''], \"i 've bought one for the den and will buy a 2nd one for the bedroom .\")\n",
      "\n",
      "\n",
      "([''], 'strengths are well listed by other reviewers .')\n",
      "\n",
      "\n",
      "(['play[+2]', ' dvd-r[+1]'], 'what got me to buy was the reviewer that said it would play dvd-rs fill of files ( e. , mp3s ) .')\n",
      "\n",
      "\n"
     ]
    }
   ],
   "source": [
    "with open(data_files[0], 'r') as file:\n",
    "    text = file.read()\n",
    "    reviews = text.strip().split('\\n')\n",
    "    refined_reviews = []\n",
    "    \n",
    "    for review in reviews:\n",
    "        parts = review.split('##')\n",
    "        \n",
    "        if len(parts) > 1:\n",
    "            tags = parts[0].strip().split(',')\n",
    "            content = parts[1].strip() \n",
    "        else:\n",
    "            tags = []\n",
    "            content = parts\n",
    "            \n",
    "        refined_reviews.append((tags, content))\n",
    "\n",
    "    for i in refined_reviews:\n",
    "        print(i)\n",
    "        print('\\n')\n",
    "\n"
   ]
  },
  {
   "cell_type": "code",
   "execution_count": null,
   "id": "a59b1b5e-04b0-4a5a-852d-cfc678027543",
   "metadata": {},
   "outputs": [],
   "source": []
  }
 ],
 "metadata": {
  "kernelspec": {
   "display_name": "Python 3 (ipykernel)",
   "language": "python",
   "name": "python3"
  },
  "language_info": {
   "codemirror_mode": {
    "name": "ipython",
    "version": 3
   },
   "file_extension": ".py",
   "mimetype": "text/x-python",
   "name": "python",
   "nbconvert_exporter": "python",
   "pygments_lexer": "ipython3",
   "version": "3.10.0"
  }
 },
 "nbformat": 4,
 "nbformat_minor": 5
}
