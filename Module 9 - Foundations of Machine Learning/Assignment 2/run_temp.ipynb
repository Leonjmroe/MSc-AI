{
 "cells": [
  {
   "cell_type": "code",
   "execution_count": 1,
   "metadata": {},
   "outputs": [],
   "source": [
    "from assignment_2_final import *"
   ]
  },
  {
   "cell_type": "code",
   "execution_count": null,
   "metadata": {},
   "outputs": [],
   "source": [
    "# Run Task 1\n",
    "\n",
    "run_task1()"
   ]
  },
  {
   "cell_type": "code",
   "execution_count": null,
   "metadata": {},
   "outputs": [],
   "source": [
    "# Run Task 2\n",
    "\n",
    "digit_pairs = [(1, 0), (8, 3), (4, 9), (8, 7), (2, 9)]\n",
    "\n",
    "run_task2(digit_pairs)"
   ]
  },
  {
   "cell_type": "code",
   "execution_count": null,
   "metadata": {},
   "outputs": [],
   "source": [
    "# Run Task 3\n",
    "\n",
    "mlp_architectures = {\n",
    "    'MLP-1': [1000, 1000],\n",
    "    # 'MLP-2': [1000, 1000, 1000],\n",
    "    # 'MLP-3': [1000, 1000, 1000, 1000, 1000],\n",
    "    # 'MLP-4': [500, 500, 500, 500, 500, 500, 500],\n",
    "    # 'MLP-5': [500, 500, 500, 500, 500, 500, 500, 500, 500]\n",
    "}\n",
    "\n",
    "mlp_df = run_task3(mlp_architectures, epochs=1)"
   ]
  },
  {
   "cell_type": "code",
   "execution_count": null,
   "metadata": {},
   "outputs": [],
   "source": [
    "# Run Task 4\n",
    "\n",
    "cnn_architectures = {\n",
    "    'CNN-1': [32, 64, 128],\n",
    "    # 'CNN-2': [64, 128],\n",
    "    # 'CNN-3': [128, 128, 128],\n",
    "    # 'CNN-4': [16, 32],\n",
    "    # 'CNN-5': [32, 64, 128, 256, 512]\n",
    "}\n",
    "\n",
    "base_cnn_model, cnn_df = run_task4(cnn_architectures=cnn_architectures, epochs=1)\n",
    "\n",
    "df1, df2 = table_mlp_cnn_comparison(mlp_df, cnn_df)\n",
    "\n",
    "plot_mlp_cnn_comparison(df1, df2)"
   ]
  },
  {
   "cell_type": "code",
   "execution_count": null,
   "metadata": {},
   "outputs": [],
   "source": [
    "# Run Task 5\n",
    "\n",
    "digit_pairs=[(2, 9)]\n",
    "\n",
    "run_task5(base_cnn_model, digit_pairs)"
   ]
  },
  {
   "cell_type": "code",
   "execution_count": null,
   "metadata": {},
   "outputs": [],
   "source": [
    "# Run Task 6\n",
    "\n",
    "lambda_values = [0.5]\n",
    "\n",
    "run_task6(lambda_values, epochs=1)"
   ]
  },
  {
   "cell_type": "code",
   "execution_count": null,
   "metadata": {},
   "outputs": [],
   "source": []
  }
 ],
 "metadata": {
  "kernelspec": {
   "display_name": "msc-ai-yPHgmFUp-py3.12",
   "language": "python",
   "name": "python3"
  },
  "language_info": {
   "codemirror_mode": {
    "name": "ipython",
    "version": 3
   },
   "file_extension": ".py",
   "mimetype": "text/x-python",
   "name": "python",
   "nbconvert_exporter": "python",
   "pygments_lexer": "ipython3",
   "version": "3.12.7"
  }
 },
 "nbformat": 4,
 "nbformat_minor": 2
}
