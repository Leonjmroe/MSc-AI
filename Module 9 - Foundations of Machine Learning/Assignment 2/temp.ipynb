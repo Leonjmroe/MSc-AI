{
 "cells": [
  {
   "cell_type": "code",
   "execution_count": null,
   "metadata": {},
   "outputs": [],
   "source": [
    "from assignment_2_final import *\n",
    "import plotly.express as px\n",
    "import warnings\n",
    "warnings.filterwarnings('ignore')\n",
    "pd.set_option('display.width', None)"
   ]
  },
  {
   "cell_type": "code",
   "execution_count": null,
   "metadata": {},
   "outputs": [],
   "source": [
    "mlp_architectures = {\n",
    "          'MLP-1': [1000, 1000],\n",
    "          'MLP-2': [1000, 1000, 1000],\n",
    "          'MLP-3': [1000, 1000, 1000, 1000, 1000],\n",
    "          'MLP-4': [500, 500, 500, 500, 500, 500, 500],\n",
    "          'MLP-5': [500, 500, 500, 500, 500, 500, 500, 500, 500]\n",
    "      }\n",
    "\n",
    "run_task3(mlp_architectures, epochs=20)"
   ]
  },
  {
   "cell_type": "code",
   "execution_count": null,
   "metadata": {},
   "outputs": [],
   "source": []
  },
  {
   "cell_type": "code",
   "execution_count": null,
   "metadata": {},
   "outputs": [],
   "source": [
    "cnn_architectures = {\n",
    "    'CNN-1': [32, 64, 128],    \n",
    "    'CNN-2': [64, 128],           \n",
    "    'CNN-3': [256, 256, 256],    \n",
    "    'CNN-4': [16, 32],            \n",
    "    'CNN-5': [32, 64, 128, 256, 512] \n",
    "}\n",
    "\n",
    "run_task4(cnn_architectures=cnn_architectures, epochs=10)"
   ]
  },
  {
   "cell_type": "code",
   "execution_count": null,
   "metadata": {},
   "outputs": [],
   "source": []
  }
 ],
 "metadata": {
  "kernelspec": {
   "display_name": "msc-ai-yPHgmFUp-py3.12",
   "language": "python",
   "name": "python3"
  },
  "language_info": {
   "codemirror_mode": {
    "name": "ipython",
    "version": 3
   },
   "file_extension": ".py",
   "mimetype": "text/x-python",
   "name": "python",
   "nbconvert_exporter": "python",
   "pygments_lexer": "ipython3",
   "version": "3.12.7"
  }
 },
 "nbformat": 4,
 "nbformat_minor": 2
}
