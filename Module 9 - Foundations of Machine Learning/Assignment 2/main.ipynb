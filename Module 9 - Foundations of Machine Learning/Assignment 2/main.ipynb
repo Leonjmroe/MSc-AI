{
 "cells": [
  {
   "cell_type": "code",
   "execution_count": 131,
   "metadata": {},
   "outputs": [],
   "source": [
    "# Imports\n",
    "\n",
    "import tensorflow as tf\n",
    "from tensorflow.keras.datasets import mnist\n",
    "from tensorflow.keras.utils import to_categorical\n",
    "from tensorflow.keras.models import Sequential\n",
    "from tensorflow.keras.layers import Dense, Flatten, Conv2D, MaxPooling2D, Dropout\n",
    "from tensorflow.keras.optimizers import Adam\n",
    "from sklearn.decomposition import PCA\n",
    "import numpy as np\n",
    "import plotly_express as px\n",
    "import plotly.graph_objects as go\n",
    "import pandas as pd"
   ]
  },
  {
   "cell_type": "code",
   "execution_count": 115,
   "metadata": {},
   "outputs": [],
   "source": [
    "# Main\n",
    "\n",
    "# Load the MNIST dataset\n",
    "(X_train, y_train), (X_test, y_test) = mnist.load_data()\n",
    "n_train = X_train.shape[0]\n",
    "n_test = X_test.shape[0]\n",
    "\n",
    "# Normalise images to be in the range [-1, 1]\n",
    "X_train = X_train / 127.5 - 1\n",
    "X_test = X_test / 127.5 - 1\n",
    "\n",
    "# Convert each 28x28 image into a 784 dimensional vector\n",
    "features_count = np.prod(X_train.shape[1:])\n",
    "X_train_flatened = X_train.reshape(n_train, features_count)\n",
    "X_test_flatened = X_test.reshape(n_test, features_count)\n"
   ]
  },
  {
   "cell_type": "markdown",
   "metadata": {},
   "source": [
    "#### --- Task 1 --- ####"
   ]
  },
  {
   "cell_type": "code",
   "execution_count": null,
   "metadata": {},
   "outputs": [],
   "source": [
    "# PCA and Centroids \n",
    "# The centroid is calculated by averaging the coordinates of all the points in a cluster. This average gives you a single point that best represents the center of that cluster. \n",
    "\n",
    "# Reduce the dimensionality of the data to 2 dimensions\n",
    "pca = PCA(n_components=2)\n",
    "X_train_pca = pca.fit_transform(X_train_flatened)\n",
    "\n",
    "# Create a scatter plot of the PCA data, colored by digit\n",
    "fig = px.scatter(X_train_pca, x=0, y=1, color=y_train, title='PCA plot of the MNIST Dataset', width=1000, height=600)\n",
    "fig.update_layout(xaxis_title='Principal Component 1', yaxis_title='Principal Component 2')\n",
    "\n",
    "# Create a DataFrame with the PCA data and digit labels\n",
    "df_pca = pd.DataFrame(X_train_pca, columns=['PC1', 'PC2'])\n",
    "df_pca['digit'] = y_train\n",
    "\n",
    "# Compute centroids for each class by taking the mean of PC1 and PC2\n",
    "centroids = df_pca.groupby('digit')[['PC1', 'PC2']].mean()\n",
    "\n",
    "# Build a color mapping from the default Plotly Express palette\n",
    "color_sequence = px.colors.qualitative.Plotly\n",
    "unique_digits = sorted(df_pca['digit'].unique())\n",
    "color_map = {digit: color_sequence[i % len(color_sequence)] for i, digit in enumerate(unique_digits)}\n",
    "\n",
    "# Add centroids as larger markers, each colored according to its class\n",
    "for digit, row in centroids.iterrows():\n",
    "    fig.add_trace(\n",
    "        go.Scatter(\n",
    "            x=[row['PC1']],\n",
    "            y=[row['PC2']],\n",
    "            mode='markers',\n",
    "            marker=dict(color=color_map[digit], size=15, symbol='diamond'),\n",
    "            name=f'Centroid {digit}'\n",
    "        )\n",
    "    )\n",
    "\n",
    "fig.show()"
   ]
  },
  {
   "cell_type": "code",
   "execution_count": null,
   "metadata": {},
   "outputs": [],
   "source": [
    "# Scree Plot - Shows the percentage of variance explained by each principal component\n",
    "\n",
    "pca_full = PCA(n_components=50)\n",
    "pca_full.fit(X_train_flatened)\n",
    "variance_ratios = pca_full.explained_variance_ratio_\n",
    "components = np.arange(1, len(variance_ratios) + 1)\n",
    "\n",
    "df = pd.DataFrame({'Principal Component': components, 'Explained Variance': variance_ratios * 100})\n",
    "df['Cumulative Variance'] = df['Explained Variance'].cumsum()\n",
    "\n",
    "fig = px.bar(df, x='Principal Component', y='Explained Variance', title='Scree Plot & Cumulative Variance', labels={'Explained Variance': 'Percentage of Variance Explained'}, width=1000, height=500)\n",
    "fig.add_scatter(x=df['Principal Component'], y=df['Cumulative Variance'], mode='lines+markers', name='Cumulative Variance', line=dict(color='red'))\n",
    "fig.show()"
   ]
  },
  {
   "cell_type": "code",
   "execution_count": null,
   "metadata": {},
   "outputs": [],
   "source": [
    "# Questions / Notes\n",
    "\n",
    "# Why is PCA a good option to visualise data?\n",
    "# PCA is a good option to visualise data because it reduces the dimensionality of the data to 2 dimensions, which makes it easier to plot and understand.\n",
    "\n",
    "# Observations\n",
    "# Clustering of Classes - 784D to 2D space and visually see the differences between the different classes, which is not possible in the original 784D space.\n",
    "# Separation of Certain Classes - Some digits form more isolated clusters. Eg digit 1 has a tight cluster. - Relatively simple and unique shape compared to other digits.\n",
    "# Overlap Among Other Classes - Digit classes, such as 3, 5, and 8, have clusters that overlap considerably. This suggests that their differences may not be well captured by a linear projection onto the first two principal components.\n",
    "\n",
    "# Q - Which classes can be linearly separated?\n",
    "# A - 1 and 0 can be linearly separated. Where 3, 5 and 8 cannot be linearly separated.\n",
    "\n",
    "# PCA Notes\n",
    "# When you have high dimensional data, there are many directions in which the data can vary. The first principal component is the direction along which the data varies the most.\n",
    "# By projecting your data onto the space defined by the top few principal components (often just two for visualisation), you reduce the dimensionality while retaining most of the information (variance) in the original data. "
   ]
  },
  {
   "cell_type": "code",
   "execution_count": null,
   "metadata": {},
   "outputs": [],
   "source": []
  },
  {
   "cell_type": "code",
   "execution_count": null,
   "metadata": {},
   "outputs": [],
   "source": []
  }
 ],
 "metadata": {
  "kernelspec": {
   "display_name": "msc-ai-yPHgmFUp-py3.12",
   "language": "python",
   "name": "python3"
  },
  "language_info": {
   "codemirror_mode": {
    "name": "ipython",
    "version": 3
   },
   "file_extension": ".py",
   "mimetype": "text/x-python",
   "name": "python",
   "nbconvert_exporter": "python",
   "pygments_lexer": "ipython3",
   "version": "3.12.7"
  }
 },
 "nbformat": 4,
 "nbformat_minor": 2
}
