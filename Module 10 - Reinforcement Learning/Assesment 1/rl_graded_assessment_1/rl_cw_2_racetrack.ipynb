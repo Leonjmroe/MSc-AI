{
 "cells": [
  {
   "cell_type": "markdown",
   "metadata": {
    "deletable": false,
    "editable": false,
    "nbgrader": {
     "cell_type": "markdown",
     "checksum": "b48b6a92d8d88e15753faba58c47bae2",
     "grade": false,
     "grade_id": "cell-b0b3b6b4f891b031",
     "locked": true,
     "schema_version": 3,
     "solution": false,
     "task": false
    }
   },
   "source": [
    "# Reinforcement Learning\n",
    "## Graded Assessment: Racetrack\n",
    "\n",
    "In this assignment, you will compare the performance of three reinforcement learning algorithms - *On-Policy First-Visit Monte-Carlo Control*, *Sarsa*, and *Q-Learning* - in a simple racetrack environment. You will then implement a modified TD agent that improves upon the learning performance of a basic Q-Learning agent.\n",
    "\n",
    "**Total number of marks:** 30 Marks\n",
    "\n",
    "**Contribution to Unit Grade:** 40%\n",
    "\n",
    "**What to submit:** Your completed Jupyter notebook (.ipynb file) which should include **all** of your source code. Please **do not change the file name or compress/zip your submission**.\n",
    "\n",
    "**Where to submit:** Submission Page on Enagage.\n",
    "\n",
    "This coursework will be marked **anonymously**. Please do not include any identifying information on the files you submit.\n",
    "\n",
    "You are required to **work individually** on this coursework. You are welcome to discuss ideas with others but you must design your own implementation and **write your own code and answers**. If you do include any any third-party code or text in your submission, please **reference it appropriately**.\n",
    "\n",
    "**Do not plagiarise**. Plagiarism is a serious academic offence. Both your code and written answers will be automatically checked for possible instances of plagiarism. For details on what plagiarism is and how to avoid it, please visit the following webpage: http://www.bath.ac.uk/library/help/infoguides/plagiarism.html\n",
    "\n",
    "If you are asked to use specific variable names, data-types, function signatures and notebook cells, please **ensure that you follow these instructions**. Not doing so will cause the our marking software to reject your work, and will assign you a score of zero for that exercise. Please **do not delete or duplicate existing cells**: if you need additional cells, please insert new ones. **If our marking software rejects your work because you have not followed our instructions, you may not get any credit for your work**.\n",
    "\n",
    "For this coursework, you may use the [Python standard library](https://docs.python.org/3/library/), numpy, and matplotlib. You should also use the `racetrack_env.py` file, which we have provided for you. Please **do not use any other non-standard, third-party libraries**. **If we are unable to run your code because you have used unsupported external libraries, you may not get any credit for your work.**\n",
    "\n",
    "Please **ensure that your code is readable**. If we cannot tell what your code is doing when marking, you may not get full credit for your work.\n",
    "\n",
    "Please remember to **save and backup your work regularly**.\n",
    "\n",
    "Please be sure to **restart the kernel and run your code from start-to-finish** (Kernel → Restart & Run All) before submitting your notebook. Otherwise, you may not be aware that you are using variables in memory that you have deleted.\n",
    "\n",
    "**Your total runtime must be less than 10 minutes** on the University's lab computers. If your submission exceeds this, it will be automatically interrupted, and you may not get full credit for your work.\n",
    "\n",
    "Please **adhere to written answer length limits**. When marking, we will not read beyond the specified maximum word counts, and you may not get any credit for anything written beyond them."
   ]
  },
  {
   "cell_type": "markdown",
   "metadata": {
    "deletable": false,
    "editable": false,
    "nbgrader": {
     "cell_type": "markdown",
     "checksum": "d61de96551405090cfd026321fcacb3d",
     "grade": false,
     "grade_id": "cell-e86e35a4b405ff32",
     "locked": true,
     "schema_version": 3,
     "solution": false,
     "task": false
    }
   },
   "source": [
    "## The Racetrack Environment\n",
    "We have implemented a custom environment called \"Racetrack\" for you to use during this piece of coursework. It is inspired by the environment described in the course textbook (Reinforcement Learning, Sutton & Barto, 2018, Exercise 5.12), but is not exactly the same.\n",
    "\n",
    "### Environment Description\n",
    "Consider driving a race car around a turn on a racetrack. In order to complete the race as quickly as possible, you would want to drive as fast as you can but, to avoid running off the track, you must slow down while turning.\n",
    "\n",
    "In our simplified racetrack environment, the agent is at one of a discrete set of grid positions. The agent also has a discrete speed in two directions, $x$ and $y$. So the state is represented as follows:\n",
    "$$(\\text{position}_y, \\text{position}_x, \\text{velocity}_y, \\text{velocity}_x)$$\n",
    "\n",
    "The agent collects a reward of -1 at each time step, an additional -10 for leaving the track (i.e., ending up on a black grid square in the figure below), and an additional +10 for reaching the finish line (any of the red grid squares). The agent starts each episode on a randomly selected grid-square on the starting line (green grid squares) with a speed of zero in both directions. At each time step, the agent can change its speed in both directions. Each speed can be changed by +1, -1 or 0, giving a total of nine actions. For example, the agent may increase its speed in the $x$ direction by -1 and its speed in the $y$ direction by +1. The agent's speed cannot be greater than +10 or less than -10 in either direction.\n",
    "\n",
    "<img src=\"images/track_big.png\" style=\"width: 600px;\"/>\n",
    "\n",
    "\n",
    "The agent's next state is determined by its current grid square, its current speed in two directions, and the changes it  makes to its speed in the two directions. This environment is stochastic. When the agent tries to change its speed, no change occurs (in either direction) with probability 0.2. In other words, 20% of the time, the agent's action is ignored and the car's speed remains the same in both directions.\n",
    "\n",
    "If the agent leaves the track, it is returned to a random start grid-square and has its speed set to zero in both directions; the episode continues. An episode ends only when the agent transitions to a goal grid-square.\n",
    "\n",
    "\n",
    "\n",
    "### Environment Implementation\n",
    "We have implemented the above environment in the `racetrack_env.py` file, for you to use in this coursework. Please use this implementation instead of writing your own, and please do not modify the environment.\n",
    "\n",
    "We provide a `RacetrackEnv` class for your agents to interact with. The class has the following methods:\n",
    "- **`reset()`** - this method initialises the environment, chooses a random starting state, and returns it. This method should be called before the start of every episode.\n",
    "- **`step(action)`** - this method takes an integer action (more on this later), and executes one time-step in the environment. It returns a tuple containing the next state, the reward collected, and whether the next state is a terminal state.\n",
    "- **`render(sleep_time)`** - this method renders a matplotlib graph representing the environment. It takes an optional float parameter giving the number of seconds to display each time-step. This method is useful for testing and debugging, but should not be used during training since it is *very* slow. **Do not use this method in your final submission**.\n",
    "- **`get_actions()`** - a simple method that returns the available actions in the current state. Always returns a list containing integers in the range [0-8] (more on this later).\n",
    "\n",
    "In our code, states are represented as Python tuples - specifically a tuple of four integers. For example, if the agent is in a grid square with coordinates ($Y = 2$, $X = 3$), and is moving zero cells vertically and one cell horizontally per time-step, the state is represented as `(2, 3, 0, 1)`. Tuples of this kind will be returned by the `reset()` and `step(action)` methods. It is worth noting that tuples can be used to index certain Python data-structures, such as dictionaries.\n",
    "\n",
    "There are nine actions available to the agent in each state, as described above. However, to simplify your code, we have represented each of the nine actions as an integer in the range [0-8]. The table below shows the index of each action, along with the corresponding changes it will cause to the agent's speed in each direction.\n",
    "\n",
    "<img src=\"images/action_grid.png\" style=\"width: 250px;\"/>\n",
    "\n",
    "For example, taking action 8 will increase the agent's speed in the $x$ direction, but decrease its speed in the $y$ direction."
   ]
  },
  {
   "cell_type": "markdown",
   "metadata": {
    "deletable": false,
    "editable": false,
    "nbgrader": {
     "cell_type": "markdown",
     "checksum": "e4714ee739adca912176564b3eb00229",
     "grade": false,
     "grade_id": "cell-30ac99abe97e62b8",
     "locked": true,
     "schema_version": 3,
     "solution": false,
     "task": false
    }
   },
   "source": [
    "### Racetrack Code Example\n",
    "Below, we go through a quick example of using the `RaceTrackEnv` class.\n",
    "\n",
    "First, we import the class, then create a `RaceTrackEnv` object called `env`. We then initialise the environment using the `reset()` method, and take a look at the initial state variable and the result of `plot()`.\n"
   ]
  },
  {
   "cell_type": "code",
   "execution_count": null,
   "metadata": {
    "deletable": false,
    "editable": false,
    "nbgrader": {
     "cell_type": "code",
     "checksum": "0ac22a56ca4687400306302c35b75a91",
     "grade": false,
     "grade_id": "cell-77add459a6f282dd",
     "locked": true,
     "schema_version": 3,
     "solution": false,
     "task": false
    }
   },
   "outputs": [],
   "source": [
    "%matplotlib inline\n",
    "\n",
    "# Set random seed to make example reproducable.\n",
    "import numpy as np\n",
    "import random\n",
    "seed = 5\n",
    "random.seed(seed)\n",
    "np.random.seed(seed)\n",
    "\n",
    "from racetrack_env import RacetrackEnv\n",
    "\n",
    "# Instantiate environment object.\n",
    "env = RacetrackEnv()\n",
    "\n",
    "# Initialise/reset environment.\n",
    "state = env.reset()\n",
    "env.render()\n",
    "print(\"Initial State: {}\".format(state))"
   ]
  },
  {
   "cell_type": "markdown",
   "metadata": {
    "deletable": false,
    "editable": false,
    "nbgrader": {
     "cell_type": "markdown",
     "checksum": "cf70e6e3c9fe761473c11366c91f40ff",
     "grade": false,
     "grade_id": "cell-b42bead8118e3c9e",
     "locked": true,
     "schema_version": 3,
     "solution": false,
     "task": false
    }
   },
   "source": [
    "As you can see, `reset()` has returned a valid initial state as a four-tuple. The function `plot()` uses the same colour-scheme as described above, but also includes a yellow grid-square to indicate the current position of the agent.\n",
    "\n",
    "Let's make the agent go upward by using `step(1)`, then inspect the result (recall that action `1` increments the agent's vertical speed while leaving the agent's horizontal speed unchanged)."
   ]
  },
  {
   "cell_type": "code",
   "execution_count": null,
   "metadata": {
    "deletable": false,
    "editable": false,
    "nbgrader": {
     "cell_type": "code",
     "checksum": "409bb221e1080a4a02e52db851d6dc86",
     "grade": false,
     "grade_id": "cell-8cb86c18bf331894",
     "locked": true,
     "schema_version": 3,
     "solution": false,
     "task": false
    }
   },
   "outputs": [],
   "source": [
    "# Let us increase the agent's vertical speed (action 1).\n",
    "next_state, reward, terminal = env.step(1)\n",
    "env.render()\n",
    "print(\"Next State: {}, Reward: {}, Terminal: {}\".format(next_state, reward, terminal))"
   ]
  },
  {
   "cell_type": "markdown",
   "metadata": {
    "deletable": false,
    "editable": false,
    "nbgrader": {
     "cell_type": "markdown",
     "checksum": "a68773faf856fac19dc863fe5e3b01f4",
     "grade": false,
     "grade_id": "cell-4f51e890424d0c2d",
     "locked": true,
     "schema_version": 3,
     "solution": false,
     "task": false
    }
   },
   "source": [
    "You can see that the agent has moved one square upwards, and now has a positive vertical speed (indicated by the yellow arrow). Let's set up a loop to see what happens if we take the action a few more times, causing it to repeatedly leave the track."
   ]
  },
  {
   "cell_type": "code",
   "execution_count": null,
   "metadata": {
    "deletable": false,
    "editable": false,
    "nbgrader": {
     "cell_type": "code",
     "checksum": "50931f73b836a9941366a8e8b67805a2",
     "grade": false,
     "grade_id": "cell-ef8865037a9ebdeb",
     "locked": true,
     "schema_version": 3,
     "solution": false,
     "task": false
    }
   },
   "outputs": [],
   "source": [
    "num_steps = 50\n",
    "for t in range(num_steps) :\n",
    "    next_state, reward, terminal = env.step(1)\n",
    "    env.render()"
   ]
  },
  {
   "cell_type": "markdown",
   "metadata": {
    "deletable": false,
    "editable": false,
    "nbgrader": {
     "cell_type": "markdown",
     "checksum": "36f657477a919127f6ff94ab7525ff0b",
     "grade": false,
     "grade_id": "cell-b5dc1ef13af04d71",
     "locked": true,
     "schema_version": 3,
     "solution": false,
     "task": false
    }
   },
   "source": [
    "## Exercise 1: Comparing Fundamental RL Algorithms (12 Marks)\n",
    "\n",
    "Below, we have plotted learning curves showing the performance of On-Policy Monte Carlo Control, Sarsa, and Q-Learning in the Racetrack environment.\n",
    "We have included an unaltered version of the learning curve, as well as a cropped version to make it easier to compare agents' performance towards the end of training."
   ]
  },
  {
   "cell_type": "code",
   "execution_count": null,
   "metadata": {
    "deletable": false,
    "editable": false,
    "nbgrader": {
     "cell_type": "code",
     "checksum": "1920097924d2670ba1ec5893ebf3abb1",
     "grade": false,
     "grade_id": "cw2_racetrack_comparison_graphs",
     "locked": true,
     "schema_version": 3,
     "solution": false,
     "task": false
    }
   },
   "outputs": [],
   "source": [
    "from racetrack_env import plot_combined_results\n",
    "\n",
    "# Plotting Combined Learning Curve.\n",
    "%matplotlib inline\n",
    "plot_combined_results()"
   ]
  },
  {
   "cell_type": "markdown",
   "metadata": {
    "deletable": false,
    "editable": false,
    "nbgrader": {
     "cell_type": "markdown",
     "checksum": "82822db1eca362567c81dff9ef1403c3",
     "grade": false,
     "grade_id": "cell-20dcd6ae8c454970",
     "locked": true,
     "schema_version": 3,
     "solution": false,
     "task": false
    }
   },
   "source": [
    "Based on these results, and your understanding of the three algorithms used to produce them, please answer the following discussion questions. <br />\n",
    "\n",
    "**Question 1:** Briefly compare the performance of each of the three agents.\n",
    "\n",
    "**Question 2:** Why do you think that your Monte Carlo and Temporal-Difference agents behaved differently?\n",
    "\n",
    "**Question 3:** Does the performance of your Sarsa and Q-Learning agents meet your expectations? Why do you think that this is the case?\n",
    "\n",
    "**Question 4:** What could be done to improve the performance of these agents?\n",
    "\n",
    "Please do not exceed **60 words** for any of your answers."
   ]
  },
  {
   "cell_type": "markdown",
   "metadata": {
    "deletable": false,
    "nbgrader": {
     "cell_type": "markdown",
     "checksum": "72f56896a14af6a8d5e4a64cef58861f",
     "grade": true,
     "grade_id": "cw2_racetrack_discussion",
     "locked": false,
     "points": 12,
     "schema_version": 3,
     "solution": true,
     "task": false
    }
   },
   "source": [
    "Please write your answers for Exercise 1 in this markdown cell.\n",
    "\n",
    "**Answer 1:**\n",
    "All agents converge but with different trajectories. Monte Carlo (MC) shows high initial variance due to episodic updates, while TD methods (SARSA and Q-Learning) demonstrate smoother convergence through bootstrapping. Q-Learning exhibits slightly more consistent optimisation as it targets optimal policy directly, while SARSA reflects current exploration strategy. MC eventually matches TD performance despite computational inefficiency.\n",
    "\n",
    "**Answer 2:**\n",
    "Monte Carlo's full episode dependency creates higher variance through bootstrapping free learning, explaining its oscillatory early performance. TD methods leverage bootstrapping through incremental stepwise updates using value estimates, providing greater stability through temporal coherence. This fundamental algorithmic distinction explains MC's episodic improvement pattern versus TD's continuous learning trajectory. TD's bias variance tradeoff favors stability in this stochastic environment.\n",
    "\n",
    "**Answer 3:**\n",
    "Performance aligns with theoretical expectations. Both TD methods demonstrate similar convergence properties despite their fundamental distinction: SARSA's on-policy approach updates toward the current policy's action values, while Q-Learning's off-policy mechanism directly approximates the optimal policy regardless of exploration choices. Bootstrapping aids both effectively here and their comparable performance suggests the environment's stochasticity impacts both algorithms similarly.\n",
    "\n",
    "**Answer 4:**\n",
    "Potential improvements include: tuning hyperparameters (learning rate, discount factor, epsilon) via grid search; implementing epsilon decay schedules to balance exploration-exploitation; using n-step TD for better reward attribution; adding eligibility traces to blend MC and TD strengths; increasing training duration; and addressing the 20% action failure with robust policies or more exploration in key states."
   ]
  },
  {
   "cell_type": "markdown",
   "metadata": {
    "deletable": false,
    "editable": false,
    "nbgrader": {
     "cell_type": "markdown",
     "checksum": "ba5d549961ac08b8d6397a6ef14c84b5",
     "grade": false,
     "grade_id": "cell-4ec5137941b60726",
     "locked": true,
     "schema_version": 3,
     "solution": false,
     "task": false
    }
   },
   "source": [
    "## Exercise 2: Modified Temporal-Difference Learning Agent (18 Marks)\n",
    "### Exercise 2a: Implementation\n",
    "In this exercise, you must implement a Temporal-Difference learning agent that learns to reach a goal state in the racetrack more efficiently than the Q-Learning agent shown above. You may base your implementation on Q-Learning (Reinforcement Learning, Sutton & Barto, 2018, Section 6.5 p.131), the pseudocode for which is reproduced below, but you may also base your implementation on Sarsa if you wish.\n",
    "\n",
    "<img src=\"images/q_learning_algo.png\" style=\"width: 650px;\"/>\n",
    "\n",
    "In order to score high marks in this exercise, you will need to extend your solution beyond a simple Q-Learning or Sarsa agent to achieve a higher return and/or to learn more efficiently (i.e. using fewer interactions with the environment). Ideas for improving your agent will have been discussed in lectures, and more can be found in the unit textbook (Reinforcement Learning, Sutton & Barto, 2018). However you go about improving your agent, it must still use a **tabular** Temporal-Difference learning method at its core (i.e., it should not make use of function approximation, neural networks etc.).\n",
    "\n",
    "Please use the following parameter settings:\n",
    "- Number of training episodes $= 150$.\n",
    "- Number of agents averaged should be at **least** 5.\n",
    "\n",
    "**If you use incorrect parameters, you may not get any credit for your work.**\n",
    "\n",
    "You may adjust all other parameters as you see fit.\n",
    "\n",
    "\n",
    "Your implementation of a tabular modified Temporal-Difference learning agent should produce a list named `modified_agent_rewards`. This list should contain one list for each agent that you train. Each sub-list should contain the undiscounted sum of rewards earned during each episode by the corresponding agent. <br />\n",
    "For example, if you train $20$ agents, your `modified_agent_rewards` list will contain $20$ sub-lists, each containing $150$ integers. This list will be used to plot an average learning curve, which will be used to mark your work.\n"
   ]
  },
  {
   "cell_type": "code",
   "execution_count": null,
   "metadata": {
    "deletable": false,
    "nbgrader": {
     "cell_type": "code",
     "checksum": "441ba6d6212ffe9a61ecc67e9f50e663",
     "grade": true,
     "grade_id": "cw2_racetrack_modified",
     "locked": false,
     "points": 0,
     "schema_version": 3,
     "solution": true,
     "task": false
    }
   },
   "outputs": [],
   "source": [
    "import numpy as np\n",
    "import random\n",
    "\n",
    "\n",
    "def train_advanced_racetrack_agent():\n",
    "    \"\"\"\n",
    "    - Trains an advanced reinforcement learning agent using Q-learning with eligibility traces and model based planning.\n",
    "    - Returns a list of reward histories for each trained agent\n",
    "    \"\"\"\n",
    "\n",
    "    # RL parameters\n",
    "    num_episodes = 150          # Total number of training episodes per agent\n",
    "    num_agents = 20             # Number of agents to train for averaging results\n",
    "    gamma = 0.99                # Discount factor for future rewards\n",
    "    alpha = 0.1                 # Learning rate \n",
    "    lambda_trace = 0.7          # Decay parameter for eligibility traces \n",
    "    epsilon_start = 0.3         # Initial exploration rate \n",
    "    epsilon_min = 0.01          # Minimum exploration rate\n",
    "    epsilon_decay = 0.95        # Rate at which exploration probability decreases\n",
    "    planning_steps = 5          # Number of model based planning steps per real step\n",
    "    q_clip = 100                # Maximum magnitude for Q-values to prevent overflow\n",
    "    trace_clip = 10             # Maximum magnitude for eligibility traces to prevent overflow\n",
    "\n",
    "    # Initialise the racetrack environment\n",
    "    env = RacetrackEnv()\n",
    "    \n",
    "    # List to store reward histories for all agents\n",
    "    all_agent_rewards = []\n",
    "\n",
    "    # Train multiple agents to average performance\n",
    "    for agent_idx in range(num_agents):\n",
    "        print(f'Training agent {agent_idx + 1}/{num_agents}')\n",
    "        \n",
    "        # Set random seed for reproducibility\n",
    "        random.seed(agent_idx + 1)\n",
    "\n",
    "        # Initialise agent's knowledge structures\n",
    "        q_table = {}                # State-action value table\n",
    "        eligibility_traces = {}     # Eligibility traces for each state-action pair\n",
    "        transition_model = {}       # Model of environment dynamics for planning\n",
    "        visited_state_actions = []  # List of state-action pairs the agent has experienced\n",
    "        current_epsilon = epsilon_start  # Current exploration probability\n",
    "        episode_rewards = []        # Rewards collected in each episode\n",
    "\n",
    "        # Episode loop\n",
    "        for episode in range(num_episodes):\n",
    "            # Reset environment and initialise episode variables\n",
    "            current_state = env.reset()\n",
    "            episode_total_reward = 0\n",
    "            is_terminal = False\n",
    "            \n",
    "            # Clear eligibility traces at the start of each episode\n",
    "            eligibility_traces.clear()\n",
    "\n",
    "            # Step loop - continue until episode termination\n",
    "            while not is_terminal:\n",
    "                # Epsilon-greedy action selection policy\n",
    "                if random.random() < current_epsilon:\n",
    "                    # Explore - choose a random action\n",
    "                    chosen_action = random.choice(env.get_actions())\n",
    "                else:\n",
    "                    # Exploit - choose the best action according to current Q-values\n",
    "                    q_table.setdefault(current_state, np.zeros(9))\n",
    "                    chosen_action = np.argmax(q_table[current_state])\n",
    "\n",
    "                # Take action in environment\n",
    "                next_state, reward, is_terminal = env.step(chosen_action)\n",
    "                episode_total_reward += reward\n",
    "\n",
    "                # Update the transition model with new experience\n",
    "                transition_model.setdefault(current_state, {})\n",
    "                if chosen_action not in transition_model[current_state]:\n",
    "                    # Record new state-action pair for planning\n",
    "                    visited_state_actions.append((current_state, chosen_action))\n",
    "                \n",
    "                # Store transition information\n",
    "                transition_model[current_state][chosen_action] = (reward, next_state, is_terminal)\n",
    "\n",
    "                # Initialise Q-values for current and next state if not already present\n",
    "                for state in (current_state, next_state):\n",
    "                    q_table.setdefault(state, np.zeros(9))\n",
    "                \n",
    "                # Initialise eligibility trace for current state if not already present\n",
    "                eligibility_traces.setdefault(current_state, np.zeros(9))\n",
    "\n",
    "                # Calculate TD error using Q-learning update rule\n",
    "                next_state_value = gamma * np.max(q_table[next_state]) * (not is_terminal)\n",
    "                target_value = reward + next_state_value\n",
    "                td_error = target_value - q_table[current_state][chosen_action]\n",
    "\n",
    "                # Update eligibility traces and Q-values for all states\n",
    "                eligibility_traces[current_state][chosen_action] += 1\n",
    "                \n",
    "                # Update all states according to their eligibility\n",
    "                for state in list(eligibility_traces.keys()):\n",
    "                    # Update Q-values based on eligibility and TD error\n",
    "                    q_table[state] += alpha * td_error * eligibility_traces[state]\n",
    "                    \n",
    "                    # Clip Q-values to prevent numerical instability\n",
    "                    q_table[state] = np.clip(q_table[state], -q_clip, q_clip)\n",
    "                    \n",
    "                    # Decay eligibility traces\n",
    "                    eligibility_traces[state] *= gamma * lambda_trace\n",
    "                    \n",
    "                    # Clip eligibility traces to prevent numerical instability\n",
    "                    eligibility_traces[state] = np.clip(eligibility_traces[state], -trace_clip, trace_clip)\n",
    "                    \n",
    "                    # Remove states with negligible traces to save memory\n",
    "                    if np.all(eligibility_traces[state] < 0.01):\n",
    "                        del eligibility_traces[state]\n",
    "\n",
    "                # Perform model-based planning (Dyna-Q)\n",
    "                for _ in range(planning_steps):\n",
    "                    if visited_state_actions:\n",
    "                        # Select a random previously visited state-action pair\n",
    "                        sampled_state, sampled_action = random.choice(visited_state_actions)\n",
    "                        \n",
    "                        # Retrieve stored transition information\n",
    "                        sim_reward, sim_next_state, sim_terminal = transition_model[sampled_state][sampled_action]\n",
    "                        \n",
    "                        # Ensure Q-values exist for both states\n",
    "                        q_table.setdefault(sampled_state, np.zeros(9))\n",
    "                        q_table.setdefault(sim_next_state, np.zeros(9))\n",
    "                        \n",
    "                        # Calculate target value for the simulated transition\n",
    "                        sim_target = sim_reward + gamma * np.max(q_table[sim_next_state]) * (not sim_terminal)\n",
    "                        \n",
    "                        # Update Q-value for the simulated state-action pair\n",
    "                        q_table[sampled_state][sampled_action] += alpha * (sim_target - q_table[sampled_state][sampled_action])\n",
    "                        \n",
    "                        # Clip Q-values to prevent numerical overflow\n",
    "                        q_table[sampled_state] = np.clip(q_table[sampled_state], -q_clip, q_clip)\n",
    "\n",
    "                # Move to next state\n",
    "                current_state = next_state\n",
    "\n",
    "            # Decay exploration rate after each episode\n",
    "            current_epsilon = max(epsilon_min, current_epsilon * epsilon_decay)\n",
    "            \n",
    "            # Record episode reward\n",
    "            episode_rewards.append(episode_total_reward)\n",
    "\n",
    "            # Print progress update every 10 episodes\n",
    "            if (episode + 1) % 10 == 0:\n",
    "                print(f'Episode {episode + 1}/{num_episodes}, '\n",
    "                      f'Reward: {episode_total_reward}, Epsilon: {current_epsilon:.3f}')\n",
    "\n",
    "        # Add this agent's rewards to the overall results\n",
    "        all_agent_rewards.append(episode_rewards)\n",
    "\n",
    "    return all_agent_rewards\n",
    "\n",
    "# Execute training and store results\n",
    "modified_agent_rewards = train_advanced_racetrack_agent()"
   ]
  },
  {
   "cell_type": "markdown",
   "metadata": {
    "deletable": false,
    "editable": false,
    "nbgrader": {
     "cell_type": "markdown",
     "checksum": "6e7ddba2c1c9135cf91ae415d6439695",
     "grade": false,
     "grade_id": "cell-d5827808ed0c8886",
     "locked": true,
     "schema_version": 3,
     "solution": false,
     "task": false
    }
   },
   "source": [
    "### Exercise 2b: Comparison & Discussion\n",
    "\n",
    "Below, we have used your results to plot the performance of your modified agent and a Q-Learning agent on the same set of axes. <br />\n",
    "A cropped version of this learning curve has also been plotted, to make it easier to compare the performance of your agents towards the end of training. <br />\n",
    "If you wish, you may plot additional graphs below these learning curves to support the points you make in your discussion."
   ]
  },
  {
   "cell_type": "code",
   "execution_count": null,
   "metadata": {
    "deletable": false,
    "editable": false,
    "nbgrader": {
     "cell_type": "code",
     "checksum": "05d2d9397bdb3104ce769cca7afd5a8a",
     "grade": false,
     "grade_id": "cw2_racetrack_modified_comparison_graphs",
     "locked": true,
     "schema_version": 3,
     "solution": false,
     "task": false
    }
   },
   "outputs": [],
   "source": [
    "from racetrack_env import plot_modified_agent_results\n",
    "from racetrack_env import simple_issue_checking\n",
    "\n",
    "# Checking Modified Agent Results for Obvious Issues.\n",
    "simple_issue_checking(modified_agent_rewards, modified_agent = True)\n",
    "\n",
    "# Plotting Modified Agent Learning Curve.\n",
    "%matplotlib inline\n",
    "plot_modified_agent_results(modified_agent_rewards)"
   ]
  },
  {
   "cell_type": "markdown",
   "metadata": {
    "deletable": false,
    "editable": false,
    "nbgrader": {
     "cell_type": "markdown",
     "checksum": "94fe9da58670512c346563f4618a923b",
     "grade": false,
     "grade_id": "cell-877eaf5400c160bb",
     "locked": true,
     "schema_version": 3,
     "solution": false,
     "task": false
    }
   },
   "source": [
    "Based on your results, and your understanding of the algorithm and modifications that you have implemented, please answer the following discussion questions. <br />\n",
    "\n",
    "**Question 1:** What modifications did you make to your agent?\n",
    "\n",
    "**Question 2:** What effect(s) did you expect your modifications to have on the performance of your agent?\n",
    "\n",
    "**Question 3:** Did your modifications have the effect(s) you expected? Why do you think that this was the case?\n",
    "\n",
    "**Question 4:** If you had more time, what would you do to further improve the performance of your agent?\n",
    "\n",
    "Please do not exceed **60 words** for any of your answers.\n",
    "\n",
    "Please note that **your implementation and discussion will be assessed jointly**. This means that, in order to score highly, you will need to correctly implement appropriate modifications to your agent **AND** discuss them well."
   ]
  },
  {
   "cell_type": "markdown",
   "metadata": {
    "deletable": false,
    "nbgrader": {
     "cell_type": "markdown",
     "checksum": "fada6da8b303c84486c60f65a23a2eaa",
     "grade": true,
     "grade_id": "cw2_racetrack_modified_discussion",
     "locked": false,
     "points": 18,
     "schema_version": 3,
     "solution": true,
     "task": false
    }
   },
   "source": [
    "Please write your answers for Exercise 2b in this markdown cell.\n",
    "\n",
    "**Answer 1:**\n",
    "I implemented eligibility traces (λ=0.7) using the backward view to efficiently propagate TD errors through state-action history, promoting credit assignment. Added Dyna-Q model based planning which simulates additional experiences from stored transitions, improving sample efficiency. Used decaying epsilon-greedy exploration (0.30 to .01) to balance the exploration-exploitation, promoting early exploration. Resulting in an agent that learns from experiences and simulated transitions.\n",
    "\n",
    "**Answer 2:**\n",
    "Expected eligibility traces to accelerate learning by efficiently propagating rewards to relevant state-action pairs. Model based planning should enhance sample efficiency by reusing experiences, enabling faster learning with fewer real interactions. Decaying exploration would balance initial environment discovery with later exploitation of learned knowledge. Overall, anticipated faster learning, higher cumulative rewards, and more consistent performance compared to basic Q-learning.\n",
    "\n",
    "**Answer 3:**\n",
    "Yes, the modifications achieved the expected outcomes. My agent learned substantially faster than the basic Q-learning agent. Eligibility traces effectively propagated rewards through relevant state sequences, while model based planning accelerated early learning by maximising sample efficiency. The decaying exploration strategy enabled rapid policy improvement after initial exploration, contributing to the consistently higher returns throughout training.\n",
    "\n",
    "**Answer 4:**\n",
    "I'd enhance my agent by prioritising planning for high value state-actions, dynamically adjusting exploration rates based on learning progress, and implementing more curiosity driven exploration. Adding intermediate rewards would guide goal seeking behavior. Further improvements include hyperparameter optimisation via grid search, refined eligibility trace updates for stability, and experience replay of valuable transitions to maximise learning efficiency."
   ]
  },
  {
   "cell_type": "markdown",
   "metadata": {},
   "source": []
  }
 ],
 "metadata": {
  "kernelspec": {
   "display_name": "Python 3 (ipykernel)",
   "language": "python",
   "name": "python3"
  },
  "language_info": {
   "codemirror_mode": {
    "name": "ipython",
    "version": 3
   },
   "file_extension": ".py",
   "mimetype": "text/x-python",
   "name": "python",
   "nbconvert_exporter": "python",
   "pygments_lexer": "ipython3",
   "version": "3.12.5"
  }
 },
 "nbformat": 4,
 "nbformat_minor": 2
}
