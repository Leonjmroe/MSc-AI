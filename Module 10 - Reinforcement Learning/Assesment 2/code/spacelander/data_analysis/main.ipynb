{
 "cells": [
  {
   "cell_type": "code",
   "execution_count": 205,
   "metadata": {},
   "outputs": [],
   "source": [
    "import pandas as pd\n",
    "from pathlib import Path\n",
    "import plotly.express as px\n",
    "\n",
    "from plotly.subplots import make_subplots"
   ]
  },
  {
   "cell_type": "code",
   "execution_count": null,
   "metadata": {},
   "outputs": [],
   "source": [
    "csv_dir = Path(\"./runs\")\n",
    "\n",
    "csv_files = list(csv_dir.glob(\"*.csv\"))\n",
    "\n",
    "dataframes = []\n",
    "for file in csv_files:\n",
    "    name = str(file).split(\"/\")[-1].split(\".\")[0]\n",
    "    df = pd.read_csv(file)\n",
    "    df['id'] = name\n",
    "    dataframes.append(df)\n",
    "\n",
    "df = pd.concat(dataframes, ignore_index=True)\n",
    "\n",
    "df['reward_100ma'] = df.groupby('id')['reward'].transform(lambda x: x.rolling(window=100).mean())\n",
    "df['cumls_steps'] = df.groupby('id')['steps'].transform(lambda x: x.cumsum())\n",
    "df['cumls_time'] = df.groupby('id')['time_seconds'].transform(lambda x: x.cumsum())\n",
    "df = df.dropna()\n",
    "\n",
    "df.head()"
   ]
  },
  {
   "cell_type": "code",
   "execution_count": null,
   "metadata": {},
   "outputs": [],
   "source": [
    "df = df[df['id'].isin(['dqn_opt_v3'])]\n",
    "\n",
    "df.time_seconds.sum()"
   ]
  },
  {
   "cell_type": "code",
   "execution_count": null,
   "metadata": {},
   "outputs": [],
   "source": [
    "# px.line(df, x='episode', y='reward_100ma', color='id', facet_col='id', facet_col_wrap=3, width=1600, height=800)\n",
    "\n",
    "df = df[df['id'].isin(['dqn_v3', 'dqn_opt'])]\n",
    "\n",
    "final_values = df.groupby('id')['reward_100ma'].last().sort_values(ascending=False)\n",
    "category_orders = {'id': final_values.index.tolist()}\n",
    "\n",
    "fig = px.line(df, x='episode', y='reward_100ma', color='id', category_orders=category_orders, width=1300, height=600)\n",
    "\n",
    "fig\n",
    "\n",
    "# fig.add_annotation(\n",
    "#     x=x_max, y=200, text=\"Human Level\", showarrow=False,\n",
    "#     xanchor=\"left\", xshift=5, yshift=10,  \n",
    "#     font=dict(color=\"black\", size=12),\n",
    "#     row=1, col=1\n",
    "# )\n",
    "\n",
    "# fig.add_hline(\n",
    "#     y=200,\n",
    "#     line=dict(color=\"black\", width=1.5, dash=\"dash\"),\n",
    "#     row=1, col=1\n",
    "# )"
   ]
  },
  {
   "cell_type": "code",
   "execution_count": 176,
   "metadata": {},
   "outputs": [],
   "source": [
    "\n",
    "\n",
    "final_values = df.groupby('id')['reward_100ma'].last().sort_values(ascending=False)\n",
    "category_orders = {'id': final_values.index.tolist()}\n",
    "\n",
    "dqn_reward = px.line(df, x='episode', y='reward_100ma', color='id', \n",
    "               title=\"Model Performance Comparison\", width=1200, height=600,\n",
    "               category_orders=category_orders)\n",
    "\n"
   ]
  },
  {
   "cell_type": "code",
   "execution_count": null,
   "metadata": {},
   "outputs": [],
   "source": [
    "fig = make_subplots(rows=2, cols=2, \n",
    "                   subplot_titles=(\"Reward (100ma)\", \"Cumulative Steps\", \"Cumulative Time\"),\n",
    "                   vertical_spacing=0.1,\n",
    "                   column_widths=[0.5, 0.5],\n",
    "                   row_heights=[0.65, 0.35],  \n",
    "                   specs=[[{\"colspan\": 2}, None], [{}, {}]])\n",
    "\n",
    "# Fix the typo in the filter: 'dnq' should be 'dqn'\n",
    "fig_ppo_reward = px.line(df[df.id.str.contains('dqn')], x='episode', y='reward_100ma', color='id', title='DQN Reward (100ma)', width=1000, height=500)\n",
    "fig_ppo_cumls_steps = px.line(df[df.id.str.contains('dqn')], x='episode', y='cumls_steps', color='id', title='DQN Cumulative Steps', width=1000, height=500)\n",
    "fig_ppo_cumls_time = px.line(df[df.id.str.contains('dqn')], x='episode', y='cumls_time', color='id', title='DQN Cumulative Time', width=1000, height=500)\n",
    "\n",
    "used_names = set()  \n",
    "for trace in dqn_reward.data:\n",
    "    if trace.name in used_names:\n",
    "        trace.showlegend = False\n",
    "    else:\n",
    "        used_names.add(trace.name)\n",
    "    fig.add_trace(trace, row=1, col=1)\n",
    "    \n",
    "for trace in fig_ppo_cumls_steps.data:\n",
    "    trace.showlegend = False\n",
    "    fig.add_trace(trace, row=2, col=1)\n",
    "    \n",
    "for trace in fig_ppo_cumls_time.data:\n",
    "    trace.showlegend = False\n",
    "    fig.add_trace(trace, row=2, col=2)\n",
    "\n",
    "# Add reference lines with annotations\n",
    "x_min = df[df.id.str.contains('dqn')]['episode'].min()\n",
    "x_max = df[df.id.str.contains('dqn')]['episode'].max()\n",
    "\n",
    "fig.add_annotation(\n",
    "    x=x_max, y=200, text=\"Human Level\", showarrow=False,\n",
    "    xanchor=\"left\", xshift=5, yshift=10,  \n",
    "    font=dict(color=\"black\", size=12),\n",
    "    row=1, col=1\n",
    ")\n",
    "\n",
    "fig.add_hline(\n",
    "    y=200,\n",
    "    line=dict(color=\"black\", width=1.5, dash=\"dash\"),\n",
    "    row=1, col=1\n",
    ")\n",
    "\n",
    "# Update axis titles for better clarity\n",
    "fig.update_xaxes(title_text=\"Episode\", row=2, col=1)\n",
    "fig.update_xaxes(title_text=\"Episode\", row=2, col=2)\n",
    "fig.update_yaxes(title_text=\"Cumulative Steps\", row=2, col=1)\n",
    "fig.update_yaxes(title_text=\"Cumulative Time (s)\", row=2, col=2)\n",
    "\n",
    "fig.update_layout(\n",
    "    height=850,\n",
    "    width=1300,\n",
    "    title_text=\"DQN Performance Report\",\n",
    "    hovermode=\"x unified\", \n",
    "    margin=dict(t=80, l=50, r=50, b=50)\n",
    ")"
   ]
  },
  {
   "cell_type": "code",
   "execution_count": null,
   "metadata": {},
   "outputs": [],
   "source": []
  },
  {
   "cell_type": "code",
   "execution_count": null,
   "metadata": {},
   "outputs": [],
   "source": []
  }
 ],
 "metadata": {
  "kernelspec": {
   "display_name": "msc-ai-yPHgmFUp-py3.13",
   "language": "python",
   "name": "python3"
  },
  "language_info": {
   "codemirror_mode": {
    "name": "ipython",
    "version": 3
   },
   "file_extension": ".py",
   "mimetype": "text/x-python",
   "name": "python",
   "nbconvert_exporter": "python",
   "pygments_lexer": "ipython3",
   "version": "3.13.0"
  }
 },
 "nbformat": 4,
 "nbformat_minor": 2
}
