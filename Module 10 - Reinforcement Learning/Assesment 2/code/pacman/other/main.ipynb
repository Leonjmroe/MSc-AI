{
 "cells": [
  {
   "cell_type": "code",
   "execution_count": 1,
   "metadata": {},
   "outputs": [],
   "source": [
    "import gymnasium as gym\n",
    "import ale_py"
   ]
  },
  {
   "cell_type": "code",
   "execution_count": 3,
   "metadata": {},
   "outputs": [],
   "source": [
    "# env = gym.make(\"dm_control/acrobot-swingup_sparse-v0\", render_mode=\"human\")"
   ]
  },
  {
   "cell_type": "code",
   "execution_count": null,
   "metadata": {},
   "outputs": [],
   "source": [
    "# observation, info = env.reset(seed=42)\n",
    "# for _ in range(1000):\n",
    "#    action = env.action_space.sample()  # this is where you would insert your policy\n",
    "#    observation, reward, terminated, truncated, info = env.step(action)\n",
    "\n",
    "#    if terminated or truncated:\n",
    "#       observation, info = env.reset()\n",
    "# env.close()"
   ]
  },
  {
   "cell_type": "code",
   "execution_count": 1,
   "metadata": {},
   "outputs": [],
   "source": [
    "# from gymnasium.envs.registration import registry\n",
    "# DM_CONTROL_ENV_IDS = [\n",
    "#     env_id\n",
    "#     for env_id in registry\n",
    "#     if env_id.startswith(\"dm_control\") and env_id != \"dm_control/compatibility-env-v0\"\n",
    "# ]\n",
    "# print(DM_CONTROL_ENV_IDS)"
   ]
  },
  {
   "cell_type": "code",
   "execution_count": 2,
   "metadata": {},
   "outputs": [],
   "source": [
    "\n",
    "# # Initialise the environment\n",
    "# env = gym.make(\"LunarLander-v3\", render_mode=\"human\")\n",
    "\n",
    "# # Reset the environment to generate the first observation\n",
    "# observation, info = env.reset(seed=42)\n",
    "# for _ in range(1000):\n",
    "#     # this is where you would insert your policy\n",
    "#     action = env.action_space.sample()\n",
    "\n",
    "#     # step (transition) through the environment with the action\n",
    "#     # receiving the next observation, reward and if the episode has terminated or truncated\n",
    "#     observation, reward, terminated, truncated, info = env.step(action)\n",
    "\n",
    "#     # If the episode has ended then we can reset to start a new episode\n",
    "#     if terminated or truncated:\n",
    "#         observation, info = env.reset()\n",
    "\n",
    "# env.close()"
   ]
  },
  {
   "cell_type": "code",
   "execution_count": 4,
   "metadata": {},
   "outputs": [
    {
     "name": "stderr",
     "output_type": "stream",
     "text": [
      "A.L.E: Arcade Learning Environment (version 0.10.2+c9d4b19)\n",
      "[Powered by Stella]\n",
      "2025-04-12 09:39:36.538 Python[12893:18361206] +[IMKClient subclass]: chose IMKClient_Modern\n",
      "2025-04-12 09:39:36.538 Python[12893:18361206] +[IMKInputSession subclass]: chose IMKInputSession_Modern\n"
     ]
    }
   ],
   "source": [
    "\n",
    "gym.register_envs(ale_py)\n",
    "\n",
    "env = gym.make(\"ALE/MsPacman-v5\", render_mode=\"human\")\n",
    "\n",
    "observation, info = env.reset(seed=42)\n",
    "\n",
    "# this is where you would insert your policy\n",
    "action = env.action_space.sample()\n",
    "\n",
    "# step (transition) through the environment with the action\n",
    "# receiving the next observation, reward and if the episode has terminated or truncated\n",
    "observation, reward, terminated, truncated, info = env.step(action)\n",
    "\n",
    "# If the episode has ended then we can reset to start a new episode\n",
    "if terminated or truncated:\n",
    "    observation, info = env.reset()\n",
    "\n",
    "env.close()"
   ]
  },
  {
   "cell_type": "code",
   "execution_count": null,
   "metadata": {},
   "outputs": [],
   "source": []
  }
 ],
 "metadata": {
  "kernelspec": {
   "display_name": "msc-ai-yPHgmFUp-py3.13",
   "language": "python",
   "name": "python3"
  },
  "language_info": {
   "codemirror_mode": {
    "name": "ipython",
    "version": 3
   },
   "file_extension": ".py",
   "mimetype": "text/x-python",
   "name": "python",
   "nbconvert_exporter": "python",
   "pygments_lexer": "ipython3",
   "version": "3.13.0"
  }
 },
 "nbformat": 4,
 "nbformat_minor": 2
}
